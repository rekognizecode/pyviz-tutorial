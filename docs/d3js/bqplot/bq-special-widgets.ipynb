{
 "cells": [
  {
   "cell_type": "markdown",
   "metadata": {},
   "source": [
    "# Special-Widgets"
   ]
  },
  {
   "cell_type": "markdown",
   "metadata": {},
   "source": [
    "## Traitlet-Widgets"
   ]
  },
  {
   "cell_type": "markdown",
   "metadata": {},
   "source": [
    "Widget-Properties sind IPython-Traitlets. Um Änderungen vorzunehmen, kann die Methode `observe` des Widgets zum Registrieren eines callback verwendet werden.\n",
    "\n",
    "Weitere Informationen erhaltet ihr unter [Traitlet events](https://ipywidgets.readthedocs.io/en/stable/examples/Widget%20Events.html#Traitlet-events)."
   ]
  },
  {
   "cell_type": "code",
   "execution_count": null,
   "metadata": {},
   "outputs": [],
   "source": [
    "import bqplot as bq \n",
    "import ipywidgets as widgets\n",
    "import numpy as np\n",
    "\n",
    "### Create random data\n",
    "size = 2000 # number of rows\n",
    "scale = 1.\n",
    "scaleLocal = 20\n",
    "np.random.seed(0)\n",
    "x_data = np.arange(size)\n",
    "y_data = np.cumsum(np.random.randn(size)  * scale) + np.random.randn(size) * scaleLocal\n",
    "\n",
    "\n",
    "x_sc = bq.LinearScale()\n",
    "y_sc = bq.LinearScale()\n",
    "\n",
    "ax_x = bq.Axis(label='X', scale=x_sc, grid_lines='solid', tick_format='0f')\n",
    "ax_y = bq.Axis(label='Y', scale=y_sc, orientation='vertical', tick_format='0.2f')\n",
    "\n",
    "line1 = bq.Lines(x=x_data, y=y_data, scales={'x': x_sc, 'y': y_sc} , colors=['blue'],display_legend = False, labels=['y1'],stroke_width = 1.0)\n",
    "\n",
    "m_fig = dict(left=100, top=50, bottom=50, right=100)\n",
    "fig = bq.Figure(axes=[ax_x, ax_y], marks=[line1], fig_margin=m_fig)\n",
    "\n",
    "x_range = widgets.IntRangeSlider(value=[min(x_data),max(x_data)],\n",
    "                        min=min(x_data),\n",
    "                        max=max(x_data),\n",
    "                        step=(max(x_data) - min(x_data)) / 100,\n",
    "                        description=\"X Axis\",\n",
    "                        disabled=False,\n",
    "                        continuous_update=False,\n",
    "                        orientation='horizontal',\n",
    "                        readout=True)\n",
    "\n",
    "def updateXAxis(change):\n",
    "    #Update X-axis min/max value here\n",
    "    if change['type'] == 'change' and change['name'] == 'value':\n",
    "        x_sc.min = change['new'][0]\n",
    "        x_sc.max = change['new'][1]\n",
    "    \n",
    "\n",
    "x_range.observe(updateXAxis)\n",
    "widgets.VBox([fig, x_range])\n"
   ]
  },
  {
   "cell_type": "markdown",
   "metadata": {},
   "source": [
    "## Linking Widgets"
   ]
  },
  {
   "cell_type": "markdown",
   "metadata": {},
   "source": [
    "Beim Synchronisieren von Traitlet-Attributen tritt möglicherweise eine Verzögerung aufgrund der Latenz bei der Kommunikation mit dem Server auf. Ihr könnt die Widget-Attribute jedoch auch im Browser entweder uni- oder bidirektional direkt mit den Link-Widgets verknüpfen.\n",
    "\n",
    "Diese Javascript-Links bleiben auch bestehen, wenn Widgets in HTML-Webseiten ohne Kernel eingebettet werden.\n",
    "\n",
    "\n",
    "Weitere Informationen erhaltet ihr unter [Linking widgets attributes from the client side](https://ipywidgets.readthedocs.io/en/stable/examples/Widget%20Events.html#Linking-widgets-attributes-from-the-client-side)."
   ]
  },
  {
   "cell_type": "code",
   "execution_count": null,
   "metadata": {},
   "outputs": [],
   "source": [
    "#Sliders to change minimum and maximum valuese on x scale of bqplot figure using jslink\n",
    "x_rangeMin = widgets.IntSlider(min=min(x_data), max=max(x_data),step=(max(x_data) - min(x_data)) / 100, description='Min x scale: ', value=x_sc.min)\n",
    "x_rangeMax = widgets.IntSlider(min=min(x_data), max=max(x_data), step=(max(x_data) - min(x_data)) / 100, description='Max x scale: ', value=x_sc.max)\n",
    "\n",
    "widgets.jslink((x_sc, 'min'), (x_rangeMin, 'value'))\n",
    "widgets.jslink((x_sc, 'max'), (x_rangeMax, 'value'))\n",
    "\n",
    "widgets.VBox([fig, x_rangeMin,x_rangeMax])\n"
   ]
  }
 ],
 "metadata": {
  "language_info": {
   "name": "python",
   "pygments_lexer": "ipython3"
  }
 },
 "nbformat": 4,
 "nbformat_minor": 2
}
