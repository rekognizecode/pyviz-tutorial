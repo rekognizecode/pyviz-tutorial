{
 "cells": [
  {
   "cell_type": "markdown",
   "metadata": {},
   "source": [
    "# hvPlot-Beispiele\n"
   ]
  },
  {
   "cell_type": "markdown",
   "metadata": {},
   "source": [
    "## Installation\n",
    "\n",
    "Um die Beispiele ausführen zu können, muss zusätzlich [Snappy](https://github.com/google/snappy) installiert werden.\n",
    "\n",
    "Mit [Spack](https://jupyter-tutorial.readthedocs.io/de/latest/productive/envs/spack/index.html) könnt ihr Snappy in eurem Kernel bereitstellen, z.B. mit:\n",
    "\n",
    "```\n",
    "$ spack env activate python-374\n",
    "$ spack install snappy\n",
    "```\n",
    "\n",
    "Alternativ könnt ihr Snappy auch mit anderen Paketmanagern installieren, z.B.\n",
    "\n",
    "* Für Debian/Ubuntu:\n",
    "\n",
    "  ```\n",
    "  $ sudo apt install libsnappy-dev\n",
    "  ```\n",
    "\n",
    "* Für Mac OS:\n",
    "\n",
    "  ```\n",
    "  $ brew install snappy\n",
    "  ```\n",
    "\n",
    "Anschließend sollten für euren Kernel noch weitere Pakete installiert werden, z.B. mit:\n",
    "\n",
    "  ```\n",
    "  $ pipenv install intake intake-parquet s3fs python-snappy pyviz-comms\n",
    "  …\n",
    "  ```\n"
   ]
  },
  {
   "cell_type": "markdown",
   "metadata": {},
   "source": [
    "## Einführung\n",
    "\n",
    "Als erstes importieren wir Numpy und Pandas um anschließend einen kleinen Satz zufälliger Daten zu erstellen:"
   ]
  },
  {
   "cell_type": "code",
   "execution_count": null,
   "metadata": {},
   "outputs": [],
   "source": [
    "import numpy as np\n",
    "import pandas as pd\n",
    "\n",
    "index = pd.date_range('1/1/2000', periods=1000)\n",
    "df = pd.DataFrame(np.random.randn(1000, 4), index=index, columns=list('ABCD')).cumsum()\n",
    "\n",
    "df.head()"
   ]
  },
  {
   "cell_type": "markdown",
   "metadata": {},
   "source": [
    "### Pandas`.plot ()`-API\n",
    "\n",
    "Pandas bietet standardmäßig Matplotlib-basiertes Plotten mit der `.plot()`-Methode:"
   ]
  },
  {
   "cell_type": "code",
   "execution_count": null,
   "metadata": {},
   "outputs": [],
   "source": [
    "%matplotlib inline\n",
    "\n",
    "df.plot();"
   ]
  },
  {
   "cell_type": "markdown",
   "metadata": {},
   "source": [
    "Das Ergebnis ist ein PNG-Bild, das leicht angezeigt werden kann, ansonsten aber statisch ist.\n",
    "\n",
    "> **Hinweis:** In Pandas > 0.25.0 kann das Backend ausgetauscht werden, z.B. mit `pd.options.backend.plotting == 'holoviews',`. Weitere Informationen hierzu findet ihr unter [Pandas-API](https://hvplot.holoviz.org/user_guide/Pandas_API.html)."
   ]
  },
  {
   "cell_type": "markdown",
   "metadata": {},
   "source": [
    "### `.hvplot()`\n",
    "\n",
    "Wenn wir statt `%matplotlib inline` zu `import hvplot.pandas` und der `df.hvplot`-Methode wechseln, , wird jetzt ein interaktiv erforschbares Bokeh-Diagramm erzeugt mit Verschieben und Vergrößern/Verkleinern sowie anklickbaren Legenden:"
   ]
  },
  {
   "cell_type": "code",
   "execution_count": null,
   "metadata": {},
   "outputs": [],
   "source": [
    "import hvplot.pandas\n",
    "\n",
    "df.hvplot()"
   ]
  },
  {
   "cell_type": "markdown",
   "metadata": {},
   "source": [
    "Ein solches interaktive Diagramm erleichtert das Erkunden der der Daten erheblich, ohne dass hierfür zusätzlicher Code geschrieben werden müsste."
   ]
  },
  {
   "cell_type": "markdown",
   "metadata": {},
   "source": [
    "### Native `hvPlot`-API \n",
    "\n",
    "Für das obige Diagramm hat hvPlot die Pandas-`.hvplot()`-Methode dynamisch hinzugefügt, sodass ihr dieselbe Syntax wie bei Pandas-Plots verwenden könnt. Wenn ihr ein expliziteres Vorgehen bevorzugt,könnt ihr stattdessen direkt mit den hvPlot-Objekten arbeiten:"
   ]
  },
  {
   "cell_type": "code",
   "execution_count": null,
   "metadata": {},
   "outputs": [],
   "source": [
    "from hvplot import hvPlot\n",
    "import holoviews as hv\n",
    "hv.extension('bokeh')\n",
    "\n",
    "plot = hvPlot(df)\n",
    "plot(y=['A', 'B', 'C', 'D'])"
   ]
  },
  {
   "cell_type": "markdown",
   "metadata": {},
   "source": [
    "### Hilfe\n",
    "\n",
    "Wenn ihr in IPython oder Jupyter-Notebooks arbeitet, vervollständigen die `hvplot`-Methoden automatisch gültige Schlüsselwörter. Wenn ihr beispielsweise nach dem Deklarieren des Plottyps die Tabulatortaste drücken, werden alle gültigen Schlüsselwörter und die Dokumentzeichenfolge angezeigt:\n",
    "\n",
    "```\n",
    "df.hvplot.line(<TAB>\n",
    "```\n",
    "\n",
    "Außerhalb einer interaktiven Umgebung werden mit `hvplot.help` alle Informationen für einen Diagrammtyp angezeigt, z.B.:"
   ]
  },
  {
   "cell_type": "code",
   "execution_count": null,
   "metadata": {},
   "outputs": [],
   "source": [
    "hvplot.help('line')"
   ]
  },
  {
   "cell_type": "markdown",
   "metadata": {},
   "source": [
    "> **Siehe auch:** Weitere Informationen zu den verfügbaren Optionen erhaltet ihr in [Customization](https://hvplot.holoviz.org/user_guide/Customization.html)."
   ]
  },
  {
   "cell_type": "markdown",
   "metadata": {},
   "source": [
    "## Plotting\n",
    "\n",
    "In den folgenden Beispielen wird neben der pandas- auch die dask-hvPlot-API verwendet:"
   ]
  },
  {
   "cell_type": "code",
   "execution_count": null,
   "metadata": {},
   "outputs": [],
   "source": [
    "import hvplot.dask"
   ]
  },
  {
   "cell_type": "markdown",
   "metadata": {},
   "source": [
    "Das `hvplot.sample_data`-Modul erstellt diese Datensätze als Intake-Datenkataloge, die wir mit Pandas laden können:"
   ]
  },
  {
   "cell_type": "code",
   "execution_count": null,
   "metadata": {},
   "outputs": [],
   "source": [
    "from hvplot.sample_data import us_crime, airline_flights\n",
    "\n",
    "crime = us_crime.read()\n",
    "print(type(crime))\n",
    "crime.head()"
   ]
  },
  {
   "cell_type": "markdown",
   "metadata": {},
   "source": [
    "Alternativ können wir `dask.DataFrame` verwenden:"
   ]
  },
  {
   "cell_type": "code",
   "execution_count": null,
   "metadata": {},
   "outputs": [],
   "source": [
    "flights = airline_flights.to_dask().persist()\n",
    "print(type(flights))\n",
    "flights.head()"
   ]
  },
  {
   "cell_type": "markdown",
   "metadata": {},
   "source": [
    "### Die Plot-API\n",
    "\n",
    "Die Schinttstellen\n",
    "\n",
    "* `dask.dataframe.DataFrame.hvplot`\n",
    "* `pandas.DataFrame.hvplot`\n",
    "* `intake.DataSource.plot`\n",
    "\n",
    "und ihre `Series`-Äquivalente bieten eine leistungsfähige High-Level-API um auch komplexe Plots erzeugen zu können. Dabei kann die `.hvplot`-API entweder direkt oder als Namespace verwendet werden, um bestimmte Plottypen zu generieren."
   ]
  },
  {
   "cell_type": "markdown",
   "metadata": {},
   "source": [
    "Die expliziteste Methode zur Verwendung der Plot-API besteht darin, die Namen der Spalten anzugeben, die auf der x- bzw. y-Achse geplottet werden sollen:"
   ]
  },
  {
   "cell_type": "code",
   "execution_count": null,
   "metadata": {},
   "outputs": [],
   "source": [
    "crime.hvplot.line(x='Year', y='Violent Crime rate')"
   ]
  },
  {
   "cell_type": "markdown",
   "metadata": {},
   "source": [
    "Zusaätzlich kann auch noch der Diagrammtyp mit `kind` angegeben werden:"
   ]
  },
  {
   "cell_type": "code",
   "execution_count": null,
   "metadata": {},
   "outputs": [],
   "source": [
    "crime.hvplot(x='Year', y='Violent Crime rate', kind='scatter')"
   ]
  },
  {
   "cell_type": "markdown",
   "metadata": {},
   "source": [
    "Mit der `by`-Variable könnt ihr die Daten in einer oder mehreren zusätzlichen Spalten gruppieren. Als Beispiel wird im Folgenden die Abfahrtsverzögerung (`'depdelay'`) als Funktion der `'distance'` dargestellt und die Daten nach `'carrier'` gruppiert:"
   ]
  },
  {
   "cell_type": "code",
   "execution_count": null,
   "metadata": {},
   "outputs": [],
   "source": [
    "flight_subset = flights[flights.carrier.isin([b'OH', b'F9'])]\n",
    "flight_subset.hvplot(x='distance', y='depdelay', by='carrier', kind='scatter', alpha=0.2, persist=True)"
   ]
  },
  {
   "cell_type": "markdown",
   "metadata": {},
   "source": [
    "Im obigen Beispiel haben wir die x- und y-Achsen explizit angegeben.\n",
    "\n",
    "Andernfalls würde für die x-Achse die Pandas-Indexspalte verwendet werden und für die y-Achse alle Nicht-Index-Spalten mit der Standardbezeichnung `'value'`. Wollt ihr nur die y-Achsenbezeichnung explizit angeben, so steht euch die `value_label`-Option zur Verfügung."
   ]
  },
  {
   "cell_type": "code",
   "execution_count": null,
   "metadata": {},
   "outputs": [],
   "source": [
    "crime.hvplot(x='Year', y=['Violent Crime rate', 'Robbery rate', 'Burglary rate'],\n",
    "             value_label='Rate (per 100k people)')"
   ]
  },
  {
   "cell_type": "markdown",
   "metadata": {},
   "source": [
    "### Der `hvplot`-Namespace \n",
    "\n",
    "Statt des k`ind`-Argument können wir auch den `hvplot`-Namespace für den Plotaufruf zu verwenden. Die unterstützten Plottypen lassen sich leicht ermitteln mit der Tab-Vervollständigung, also\n",
    "```\n",
    "crime.hvplot.<TAB>\n",
    "\n",
    "```\n",
    "\n",
    "Verfügbare Diagrammtypen sind:\n",
    "\n",
    "* [area()](#area()) zeichnet ein Flächendiagramm ähnlich einem Liniendiagramm, außer dass der Bereich unter der Kurve gefüllt und optional gestapelt wird\n",
    "* [bar()](#bar())zeichnet ein Flächendiagramm ähnlich einem Liniendiagramm, außer dass der Bereich unter der Kurve gefüllt und optional gestapelt wird\n",
    "* [bivariate()](#bivariate()) zeichnet ein Flächendiagramm ähnlich einem Liniendiagramm, außer dass der Bereich unter der Kurve gefüllt und optional gestapelt wird\n",
    "* [box()](#box()) zeichnet ein [Box-Whisker-Diagramm](https://de.wikipedia.org/wiki/Box-Plot), in dem die Verteilung einer oder mehrerer Variablen verglichen wird\n",
    "* [heatmap()](#heatma()p) zeichnet Hex-Bins\n",
    "* [hexbins()](#hexbins()) zeichnet die Verteilung eines oder mehrerer Histogramme als Satz von Containern\n",
    "* [histogram()](#histogram()) zeichnet die Kernel-Dichteschätzung einer oder mehrerer Variablen\n",
    "* [kde()](#kde(),-density()) zeichnet die Kernel-Dichteschätzung einer oder mehrerer Variablen\n",
    "* [line()](#line()) zeichnet ein Liniendiagramm (z. B. für eine Zeitreihe)\n",
    "* [step()](#step()) zeichnet ein Schrittdiagramm, das einem Liniendiagramm ähnelt\n",
    "* [scatter()](#scatter()) zeichnet ein Streudiagramm, in dem zwei Variablen verglichen werden \n",
    "* [table()](#table()) erzeugt eine SlickGrid-Datentabelle\n",
    "* [violin()](#violin()) zeichnet ein Violinen-Diagramm, in dem die Verteilung einer oder mehrerer Variablen mithilfe der Kernel-Dichteschätzung verglichen wird"
   ]
  },
  {
   "cell_type": "markdown",
   "metadata": {},
   "source": [
    "### `area()`\n",
    "\n",
    "Wie die meisten anderen Diagrammtypen unterstützt das `area`-Diagramm die drei oben beschriebenen Möglichkeiten zum Definieren eines Diagramms. Ein Flächendiagramm ist am nützlichsten, wenn mehrere Variablen in einem gestapelten Diagramm dargestellt werden. Dies kann durch Angabe für die `x`-, `y`- und `by`-Spalten erreicht werden oder mit `columns` und `index`/`use_index` als Optionen für die `x`-Achse."
   ]
  },
  {
   "cell_type": "code",
   "execution_count": null,
   "metadata": {},
   "outputs": [],
   "source": [
    "crime.hvplot.area(x='Year', y=['Robbery', 'Aggravated assault'])"
   ]
  },
  {
   "cell_type": "markdown",
   "metadata": {},
   "source": [
    "Wir können auch explizit `stacked` auf `False` setzen und einen `alpha`-Wert definieren und um die Werte direkt vergleichen zu können:"
   ]
  },
  {
   "cell_type": "code",
   "execution_count": null,
   "metadata": {},
   "outputs": [],
   "source": [
    "crime.hvplot.area(x='Year', y=['Aggravated assault', 'Robbery'], stacked=False, alpha=0.4)"
   ]
  },
  {
   "cell_type": "markdown",
   "metadata": {},
   "source": [
    "Eine andere Verwendung für ein Flächendiagramm besteht darin, die Streuung eines Werts zu visualisieren. Wenn wir beispielsweise den Flugdatensatz verwenden, möchten wir möglicherweise die Streuung der mittleren Verspätungswerte zwischen den Fluggesellschaften sehen. Zu diesem Zweck berechnen wir die mittlere Verzögerung nach Tag und Carrier und dann die minimale/maximale mittlere Verzögerung für alle Carrier. Da die Ausgabe von `hvplot` nur ein reguläres Holoviews-Objekt ist, können wir den Overlay-Operator (`*`) verwenden, um die Diagramme übereinander zu platzieren."
   ]
  },
  {
   "cell_type": "code",
   "execution_count": null,
   "metadata": {},
   "outputs": [],
   "source": [
    "delay_min_max = flights.groupby(['day', 'carrier'])['carrier_delay'].mean().groupby('day').agg([np.min, np.max])\n",
    "delay_mean = flights.groupby('day')['carrier_delay'].mean()\n",
    "\n",
    "delay_min_max.hvplot.area(x='day', y='amin', y2='amax', alpha=0.2) * delay_mean.hvplot()"
   ]
  },
  {
   "cell_type": "markdown",
   "metadata": {},
   "source": [
    "### `bar()`\n",
    "\n",
    "Im einfachsten Fall können wir `.hvplot.bar` verwenden. Um die Beschriftung auf der x-Achse um 90° zu drehen, geben wir noch `rot=90` an."
   ]
  },
  {
   "cell_type": "code",
   "execution_count": null,
   "metadata": {},
   "outputs": [],
   "source": [
    "crime.hvplot.bar(x='Year', y='Violent Crime rate', rot=90)"
   ]
  },
  {
   "cell_type": "markdown",
   "metadata": {},
   "source": [
    "Wenn wir stattdessen mehrere Spalten vergleichen möchten, können wir eine Liste von Spalten festlegen. Mit der `stacked`-Option können wir dann die Spaltenwerte einfacher vergleichen:"
   ]
  },
  {
   "cell_type": "code",
   "execution_count": null,
   "metadata": {},
   "outputs": [],
   "source": [
    "crime.hvplot.bar(x='Year', y=['Violent crime total', 'Property crime total'],\n",
    "                 stacked=True, rot=90, width=800, legend='top_left')"
   ]
  },
  {
   "cell_type": "markdown",
   "metadata": {},
   "source": [
    "### `scatter()`\n",
    "\n",
    "Das Streudiagramm unterstützt viele der Funktionen der obigen Diagrammtypen, kann jedoch mit der `c`-Option auch  eingefärbt werden."
   ]
  },
  {
   "cell_type": "code",
   "execution_count": null,
   "metadata": {},
   "outputs": [],
   "source": [
    "crime.hvplot.scatter(x='Violent Crime rate', y='Burglary rate', c='Year')"
   ]
  },
  {
   "cell_type": "markdown",
   "metadata": {},
   "source": [
    "Um Farbe zur Darstellung einer Dimension zu verwenden, kann die `cmap`-Option genutzt werden werden, um die zu verwendende Farbkarte anzugeben. Zusätzlich kann die Farbleiste deaktiviert werden mit `colorbar=False`."
   ]
  },
  {
   "cell_type": "markdown",
   "metadata": {},
   "source": [
    "### `step()`\n",
    "\n",
    "Ein Schrittdiagramm ist einem Liniendiagramm sehr ähnlich, aber anstatt linear zwischen Abtastwerten zu interpolieren, visualisiert das Schrittdiagramm diskrete Schritte. Die Position der Schritte kann mit dem `where`-Schlüsselwort un den Werten `'pre'`, `'mid'` (Standard) und `'post'` gesteuert werden."
   ]
  },
  {
   "cell_type": "code",
   "execution_count": null,
   "metadata": {},
   "outputs": [],
   "source": [
    "crime.hvplot.step(x='Year', y=['Robbery', 'Aggravated assault'])"
   ]
  },
  {
   "cell_type": "markdown",
   "metadata": {},
   "source": [
    "### `hexbin()`\n",
    "\n",
    "Mit der `hexbin`-Methode können Sie hexagonale Bin-Diagramme erstellen. Sie können eine nützliche Alternative zu Streudiagrammen sein, wenn die Daten zu dicht sind, um jeden Punkt einzeln zu zeichnen. Da unsere Flugdaten nicht gleichmäßig auf einer linearen Skala verteilt sind, verwenden wir die `logz`-Option für eine logarithmische Skala."
   ]
  },
  {
   "cell_type": "code",
   "execution_count": null,
   "metadata": {},
   "outputs": [],
   "source": [
    "flights.hvplot.hexbin(x='airtime', y='arrdelay', width=600, height=500, logz=True)"
   ]
  },
  {
   "cell_type": "markdown",
   "metadata": {},
   "source": [
    "### `bivariate()`\n",
    "\n",
    "Mit der `bivariate`-Methode könnt ihr ein 2D-Dichtediagramm erstellen. Bivariate Diagramme sind neben Hexbin-Diagrammen eine weitere Alternative zu Streudiagrammen, wenn die Daten zu dicht sind, um jeden Punkt einzeln zu zeichnen."
   ]
  },
  {
   "cell_type": "code",
   "execution_count": null,
   "metadata": {},
   "outputs": [],
   "source": [
    "crime.hvplot.bivariate(x='Violent Crime rate', y='Burglary rate', width=600, height=500)"
   ]
  },
  {
   "cell_type": "markdown",
   "metadata": {},
   "source": [
    "### `heatmap()`\n",
    "\n",
    "`HeatMap` kann die Beziehung zwischen drei Variablen anzeigen und neben den Variablen `'x'` und `'y'` zusätzlich `'C'` anzeigen. Zusätzlich werden mit der `reduce_function` die Werte für jeden Container aus den Stichproben berechnet."
   ]
  },
  {
   "cell_type": "code",
   "execution_count": null,
   "metadata": {},
   "outputs": [],
   "source": [
    "flights.compute().hvplot.heatmap(x='day', y='carrier', C='depdelay', reduce_function=np.mean, colorbar=True)"
   ]
  },
  {
   "cell_type": "markdown",
   "metadata": {},
   "source": [
    "### `table()`\n",
    "\n",
    "Im Gegensatz zu allen anderen Plottypen kann für eine Tabelle nur angegeben werden, ob alle Spalten oder mit `columns` nur eine Teilmenge angezeigt werden soll."
   ]
  },
  {
   "cell_type": "code",
   "execution_count": null,
   "metadata": {},
   "outputs": [],
   "source": [
    "crime.hvplot.table(columns=['Year', 'Population', 'Violent Crime rate'], width=400)"
   ]
  },
  {
   "cell_type": "markdown",
   "metadata": {},
   "source": [
    "### `hist()`\n",
    "\n",
    "Das Zeichnen von Verteilungen unterscheidet sich geringfügig von anderen Plots, da sie im einfachen Fall nur eine Variable darstellen. Daher muss bei diesem Plottyp kein `index` oder `x`-Wert angegeben werden, sondern\n",
    "\n",
    "* deklariert eine einzelne `y`-Variable, z.B. `source.plot.hist(variable)` oder\n",
    "* deklariert eine `y`-Variable und eine `by`-Variable, z.B. `source.plot.hist(variable, by='Group')` oder\n",
    "* deklariert Spalten oder zeichnet alle Spalten, z.B. `source.plot.hist()` oder `source.plot.hist(columns=['A', 'B', 'C'])`"
   ]
  },
  {
   "cell_type": "code",
   "execution_count": null,
   "metadata": {},
   "outputs": [],
   "source": [
    "crime.hvplot.hist(y='Violent Crime rate')"
   ]
  },
  {
   "cell_type": "markdown",
   "metadata": {},
   "source": [
    "Alternativ önnen wir auch die Verteilung mehrerer Spalten darstellen:"
   ]
  },
  {
   "cell_type": "code",
   "execution_count": null,
   "metadata": {},
   "outputs": [],
   "source": [
    "columns = ['Violent Crime rate', 'Property crime rate', 'Burglary rate']\n",
    "crime.hvplot.hist(y=columns, bins=50, alpha=0.5, legend='top', height=400)"
   ]
  },
  {
   "cell_type": "markdown",
   "metadata": {},
   "source": [
    "Wir können die Daten auch nach anderen Variablen gruppieren und die Carrier in eigene `subplots` aufteilen:"
   ]
  },
  {
   "cell_type": "code",
   "execution_count": null,
   "metadata": {},
   "outputs": [],
   "source": [
    "flight_subset = flights[flights.carrier.isin([b'AA', b'US', b'OH'])]\n",
    "flight_subset.hvplot.hist('depdelay', by='carrier', bins=20, bin_range=(-20, 100), width=300, subplots=True)"
   ]
  },
  {
   "cell_type": "markdown",
   "metadata": {},
   "source": [
    "### `kde()`, `density()`\n",
    "\n",
    "Ihr könnt Dichtediagramme auch mit `hvplot.kde()` oder `hvplot.density()` erstellen:"
   ]
  },
  {
   "cell_type": "code",
   "execution_count": null,
   "metadata": {},
   "outputs": [],
   "source": [
    "crime.hvplot.kde(y='Violent Crime rate')"
   ]
  },
  {
   "cell_type": "markdown",
   "metadata": {},
   "source": [
    "Der Vergleich der Verteilung mehrerer Spalten ist ebenfalls möglich:"
   ]
  },
  {
   "cell_type": "code",
   "execution_count": null,
   "metadata": {},
   "outputs": [],
   "source": [
    "columns=['Violent Crime rate', 'Property crime rate', 'Burglary rate']\n",
    "crime.hvplot.kde(y=columns, alpha=0.5, value_label='Rate', legend='top_right')"
   ]
  },
  {
   "cell_type": "markdown",
   "metadata": {},
   "source": [
    "`hvplot.kde` unterstützt auch das `by`-Schlüsselwort:"
   ]
  },
  {
   "cell_type": "code",
   "execution_count": null,
   "metadata": {},
   "outputs": [],
   "source": [
    "flight_subset = flights[flights.carrier.isin([b'AA', b'US', b'OH'])]\n",
    "flight_subset.hvplot.kde('depdelay', by='carrier', xlim=(-20, 70), width=300, subplots=True)"
   ]
  },
  {
   "cell_type": "markdown",
   "metadata": {},
   "source": [
    "### `box()`\n",
    "\n",
    "Genau wie die anderen verteilungsbasierten Diagrammtypen unterstützt das  [Box-Whisker-Diagramm](https://de.wikipedia.org/wiki/Box-Plot) das Zeichnen einer einzelnen Spalte:"
   ]
  },
  {
   "cell_type": "code",
   "execution_count": null,
   "metadata": {},
   "outputs": [],
   "source": [
    "crime.hvplot.box(y='Violent Crime rate')"
   ]
  },
  {
   "cell_type": "markdown",
   "metadata": {},
   "source": [
    "Es unterstützt auch mehrere Spalten und die gleichen Optionen wie berits oben genannt:`legend`, `invert` und `value_label`:"
   ]
  },
  {
   "cell_type": "code",
   "execution_count": null,
   "metadata": {},
   "outputs": [],
   "source": [
    "columns=['Burglary rate', 'Larceny-theft rate', 'Motor vehicle theft rate',\n",
    "         'Property crime rate', 'Violent Crime rate']\n",
    "crime.hvplot.box(y=columns, group_label='Crime', legend=False, value_label='Rate (per 100k)', invert=True)"
   ]
  },
  {
   "cell_type": "markdown",
   "metadata": {},
   "source": [
    "Auch die Verwendung des `by`-Schlüsselworts zum Aufteilen der Daten in mehrere Teilmengen wird unterstützt:"
   ]
  },
  {
   "cell_type": "code",
   "execution_count": null,
   "metadata": {},
   "outputs": [],
   "source": [
    "flight_subset = flights[flights.carrier.isin([b'AA', b'US', b'OH'])]\n",
    "flight_subset.hvplot.box('depdelay', by='carrier', ylim=(-10, 70))"
   ]
  },
  {
   "cell_type": "markdown",
   "metadata": {},
   "source": [
    "### Zusammengesetzte Diagramme\n",
    "\n",
    "Eine der Hauptstärken von HoloViews ist die einfache Erstellung verschiedener Diagramme. Einzelne Diagramme können mit den Operatoren `*` und `+` überlagert bzw. zusammengesetzt werden.\n",
    "\n",
    "> **Siehe auch:** [Composing Elements](http://holoviews.org/user_guide/Composing_Elements.html)"
   ]
  },
  {
   "cell_type": "code",
   "execution_count": null,
   "metadata": {},
   "outputs": [],
   "source": [
    "crime.hvplot(x='Year', y='Violent Crime rate') * crime.hvplot.scatter(x='Year', y='Violent Crime rate', c='k')"
   ]
  },
  {
   "cell_type": "markdown",
   "metadata": {},
   "source": [
    "Wir können auch verschiedene Diagramme und Tabellen zusammen erstellen:"
   ]
  },
  {
   "cell_type": "code",
   "execution_count": null,
   "metadata": {},
   "outputs": [],
   "source": [
    "(crime.hvplot.bar(x='Year', y='Violent Crime rate', rot=90, width=550) +\n",
    " crime.hvplot.table(['Year', 'Population', 'Violent Crime rate'], width=420))"
   ]
  },
  {
   "cell_type": "markdown",
   "metadata": {},
   "source": [
    "### Big Data\n",
    "\n",
    "In den vorherigen Beispielen fassten wir den relativ große Airline-Datensatz zusammen indem wir Teilmengen für die Darstellung bildeten. Stattdessen können wir die Daten jedoch auch mithilfe von [Datashader](https://jupyter-tutorial.readthedocs.io/de/latest/viz/bokeh/integration/datashader.html) aggregieren, wobei der gesamte verfügbare Rohdatensatz gerendert wird (sofern die Auflösung des Bildschirms dies zulässt)."
   ]
  },
  {
   "cell_type": "code",
   "execution_count": null,
   "metadata": {},
   "outputs": [],
   "source": [
    "flights.hvplot.scatter(x='distance', y='airtime', datashade=True)"
   ]
  },
  {
   "cell_type": "markdown",
   "metadata": {},
   "source": [
    "### `groupby`\n",
    "\n",
    "Dank der Fähigkeit von HoloViews, einen Parameterraum mit einer Reihe von Widgets zu erkunden, können wir eine Gruppe entlang einer bestimmten Spalte oder Dimension anwenden, z.B. die Verteilung der Abflugverzögerungen nach Carriern und Tag gruppiert anzeigen, wobei Benutzer\\*innen auswählen können, welcher Tag angezeigt werden soll:"
   ]
  },
  {
   "cell_type": "code",
   "execution_count": null,
   "metadata": {},
   "outputs": [],
   "source": [
    "flights.hvplot.violin(y='depdelay', by='carrier', groupby='dayofweek', ylim=(-20, 60), height=500)"
   ]
  }
 ],
 "metadata": {
  "language_info": {
   "name": "python",
   "pygments_lexer": "ipython3"
  }
 },
 "nbformat": 4,
 "nbformat_minor": 4
}
