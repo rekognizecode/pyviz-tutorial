{
 "cells": [
  {
   "cell_type": "markdown",
   "metadata": {},
   "source": [
    "# Verzeichnisformat für Bokeh-Apps und Templates\n",
    "\n",
    "Bokeh-Apps können auch mit einem Verzeichnisformat definiert werden. Dieses Format ermöglicht die Verwendung zusätzlicher Module, Daten, Templates, Themes und anderer Funktionen. Das Verzeichnis sollte eine `main.py`-Datei enthalten, das der *Einstiegspunkt* für die App ist, es können jedoch weitere Teile enthalten sein:\n",
    "```\n",
    ".\n",
    "└── myapp\n",
    "    ├── main.py\n",
    "    ├── server_lifecycle.py\n",
    "    ├── static\n",
    "    ├── templates\n",
    "    │   └── index.html\n",
    "    └── theme.yaml\n",
    "```\n",
    "\n",
    "Ein komplettes Beispiel findet ihr unter: https://github.com/bokeh/bokeh/tree/master/examples/app/dash.\n",
    "\n",
    "Nachdem ihr den `dash`-Ordner heruntergeladen habt, könnt ihr den Bokeh-Server starten mit\n",
    "```\n",
    "$ pipenv run bokeh serve --show dash/\n",
    "\n",
    "$ pipenv run bokeh serve --show examples/app/dash/\n",
    "2019-02-08 19:02:42,829 Starting Bokeh server version 1.0.4 (running on Tornado 5.1.1)\n",
    "2019-02-08 19:02:42,835 Bokeh app running at: http://localhost:5006/dash\n",
    "…\n",
    "```\n",
    "![Bokeh dashboard](bokeh-dashboard.png)"
   ]
  },
  {
   "cell_type": "code",
   "execution_count": null,
   "metadata": {},
   "outputs": [],
   "source": []
  }
 ],
 "metadata": {
  "language_info": {
   "name": "python",
   "pygments_lexer": "ipython3"
  }
 },
 "nbformat": 4,
 "nbformat_minor": 2
}
