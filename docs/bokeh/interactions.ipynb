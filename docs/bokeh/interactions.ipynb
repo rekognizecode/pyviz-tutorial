{
 "cells": [
  {
   "cell_type": "markdown",
   "metadata": {},
   "source": [
    "# Interactions"
   ]
  },
  {
   "cell_type": "code",
   "execution_count": 1,
   "metadata": {
    "hide_input": true
   },
   "outputs": [
    {
     "data": {
      "text/html": [
       "\n",
       "    <div class=\"bk-root\">\n",
       "        <a href=\"https://bokeh.pydata.org\" target=\"_blank\" class=\"bk-logo bk-logo-small bk-logo-notebook\"></a>\n",
       "        <span id=\"1001\">Loading BokehJS ...</span>\n",
       "    </div>"
      ]
     },
     "metadata": {},
     "output_type": "display_data"
    },
    {
     "data": {
      "application/javascript": [
       "\n",
       "(function(root) {\n",
       "  function now() {\n",
       "    return new Date();\n",
       "  }\n",
       "\n",
       "  var force = true;\n",
       "\n",
       "  if (typeof root._bokeh_onload_callbacks === \"undefined\" || force === true) {\n",
       "    root._bokeh_onload_callbacks = [];\n",
       "    root._bokeh_is_loading = undefined;\n",
       "  }\n",
       "\n",
       "  var JS_MIME_TYPE = 'application/javascript';\n",
       "  var HTML_MIME_TYPE = 'text/html';\n",
       "  var EXEC_MIME_TYPE = 'application/vnd.bokehjs_exec.v0+json';\n",
       "  var CLASS_NAME = 'output_bokeh rendered_html';\n",
       "\n",
       "  /**\n",
       "   * Render data to the DOM node\n",
       "   */\n",
       "  function render(props, node) {\n",
       "    var script = document.createElement(\"script\");\n",
       "    node.appendChild(script);\n",
       "  }\n",
       "\n",
       "  /**\n",
       "   * Handle when an output is cleared or removed\n",
       "   */\n",
       "  function handleClearOutput(event, handle) {\n",
       "    var cell = handle.cell;\n",
       "\n",
       "    var id = cell.output_area._bokeh_element_id;\n",
       "    var server_id = cell.output_area._bokeh_server_id;\n",
       "    // Clean up Bokeh references\n",
       "    if (id != null && id in Bokeh.index) {\n",
       "      Bokeh.index[id].model.document.clear();\n",
       "      delete Bokeh.index[id];\n",
       "    }\n",
       "\n",
       "    if (server_id !== undefined) {\n",
       "      // Clean up Bokeh references\n",
       "      var cmd = \"from bokeh.io.state import curstate; print(curstate().uuid_to_server['\" + server_id + \"'].get_sessions()[0].document.roots[0]._id)\";\n",
       "      cell.notebook.kernel.execute(cmd, {\n",
       "        iopub: {\n",
       "          output: function(msg) {\n",
       "            var id = msg.content.text.trim();\n",
       "            if (id in Bokeh.index) {\n",
       "              Bokeh.index[id].model.document.clear();\n",
       "              delete Bokeh.index[id];\n",
       "            }\n",
       "          }\n",
       "        }\n",
       "      });\n",
       "      // Destroy server and session\n",
       "      var cmd = \"import bokeh.io.notebook as ion; ion.destroy_server('\" + server_id + \"')\";\n",
       "      cell.notebook.kernel.execute(cmd);\n",
       "    }\n",
       "  }\n",
       "\n",
       "  /**\n",
       "   * Handle when a new output is added\n",
       "   */\n",
       "  function handleAddOutput(event, handle) {\n",
       "    var output_area = handle.output_area;\n",
       "    var output = handle.output;\n",
       "\n",
       "    // limit handleAddOutput to display_data with EXEC_MIME_TYPE content only\n",
       "    if ((output.output_type != \"display_data\") || (!output.data.hasOwnProperty(EXEC_MIME_TYPE))) {\n",
       "      return\n",
       "    }\n",
       "\n",
       "    var toinsert = output_area.element.find(\".\" + CLASS_NAME.split(' ')[0]);\n",
       "\n",
       "    if (output.metadata[EXEC_MIME_TYPE][\"id\"] !== undefined) {\n",
       "      toinsert[toinsert.length - 1].firstChild.textContent = output.data[JS_MIME_TYPE];\n",
       "      // store reference to embed id on output_area\n",
       "      output_area._bokeh_element_id = output.metadata[EXEC_MIME_TYPE][\"id\"];\n",
       "    }\n",
       "    if (output.metadata[EXEC_MIME_TYPE][\"server_id\"] !== undefined) {\n",
       "      var bk_div = document.createElement(\"div\");\n",
       "      bk_div.innerHTML = output.data[HTML_MIME_TYPE];\n",
       "      var script_attrs = bk_div.children[0].attributes;\n",
       "      for (var i = 0; i < script_attrs.length; i++) {\n",
       "        toinsert[toinsert.length - 1].firstChild.setAttribute(script_attrs[i].name, script_attrs[i].value);\n",
       "      }\n",
       "      // store reference to server id on output_area\n",
       "      output_area._bokeh_server_id = output.metadata[EXEC_MIME_TYPE][\"server_id\"];\n",
       "    }\n",
       "  }\n",
       "\n",
       "  function register_renderer(events, OutputArea) {\n",
       "\n",
       "    function append_mime(data, metadata, element) {\n",
       "      // create a DOM node to render to\n",
       "      var toinsert = this.create_output_subarea(\n",
       "        metadata,\n",
       "        CLASS_NAME,\n",
       "        EXEC_MIME_TYPE\n",
       "      );\n",
       "      this.keyboard_manager.register_events(toinsert);\n",
       "      // Render to node\n",
       "      var props = {data: data, metadata: metadata[EXEC_MIME_TYPE]};\n",
       "      render(props, toinsert[toinsert.length - 1]);\n",
       "      element.append(toinsert);\n",
       "      return toinsert\n",
       "    }\n",
       "\n",
       "    /* Handle when an output is cleared or removed */\n",
       "    events.on('clear_output.CodeCell', handleClearOutput);\n",
       "    events.on('delete.Cell', handleClearOutput);\n",
       "\n",
       "    /* Handle when a new output is added */\n",
       "    events.on('output_added.OutputArea', handleAddOutput);\n",
       "\n",
       "    /**\n",
       "     * Register the mime type and append_mime function with output_area\n",
       "     */\n",
       "    OutputArea.prototype.register_mime_type(EXEC_MIME_TYPE, append_mime, {\n",
       "      /* Is output safe? */\n",
       "      safe: true,\n",
       "      /* Index of renderer in `output_area.display_order` */\n",
       "      index: 0\n",
       "    });\n",
       "  }\n",
       "\n",
       "  // register the mime type if in Jupyter Notebook environment and previously unregistered\n",
       "  if (root.Jupyter !== undefined) {\n",
       "    var events = require('base/js/events');\n",
       "    var OutputArea = require('notebook/js/outputarea').OutputArea;\n",
       "\n",
       "    if (OutputArea.prototype.mime_types().indexOf(EXEC_MIME_TYPE) == -1) {\n",
       "      register_renderer(events, OutputArea);\n",
       "    }\n",
       "  }\n",
       "\n",
       "  \n",
       "  if (typeof (root._bokeh_timeout) === \"undefined\" || force === true) {\n",
       "    root._bokeh_timeout = Date.now() + 5000;\n",
       "    root._bokeh_failed_load = false;\n",
       "  }\n",
       "\n",
       "  var NB_LOAD_WARNING = {'data': {'text/html':\n",
       "     \"<div style='background-color: #fdd'>\\n\"+\n",
       "     \"<p>\\n\"+\n",
       "     \"BokehJS does not appear to have successfully loaded. If loading BokehJS from CDN, this \\n\"+\n",
       "     \"may be due to a slow or bad network connection. Possible fixes:\\n\"+\n",
       "     \"</p>\\n\"+\n",
       "     \"<ul>\\n\"+\n",
       "     \"<li>re-rerun `output_notebook()` to attempt to load from CDN again, or</li>\\n\"+\n",
       "     \"<li>use INLINE resources instead, as so:</li>\\n\"+\n",
       "     \"</ul>\\n\"+\n",
       "     \"<code>\\n\"+\n",
       "     \"from bokeh.resources import INLINE\\n\"+\n",
       "     \"output_notebook(resources=INLINE)\\n\"+\n",
       "     \"</code>\\n\"+\n",
       "     \"</div>\"}};\n",
       "\n",
       "  function display_loaded() {\n",
       "    var el = document.getElementById(\"1001\");\n",
       "    if (el != null) {\n",
       "      el.textContent = \"BokehJS is loading...\";\n",
       "    }\n",
       "    if (root.Bokeh !== undefined) {\n",
       "      if (el != null) {\n",
       "        el.textContent = \"BokehJS \" + root.Bokeh.version + \" successfully loaded.\";\n",
       "      }\n",
       "    } else if (Date.now() < root._bokeh_timeout) {\n",
       "      setTimeout(display_loaded, 100)\n",
       "    }\n",
       "  }\n",
       "\n",
       "\n",
       "  function run_callbacks() {\n",
       "    try {\n",
       "      root._bokeh_onload_callbacks.forEach(function(callback) {\n",
       "        if (callback != null)\n",
       "          callback();\n",
       "      });\n",
       "    } finally {\n",
       "      delete root._bokeh_onload_callbacks\n",
       "    }\n",
       "    console.debug(\"Bokeh: all callbacks have finished\");\n",
       "  }\n",
       "\n",
       "  function load_libs(css_urls, js_urls, callback) {\n",
       "    if (css_urls == null) css_urls = [];\n",
       "    if (js_urls == null) js_urls = [];\n",
       "\n",
       "    root._bokeh_onload_callbacks.push(callback);\n",
       "    if (root._bokeh_is_loading > 0) {\n",
       "      console.debug(\"Bokeh: BokehJS is being loaded, scheduling callback at\", now());\n",
       "      return null;\n",
       "    }\n",
       "    if (js_urls == null || js_urls.length === 0) {\n",
       "      run_callbacks();\n",
       "      return null;\n",
       "    }\n",
       "    console.debug(\"Bokeh: BokehJS not loaded, scheduling load and callback at\", now());\n",
       "    root._bokeh_is_loading = css_urls.length + js_urls.length;\n",
       "\n",
       "    function on_load() {\n",
       "      root._bokeh_is_loading--;\n",
       "      if (root._bokeh_is_loading === 0) {\n",
       "        console.debug(\"Bokeh: all BokehJS libraries/stylesheets loaded\");\n",
       "        run_callbacks()\n",
       "      }\n",
       "    }\n",
       "\n",
       "    function on_error() {\n",
       "      console.error(\"failed to load \" + url);\n",
       "    }\n",
       "\n",
       "    for (var i = 0; i < css_urls.length; i++) {\n",
       "      var url = css_urls[i];\n",
       "      const element = document.createElement(\"link\");\n",
       "      element.onload = on_load;\n",
       "      element.onerror = on_error;\n",
       "      element.rel = \"stylesheet\";\n",
       "      element.type = \"text/css\";\n",
       "      element.href = url;\n",
       "      console.debug(\"Bokeh: injecting link tag for BokehJS stylesheet: \", url);\n",
       "      document.body.appendChild(element);\n",
       "    }\n",
       "\n",
       "    for (var i = 0; i < js_urls.length; i++) {\n",
       "      var url = js_urls[i];\n",
       "      var element = document.createElement('script');\n",
       "      element.onload = on_load;\n",
       "      element.onerror = on_error;\n",
       "      element.async = false;\n",
       "      element.src = url;\n",
       "      console.debug(\"Bokeh: injecting script tag for BokehJS library: \", url);\n",
       "      document.head.appendChild(element);\n",
       "    }\n",
       "  };var element = document.getElementById(\"1001\");\n",
       "  if (element == null) {\n",
       "    console.error(\"Bokeh: ERROR: autoload.js configured with elementid '1001' but no matching script tag was found. \")\n",
       "    return false;\n",
       "  }\n",
       "\n",
       "  function inject_raw_css(css) {\n",
       "    const element = document.createElement(\"style\");\n",
       "    element.appendChild(document.createTextNode(css));\n",
       "    document.body.appendChild(element);\n",
       "  }\n",
       "\n",
       "  var js_urls = [\"https://cdn.pydata.org/bokeh/release/bokeh-1.3.4.min.js\", \"https://cdn.pydata.org/bokeh/release/bokeh-widgets-1.3.4.min.js\", \"https://cdn.pydata.org/bokeh/release/bokeh-tables-1.3.4.min.js\", \"https://cdn.pydata.org/bokeh/release/bokeh-gl-1.3.4.min.js\"];\n",
       "  var css_urls = [];\n",
       "\n",
       "  var inline_js = [\n",
       "    function(Bokeh) {\n",
       "      Bokeh.set_log_level(\"info\");\n",
       "    },\n",
       "    \n",
       "    function(Bokeh) {\n",
       "      \n",
       "    },\n",
       "    function(Bokeh) {} // ensure no trailing comma for IE\n",
       "  ];\n",
       "\n",
       "  function run_inline_js() {\n",
       "    \n",
       "    if ((root.Bokeh !== undefined) || (force === true)) {\n",
       "      for (var i = 0; i < inline_js.length; i++) {\n",
       "        inline_js[i].call(root, root.Bokeh);\n",
       "      }if (force === true) {\n",
       "        display_loaded();\n",
       "      }} else if (Date.now() < root._bokeh_timeout) {\n",
       "      setTimeout(run_inline_js, 100);\n",
       "    } else if (!root._bokeh_failed_load) {\n",
       "      console.log(\"Bokeh: BokehJS failed to load within specified timeout.\");\n",
       "      root._bokeh_failed_load = true;\n",
       "    } else if (force !== true) {\n",
       "      var cell = $(document.getElementById(\"1001\")).parents('.cell').data().cell;\n",
       "      cell.output_area.append_execute_result(NB_LOAD_WARNING)\n",
       "    }\n",
       "\n",
       "  }\n",
       "\n",
       "  if (root._bokeh_is_loading === 0) {\n",
       "    console.debug(\"Bokeh: BokehJS loaded, going straight to plotting\");\n",
       "    run_inline_js();\n",
       "  } else {\n",
       "    load_libs(css_urls, js_urls, function() {\n",
       "      console.debug(\"Bokeh: BokehJS plotting callback run at\", now());\n",
       "      run_inline_js();\n",
       "    });\n",
       "  }\n",
       "}(window));"
      ],
      "application/vnd.bokehjs_load.v0+json": "\n(function(root) {\n  function now() {\n    return new Date();\n  }\n\n  var force = true;\n\n  if (typeof root._bokeh_onload_callbacks === \"undefined\" || force === true) {\n    root._bokeh_onload_callbacks = [];\n    root._bokeh_is_loading = undefined;\n  }\n\n  \n\n  \n  if (typeof (root._bokeh_timeout) === \"undefined\" || force === true) {\n    root._bokeh_timeout = Date.now() + 5000;\n    root._bokeh_failed_load = false;\n  }\n\n  var NB_LOAD_WARNING = {'data': {'text/html':\n     \"<div style='background-color: #fdd'>\\n\"+\n     \"<p>\\n\"+\n     \"BokehJS does not appear to have successfully loaded. If loading BokehJS from CDN, this \\n\"+\n     \"may be due to a slow or bad network connection. Possible fixes:\\n\"+\n     \"</p>\\n\"+\n     \"<ul>\\n\"+\n     \"<li>re-rerun `output_notebook()` to attempt to load from CDN again, or</li>\\n\"+\n     \"<li>use INLINE resources instead, as so:</li>\\n\"+\n     \"</ul>\\n\"+\n     \"<code>\\n\"+\n     \"from bokeh.resources import INLINE\\n\"+\n     \"output_notebook(resources=INLINE)\\n\"+\n     \"</code>\\n\"+\n     \"</div>\"}};\n\n  function display_loaded() {\n    var el = document.getElementById(\"1001\");\n    if (el != null) {\n      el.textContent = \"BokehJS is loading...\";\n    }\n    if (root.Bokeh !== undefined) {\n      if (el != null) {\n        el.textContent = \"BokehJS \" + root.Bokeh.version + \" successfully loaded.\";\n      }\n    } else if (Date.now() < root._bokeh_timeout) {\n      setTimeout(display_loaded, 100)\n    }\n  }\n\n\n  function run_callbacks() {\n    try {\n      root._bokeh_onload_callbacks.forEach(function(callback) {\n        if (callback != null)\n          callback();\n      });\n    } finally {\n      delete root._bokeh_onload_callbacks\n    }\n    console.debug(\"Bokeh: all callbacks have finished\");\n  }\n\n  function load_libs(css_urls, js_urls, callback) {\n    if (css_urls == null) css_urls = [];\n    if (js_urls == null) js_urls = [];\n\n    root._bokeh_onload_callbacks.push(callback);\n    if (root._bokeh_is_loading > 0) {\n      console.debug(\"Bokeh: BokehJS is being loaded, scheduling callback at\", now());\n      return null;\n    }\n    if (js_urls == null || js_urls.length === 0) {\n      run_callbacks();\n      return null;\n    }\n    console.debug(\"Bokeh: BokehJS not loaded, scheduling load and callback at\", now());\n    root._bokeh_is_loading = css_urls.length + js_urls.length;\n\n    function on_load() {\n      root._bokeh_is_loading--;\n      if (root._bokeh_is_loading === 0) {\n        console.debug(\"Bokeh: all BokehJS libraries/stylesheets loaded\");\n        run_callbacks()\n      }\n    }\n\n    function on_error() {\n      console.error(\"failed to load \" + url);\n    }\n\n    for (var i = 0; i < css_urls.length; i++) {\n      var url = css_urls[i];\n      const element = document.createElement(\"link\");\n      element.onload = on_load;\n      element.onerror = on_error;\n      element.rel = \"stylesheet\";\n      element.type = \"text/css\";\n      element.href = url;\n      console.debug(\"Bokeh: injecting link tag for BokehJS stylesheet: \", url);\n      document.body.appendChild(element);\n    }\n\n    for (var i = 0; i < js_urls.length; i++) {\n      var url = js_urls[i];\n      var element = document.createElement('script');\n      element.onload = on_load;\n      element.onerror = on_error;\n      element.async = false;\n      element.src = url;\n      console.debug(\"Bokeh: injecting script tag for BokehJS library: \", url);\n      document.head.appendChild(element);\n    }\n  };var element = document.getElementById(\"1001\");\n  if (element == null) {\n    console.error(\"Bokeh: ERROR: autoload.js configured with elementid '1001' but no matching script tag was found. \")\n    return false;\n  }\n\n  function inject_raw_css(css) {\n    const element = document.createElement(\"style\");\n    element.appendChild(document.createTextNode(css));\n    document.body.appendChild(element);\n  }\n\n  var js_urls = [\"https://cdn.pydata.org/bokeh/release/bokeh-1.3.4.min.js\", \"https://cdn.pydata.org/bokeh/release/bokeh-widgets-1.3.4.min.js\", \"https://cdn.pydata.org/bokeh/release/bokeh-tables-1.3.4.min.js\", \"https://cdn.pydata.org/bokeh/release/bokeh-gl-1.3.4.min.js\"];\n  var css_urls = [];\n\n  var inline_js = [\n    function(Bokeh) {\n      Bokeh.set_log_level(\"info\");\n    },\n    \n    function(Bokeh) {\n      \n    },\n    function(Bokeh) {} // ensure no trailing comma for IE\n  ];\n\n  function run_inline_js() {\n    \n    if ((root.Bokeh !== undefined) || (force === true)) {\n      for (var i = 0; i < inline_js.length; i++) {\n        inline_js[i].call(root, root.Bokeh);\n      }if (force === true) {\n        display_loaded();\n      }} else if (Date.now() < root._bokeh_timeout) {\n      setTimeout(run_inline_js, 100);\n    } else if (!root._bokeh_failed_load) {\n      console.log(\"Bokeh: BokehJS failed to load within specified timeout.\");\n      root._bokeh_failed_load = true;\n    } else if (force !== true) {\n      var cell = $(document.getElementById(\"1001\")).parents('.cell').data().cell;\n      cell.output_area.append_execute_result(NB_LOAD_WARNING)\n    }\n\n  }\n\n  if (root._bokeh_is_loading === 0) {\n    console.debug(\"Bokeh: BokehJS loaded, going straight to plotting\");\n    run_inline_js();\n  } else {\n    load_libs(css_urls, js_urls, function() {\n      console.debug(\"Bokeh: BokehJS plotting callback run at\", now());\n      run_inline_js();\n    });\n  }\n}(window));"
     },
     "metadata": {},
     "output_type": "display_data"
    }
   ],
   "source": [
    "from bokeh.io import output_notebook, show\n",
    "from bokeh.plotting import figure\n",
    "output_notebook()"
   ]
  },
  {
   "cell_type": "markdown",
   "metadata": {},
   "source": [
    "## Verknüpfte Interaktionen\n",
    "\n",
    "Es ist möglich, verschiedenen Bokeh-Plots interaktiv zu verknüpfen. Z.B. können zwei oder mehr Plots verknüpft werden, wobei in einem der Plots verschoben, gezoomt o.ä. wird und die anderen Plots gleichzeitig aktualisiert werden. Es ist auch möglich, Auswahlen zwischen zwei Plots zu verknüpfen, sodass bei der Auswahl von Elementen in einem Plot auch die entsprechenden Elemente im zweiten Plot ausgewählt werden."
   ]
  },
  {
   "cell_type": "markdown",
   "metadata": {},
   "source": [
    "### Verknüpftes Verschieben\n",
    "\n",
    "Verknüpftes Verschieben (wenn mehrere Darstellungen Bereiche haben, die synchron bleiben) ist mit Bokeh einfach zu realisieren. Ihr teilt einfach die entsprechenden Bereichsobjekte zwischen zwei (oder mehr) Plots auf. Das folgende Beispiel zeigt, wie ihr dies erreicht, indem ihr die Bereiche der drei Diagramme auf verschiedene Weise verknüpft:"
   ]
  },
  {
   "cell_type": "code",
   "execution_count": 2,
   "metadata": {
    "scrolled": true
   },
   "outputs": [
    {
     "data": {
      "text/html": [
       "\n",
       "\n",
       "\n",
       "\n",
       "\n",
       "\n",
       "  <div class=\"bk-root\" id=\"8d8450c4-ff07-480c-af78-1d20cad2a5c2\" data-root-id=\"1116\"></div>\n"
      ]
     },
     "metadata": {},
     "output_type": "display_data"
    },
    {
     "data": {
      "application/javascript": [
       "(function(root) {\n",
       "  function embed_document(root) {\n",
       "    \n",
       "  var docs_json = {\"e2d79b24-2539-40fa-b0fa-6b6f5784cf6f\":{\"roots\":{\"references\":[{\"attributes\":{\"children\":[{\"id\":\"1115\",\"type\":\"ToolbarBox\"},{\"id\":\"1113\",\"type\":\"GridBox\"}]},\"id\":\"1116\",\"type\":\"Column\"},{\"attributes\":{},\"id\":\"1049\",\"type\":\"WheelZoomTool\"},{\"attributes\":{},\"id\":\"1107\",\"type\":\"BasicTickFormatter\"},{\"attributes\":{},\"id\":\"1022\",\"type\":\"WheelZoomTool\"},{\"attributes\":{},\"id\":\"1077\",\"type\":\"WheelZoomTool\"},{\"attributes\":{\"active_drag\":\"auto\",\"active_inspect\":\"auto\",\"active_multi\":null,\"active_scroll\":\"auto\",\"active_tap\":\"auto\",\"tools\":[{\"id\":\"1021\",\"type\":\"PanTool\"},{\"id\":\"1022\",\"type\":\"WheelZoomTool\"}]},\"id\":\"1023\",\"type\":\"Toolbar\"},{\"attributes\":{},\"id\":\"1109\",\"type\":\"BasicTickFormatter\"},{\"attributes\":{},\"id\":\"1021\",\"type\":\"PanTool\"},{\"attributes\":{\"fill_color\":{\"value\":\"firebrick\"},\"line_color\":{\"value\":\"firebrick\"},\"size\":{\"units\":\"screen\",\"value\":10},\"x\":{\"field\":\"x\"},\"y\":{\"field\":\"y\"}},\"id\":\"1054\",\"type\":\"Triangle\"},{\"attributes\":{\"active_drag\":\"auto\",\"active_inspect\":\"auto\",\"active_multi\":null,\"active_scroll\":\"auto\",\"active_tap\":\"auto\",\"tools\":[{\"id\":\"1076\",\"type\":\"PanTool\"},{\"id\":\"1077\",\"type\":\"WheelZoomTool\"}]},\"id\":\"1078\",\"type\":\"Toolbar\"},{\"attributes\":{},\"id\":\"1110\",\"type\":\"UnionRenderers\"},{\"attributes\":{\"fill_alpha\":{\"value\":0.1},\"fill_color\":{\"value\":\"#1f77b4\"},\"line_alpha\":{\"value\":0.1},\"line_color\":{\"value\":\"#1f77b4\"},\"size\":{\"units\":\"screen\",\"value\":10},\"x\":{\"field\":\"x\"},\"y\":{\"field\":\"y\"}},\"id\":\"1055\",\"type\":\"Triangle\"},{\"attributes\":{},\"id\":\"1111\",\"type\":\"Selection\"},{\"attributes\":{\"fill_alpha\":{\"value\":0.1},\"fill_color\":{\"value\":\"#1f77b4\"},\"line_alpha\":{\"value\":0.1},\"line_color\":{\"value\":\"#1f77b4\"},\"size\":{\"units\":\"screen\",\"value\":10},\"x\":{\"field\":\"x\"},\"y\":{\"field\":\"y\"}},\"id\":\"1083\",\"type\":\"Square\"},{\"attributes\":{\"tools\":[{\"id\":\"1021\",\"type\":\"PanTool\"},{\"id\":\"1022\",\"type\":\"WheelZoomTool\"},{\"id\":\"1048\",\"type\":\"PanTool\"},{\"id\":\"1049\",\"type\":\"WheelZoomTool\"},{\"id\":\"1076\",\"type\":\"PanTool\"},{\"id\":\"1077\",\"type\":\"WheelZoomTool\"}]},\"id\":\"1114\",\"type\":\"ProxyToolbar\"},{\"attributes\":{\"data_source\":{\"id\":\"1053\",\"type\":\"ColumnDataSource\"},\"glyph\":{\"id\":\"1054\",\"type\":\"Triangle\"},\"hover_glyph\":null,\"muted_glyph\":null,\"nonselection_glyph\":{\"id\":\"1055\",\"type\":\"Triangle\"},\"selection_glyph\":null,\"view\":{\"id\":\"1057\",\"type\":\"CDSView\"}},\"id\":\"1056\",\"type\":\"GlyphRenderer\"},{\"attributes\":{\"data_source\":{\"id\":\"1081\",\"type\":\"ColumnDataSource\"},\"glyph\":{\"id\":\"1082\",\"type\":\"Square\"},\"hover_glyph\":null,\"muted_glyph\":null,\"nonselection_glyph\":{\"id\":\"1083\",\"type\":\"Square\"},\"selection_glyph\":null,\"view\":{\"id\":\"1085\",\"type\":\"CDSView\"}},\"id\":\"1084\",\"type\":\"GlyphRenderer\"},{\"attributes\":{\"fill_alpha\":{\"value\":0.1},\"fill_color\":{\"value\":\"#1f77b4\"},\"line_alpha\":{\"value\":0.1},\"line_color\":{\"value\":\"#1f77b4\"},\"size\":{\"units\":\"screen\",\"value\":10},\"x\":{\"field\":\"x\"},\"y\":{\"field\":\"y\"}},\"id\":\"1028\",\"type\":\"Circle\"},{\"attributes\":{\"toolbar\":{\"id\":\"1114\",\"type\":\"ProxyToolbar\"},\"toolbar_location\":\"above\"},\"id\":\"1115\",\"type\":\"ToolbarBox\"},{\"attributes\":{\"source\":{\"id\":\"1053\",\"type\":\"ColumnDataSource\"}},\"id\":\"1057\",\"type\":\"CDSView\"},{\"attributes\":{\"data_source\":{\"id\":\"1026\",\"type\":\"ColumnDataSource\"},\"glyph\":{\"id\":\"1027\",\"type\":\"Circle\"},\"hover_glyph\":null,\"muted_glyph\":null,\"nonselection_glyph\":{\"id\":\"1028\",\"type\":\"Circle\"},\"selection_glyph\":null,\"view\":{\"id\":\"1030\",\"type\":\"CDSView\"}},\"id\":\"1029\",\"type\":\"GlyphRenderer\"},{\"attributes\":{\"source\":{\"id\":\"1081\",\"type\":\"ColumnDataSource\"}},\"id\":\"1085\",\"type\":\"CDSView\"},{\"attributes\":{\"below\":[{\"id\":\"1038\",\"type\":\"LinearAxis\"}],\"center\":[{\"id\":\"1042\",\"type\":\"Grid\"},{\"id\":\"1047\",\"type\":\"Grid\"}],\"left\":[{\"id\":\"1043\",\"type\":\"LinearAxis\"}],\"plot_height\":250,\"plot_width\":250,\"renderers\":[{\"id\":\"1056\",\"type\":\"GlyphRenderer\"}],\"title\":{\"id\":\"1096\",\"type\":\"Title\"},\"toolbar\":{\"id\":\"1050\",\"type\":\"Toolbar\"},\"toolbar_location\":null,\"x_range\":{\"id\":\"1003\",\"type\":\"DataRange1d\"},\"x_scale\":{\"id\":\"1034\",\"type\":\"LinearScale\"},\"y_range\":{\"id\":\"1005\",\"type\":\"DataRange1d\"},\"y_scale\":{\"id\":\"1036\",\"type\":\"LinearScale\"}},\"id\":\"1031\",\"subtype\":\"Figure\",\"type\":\"Plot\"},{\"attributes\":{\"callback\":null,\"data\":{\"x\":[0,1,2,3,4,5,6,7,8,9,10],\"y\":[0,1,2,3,4,5,6,7,8,9,10]},\"selected\":{\"id\":\"1093\",\"type\":\"Selection\"},\"selection_policy\":{\"id\":\"1092\",\"type\":\"UnionRenderers\"}},\"id\":\"1026\",\"type\":\"ColumnDataSource\"},{\"attributes\":{\"source\":{\"id\":\"1026\",\"type\":\"ColumnDataSource\"}},\"id\":\"1030\",\"type\":\"CDSView\"},{\"attributes\":{\"below\":[{\"id\":\"1011\",\"type\":\"LinearAxis\"}],\"center\":[{\"id\":\"1015\",\"type\":\"Grid\"},{\"id\":\"1020\",\"type\":\"Grid\"}],\"left\":[{\"id\":\"1016\",\"type\":\"LinearAxis\"}],\"plot_height\":250,\"plot_width\":250,\"renderers\":[{\"id\":\"1029\",\"type\":\"GlyphRenderer\"}],\"title\":{\"id\":\"1087\",\"type\":\"Title\"},\"toolbar\":{\"id\":\"1023\",\"type\":\"Toolbar\"},\"toolbar_location\":null,\"x_range\":{\"id\":\"1003\",\"type\":\"DataRange1d\"},\"x_scale\":{\"id\":\"1007\",\"type\":\"LinearScale\"},\"y_range\":{\"id\":\"1005\",\"type\":\"DataRange1d\"},\"y_scale\":{\"id\":\"1009\",\"type\":\"LinearScale\"}},\"id\":\"1002\",\"subtype\":\"Figure\",\"type\":\"Plot\"},{\"attributes\":{\"callback\":null,\"data\":{\"x\":[0,1,2,3,4,5,6,7,8,9,10],\"y\":[5,4,3,2,1,0,1,2,3,4,5]},\"selected\":{\"id\":\"1111\",\"type\":\"Selection\"},\"selection_policy\":{\"id\":\"1110\",\"type\":\"UnionRenderers\"}},\"id\":\"1081\",\"type\":\"ColumnDataSource\"},{\"attributes\":{\"text\":\"\"},\"id\":\"1087\",\"type\":\"Title\"},{\"attributes\":{\"callback\":null},\"id\":\"1060\",\"type\":\"DataRange1d\"},{\"attributes\":{\"dimension\":1,\"ticker\":{\"id\":\"1017\",\"type\":\"BasicTicker\"}},\"id\":\"1020\",\"type\":\"Grid\"},{\"attributes\":{\"fill_color\":{\"value\":\"navy\"},\"line_color\":{\"value\":\"navy\"},\"size\":{\"units\":\"screen\",\"value\":10},\"x\":{\"field\":\"x\"},\"y\":{\"field\":\"y\"}},\"id\":\"1027\",\"type\":\"Circle\"},{\"attributes\":{\"callback\":null,\"data\":{\"x\":[0,1,2,3,4,5,6,7,8,9,10],\"y\":[10,9,8,7,6,5,4,3,2,1,0]},\"selected\":{\"id\":\"1102\",\"type\":\"Selection\"},\"selection_policy\":{\"id\":\"1101\",\"type\":\"UnionRenderers\"}},\"id\":\"1053\",\"type\":\"ColumnDataSource\"},{\"attributes\":{\"callback\":null},\"id\":\"1003\",\"type\":\"DataRange1d\"},{\"attributes\":{},\"id\":\"1062\",\"type\":\"LinearScale\"},{\"attributes\":{},\"id\":\"1034\",\"type\":\"LinearScale\"},{\"attributes\":{\"callback\":null},\"id\":\"1005\",\"type\":\"DataRange1d\"},{\"attributes\":{},\"id\":\"1089\",\"type\":\"BasicTickFormatter\"},{\"attributes\":{\"text\":\"\"},\"id\":\"1105\",\"type\":\"Title\"},{\"attributes\":{},\"id\":\"1064\",\"type\":\"LinearScale\"},{\"attributes\":{},\"id\":\"1036\",\"type\":\"LinearScale\"},{\"attributes\":{},\"id\":\"1091\",\"type\":\"BasicTickFormatter\"},{\"attributes\":{},\"id\":\"1007\",\"type\":\"LinearScale\"},{\"attributes\":{\"formatter\":{\"id\":\"1109\",\"type\":\"BasicTickFormatter\"},\"ticker\":{\"id\":\"1067\",\"type\":\"BasicTicker\"}},\"id\":\"1066\",\"type\":\"LinearAxis\"},{\"attributes\":{\"formatter\":{\"id\":\"1100\",\"type\":\"BasicTickFormatter\"},\"ticker\":{\"id\":\"1039\",\"type\":\"BasicTicker\"}},\"id\":\"1038\",\"type\":\"LinearAxis\"},{\"attributes\":{},\"id\":\"1092\",\"type\":\"UnionRenderers\"},{\"attributes\":{},\"id\":\"1009\",\"type\":\"LinearScale\"},{\"attributes\":{},\"id\":\"1067\",\"type\":\"BasicTicker\"},{\"attributes\":{},\"id\":\"1039\",\"type\":\"BasicTicker\"},{\"attributes\":{},\"id\":\"1093\",\"type\":\"Selection\"},{\"attributes\":{\"formatter\":{\"id\":\"1091\",\"type\":\"BasicTickFormatter\"},\"ticker\":{\"id\":\"1012\",\"type\":\"BasicTicker\"}},\"id\":\"1011\",\"type\":\"LinearAxis\"},{\"attributes\":{\"ticker\":{\"id\":\"1067\",\"type\":\"BasicTicker\"}},\"id\":\"1070\",\"type\":\"Grid\"},{\"attributes\":{\"ticker\":{\"id\":\"1039\",\"type\":\"BasicTicker\"}},\"id\":\"1042\",\"type\":\"Grid\"},{\"attributes\":{\"text\":\"\"},\"id\":\"1096\",\"type\":\"Title\"},{\"attributes\":{},\"id\":\"1102\",\"type\":\"Selection\"},{\"attributes\":{\"formatter\":{\"id\":\"1107\",\"type\":\"BasicTickFormatter\"},\"ticker\":{\"id\":\"1072\",\"type\":\"BasicTicker\"}},\"id\":\"1071\",\"type\":\"LinearAxis\"},{\"attributes\":{},\"id\":\"1012\",\"type\":\"BasicTicker\"},{\"attributes\":{\"formatter\":{\"id\":\"1098\",\"type\":\"BasicTickFormatter\"},\"ticker\":{\"id\":\"1044\",\"type\":\"BasicTicker\"}},\"id\":\"1043\",\"type\":\"LinearAxis\"},{\"attributes\":{},\"id\":\"1098\",\"type\":\"BasicTickFormatter\"},{\"attributes\":{\"ticker\":{\"id\":\"1012\",\"type\":\"BasicTicker\"}},\"id\":\"1015\",\"type\":\"Grid\"},{\"attributes\":{},\"id\":\"1072\",\"type\":\"BasicTicker\"},{\"attributes\":{},\"id\":\"1044\",\"type\":\"BasicTicker\"},{\"attributes\":{},\"id\":\"1100\",\"type\":\"BasicTickFormatter\"},{\"attributes\":{\"formatter\":{\"id\":\"1089\",\"type\":\"BasicTickFormatter\"},\"ticker\":{\"id\":\"1017\",\"type\":\"BasicTicker\"}},\"id\":\"1016\",\"type\":\"LinearAxis\"},{\"attributes\":{\"dimension\":1,\"ticker\":{\"id\":\"1072\",\"type\":\"BasicTicker\"}},\"id\":\"1075\",\"type\":\"Grid\"},{\"attributes\":{\"dimension\":1,\"ticker\":{\"id\":\"1044\",\"type\":\"BasicTicker\"}},\"id\":\"1047\",\"type\":\"Grid\"},{\"attributes\":{},\"id\":\"1101\",\"type\":\"UnionRenderers\"},{\"attributes\":{\"children\":[[{\"id\":\"1002\",\"subtype\":\"Figure\",\"type\":\"Plot\"},0,0],[{\"id\":\"1031\",\"subtype\":\"Figure\",\"type\":\"Plot\"},0,1],[{\"id\":\"1058\",\"subtype\":\"Figure\",\"type\":\"Plot\"},0,2]]},\"id\":\"1113\",\"type\":\"GridBox\"},{\"attributes\":{},\"id\":\"1017\",\"type\":\"BasicTicker\"},{\"attributes\":{\"below\":[{\"id\":\"1066\",\"type\":\"LinearAxis\"}],\"center\":[{\"id\":\"1070\",\"type\":\"Grid\"},{\"id\":\"1075\",\"type\":\"Grid\"}],\"left\":[{\"id\":\"1071\",\"type\":\"LinearAxis\"}],\"plot_height\":250,\"plot_width\":250,\"renderers\":[{\"id\":\"1084\",\"type\":\"GlyphRenderer\"}],\"title\":{\"id\":\"1105\",\"type\":\"Title\"},\"toolbar\":{\"id\":\"1078\",\"type\":\"Toolbar\"},\"toolbar_location\":null,\"x_range\":{\"id\":\"1003\",\"type\":\"DataRange1d\"},\"x_scale\":{\"id\":\"1062\",\"type\":\"LinearScale\"},\"y_range\":{\"id\":\"1060\",\"type\":\"DataRange1d\"},\"y_scale\":{\"id\":\"1064\",\"type\":\"LinearScale\"}},\"id\":\"1058\",\"subtype\":\"Figure\",\"type\":\"Plot\"},{\"attributes\":{\"fill_color\":{\"value\":\"olive\"},\"line_color\":{\"value\":\"olive\"},\"size\":{\"units\":\"screen\",\"value\":10},\"x\":{\"field\":\"x\"},\"y\":{\"field\":\"y\"}},\"id\":\"1082\",\"type\":\"Square\"},{\"attributes\":{\"active_drag\":\"auto\",\"active_inspect\":\"auto\",\"active_multi\":null,\"active_scroll\":\"auto\",\"active_tap\":\"auto\",\"tools\":[{\"id\":\"1048\",\"type\":\"PanTool\"},{\"id\":\"1049\",\"type\":\"WheelZoomTool\"}]},\"id\":\"1050\",\"type\":\"Toolbar\"},{\"attributes\":{},\"id\":\"1076\",\"type\":\"PanTool\"},{\"attributes\":{},\"id\":\"1048\",\"type\":\"PanTool\"}],\"root_ids\":[\"1116\"]},\"title\":\"Bokeh Application\",\"version\":\"1.3.4\"}};\n",
       "  var render_items = [{\"docid\":\"e2d79b24-2539-40fa-b0fa-6b6f5784cf6f\",\"roots\":{\"1116\":\"8d8450c4-ff07-480c-af78-1d20cad2a5c2\"}}];\n",
       "  root.Bokeh.embed.embed_items_notebook(docs_json, render_items);\n",
       "\n",
       "  }\n",
       "  if (root.Bokeh !== undefined) {\n",
       "    embed_document(root);\n",
       "  } else {\n",
       "    var attempts = 0;\n",
       "    var timer = setInterval(function(root) {\n",
       "      if (root.Bokeh !== undefined) {\n",
       "        embed_document(root);\n",
       "        clearInterval(timer);\n",
       "      }\n",
       "      attempts++;\n",
       "      if (attempts > 100) {\n",
       "        console.log(\"Bokeh: ERROR: Unable to run BokehJS code because BokehJS library is missing\");\n",
       "        clearInterval(timer);\n",
       "      }\n",
       "    }, 10, root)\n",
       "  }\n",
       "})(window);"
      ],
      "application/vnd.bokehjs_exec.v0+json": ""
     },
     "metadata": {
      "application/vnd.bokehjs_exec.v0+json": {
       "id": "1116"
      }
     },
     "output_type": "display_data"
    }
   ],
   "source": [
    "from bokeh.layouts import gridplot\n",
    "\n",
    "x = list(range(11))\n",
    "y0, y1, y2 = x, [10-i for i in x], [abs(i-5) for i in x]\n",
    "\n",
    "plot_options = dict(width=250, plot_height=250, tools='pan,wheel_zoom')\n",
    "\n",
    "# create a new plot\n",
    "s1 = figure(**plot_options)\n",
    "s1.circle(x, y0, size=10, color=\"navy\")\n",
    "\n",
    "# create a new plot and share both ranges\n",
    "s2 = figure(x_range=s1.x_range, y_range=s1.y_range, **plot_options)\n",
    "s2.triangle(x, y1, size=10, color=\"firebrick\")\n",
    "\n",
    "# create a new plot and share only one range\n",
    "s3 = figure(x_range=s1.x_range, **plot_options)\n",
    "s3.square(x, y2, size=10, color=\"olive\")\n",
    "\n",
    "p = gridplot([[s1, s2, s3]])\n",
    "\n",
    "# show the results\n",
    "show(p)"
   ]
  },
  {
   "cell_type": "markdown",
   "metadata": {},
   "source": [
    "### Verknüpfte Auswahl\n",
    "\n",
    "Das Verknüpfen von Auswahlen erfolgt auf ähnliche Weise, indem Datenquellen zwischen Plots gemeinsam genutzt werden. Beachtet, dass normalerweise mit `` bokeh.plotting`` und `` bokeh.charts`` die Erstellung einer Standarddatenquelle für einfache Darstellungen automatisch erfolgt. Um jedoch eine Datenquelle gemeinsam zu nutzen, müssen wir sie manuell erstellen und explizit übergeben. Dies wird im folgenden Beispiel veranschaulicht:"
   ]
  },
  {
   "cell_type": "code",
   "execution_count": 3,
   "metadata": {},
   "outputs": [
    {
     "data": {
      "text/html": [
       "\n",
       "\n",
       "\n",
       "\n",
       "\n",
       "\n",
       "  <div class=\"bk-root\" id=\"49bba167-a41a-4eb0-9fb4-a966404f8e02\" data-root-id=\"1373\"></div>\n"
      ]
     },
     "metadata": {},
     "output_type": "display_data"
    },
    {
     "data": {
      "application/javascript": [
       "(function(root) {\n",
       "  function embed_document(root) {\n",
       "    \n",
       "  var docs_json = {\"29bf098f-c232-4af1-9537-30ad64527126\":{\"roots\":{\"references\":[{\"attributes\":{\"children\":[{\"id\":\"1372\",\"type\":\"ToolbarBox\"},{\"id\":\"1370\",\"type\":\"GridBox\"}]},\"id\":\"1373\",\"type\":\"Column\"},{\"attributes\":{},\"id\":\"1307\",\"type\":\"HelpTool\"},{\"attributes\":{\"ticker\":{\"id\":\"1327\",\"type\":\"BasicTicker\"}},\"id\":\"1330\",\"type\":\"Grid\"},{\"attributes\":{\"bottom_units\":\"screen\",\"fill_alpha\":{\"value\":0.5},\"fill_color\":{\"value\":\"lightgrey\"},\"left_units\":\"screen\",\"level\":\"overlay\",\"line_alpha\":{\"value\":1.0},\"line_color\":{\"value\":\"black\"},\"line_dash\":[4,4],\"line_width\":{\"value\":2},\"render_mode\":\"css\",\"right_units\":\"screen\",\"top_units\":\"screen\"},\"id\":\"1356\",\"type\":\"BoxAnnotation\"},{\"attributes\":{\"callback\":null,\"overlay\":{\"id\":\"1367\",\"type\":\"BoxAnnotation\"}},\"id\":\"1336\",\"type\":\"BoxSelectTool\"},{\"attributes\":{\"callback\":null,\"overlay\":{\"id\":\"1357\",\"type\":\"PolyAnnotation\"}},\"id\":\"1306\",\"type\":\"LassoSelectTool\"},{\"attributes\":{\"text\":\"\"},\"id\":\"1360\",\"type\":\"Title\"},{\"attributes\":{},\"id\":\"1327\",\"type\":\"BasicTicker\"},{\"attributes\":{},\"id\":\"1362\",\"type\":\"BasicTickFormatter\"},{\"attributes\":{\"active_drag\":\"auto\",\"active_inspect\":\"auto\",\"active_multi\":null,\"active_scroll\":\"auto\",\"active_tap\":\"auto\",\"tools\":[{\"id\":\"1336\",\"type\":\"BoxSelectTool\"},{\"id\":\"1337\",\"type\":\"LassoSelectTool\"},{\"id\":\"1338\",\"type\":\"HelpTool\"}]},\"id\":\"1339\",\"type\":\"Toolbar\"},{\"attributes\":{\"ticker\":{\"id\":\"1296\",\"type\":\"BasicTicker\"}},\"id\":\"1299\",\"type\":\"Grid\"},{\"attributes\":{\"callback\":null,\"overlay\":{\"id\":\"1356\",\"type\":\"BoxAnnotation\"}},\"id\":\"1305\",\"type\":\"BoxSelectTool\"},{\"attributes\":{},\"id\":\"1364\",\"type\":\"BasicTickFormatter\"},{\"attributes\":{\"active_drag\":\"auto\",\"active_inspect\":\"auto\",\"active_multi\":null,\"active_scroll\":\"auto\",\"active_tap\":\"auto\",\"tools\":[{\"id\":\"1305\",\"type\":\"BoxSelectTool\"},{\"id\":\"1306\",\"type\":\"LassoSelectTool\"},{\"id\":\"1307\",\"type\":\"HelpTool\"}]},\"id\":\"1308\",\"type\":\"Toolbar\"},{\"attributes\":{\"bottom_units\":\"screen\",\"fill_alpha\":{\"value\":0.5},\"fill_color\":{\"value\":\"lightgrey\"},\"left_units\":\"screen\",\"level\":\"overlay\",\"line_alpha\":{\"value\":1.0},\"line_color\":{\"value\":\"black\"},\"line_dash\":[4,4],\"line_width\":{\"value\":2},\"render_mode\":\"css\",\"right_units\":\"screen\",\"top_units\":\"screen\"},\"id\":\"1367\",\"type\":\"BoxAnnotation\"},{\"attributes\":{},\"id\":\"1322\",\"type\":\"LinearScale\"},{\"attributes\":{},\"id\":\"1353\",\"type\":\"BasicTickFormatter\"},{\"attributes\":{\"fill_alpha\":{\"value\":0.5},\"fill_color\":{\"value\":\"lightgrey\"},\"level\":\"overlay\",\"line_alpha\":{\"value\":1.0},\"line_color\":{\"value\":\"black\"},\"line_dash\":[4,4],\"line_width\":{\"value\":2},\"xs_units\":\"screen\",\"ys_units\":\"screen\"},\"id\":\"1368\",\"type\":\"PolyAnnotation\"},{\"attributes\":{\"callback\":null},\"id\":\"1318\",\"type\":\"DataRange1d\"},{\"attributes\":{\"tools\":[{\"id\":\"1305\",\"type\":\"BoxSelectTool\"},{\"id\":\"1306\",\"type\":\"LassoSelectTool\"},{\"id\":\"1307\",\"type\":\"HelpTool\"},{\"id\":\"1336\",\"type\":\"BoxSelectTool\"},{\"id\":\"1337\",\"type\":\"LassoSelectTool\"},{\"id\":\"1338\",\"type\":\"HelpTool\"}]},\"id\":\"1371\",\"type\":\"ProxyToolbar\"},{\"attributes\":{\"dimension\":1,\"ticker\":{\"id\":\"1301\",\"type\":\"BasicTicker\"}},\"id\":\"1304\",\"type\":\"Grid\"},{\"attributes\":{\"callback\":null},\"id\":\"1320\",\"type\":\"DataRange1d\"},{\"attributes\":{\"fill_alpha\":{\"value\":0.5},\"fill_color\":{\"value\":\"lightgrey\"},\"level\":\"overlay\",\"line_alpha\":{\"value\":1.0},\"line_color\":{\"value\":\"black\"},\"line_dash\":[4,4],\"line_width\":{\"value\":2},\"xs_units\":\"screen\",\"ys_units\":\"screen\"},\"id\":\"1357\",\"type\":\"PolyAnnotation\"},{\"attributes\":{\"callback\":null,\"data\":{\"x\":[-20,-19,-18,-17,-16,-15,-14,-13,-12,-11,-10,-9,-8,-7,-6,-5,-4,-3,-2,-1,0,1,2,3,4,5,6,7,8,9,10,11,12,13,14,15,16,17,18,19,20],\"y0\":[20,19,18,17,16,15,14,13,12,11,10,9,8,7,6,5,4,3,2,1,0,1,2,3,4,5,6,7,8,9,10,11,12,13,14,15,16,17,18,19,20],\"y1\":[400,361,324,289,256,225,196,169,144,121,100,81,64,49,36,25,16,9,4,1,0,1,4,9,16,25,36,49,64,81,100,121,144,169,196,225,256,289,324,361,400]},\"selected\":{\"id\":\"1355\",\"type\":\"Selection\"},\"selection_policy\":{\"id\":\"1354\",\"type\":\"UnionRenderers\"}},\"id\":\"1285\",\"type\":\"ColumnDataSource\"},{\"attributes\":{\"toolbar\":{\"id\":\"1371\",\"type\":\"ProxyToolbar\"},\"toolbar_location\":\"above\"},\"id\":\"1372\",\"type\":\"ToolbarBox\"},{\"attributes\":{},\"id\":\"1355\",\"type\":\"Selection\"},{\"attributes\":{\"text\":\"\"},\"id\":\"1349\",\"type\":\"Title\"},{\"attributes\":{\"dimension\":1,\"ticker\":{\"id\":\"1332\",\"type\":\"BasicTicker\"}},\"id\":\"1335\",\"type\":\"Grid\"},{\"attributes\":{},\"id\":\"1296\",\"type\":\"BasicTicker\"},{\"attributes\":{\"fill_color\":{\"value\":\"#1f77b4\"},\"line_color\":{\"value\":\"#1f77b4\"},\"x\":{\"field\":\"x\"},\"y\":{\"field\":\"y1\"}},\"id\":\"1344\",\"type\":\"Circle\"},{\"attributes\":{\"source\":{\"id\":\"1285\",\"type\":\"ColumnDataSource\"}},\"id\":\"1316\",\"type\":\"CDSView\"},{\"attributes\":{},\"id\":\"1332\",\"type\":\"BasicTicker\"},{\"attributes\":{},\"id\":\"1293\",\"type\":\"LinearScale\"},{\"attributes\":{},\"id\":\"1301\",\"type\":\"BasicTicker\"},{\"attributes\":{\"data_source\":{\"id\":\"1285\",\"type\":\"ColumnDataSource\"},\"glyph\":{\"id\":\"1313\",\"type\":\"Circle\"},\"hover_glyph\":null,\"muted_glyph\":null,\"nonselection_glyph\":{\"id\":\"1314\",\"type\":\"Circle\"},\"selection_glyph\":null,\"view\":{\"id\":\"1316\",\"type\":\"CDSView\"}},\"id\":\"1315\",\"type\":\"GlyphRenderer\"},{\"attributes\":{\"below\":[{\"id\":\"1295\",\"type\":\"LinearAxis\"}],\"center\":[{\"id\":\"1299\",\"type\":\"Grid\"},{\"id\":\"1304\",\"type\":\"Grid\"}],\"left\":[{\"id\":\"1300\",\"type\":\"LinearAxis\"}],\"plot_height\":300,\"plot_width\":300,\"renderers\":[{\"id\":\"1315\",\"type\":\"GlyphRenderer\"}],\"title\":{\"id\":\"1349\",\"type\":\"Title\"},\"toolbar\":{\"id\":\"1308\",\"type\":\"Toolbar\"},\"toolbar_location\":null,\"x_range\":{\"id\":\"1287\",\"type\":\"DataRange1d\"},\"x_scale\":{\"id\":\"1291\",\"type\":\"LinearScale\"},\"y_range\":{\"id\":\"1289\",\"type\":\"DataRange1d\"},\"y_scale\":{\"id\":\"1293\",\"type\":\"LinearScale\"}},\"id\":\"1286\",\"subtype\":\"Figure\",\"type\":\"Plot\"},{\"attributes\":{\"source\":{\"id\":\"1285\",\"type\":\"ColumnDataSource\"}},\"id\":\"1347\",\"type\":\"CDSView\"},{\"attributes\":{\"formatter\":{\"id\":\"1353\",\"type\":\"BasicTickFormatter\"},\"ticker\":{\"id\":\"1296\",\"type\":\"BasicTicker\"}},\"id\":\"1295\",\"type\":\"LinearAxis\"},{\"attributes\":{\"fill_alpha\":{\"value\":0.1},\"fill_color\":{\"value\":\"#1f77b4\"},\"line_alpha\":{\"value\":0.1},\"line_color\":{\"value\":\"#1f77b4\"},\"x\":{\"field\":\"x\"},\"y\":{\"field\":\"y1\"}},\"id\":\"1345\",\"type\":\"Circle\"},{\"attributes\":{\"fill_alpha\":{\"value\":0.1},\"fill_color\":{\"value\":\"#1f77b4\"},\"line_alpha\":{\"value\":0.1},\"line_color\":{\"value\":\"#1f77b4\"},\"x\":{\"field\":\"x\"},\"y\":{\"field\":\"y0\"}},\"id\":\"1314\",\"type\":\"Circle\"},{\"attributes\":{\"callback\":null},\"id\":\"1289\",\"type\":\"DataRange1d\"},{\"attributes\":{},\"id\":\"1354\",\"type\":\"UnionRenderers\"},{\"attributes\":{\"fill_color\":{\"value\":\"#1f77b4\"},\"line_color\":{\"value\":\"#1f77b4\"},\"x\":{\"field\":\"x\"},\"y\":{\"field\":\"y0\"}},\"id\":\"1313\",\"type\":\"Circle\"},{\"attributes\":{\"children\":[[{\"id\":\"1286\",\"subtype\":\"Figure\",\"type\":\"Plot\"},0,0],[{\"id\":\"1317\",\"subtype\":\"Figure\",\"type\":\"Plot\"},0,1]]},\"id\":\"1370\",\"type\":\"GridBox\"},{\"attributes\":{\"below\":[{\"id\":\"1326\",\"type\":\"LinearAxis\"}],\"center\":[{\"id\":\"1330\",\"type\":\"Grid\"},{\"id\":\"1335\",\"type\":\"Grid\"}],\"left\":[{\"id\":\"1331\",\"type\":\"LinearAxis\"}],\"plot_height\":300,\"plot_width\":300,\"renderers\":[{\"id\":\"1346\",\"type\":\"GlyphRenderer\"}],\"title\":{\"id\":\"1360\",\"type\":\"Title\"},\"toolbar\":{\"id\":\"1339\",\"type\":\"Toolbar\"},\"toolbar_location\":null,\"x_range\":{\"id\":\"1318\",\"type\":\"DataRange1d\"},\"x_scale\":{\"id\":\"1322\",\"type\":\"LinearScale\"},\"y_range\":{\"id\":\"1320\",\"type\":\"DataRange1d\"},\"y_scale\":{\"id\":\"1324\",\"type\":\"LinearScale\"}},\"id\":\"1317\",\"subtype\":\"Figure\",\"type\":\"Plot\"},{\"attributes\":{\"formatter\":{\"id\":\"1351\",\"type\":\"BasicTickFormatter\"},\"ticker\":{\"id\":\"1301\",\"type\":\"BasicTicker\"}},\"id\":\"1300\",\"type\":\"LinearAxis\"},{\"attributes\":{},\"id\":\"1324\",\"type\":\"LinearScale\"},{\"attributes\":{\"formatter\":{\"id\":\"1364\",\"type\":\"BasicTickFormatter\"},\"ticker\":{\"id\":\"1327\",\"type\":\"BasicTicker\"}},\"id\":\"1326\",\"type\":\"LinearAxis\"},{\"attributes\":{\"callback\":null},\"id\":\"1287\",\"type\":\"DataRange1d\"},{\"attributes\":{\"formatter\":{\"id\":\"1362\",\"type\":\"BasicTickFormatter\"},\"ticker\":{\"id\":\"1332\",\"type\":\"BasicTicker\"}},\"id\":\"1331\",\"type\":\"LinearAxis\"},{\"attributes\":{},\"id\":\"1351\",\"type\":\"BasicTickFormatter\"},{\"attributes\":{},\"id\":\"1291\",\"type\":\"LinearScale\"},{\"attributes\":{},\"id\":\"1338\",\"type\":\"HelpTool\"},{\"attributes\":{\"data_source\":{\"id\":\"1285\",\"type\":\"ColumnDataSource\"},\"glyph\":{\"id\":\"1344\",\"type\":\"Circle\"},\"hover_glyph\":null,\"muted_glyph\":null,\"nonselection_glyph\":{\"id\":\"1345\",\"type\":\"Circle\"},\"selection_glyph\":null,\"view\":{\"id\":\"1347\",\"type\":\"CDSView\"}},\"id\":\"1346\",\"type\":\"GlyphRenderer\"},{\"attributes\":{\"callback\":null,\"overlay\":{\"id\":\"1368\",\"type\":\"PolyAnnotation\"}},\"id\":\"1337\",\"type\":\"LassoSelectTool\"}],\"root_ids\":[\"1373\"]},\"title\":\"Bokeh Application\",\"version\":\"1.3.4\"}};\n",
       "  var render_items = [{\"docid\":\"29bf098f-c232-4af1-9537-30ad64527126\",\"roots\":{\"1373\":\"49bba167-a41a-4eb0-9fb4-a966404f8e02\"}}];\n",
       "  root.Bokeh.embed.embed_items_notebook(docs_json, render_items);\n",
       "\n",
       "  }\n",
       "  if (root.Bokeh !== undefined) {\n",
       "    embed_document(root);\n",
       "  } else {\n",
       "    var attempts = 0;\n",
       "    var timer = setInterval(function(root) {\n",
       "      if (root.Bokeh !== undefined) {\n",
       "        embed_document(root);\n",
       "        clearInterval(timer);\n",
       "      }\n",
       "      attempts++;\n",
       "      if (attempts > 100) {\n",
       "        console.log(\"Bokeh: ERROR: Unable to run BokehJS code because BokehJS library is missing\");\n",
       "        clearInterval(timer);\n",
       "      }\n",
       "    }, 10, root)\n",
       "  }\n",
       "})(window);"
      ],
      "application/vnd.bokehjs_exec.v0+json": ""
     },
     "metadata": {
      "application/vnd.bokehjs_exec.v0+json": {
       "id": "1373"
      }
     },
     "output_type": "display_data"
    }
   ],
   "source": [
    "from bokeh.models import ColumnDataSource\n",
    "\n",
    "x = list(range(-20, 21))\n",
    "y0, y1 = [abs(xx) for xx in x], [xx**2 for xx in x]\n",
    "\n",
    "# create a column data source for the plots to share\n",
    "source = ColumnDataSource(data=dict(x=x, y0=y0, y1=y1))\n",
    "\n",
    "TOOLS = \"box_select,lasso_select,help\"\n",
    "\n",
    "# create a new plot and add a renderer\n",
    "left = figure(tools=TOOLS, width=300, height=300)\n",
    "left.circle('x', 'y0', source=source)\n",
    "\n",
    "# create another new plot and add a renderer\n",
    "right = figure(tools=TOOLS, width=300, height=300)\n",
    "right.circle('x', 'y1', source=source)\n",
    "\n",
    "p = gridplot([[left, right]])\n",
    "\n",
    "show(p)"
   ]
  },
  {
   "cell_type": "markdown",
   "metadata": {},
   "source": [
    "## Hover Tools\n",
    "\n",
    "Bokeh verfügt über ein Hover-Tool, mit dem zusätzliche Informationen in einem Popup angezeigt werden können, wenn der Mauszeiger über einer bestimmten Glyphe schwebt. Die grundlegende Konfiguration des Hover-Tools bedeutet, dass eine Liste von ``(name, format)``-Tupeln bereitgestellt wird. Die vollständigen Details findet ihr im [User’s Guide](http://bokeh.pydata.org/en/latest/docs/user_guide/tools.html#hovertool).\n",
    "\n",
    "Das folgende Beispiel zeigt einige grundlegende Anwendungen des Hover-Werkzeugs mit einer Kreis-Glyphe, wobei die in `utils.py` definierten Hover-Informationen verwendet werden:"
   ]
  },
  {
   "cell_type": "code",
   "execution_count": 4,
   "metadata": {},
   "outputs": [
    {
     "data": {
      "text/html": [
       "\n",
       "\n",
       "\n",
       "\n",
       "\n",
       "\n",
       "  <div class=\"bk-root\" id=\"a4434cb9-a1d8-4549-9b01-0c352b4875d0\" data-root-id=\"1528\"></div>\n"
      ]
     },
     "metadata": {},
     "output_type": "display_data"
    },
    {
     "data": {
      "application/javascript": [
       "(function(root) {\n",
       "  function embed_document(root) {\n",
       "    \n",
       "  var docs_json = {\"feb4ed03-8d85-4497-9f67-988bdab1294a\":{\"roots\":{\"references\":[{\"attributes\":{\"below\":[{\"id\":\"1539\",\"type\":\"LinearAxis\"}],\"center\":[{\"id\":\"1543\",\"type\":\"Grid\"},{\"id\":\"1548\",\"type\":\"Grid\"}],\"left\":[{\"id\":\"1544\",\"type\":\"LinearAxis\"}],\"plot_height\":300,\"plot_width\":300,\"renderers\":[{\"id\":\"1554\",\"type\":\"GlyphRenderer\"}],\"title\":{\"id\":\"1529\",\"type\":\"Title\"},\"toolbar\":{\"id\":\"1549\",\"type\":\"Toolbar\"},\"x_range\":{\"id\":\"1531\",\"type\":\"DataRange1d\"},\"x_scale\":{\"id\":\"1535\",\"type\":\"LinearScale\"},\"y_range\":{\"id\":\"1533\",\"type\":\"DataRange1d\"},\"y_scale\":{\"id\":\"1537\",\"type\":\"LinearScale\"}},\"id\":\"1528\",\"subtype\":\"Figure\",\"type\":\"Plot\"},{\"attributes\":{\"active_drag\":\"auto\",\"active_inspect\":\"auto\",\"active_multi\":null,\"active_scroll\":\"auto\",\"active_tap\":\"auto\",\"tools\":[{\"id\":\"1527\",\"type\":\"HoverTool\"}]},\"id\":\"1549\",\"type\":\"Toolbar\"},{\"attributes\":{},\"id\":\"1545\",\"type\":\"BasicTicker\"},{\"attributes\":{\"formatter\":{\"id\":\"1600\",\"type\":\"BasicTickFormatter\"},\"ticker\":{\"id\":\"1545\",\"type\":\"BasicTicker\"}},\"id\":\"1544\",\"type\":\"LinearAxis\"},{\"attributes\":{},\"id\":\"1602\",\"type\":\"BasicTickFormatter\"},{\"attributes\":{\"callback\":null,\"data\":{\"desc\":[\"A\",\"b\",\"C\",\"d\",\"E\"],\"x\":[1,2,3,4,5],\"y\":[2,5,8,2,7]},\"selected\":{\"id\":\"1604\",\"type\":\"Selection\"},\"selection_policy\":{\"id\":\"1603\",\"type\":\"UnionRenderers\"}},\"id\":\"1526\",\"type\":\"ColumnDataSource\"},{\"attributes\":{\"ticker\":{\"id\":\"1540\",\"type\":\"BasicTicker\"}},\"id\":\"1543\",\"type\":\"Grid\"},{\"attributes\":{\"callback\":null,\"tooltips\":[[\"index\",\"$index\"],[\"(x,y)\",\"($x, $y)\"],[\"desc\",\"@desc\"]]},\"id\":\"1527\",\"type\":\"HoverTool\"},{\"attributes\":{\"fill_alpha\":{\"value\":0.1},\"fill_color\":{\"value\":\"#1f77b4\"},\"line_alpha\":{\"value\":0.1},\"line_color\":{\"value\":\"#1f77b4\"},\"size\":{\"units\":\"screen\",\"value\":20},\"x\":{\"field\":\"x\"},\"y\":{\"field\":\"y\"}},\"id\":\"1553\",\"type\":\"Circle\"},{\"attributes\":{\"data_source\":{\"id\":\"1526\",\"type\":\"ColumnDataSource\"},\"glyph\":{\"id\":\"1552\",\"type\":\"Circle\"},\"hover_glyph\":null,\"muted_glyph\":null,\"nonselection_glyph\":{\"id\":\"1553\",\"type\":\"Circle\"},\"selection_glyph\":null,\"view\":{\"id\":\"1555\",\"type\":\"CDSView\"}},\"id\":\"1554\",\"type\":\"GlyphRenderer\"},{\"attributes\":{\"fill_color\":{\"value\":\"#1f77b4\"},\"line_color\":{\"value\":\"#1f77b4\"},\"size\":{\"units\":\"screen\",\"value\":20},\"x\":{\"field\":\"x\"},\"y\":{\"field\":\"y\"}},\"id\":\"1552\",\"type\":\"Circle\"},{\"attributes\":{},\"id\":\"1604\",\"type\":\"Selection\"},{\"attributes\":{},\"id\":\"1537\",\"type\":\"LinearScale\"},{\"attributes\":{\"text\":\"Mouse over the dots\"},\"id\":\"1529\",\"type\":\"Title\"},{\"attributes\":{},\"id\":\"1603\",\"type\":\"UnionRenderers\"},{\"attributes\":{\"callback\":null},\"id\":\"1531\",\"type\":\"DataRange1d\"},{\"attributes\":{\"source\":{\"id\":\"1526\",\"type\":\"ColumnDataSource\"}},\"id\":\"1555\",\"type\":\"CDSView\"},{\"attributes\":{\"callback\":null},\"id\":\"1533\",\"type\":\"DataRange1d\"},{\"attributes\":{},\"id\":\"1600\",\"type\":\"BasicTickFormatter\"},{\"attributes\":{},\"id\":\"1535\",\"type\":\"LinearScale\"},{\"attributes\":{},\"id\":\"1540\",\"type\":\"BasicTicker\"},{\"attributes\":{\"formatter\":{\"id\":\"1602\",\"type\":\"BasicTickFormatter\"},\"ticker\":{\"id\":\"1540\",\"type\":\"BasicTicker\"}},\"id\":\"1539\",\"type\":\"LinearAxis\"},{\"attributes\":{\"dimension\":1,\"ticker\":{\"id\":\"1545\",\"type\":\"BasicTicker\"}},\"id\":\"1548\",\"type\":\"Grid\"}],\"root_ids\":[\"1528\"]},\"title\":\"Bokeh Application\",\"version\":\"1.3.4\"}};\n",
       "  var render_items = [{\"docid\":\"feb4ed03-8d85-4497-9f67-988bdab1294a\",\"roots\":{\"1528\":\"a4434cb9-a1d8-4549-9b01-0c352b4875d0\"}}];\n",
       "  root.Bokeh.embed.embed_items_notebook(docs_json, render_items);\n",
       "\n",
       "  }\n",
       "  if (root.Bokeh !== undefined) {\n",
       "    embed_document(root);\n",
       "  } else {\n",
       "    var attempts = 0;\n",
       "    var timer = setInterval(function(root) {\n",
       "      if (root.Bokeh !== undefined) {\n",
       "        embed_document(root);\n",
       "        clearInterval(timer);\n",
       "      }\n",
       "      attempts++;\n",
       "      if (attempts > 100) {\n",
       "        console.log(\"Bokeh: ERROR: Unable to run BokehJS code because BokehJS library is missing\");\n",
       "        clearInterval(timer);\n",
       "      }\n",
       "    }, 10, root)\n",
       "  }\n",
       "})(window);"
      ],
      "application/vnd.bokehjs_exec.v0+json": ""
     },
     "metadata": {
      "application/vnd.bokehjs_exec.v0+json": {
       "id": "1528"
      }
     },
     "output_type": "display_data"
    }
   ],
   "source": [
    "from bokeh.models import HoverTool\n",
    "\n",
    "source = ColumnDataSource(\n",
    "        data=dict(\n",
    "            x=[1, 2, 3, 4, 5],\n",
    "            y=[2, 5, 8, 2, 7],\n",
    "            desc=['A', 'b', 'C', 'd', 'E'],\n",
    "        )\n",
    "    )\n",
    "\n",
    "hover = HoverTool(\n",
    "        tooltips=[\n",
    "            (\"index\", \"$index\"),\n",
    "            (\"(x,y)\", \"($x, $y)\"),\n",
    "            (\"desc\", \"@desc\"),\n",
    "        ]\n",
    "    )\n",
    "\n",
    "p = figure(plot_width=300, plot_height=300, tools=[hover], title=\"Mouse over the dots\")\n",
    "\n",
    "p.circle('x', 'y', size=20, source=source)\n",
    "\n",
    "show(p)"
   ]
  },
  {
   "cell_type": "markdown",
   "metadata": {},
   "source": [
    "## Widgets\n",
    "\n",
    "Bokeh unterstützt die direkte Integration mit einem kleinen grundlegenden Widget-Set. Dies kann in Verbindung mit einem Bokeh-Server oder mit `` CustomJS``-Modellen verwendet werden, um eure Dokumente interaktiver zu gestalten. Eine vollständige Liste mit Beispielcode findet ihr im Abschnitt [Adding Widgets](http://bokeh.pydata.org/en/latest/docs/user_guide/interaction.html#adding-widgets) des Benutzerhandbuchs.\n",
    "\n",
    "Um die Widgets zu verwenden, fügt sie wie ein Plotobjekt in ein Layout ein:"
   ]
  },
  {
   "cell_type": "code",
   "execution_count": 5,
   "metadata": {},
   "outputs": [
    {
     "data": {
      "text/html": [
       "\n",
       "\n",
       "\n",
       "\n",
       "\n",
       "\n",
       "  <div class=\"bk-root\" id=\"7f1c0ce2-2068-43d5-8a28-d7e9f88755c0\" data-root-id=\"1648\"></div>\n"
      ]
     },
     "metadata": {},
     "output_type": "display_data"
    },
    {
     "data": {
      "application/javascript": [
       "(function(root) {\n",
       "  function embed_document(root) {\n",
       "    \n",
       "  var docs_json = {\"fa4bca32-3108-4262-b078-fa3c9382cb19\":{\"roots\":{\"references\":[{\"attributes\":{\"children\":[{\"id\":\"1647\",\"type\":\"Slider\"}]},\"id\":\"1648\",\"type\":\"Column\"},{\"attributes\":{\"callback\":null,\"end\":10,\"start\":0,\"step\":0.1,\"title\":\"foo\",\"value\":1},\"id\":\"1647\",\"type\":\"Slider\"}],\"root_ids\":[\"1648\"]},\"title\":\"Bokeh Application\",\"version\":\"1.3.4\"}};\n",
       "  var render_items = [{\"docid\":\"fa4bca32-3108-4262-b078-fa3c9382cb19\",\"roots\":{\"1648\":\"7f1c0ce2-2068-43d5-8a28-d7e9f88755c0\"}}];\n",
       "  root.Bokeh.embed.embed_items_notebook(docs_json, render_items);\n",
       "\n",
       "  }\n",
       "  if (root.Bokeh !== undefined) {\n",
       "    embed_document(root);\n",
       "  } else {\n",
       "    var attempts = 0;\n",
       "    var timer = setInterval(function(root) {\n",
       "      if (root.Bokeh !== undefined) {\n",
       "        embed_document(root);\n",
       "        clearInterval(timer);\n",
       "      }\n",
       "      attempts++;\n",
       "      if (attempts > 100) {\n",
       "        console.log(\"Bokeh: ERROR: Unable to run BokehJS code because BokehJS library is missing\");\n",
       "        clearInterval(timer);\n",
       "      }\n",
       "    }, 10, root)\n",
       "  }\n",
       "})(window);"
      ],
      "application/vnd.bokehjs_exec.v0+json": ""
     },
     "metadata": {
      "application/vnd.bokehjs_exec.v0+json": {
       "id": "1648"
      }
     },
     "output_type": "display_data"
    }
   ],
   "source": [
    "from bokeh.models import Column\n",
    "from bokeh.models.widgets import Slider\n",
    "\n",
    "slider = Slider(start=0, end=10, value=1, step=.1, title=\"foo\")\n",
    "\n",
    "show(Column(slider))"
   ]
  },
  {
   "cell_type": "markdown",
   "metadata": {},
   "source": [
    "## CustomJS Callbacks\n",
    "\n",
    "Damit ein Widget nützlich wird, muss es Aktionen ausführen können. Mit Hilfe des Bokeh-Servers können Widgets echten Python-Code ausführen. Diese Möglichkeit wird unter [Bokeh-Server](bokeh-server.ipynb) erläutert. Hier betrachten wir, wie Widgets mit CustomJS-Callbacks konfiguriert werden können, die JavaScript-Code-Snippets ausführen."
   ]
  },
  {
   "cell_type": "code",
   "execution_count": 6,
   "metadata": {},
   "outputs": [
    {
     "data": {
      "text/html": [
       "\n",
       "\n",
       "\n",
       "\n",
       "\n",
       "\n",
       "  <div class=\"bk-root\" id=\"66249902-bfc6-4366-aebd-a5a9cd53e871\" data-root-id=\"1700\"></div>\n"
      ]
     },
     "metadata": {},
     "output_type": "display_data"
    },
    {
     "data": {
      "application/javascript": [
       "(function(root) {\n",
       "  function embed_document(root) {\n",
       "    \n",
       "  var docs_json = {\"b2bd106c-40b9-4d5c-8cc3-429fc1055470\":{\"roots\":{\"references\":[{\"attributes\":{\"below\":[{\"id\":\"1709\",\"type\":\"LinearAxis\"}],\"center\":[{\"id\":\"1713\",\"type\":\"Grid\"},{\"id\":\"1718\",\"type\":\"Grid\"}],\"left\":[{\"id\":\"1714\",\"type\":\"LinearAxis\"}],\"plot_height\":300,\"renderers\":[{\"id\":\"1724\",\"type\":\"GlyphRenderer\"}],\"title\":{\"id\":\"1776\",\"type\":\"Title\"},\"toolbar\":{\"id\":\"1719\",\"type\":\"Toolbar\"},\"x_range\":{\"id\":\"1701\",\"type\":\"DataRange1d\"},\"x_scale\":{\"id\":\"1705\",\"type\":\"LinearScale\"},\"y_range\":{\"id\":\"1703\",\"type\":\"DataRange1d\"},\"y_scale\":{\"id\":\"1707\",\"type\":\"LinearScale\"}},\"id\":\"1700\",\"subtype\":\"Figure\",\"type\":\"Plot\"},{\"attributes\":{\"fill_alpha\":{\"value\":0.1},\"fill_color\":{\"value\":\"#1f77b4\"},\"line_alpha\":{\"value\":0.1},\"line_color\":{\"value\":\"#1f77b4\"},\"size\":{\"units\":\"screen\",\"value\":20},\"x\":{\"field\":\"x\"},\"y\":{\"field\":\"y\"}},\"id\":\"1723\",\"type\":\"Circle\"},{\"attributes\":{\"callback\":null,\"data\":{\"x\":[1,2,3,4,5],\"y\":[2,5,8,2,7]},\"selected\":{\"id\":\"1782\",\"type\":\"Selection\"},\"selection_policy\":{\"id\":\"1781\",\"type\":\"UnionRenderers\"}},\"id\":\"1721\",\"type\":\"ColumnDataSource\"},{\"attributes\":{\"data_source\":{\"id\":\"1721\",\"type\":\"ColumnDataSource\"},\"glyph\":{\"id\":\"1722\",\"type\":\"Circle\"},\"hover_glyph\":null,\"muted_glyph\":null,\"nonselection_glyph\":{\"id\":\"1723\",\"type\":\"Circle\"},\"selection_glyph\":null,\"view\":{\"id\":\"1725\",\"type\":\"CDSView\"}},\"id\":\"1724\",\"type\":\"GlyphRenderer\"},{\"attributes\":{\"source\":{\"id\":\"1721\",\"type\":\"ColumnDataSource\"}},\"id\":\"1725\",\"type\":\"CDSView\"},{\"attributes\":{\"callback\":{\"id\":\"1698\",\"type\":\"CustomJS\"}},\"id\":\"1699\",\"type\":\"TapTool\"},{\"attributes\":{\"callback\":null},\"id\":\"1701\",\"type\":\"DataRange1d\"},{\"attributes\":{\"callback\":null},\"id\":\"1703\",\"type\":\"DataRange1d\"},{\"attributes\":{},\"id\":\"1778\",\"type\":\"BasicTickFormatter\"},{\"attributes\":{},\"id\":\"1705\",\"type\":\"LinearScale\"},{\"attributes\":{},\"id\":\"1780\",\"type\":\"BasicTickFormatter\"},{\"attributes\":{},\"id\":\"1707\",\"type\":\"LinearScale\"},{\"attributes\":{},\"id\":\"1781\",\"type\":\"UnionRenderers\"},{\"attributes\":{\"formatter\":{\"id\":\"1780\",\"type\":\"BasicTickFormatter\"},\"ticker\":{\"id\":\"1710\",\"type\":\"BasicTicker\"}},\"id\":\"1709\",\"type\":\"LinearAxis\"},{\"attributes\":{},\"id\":\"1782\",\"type\":\"Selection\"},{\"attributes\":{},\"id\":\"1710\",\"type\":\"BasicTicker\"},{\"attributes\":{\"ticker\":{\"id\":\"1710\",\"type\":\"BasicTicker\"}},\"id\":\"1713\",\"type\":\"Grid\"},{\"attributes\":{\"formatter\":{\"id\":\"1778\",\"type\":\"BasicTickFormatter\"},\"ticker\":{\"id\":\"1715\",\"type\":\"BasicTicker\"}},\"id\":\"1714\",\"type\":\"LinearAxis\"},{\"attributes\":{},\"id\":\"1715\",\"type\":\"BasicTicker\"},{\"attributes\":{\"dimension\":1,\"ticker\":{\"id\":\"1715\",\"type\":\"BasicTicker\"}},\"id\":\"1718\",\"type\":\"Grid\"},{\"attributes\":{\"code\":\"alert('you tapped a circle!')\"},\"id\":\"1698\",\"type\":\"CustomJS\"},{\"attributes\":{\"text\":\"\"},\"id\":\"1776\",\"type\":\"Title\"},{\"attributes\":{\"active_drag\":\"auto\",\"active_inspect\":\"auto\",\"active_multi\":null,\"active_scroll\":\"auto\",\"active_tap\":\"auto\",\"tools\":[{\"id\":\"1699\",\"type\":\"TapTool\"}]},\"id\":\"1719\",\"type\":\"Toolbar\"},{\"attributes\":{\"fill_color\":{\"value\":\"#1f77b4\"},\"line_color\":{\"value\":\"#1f77b4\"},\"size\":{\"units\":\"screen\",\"value\":20},\"x\":{\"field\":\"x\"},\"y\":{\"field\":\"y\"}},\"id\":\"1722\",\"type\":\"Circle\"}],\"root_ids\":[\"1700\"]},\"title\":\"Bokeh Application\",\"version\":\"1.3.4\"}};\n",
       "  var render_items = [{\"docid\":\"b2bd106c-40b9-4d5c-8cc3-429fc1055470\",\"roots\":{\"1700\":\"66249902-bfc6-4366-aebd-a5a9cd53e871\"}}];\n",
       "  root.Bokeh.embed.embed_items_notebook(docs_json, render_items);\n",
       "\n",
       "  }\n",
       "  if (root.Bokeh !== undefined) {\n",
       "    embed_document(root);\n",
       "  } else {\n",
       "    var attempts = 0;\n",
       "    var timer = setInterval(function(root) {\n",
       "      if (root.Bokeh !== undefined) {\n",
       "        embed_document(root);\n",
       "        clearInterval(timer);\n",
       "      }\n",
       "      attempts++;\n",
       "      if (attempts > 100) {\n",
       "        console.log(\"Bokeh: ERROR: Unable to run BokehJS code because BokehJS library is missing\");\n",
       "        clearInterval(timer);\n",
       "      }\n",
       "    }, 10, root)\n",
       "  }\n",
       "})(window);"
      ],
      "application/vnd.bokehjs_exec.v0+json": ""
     },
     "metadata": {
      "application/vnd.bokehjs_exec.v0+json": {
       "id": "1700"
      }
     },
     "output_type": "display_data"
    }
   ],
   "source": [
    "from bokeh.models import TapTool, CustomJS, ColumnDataSource\n",
    "\n",
    "callback = CustomJS(code=\"alert('you tapped a circle!')\")\n",
    "tap = TapTool(callback=callback)\n",
    "\n",
    "p = figure(plot_width=600, plot_height=300, tools=[tap])\n",
    "\n",
    "p.circle(x=[1, 2, 3, 4, 5], y=[2, 5, 8, 2, 7], size=20)\n",
    "\n",
    "show(p)"
   ]
  },
  {
   "cell_type": "markdown",
   "metadata": {},
   "source": [
    "#### Beispiel für ein Slider-Widget\n",
    "\n",
    "Das folgende Beispiel zeigt eine an einen Slider angehängte Aktion, mit der eine Datenquelle aktualisiert wird."
   ]
  },
  {
   "cell_type": "code",
   "execution_count": 7,
   "metadata": {},
   "outputs": [
    {
     "data": {
      "text/html": [
       "\n",
       "\n",
       "\n",
       "\n",
       "\n",
       "\n",
       "  <div class=\"bk-root\" id=\"de927fe5-bcda-4fb6-aaa4-d25376562281\" data-root-id=\"1871\"></div>\n"
      ]
     },
     "metadata": {},
     "output_type": "display_data"
    },
    {
     "data": {
      "application/javascript": [
       "(function(root) {\n",
       "  function embed_document(root) {\n",
       "    \n",
       "  var docs_json = {\"268c1bc1-fe98-4b92-b9d3-7ebb4fd1d389\":{\"roots\":{\"references\":[{\"attributes\":{\"children\":[{\"id\":\"1869\",\"type\":\"Slider\"},{\"id\":\"1832\",\"subtype\":\"Figure\",\"type\":\"Plot\"}]},\"id\":\"1871\",\"type\":\"Column\"},{\"attributes\":{\"source\":{\"id\":\"1831\",\"type\":\"ColumnDataSource\"}},\"id\":\"1868\",\"type\":\"CDSView\"},{\"attributes\":{\"formatter\":{\"id\":\"1934\",\"type\":\"BasicTickFormatter\"},\"ticker\":{\"id\":\"1842\",\"type\":\"BasicTicker\"}},\"id\":\"1841\",\"type\":\"LinearAxis\"},{\"attributes\":{\"text\":\"\"},\"id\":\"1930\",\"type\":\"Title\"},{\"attributes\":{\"args\":{\"slider\":{\"id\":\"1869\",\"type\":\"Slider\"},\"source\":{\"id\":\"1831\",\"type\":\"ColumnDataSource\"}},\"code\":\"\\n    var data = source.data;\\n    var f = slider.value;\\n    x = data['x']\\n    y = data['y']\\n    for (i = 0; i < x.length; i++) {\\n        y[i] = Math.pow(x[i], f)\\n    }\\n    \\n    // necessary becasue we mutated source.data in-place\\n    source.change.emit();\\n\"},\"id\":\"1870\",\"type\":\"CustomJS\"},{\"attributes\":{},\"id\":\"1842\",\"type\":\"BasicTicker\"},{\"attributes\":{\"ticker\":{\"id\":\"1842\",\"type\":\"BasicTicker\"}},\"id\":\"1845\",\"type\":\"Grid\"},{\"attributes\":{\"formatter\":{\"id\":\"1932\",\"type\":\"BasicTickFormatter\"},\"ticker\":{\"id\":\"1847\",\"type\":\"BasicTicker\"}},\"id\":\"1846\",\"type\":\"LinearAxis\"},{\"attributes\":{},\"id\":\"1847\",\"type\":\"BasicTicker\"},{\"attributes\":{\"dimension\":1,\"ticker\":{\"id\":\"1847\",\"type\":\"BasicTicker\"}},\"id\":\"1850\",\"type\":\"Grid\"},{\"attributes\":{\"bottom_units\":\"screen\",\"fill_alpha\":{\"value\":0.5},\"fill_color\":{\"value\":\"lightgrey\"},\"left_units\":\"screen\",\"level\":\"overlay\",\"line_alpha\":{\"value\":1.0},\"line_color\":{\"value\":\"black\"},\"line_dash\":[4,4],\"line_width\":{\"value\":2},\"render_mode\":\"css\",\"right_units\":\"screen\",\"top_units\":\"screen\"},\"id\":\"1937\",\"type\":\"BoxAnnotation\"},{\"attributes\":{\"line_alpha\":0.6,\"line_color\":\"#1f77b4\",\"line_width\":3,\"x\":{\"field\":\"x\"},\"y\":{\"field\":\"y\"}},\"id\":\"1865\",\"type\":\"Line\"},{\"attributes\":{\"callback\":null,\"end\":6,\"js_property_callbacks\":{\"change:value\":[{\"id\":\"1870\",\"type\":\"CustomJS\"}]},\"start\":0.1,\"step\":0.1,\"title\":\"power\",\"value\":1},\"id\":\"1869\",\"type\":\"Slider\"},{\"attributes\":{\"data_source\":{\"id\":\"1831\",\"type\":\"ColumnDataSource\"},\"glyph\":{\"id\":\"1865\",\"type\":\"Line\"},\"hover_glyph\":null,\"muted_glyph\":null,\"nonselection_glyph\":{\"id\":\"1866\",\"type\":\"Line\"},\"selection_glyph\":null,\"view\":{\"id\":\"1868\",\"type\":\"CDSView\"}},\"id\":\"1867\",\"type\":\"GlyphRenderer\"},{\"attributes\":{},\"id\":\"1851\",\"type\":\"PanTool\"},{\"attributes\":{\"callback\":null,\"data\":{\"x\":[0.0,0.005,0.01,0.015,0.02,0.025,0.03,0.035,0.04,0.045,0.05,0.055,0.06,0.065,0.07,0.075,0.08,0.085,0.09,0.095,0.1,0.105,0.11,0.115,0.12,0.125,0.13,0.135,0.14,0.145,0.15,0.155,0.16,0.165,0.17,0.17500000000000002,0.18,0.185,0.19,0.195,0.2,0.20500000000000002,0.21,0.215,0.22,0.225,0.23,0.23500000000000001,0.24,0.245,0.25,0.255,0.26,0.265,0.27,0.275,0.28,0.28500000000000003,0.29,0.295,0.3,0.305,0.31,0.315,0.32,0.325,0.33,0.335,0.34,0.34500000000000003,0.35000000000000003,0.355,0.36,0.365,0.37,0.375,0.38,0.385,0.39,0.395,0.4,0.405,0.41000000000000003,0.41500000000000004,0.42,0.425,0.43,0.435,0.44,0.445,0.45,0.455,0.46,0.465,0.47000000000000003,0.47500000000000003,0.48,0.485,0.49,0.495,0.5,0.505,0.51,0.515,0.52,0.525,0.53,0.535,0.54,0.545,0.55,0.555,0.56,0.5650000000000001,0.5700000000000001,0.5750000000000001,0.58,0.585,0.59,0.595,0.6,0.605,0.61,0.615,0.62,0.625,0.63,0.635,0.64,0.645,0.65,0.655,0.66,0.665,0.67,0.675,0.68,0.685,0.6900000000000001,0.6950000000000001,0.7000000000000001,0.705,0.71,0.715,0.72,0.725,0.73,0.735,0.74,0.745,0.75,0.755,0.76,0.765,0.77,0.775,0.78,0.785,0.79,0.795,0.8,0.805,0.81,0.8150000000000001,0.8200000000000001,0.8250000000000001,0.8300000000000001,0.835,0.84,0.845,0.85,0.855,0.86,0.865,0.87,0.875,0.88,0.885,0.89,0.895,0.9,0.905,0.91,0.915,0.92,0.925,0.93,0.935,0.9400000000000001,0.9450000000000001,0.9500000000000001,0.9550000000000001,0.96,0.965,0.97,0.975,0.98,0.985,0.99,0.995,1.0],\"y\":[0.0,0.005,0.01,0.015,0.02,0.025,0.03,0.035,0.04,0.045,0.05,0.055,0.06,0.065,0.07,0.075,0.08,0.085,0.09,0.095,0.1,0.105,0.11,0.115,0.12,0.125,0.13,0.135,0.14,0.145,0.15,0.155,0.16,0.165,0.17,0.17500000000000002,0.18,0.185,0.19,0.195,0.2,0.20500000000000002,0.21,0.215,0.22,0.225,0.23,0.23500000000000001,0.24,0.245,0.25,0.255,0.26,0.265,0.27,0.275,0.28,0.28500000000000003,0.29,0.295,0.3,0.305,0.31,0.315,0.32,0.325,0.33,0.335,0.34,0.34500000000000003,0.35000000000000003,0.355,0.36,0.365,0.37,0.375,0.38,0.385,0.39,0.395,0.4,0.405,0.41000000000000003,0.41500000000000004,0.42,0.425,0.43,0.435,0.44,0.445,0.45,0.455,0.46,0.465,0.47000000000000003,0.47500000000000003,0.48,0.485,0.49,0.495,0.5,0.505,0.51,0.515,0.52,0.525,0.53,0.535,0.54,0.545,0.55,0.555,0.56,0.5650000000000001,0.5700000000000001,0.5750000000000001,0.58,0.585,0.59,0.595,0.6,0.605,0.61,0.615,0.62,0.625,0.63,0.635,0.64,0.645,0.65,0.655,0.66,0.665,0.67,0.675,0.68,0.685,0.6900000000000001,0.6950000000000001,0.7000000000000001,0.705,0.71,0.715,0.72,0.725,0.73,0.735,0.74,0.745,0.75,0.755,0.76,0.765,0.77,0.775,0.78,0.785,0.79,0.795,0.8,0.805,0.81,0.8150000000000001,0.8200000000000001,0.8250000000000001,0.8300000000000001,0.835,0.84,0.845,0.85,0.855,0.86,0.865,0.87,0.875,0.88,0.885,0.89,0.895,0.9,0.905,0.91,0.915,0.92,0.925,0.93,0.935,0.9400000000000001,0.9450000000000001,0.9500000000000001,0.9550000000000001,0.96,0.965,0.97,0.975,0.98,0.985,0.99,0.995,1.0]},\"selected\":{\"id\":\"1936\",\"type\":\"Selection\"},\"selection_policy\":{\"id\":\"1935\",\"type\":\"UnionRenderers\"}},\"id\":\"1831\",\"type\":\"ColumnDataSource\"},{\"attributes\":{},\"id\":\"1852\",\"type\":\"WheelZoomTool\"},{\"attributes\":{\"below\":[{\"id\":\"1841\",\"type\":\"LinearAxis\"}],\"center\":[{\"id\":\"1845\",\"type\":\"Grid\"},{\"id\":\"1850\",\"type\":\"Grid\"}],\"left\":[{\"id\":\"1846\",\"type\":\"LinearAxis\"}],\"plot_height\":400,\"plot_width\":400,\"renderers\":[{\"id\":\"1867\",\"type\":\"GlyphRenderer\"}],\"title\":{\"id\":\"1930\",\"type\":\"Title\"},\"toolbar\":{\"id\":\"1857\",\"type\":\"Toolbar\"},\"x_range\":{\"id\":\"1833\",\"type\":\"DataRange1d\"},\"x_scale\":{\"id\":\"1837\",\"type\":\"LinearScale\"},\"y_range\":{\"id\":\"1835\",\"type\":\"DataRange1d\"},\"y_scale\":{\"id\":\"1839\",\"type\":\"LinearScale\"}},\"id\":\"1832\",\"subtype\":\"Figure\",\"type\":\"Plot\"},{\"attributes\":{\"overlay\":{\"id\":\"1937\",\"type\":\"BoxAnnotation\"}},\"id\":\"1853\",\"type\":\"BoxZoomTool\"},{\"attributes\":{},\"id\":\"1936\",\"type\":\"Selection\"},{\"attributes\":{},\"id\":\"1854\",\"type\":\"SaveTool\"},{\"attributes\":{\"line_alpha\":0.1,\"line_color\":\"#1f77b4\",\"line_width\":3,\"x\":{\"field\":\"x\"},\"y\":{\"field\":\"y\"}},\"id\":\"1866\",\"type\":\"Line\"},{\"attributes\":{},\"id\":\"1855\",\"type\":\"ResetTool\"},{\"attributes\":{},\"id\":\"1932\",\"type\":\"BasicTickFormatter\"},{\"attributes\":{},\"id\":\"1934\",\"type\":\"BasicTickFormatter\"},{\"attributes\":{\"callback\":null},\"id\":\"1833\",\"type\":\"DataRange1d\"},{\"attributes\":{},\"id\":\"1856\",\"type\":\"HelpTool\"},{\"attributes\":{\"callback\":null},\"id\":\"1835\",\"type\":\"DataRange1d\"},{\"attributes\":{\"active_drag\":\"auto\",\"active_inspect\":\"auto\",\"active_multi\":null,\"active_scroll\":\"auto\",\"active_tap\":\"auto\",\"tools\":[{\"id\":\"1851\",\"type\":\"PanTool\"},{\"id\":\"1852\",\"type\":\"WheelZoomTool\"},{\"id\":\"1853\",\"type\":\"BoxZoomTool\"},{\"id\":\"1854\",\"type\":\"SaveTool\"},{\"id\":\"1855\",\"type\":\"ResetTool\"},{\"id\":\"1856\",\"type\":\"HelpTool\"}]},\"id\":\"1857\",\"type\":\"Toolbar\"},{\"attributes\":{},\"id\":\"1935\",\"type\":\"UnionRenderers\"},{\"attributes\":{},\"id\":\"1837\",\"type\":\"LinearScale\"},{\"attributes\":{},\"id\":\"1839\",\"type\":\"LinearScale\"}],\"root_ids\":[\"1871\"]},\"title\":\"Bokeh Application\",\"version\":\"1.3.4\"}};\n",
       "  var render_items = [{\"docid\":\"268c1bc1-fe98-4b92-b9d3-7ebb4fd1d389\",\"roots\":{\"1871\":\"de927fe5-bcda-4fb6-aaa4-d25376562281\"}}];\n",
       "  root.Bokeh.embed.embed_items_notebook(docs_json, render_items);\n",
       "\n",
       "  }\n",
       "  if (root.Bokeh !== undefined) {\n",
       "    embed_document(root);\n",
       "  } else {\n",
       "    var attempts = 0;\n",
       "    var timer = setInterval(function(root) {\n",
       "      if (root.Bokeh !== undefined) {\n",
       "        embed_document(root);\n",
       "        clearInterval(timer);\n",
       "      }\n",
       "      attempts++;\n",
       "      if (attempts > 100) {\n",
       "        console.log(\"Bokeh: ERROR: Unable to run BokehJS code because BokehJS library is missing\");\n",
       "        clearInterval(timer);\n",
       "      }\n",
       "    }, 10, root)\n",
       "  }\n",
       "})(window);"
      ],
      "application/vnd.bokehjs_exec.v0+json": ""
     },
     "metadata": {
      "application/vnd.bokehjs_exec.v0+json": {
       "id": "1871"
      }
     },
     "output_type": "display_data"
    }
   ],
   "source": [
    "from bokeh.layouts import column\n",
    "from bokeh.models import CustomJS, ColumnDataSource, Slider\n",
    "\n",
    "x = [x*0.005 for x in range(0, 201)]\n",
    "\n",
    "source = ColumnDataSource(data=dict(x=x, y=x))\n",
    "\n",
    "plot = figure(plot_width=400, plot_height=400)\n",
    "plot.line('x', 'y', source=source, line_width=3, line_alpha=0.6)\n",
    "\n",
    "slider = Slider(start=0.1, end=6, value=1, step=.1, title=\"power\")\n",
    "\n",
    "update_curve = CustomJS(args=dict(source=source, slider=slider), code=\"\"\"\n",
    "    var data = source.data;\n",
    "    var f = slider.value;\n",
    "    x = data['x']\n",
    "    y = data['y']\n",
    "    for (i = 0; i < x.length; i++) {\n",
    "        y[i] = Math.pow(x[i], f)\n",
    "    }\n",
    "    \n",
    "    // necessary becasue we mutated source.data in-place\n",
    "    source.change.emit();\n",
    "\"\"\")\n",
    "slider.js_on_change('value', update_curve)\n",
    "\n",
    "\n",
    "show(column(slider, plot))"
   ]
  },
  {
   "cell_type": "markdown",
   "metadata": {},
   "source": [
    "#### Beispiel für die Datenauswahl\n",
    "\n",
    "Es ist auch möglich, JavaScript-Aktionen auszuführen, wenn sich eine Benutzerauswahl (z.B. Box, Punkt, Lasso) ändert. Dies geschieht durch Anhängen derselben Art von CustomJS-Objekt an die Datenquelle, für die die Auswahl getroffen wird.\n",
    "\n",
    "Das folgende Beispiel ist etwas komplexer und zeigt die Aktualisierung einer Datenquelle einer Glyphe als Reaktion auf die Auswahl einer anderen Glyphe:"
   ]
  },
  {
   "cell_type": "code",
   "execution_count": 8,
   "metadata": {},
   "outputs": [
    {
     "data": {
      "text/html": [
       "\n",
       "\n",
       "\n",
       "\n",
       "\n",
       "\n",
       "  <div class=\"bk-root\" id=\"7e273630-67a9-4962-8230-0ae1c8b0714c\" data-root-id=\"1993\"></div>\n"
      ]
     },
     "metadata": {},
     "output_type": "display_data"
    },
    {
     "data": {
      "application/javascript": [
       "(function(root) {\n",
       "  function embed_document(root) {\n",
       "    \n",
       "  var docs_json = {\"6f21f4b7-9edb-439e-899b-08459a6b8c67\":{\"roots\":{\"references\":[{\"attributes\":{\"below\":[{\"id\":\"2004\",\"type\":\"LinearAxis\"}],\"center\":[{\"id\":\"2008\",\"type\":\"Grid\"},{\"id\":\"2013\",\"type\":\"Grid\"}],\"left\":[{\"id\":\"2009\",\"type\":\"LinearAxis\"}],\"plot_height\":400,\"plot_width\":400,\"renderers\":[{\"id\":\"2021\",\"type\":\"GlyphRenderer\"},{\"id\":\"2027\",\"type\":\"GlyphRenderer\"}],\"title\":{\"id\":\"1994\",\"type\":\"Title\"},\"toolbar\":{\"id\":\"2015\",\"type\":\"Toolbar\"},\"x_range\":{\"id\":\"1996\",\"type\":\"DataRange1d\"},\"x_scale\":{\"id\":\"2000\",\"type\":\"LinearScale\"},\"y_range\":{\"id\":\"1998\",\"type\":\"DataRange1d\"},\"y_scale\":{\"id\":\"2002\",\"type\":\"LinearScale\"}},\"id\":\"1993\",\"subtype\":\"Figure\",\"type\":\"Plot\"},{\"attributes\":{},\"id\":\"2103\",\"type\":\"UnionRenderers\"},{\"attributes\":{\"formatter\":{\"id\":\"2100\",\"type\":\"BasicTickFormatter\"},\"ticker\":{\"id\":\"2005\",\"type\":\"BasicTicker\"}},\"id\":\"2004\",\"type\":\"LinearAxis\"},{\"attributes\":{},\"id\":\"2104\",\"type\":\"Selection\"},{\"attributes\":{},\"id\":\"2005\",\"type\":\"BasicTicker\"},{\"attributes\":{\"fill_alpha\":{\"value\":0.5},\"fill_color\":{\"value\":\"lightgrey\"},\"level\":\"overlay\",\"line_alpha\":{\"value\":1.0},\"line_color\":{\"value\":\"black\"},\"line_dash\":[4,4],\"line_width\":{\"value\":2},\"xs_units\":\"screen\",\"ys_units\":\"screen\"},\"id\":\"2105\",\"type\":\"PolyAnnotation\"},{\"attributes\":{\"ticker\":{\"id\":\"2005\",\"type\":\"BasicTicker\"}},\"id\":\"2008\",\"type\":\"Grid\"},{\"attributes\":{},\"id\":\"2002\",\"type\":\"LinearScale\"},{\"attributes\":{},\"id\":\"2000\",\"type\":\"LinearScale\"},{\"attributes\":{\"formatter\":{\"id\":\"2098\",\"type\":\"BasicTickFormatter\"},\"ticker\":{\"id\":\"2010\",\"type\":\"BasicTicker\"}},\"id\":\"2009\",\"type\":\"LinearAxis\"},{\"attributes\":{},\"id\":\"2098\",\"type\":\"BasicTickFormatter\"},{\"attributes\":{\"callback\":{\"id\":\"2029\",\"type\":\"CustomJS\"},\"data\":{\"color\":[\"navy\",\"navy\",\"navy\",\"navy\",\"navy\",\"navy\",\"navy\",\"navy\",\"navy\",\"navy\",\"navy\",\"navy\",\"navy\",\"navy\",\"navy\",\"navy\",\"navy\",\"navy\",\"navy\",\"navy\",\"navy\",\"navy\",\"navy\",\"navy\",\"navy\",\"navy\",\"navy\",\"navy\",\"navy\",\"navy\",\"navy\",\"navy\",\"navy\",\"navy\",\"navy\",\"navy\",\"navy\",\"navy\",\"navy\",\"navy\",\"navy\",\"navy\",\"navy\",\"navy\",\"navy\",\"navy\",\"navy\",\"navy\",\"navy\",\"navy\",\"navy\",\"navy\",\"navy\",\"navy\",\"navy\",\"navy\",\"navy\",\"navy\",\"navy\",\"navy\",\"navy\",\"navy\",\"navy\",\"navy\",\"navy\",\"navy\",\"navy\",\"navy\",\"navy\",\"navy\",\"navy\",\"navy\",\"navy\",\"navy\",\"navy\",\"navy\",\"navy\",\"navy\",\"navy\",\"navy\",\"navy\",\"navy\",\"navy\",\"navy\",\"navy\",\"navy\",\"navy\",\"navy\",\"navy\",\"navy\",\"navy\",\"navy\",\"navy\",\"navy\",\"navy\",\"navy\",\"navy\",\"navy\",\"navy\",\"navy\",\"navy\",\"navy\",\"navy\",\"navy\",\"navy\",\"navy\",\"navy\",\"navy\",\"navy\",\"navy\",\"navy\",\"navy\",\"navy\",\"navy\",\"navy\",\"navy\",\"navy\",\"navy\",\"navy\",\"navy\",\"navy\",\"navy\",\"navy\",\"navy\",\"navy\",\"navy\",\"navy\",\"navy\",\"navy\",\"navy\",\"navy\",\"navy\",\"navy\",\"navy\",\"navy\",\"navy\",\"navy\",\"navy\",\"navy\",\"navy\",\"navy\",\"navy\",\"navy\",\"navy\",\"navy\",\"navy\",\"navy\",\"navy\",\"navy\",\"navy\",\"navy\",\"navy\",\"navy\",\"navy\",\"navy\",\"navy\",\"navy\",\"navy\",\"navy\",\"navy\",\"navy\",\"navy\",\"navy\",\"navy\",\"navy\",\"navy\",\"navy\",\"navy\",\"navy\",\"navy\",\"navy\",\"navy\",\"navy\",\"navy\",\"navy\",\"navy\",\"navy\",\"navy\",\"navy\",\"navy\",\"navy\",\"navy\",\"navy\",\"navy\",\"navy\",\"navy\",\"navy\",\"navy\",\"navy\",\"navy\",\"navy\",\"navy\",\"navy\",\"navy\",\"navy\",\"navy\",\"navy\",\"navy\",\"navy\",\"navy\",\"navy\",\"navy\",\"navy\",\"navy\",\"navy\",\"navy\",\"navy\",\"navy\",\"navy\",\"navy\",\"navy\",\"navy\",\"navy\",\"navy\",\"navy\",\"navy\",\"navy\",\"navy\",\"navy\",\"navy\",\"navy\",\"navy\",\"navy\",\"navy\",\"navy\",\"navy\",\"navy\",\"navy\",\"navy\",\"navy\",\"navy\",\"navy\",\"navy\",\"navy\",\"navy\",\"navy\",\"navy\",\"navy\",\"navy\",\"navy\",\"navy\",\"navy\",\"navy\",\"navy\",\"navy\",\"navy\",\"navy\",\"navy\",\"navy\",\"navy\",\"navy\",\"navy\",\"navy\",\"navy\",\"navy\",\"navy\",\"navy\",\"navy\",\"navy\",\"navy\",\"navy\",\"navy\",\"navy\",\"navy\",\"navy\",\"navy\",\"navy\",\"navy\",\"navy\",\"navy\",\"navy\",\"navy\",\"navy\",\"navy\",\"navy\",\"navy\",\"navy\",\"navy\",\"navy\",\"navy\",\"navy\",\"navy\",\"navy\",\"navy\",\"navy\",\"navy\",\"navy\",\"navy\",\"navy\",\"navy\",\"navy\",\"navy\",\"navy\",\"navy\",\"navy\",\"navy\",\"navy\",\"navy\",\"navy\",\"navy\",\"navy\",\"navy\",\"navy\",\"navy\",\"navy\",\"navy\",\"navy\",\"navy\",\"navy\",\"navy\",\"navy\",\"navy\",\"navy\",\"navy\",\"navy\",\"navy\",\"navy\",\"navy\",\"navy\",\"navy\",\"navy\",\"navy\",\"navy\",\"navy\",\"navy\",\"navy\",\"navy\",\"navy\",\"navy\",\"navy\",\"navy\",\"navy\",\"navy\",\"navy\",\"navy\",\"navy\",\"navy\",\"navy\",\"navy\",\"navy\",\"navy\",\"navy\",\"navy\",\"navy\",\"navy\",\"navy\",\"navy\",\"navy\",\"navy\",\"navy\",\"navy\",\"navy\",\"navy\",\"navy\",\"navy\",\"navy\",\"navy\",\"navy\",\"navy\",\"navy\",\"navy\",\"navy\",\"navy\",\"navy\",\"navy\",\"navy\",\"navy\",\"navy\",\"navy\",\"navy\",\"navy\",\"navy\",\"navy\",\"navy\",\"navy\",\"navy\",\"navy\",\"navy\",\"navy\",\"navy\",\"navy\",\"navy\",\"navy\",\"navy\",\"navy\",\"navy\",\"navy\",\"navy\",\"navy\",\"navy\",\"navy\",\"navy\",\"navy\",\"navy\",\"navy\",\"navy\",\"navy\",\"navy\",\"navy\",\"navy\",\"navy\",\"navy\",\"navy\",\"navy\",\"navy\",\"navy\",\"navy\",\"navy\",\"navy\",\"navy\",\"navy\",\"navy\",\"navy\",\"navy\",\"navy\",\"navy\",\"navy\",\"navy\",\"navy\",\"navy\",\"navy\",\"navy\",\"navy\",\"navy\",\"navy\",\"navy\",\"navy\",\"navy\",\"navy\",\"navy\",\"navy\",\"navy\",\"navy\",\"navy\",\"navy\",\"navy\",\"navy\",\"navy\",\"navy\",\"navy\",\"navy\",\"navy\",\"navy\",\"navy\",\"navy\",\"navy\",\"navy\",\"navy\",\"navy\",\"navy\",\"navy\",\"navy\",\"navy\",\"navy\",\"navy\",\"navy\",\"navy\",\"navy\",\"navy\",\"navy\",\"navy\",\"navy\",\"navy\",\"navy\",\"navy\",\"navy\",\"navy\",\"navy\",\"navy\",\"navy\",\"navy\",\"navy\",\"navy\",\"navy\",\"navy\",\"navy\",\"navy\",\"navy\",\"navy\",\"navy\",\"navy\",\"navy\",\"navy\",\"navy\",\"navy\",\"navy\",\"navy\",\"navy\",\"navy\",\"navy\",\"navy\",\"navy\",\"navy\",\"navy\",\"navy\",\"navy\",\"navy\",\"navy\",\"navy\",\"navy\"],\"x\":[0.2518799973524436,0.1835248773224265,0.29936332540035193,0.5570415559635424,0.7941184441070244,0.523082946245047,0.6036609543108982,0.5895172729075652,0.836518095209616,0.6149978511781057,0.589900101601668,0.47298815465179067,0.7513349242929627,0.5507946890220637,0.6202306420636462,0.8668174288825008,0.26763588054758336,0.3552729505192189,0.09814444557007207,0.00887848125935986,0.06631818070494555,0.5615768458833517,0.2555084958493312,0.22578199674459365,0.7695037853703276,0.07727276300733832,0.870806251372934,0.6739735203455074,0.851263844697782,0.5240031676514769,0.15041323592984213,0.20858461286382712,0.0994933703453077,0.34891893654521644,0.4694128140910746,0.2574476099569203,0.588939783627877,0.8507926145603703,0.5413038826125979,0.3197791553768834,0.3174487971359099,0.6589696747082172,0.04984398378649246,0.4797684938041892,0.13063391215803144,0.8979799252904168,0.15909802802449569,0.26723576126821624,0.0897173239372202,0.8165963339508061,0.0940940184823168,0.8776791427048531,0.6052151614869463,0.26013304493847,0.6941367762515197,0.16064437256171893,0.1021031198249307,0.08526796708462536,0.24408198984169682,0.14506338491631288,0.11901485376877974,0.456665692325927,0.6415550611548961,0.5325162565749084,0.6602218407510742,0.5988809971579175,0.7190991758593658,0.04517082439715614,0.8600357237063643,0.4681427217190126,0.3941149984092892,0.792225406227285,0.8577623794478165,0.5968867304792266,0.36836369965132654,0.6870529681000037,0.737456633649814,0.6057679502484551,0.17006207759107517,0.6223888929489363,0.43282091731552874,0.03241176179787819,0.14541302099729747,0.028573105080220595,0.5024371139660301,0.2184397946006057,0.7452658575369022,0.6331294147891101,0.0009622681163186098,0.689123008673138,0.7539493925677039,0.41237700470141325,0.5722590052958456,0.043217655196632454,0.5309779460088325,0.27440699479252006,0.793953692444849,0.5608426792031193,0.07278124296480715,0.06105735912714727,0.42062917653765863,0.9761195629803481,0.45648435901767104,0.24578669504560802,0.7627311275004829,0.29870495775249584,0.008391492651778187,0.7232498409349211,0.7290775831212486,0.156824440524449,0.8880085807472498,0.7241101195524343,0.9152809956525104,0.5513117632793062,0.3451785308377602,0.507377290878179,0.3882832051006522,0.7371540785678693,0.08966526687665133,0.10114497054505778,0.898694403178906,0.3794341696937612,0.37097949952219644,0.027037105183167598,0.2230328616181263,0.8428451283733482,0.5297882034926857,0.2642529636297559,0.009484069959886932,0.07945161251595767,0.8210756482768883,0.17741566847216794,0.19573035945108308,0.09132954440199403,0.3737840539991629,0.03654193364459368,0.1832532270648346,0.7629416168413142,0.5458588913239288,0.7737684356936255,0.45904637340901255,0.7690709148637295,0.17643184096132514,0.8175301782153268,0.7609579305552453,0.9182328914895398,0.21690910675265085,0.8043581814610656,0.5707572722644331,0.09351603385770746,0.7177697325924884,0.4224590222049732,0.8268868998705663,0.09833354460394061,0.15723256347698789,0.042092233483709385,0.6566397794735942,0.07263976107533321,0.34522247167346587,0.10572194945898516,0.903791896717957,0.3922379177223124,0.16619432121721212,0.018661434564442136,0.3636855241027098,0.3859774001813079,0.21928680716451054,0.8635924058205494,0.8246164428383908,0.36446376299773875,0.6612452461561537,0.11848665499711697,0.4899944644277725,0.8220385981670519,0.34815836044610493,0.06868661556300837,0.7895098896613291,0.15668662514060316,0.4998024810512942,0.025326445495704286,0.2258705698907154,0.06262354287477201,0.1649176173415975,0.5895861826502617,0.7610763822070777,0.6207982123282729,0.11528081298111281,0.4287108537834624,0.48505550155377586,0.8111462223493455,0.39527244648741355,0.353604103071818,0.31937796576223587,0.007641327448660529,0.633624553085585,0.24671525663786864,0.9921387051960349,0.8121109287092523,0.8887315787218767,0.2670110312943469,0.9245533048236935,0.31860953945510984,0.5738620389724081,0.340173501574193,0.21399733668814414,0.5284259649626326,0.12031203750530528,0.03477615507236309,0.27197484927681737,0.5647296985724598,0.48093768000991244,0.1150486616403188,0.10779239827235887,0.04133495557464284,0.47708741073037,0.7565262839089342,0.1834211759892863,0.6501125941197995,0.5434239227534361,0.18722168062435196,0.1439104130313119,0.9562400967946173,0.8033974075607027,0.5795510960391475,0.6294977361856713,0.8126449063997765,0.09779565629922538,0.4972159278114191,0.7818333944927702,0.49996480974020585,0.3102572475187457,0.3526483707782654,0.4339710033555221,0.6942728354307884,0.1990546421733307,0.8447284299159792,0.09074776250420313,0.5679557981376455,0.757106388130436,0.143051926107032,0.35851625789104635,0.8961504188584113,0.07850449845441843,0.8550767346299735,0.1628351971689448,0.17449363862905498,0.9824114178831874,0.7146387095645228,0.9274539526332748,0.9938191635028835,0.09160473860220486,0.4147881332453157,0.390626042965867,0.17096740137512279,0.276960943745274,0.09500726438499485,0.29648663219910243,0.32540434206840396,0.35066516358836564,0.6287446444497755,0.8609839354832383,0.67845611582522,0.10645523832969161,0.20527164559838618,0.7108604699603553,0.39687721602836523,0.2929945894013951,0.7680457194923278,0.13790694546361382,0.99860721229566,0.20649832428931625,0.05489206151201209,0.057929625963594744,0.39811132908571856,0.11080469717894881,0.7389405225636366,0.6755451684253925,0.6974960436451391,0.2525330442771606,0.7659638728738314,0.24286311687472117,0.9251496137775768,0.09051554448712162,0.9453446723010489,0.7500851755239049,0.1081536592013782,0.8828059687326373,0.8308766039150086,0.9846594216417948,0.4128613477121549,0.6400301753185345,0.002479416942574586,0.22002199927172394,0.9881154939382754,0.6653413518166436,0.8555102568287931,0.529846066103198,0.34881048207582943,0.060459428920892844,0.8549919135690698,0.5161529923152837,0.33313017526692756,0.366280256989137,0.38467222688940117,0.9266626648852105,0.8210587299513605,0.04399988311062186,0.9164007184550078,0.6617840067800997,0.7105501889409601,0.44305876584522264,0.8351815396497446,0.11210467666898005,0.027566034767815384,0.86396310595592,0.4896673841969704,0.9632545673995168,0.7341416895304235,0.6055704072812007,0.9447895320935538,0.15488341332548294,0.6943969660693438,0.7007445471235993,0.11189205130822977,0.2702805682436694,0.582005097044748,0.6555344778394339,0.5764534097668123,0.04279182857821251,0.32272717069186485,0.6267819407461273,0.48970534148747047,0.675217345751708,0.9691146144603533,0.6587400235960152,0.26171047976883655,0.6130520971317966,0.044258525422949946,0.054588468649100164,0.21995750502315192,0.953867396724424,0.2769315495552598,0.7874250938745649,0.05102680620490052,0.05505750293551537,0.24584883225234966,0.22208793614404765,0.24128373894785493,0.8109914954993068,0.8952599068121031,0.39454355560550836,0.4630112331346936,0.47595792164585815,0.3269814364558902,0.6959535205712256,0.7497278918593523,0.5990226229948137,0.4550605252204082,0.14883882732638354,0.3925901427353473,0.13392924600874967,0.029280145891144582,0.6169962088145267,0.7044591333596313,0.48256067682818116,0.46675977327978524,0.7703470269681154,0.43581044497436383,0.9272411132905424,0.004623798948528379,0.7189326599120907,0.23306257916133377,0.4490117577288435,0.05772955541592428,0.5746656105328392,0.2986405430817055,0.9183865208194534,0.396907294026576,0.39176595191448127,0.2937287874477922,0.5437402749361692,0.3525705307488498,0.5501599210219859,0.8899721443305874,0.30248380521472373,0.3576195897844672,0.36599511950981567,0.9966749250979049,0.18804013483524895,0.33436690588929463,0.17548242482100418,0.1587084139293925,0.45419590914892494,0.35660529210625547,0.3738530361051895,0.6412974676474519,0.8998815974054905,0.7068713609760248,0.16137186899261702,0.9987117228355132,0.5356846343400924,0.7641972746062677,0.004482266778989885,0.8393374958568393,0.34427649496922696,0.5879904653971414,0.9967176111516767,0.6703539034239837,0.25083722663467634,0.1966389276954147,0.24867499749409117,0.278193471115212,0.466760598081419,0.7279998840742997,0.3850482853122523,0.4920924682075267,0.699985545961356,0.6198213238997631,0.03833525773091373,0.7066769961993447,0.8689182790425672,0.6267762864208161,0.6264948665255385,0.4608708618666614,0.2841011792776985,0.0060386340727630605,0.4632605985498479,0.7316024545174805,0.45605082149508114,0.8528566080703716,0.7254916931553264,0.8299681412330968,0.34767810390992515,0.7777457463319103,0.23643196454906157,0.7884080663073505,0.5795348790779725,0.7484614971913013,0.82548196578989,0.27123419819453687,0.17779938813889695,0.8851392321134769,0.6420474901919779,0.7128864258119637,0.5319535761903974,0.3386222671034821,0.5714378547387267,0.09421769498719801,0.2863047244721183,0.9850765635906459,0.23708725805352693,0.9851149294307976,0.3507774309534154,0.6625004830451446,0.4377884657700569,0.23730221466881762,0.8508340739291415,0.1328301401446197,0.687122097891724,0.8076682734231783,0.3932811207078146,0.7127677299323367,0.5574175293869845,0.3271890733773902,0.18622290124168017,0.9240653456594489,0.2630128962434074,0.97687418014671,0.15275390839241332,0.5890834646588976,0.6756530486631817,0.5893167262850244,0.10728271587405636,0.1265071642655874,0.03154917644133737,0.5580776457822809,0.9505995316392029,0.8448800344795817,0.8798821238501876,0.2615421025429371,0.5749547572248835,0.6355932730289144,0.22552698556537265,0.6120211609752029,0.3027507289288126,0.637811333327732,0.2684475884768881,0.6111002900950812,0.1052835765904826,0.2815478443611268,0.006389834269919903,0.08382534401041919,0.358821156886743,0.09627848114330295,0.8516293621284141,0.6874797465531652,0.24419319070357082,0.17154133731641064,0.48365459739644523,0.6828750641038773],\"y\":[0.5818803763047062,0.5781015600381182,0.27991630112431864,0.39173066850066707,0.6692225663989004,0.05626781882255749,0.5822223455867014,0.8644661469559892,0.40936359630833985,0.4490995264969593,0.2788221293765468,0.8595644608107237,0.9172223795886846,0.8627094521824967,0.6327753691566694,0.7775302086705483,0.10219035297781509,0.21469985677845937,0.09489024893077935,0.3967183038358355,0.7499796088478041,0.2978730910247108,0.8700334603857272,0.3298344149298974,0.6774344808134746,0.2638391877097258,0.9942786707702206,0.18577220616923762,0.6442245170578368,0.5479342667112383,0.14680850238541843,0.7353255787428903,0.7998390742626822,0.04043944174393155,0.21573894242317104,0.0055513068907605545,0.8483625401491229,0.656502238303622,0.21240835290434157,0.049378910312527724,0.5345726094046382,0.9269809675929174,0.17680429497523165,0.0237104750187509,0.8755026928215173,0.3944141202499354,0.49732582180136875,0.5795938514432868,0.8271847997967482,0.8064535110420417,0.981107628658979,0.29399952548031627,0.35216284276425003,0.735653018259825,0.719365975341583,0.4799798583031486,0.13205272273072677,0.7010733637663883,0.288186165639267,0.08134459309929376,0.7661865319681291,0.17804620954126738,0.1540929405438083,0.8721596488588632,0.5102795736335509,0.664884373881149,0.704082776070423,0.7152417072185772,0.6635589820183361,0.4048760085608304,0.2804316214994018,0.5543599142785599,0.33417275521522427,0.52572108599887,0.9097989785434473,0.6678891159639795,0.8154712458279013,0.8220902352407037,0.3833587881179584,0.5907282820005362,0.30398503389421005,0.020531950048383485,0.6959294343124055,0.30021914153001017,0.3687017384490977,0.3555043925783299,0.29860499828678144,0.4061204157635676,0.02416130006373085,0.3053072856720396,0.49234534586969725,0.8998300806969818,0.23196648744505755,0.37194844148865114,0.20719757284624596,0.2548164983054032,0.7609262800447011,0.6548347257293174,0.2722153569063668,0.533354959244244,0.8261934050749097,0.30233306797841264,0.5815490364590041,0.9265658020562423,0.6667940038396526,0.6408500624919697,0.39854912378301754,0.6312650979659102,0.6105924885344355,0.6772200569814516,0.26495829497053014,0.5021089402926115,0.8709363946693005,0.9028224024757419,0.4197838576900723,0.1161637358740557,0.3722018934980289,0.13582816853252833,0.6831519824748067,0.8519677298543712,0.8661928751945638,0.334541944396487,0.6631455694834992,0.19571756204993906,0.43744482055784184,0.06586370345047632,0.522369549582341,0.33673615782917643,0.6096356313315647,0.9590057916171935,0.9142332424711117,0.22426318671886913,0.1723120793952776,0.6536227850267947,0.030701956629653027,0.7467752284497936,0.24317217185532514,0.07504113455422878,0.025288219818163316,0.019876715521987998,0.7095819504028941,0.004393460169987207,0.7115144613051444,0.5353280147661085,0.5863476231784424,0.6205158861260623,0.48499072093582074,0.8351964284578536,0.718020154715829,0.6416343527468129,0.8587757701631156,0.32097313573582176,0.26369407481310014,0.23720929950135072,0.2052700013631178,0.623257356546656,0.33598096302950975,0.7253115742919183,0.5145120694402385,0.9186656683080087,0.6779130291389335,0.3333205053852166,0.14763529190388147,0.23937259522655474,0.7951572779967097,0.26309242985411363,0.9298515046303445,0.6093517867201368,0.02793186310383633,0.9368261784973266,0.1870879233211754,0.21871607700442564,0.7978444419250925,0.996477349137297,0.3265271202029598,0.33536716806635924,0.9490566979758432,0.8542227656624084,0.4387432909636153,0.9528921250506209,0.30152566950781856,0.07530177223907364,0.07065809800117917,0.6238739714998551,0.6302999563703254,0.8513385596198213,0.2837831136780633,0.6681959017662059,0.3624384844820082,0.6980680469703318,0.3853751434473647,0.2383130083527829,0.3165380062091012,0.6510673715552584,0.20858160891432842,0.3841049292004485,0.003948113095831873,0.0015905643105922351,0.05157750654382076,0.7634768210424852,0.7697226359915676,0.3782403239874892,0.886390972576609,0.7845990016021706,0.7811280647819842,0.5505993079099912,0.7035855101412056,0.9097117045471055,0.7411693683098627,0.9753413207285804,0.35141694640749677,0.29206158470238275,0.003271134122630359,0.3860796776432257,0.26887294042687315,0.3686249882396895,0.904795298175728,0.8833420451127105,0.6443646080933488,0.0645719979283016,0.46883384208475987,0.35654742800341055,0.4261552878450303,0.8139969297827104,0.9350161462426241,0.747565954578452,0.8138099780767966,0.17700120359597638,0.21811117175786032,0.8650487980850777,0.5759679191307401,0.5720756200983377,0.7981541133309376,0.23504381085816095,0.10201040573457154,0.6925895588374952,0.15422534493380147,0.600061654792017,0.00526483852066828,0.7021598029607405,0.26607093457658193,0.14205111516641555,0.7622278729219907,0.8007650486004413,0.8099525531085876,0.5543018838252911,0.4958557683408674,0.6365397379942045,0.6321251217672804,0.49011818972844745,0.8009678695760419,0.6523241326526573,0.3691191825092207,0.3488418998195736,0.06464089986762345,0.4338120614160331,0.2848900636205107,0.2693664168102642,0.9024543652808981,0.754984343978067,0.6553958146008737,0.34920446130631977,0.02022894779405149,0.9974182227216467,0.7149117549631631,0.6588770362507451,0.2502850069034813,0.5403452049118811,0.980820803563549,0.016812116588587944,0.04171706198309433,0.8070065348942326,0.26795576493259377,0.05771718354247768,0.9800008070123227,0.9353765856737111,0.27592535770331694,0.4198106113232265,0.3261145271502236,0.5546581125820432,0.12346379200962931,0.8550837279297591,0.4821941801593812,0.5996701614235201,0.010422554738567347,0.1713356459302915,0.3686730955777173,0.5718849041067108,0.7267723511065086,0.20141190038137924,0.9953478996947555,0.7239944086597373,0.16987866184806588,0.3045716896339249,0.030203551435021736,0.641404416960462,0.36798326953954485,0.35672284198958093,0.5073220179748403,0.9310526848643483,0.1948999432651417,0.06191617599108412,0.7372461667494308,0.7465862038900474,0.521894288375955,0.8996956905352991,0.10321060676571336,0.700332436591795,0.6824054510220395,0.8573248007175396,0.8372721703879141,0.2826592279350916,0.7055313065301125,0.8899489090117269,0.15416641530169506,0.9164844618453786,0.6064500381241537,0.35280249150275333,0.5457148742825715,0.5664315018553283,0.6389064240083469,0.23558871411693316,0.7236885891124422,0.5386989814899938,0.7962296902177806,0.6869201110036117,0.17929392906497088,0.6754608869462995,0.6188159128591088,0.4683907865954531,0.6170234250392167,0.7869989860189,0.4286362976185454,0.32313471276062566,0.7162352158378102,0.6241888258308366,0.558977902618951,0.9024838071925187,0.5152983910635675,0.6897361136783627,0.24646051049292206,0.12283779503087089,0.9316620566313822,0.3479931076871997,0.6022692116294999,0.2527640963503297,0.098478934811706,0.9407789291852834,0.8104045061734988,0.13942741877192333,0.6349871928816849,0.8916169234018981,0.2473491209310532,0.8138065219613285,0.6002527106300509,0.9874480971550947,0.41604465431001925,0.36474340962044927,0.6991461219984673,0.6247806078899543,0.04005918676933584,0.9102185066947144,0.5049932011079457,0.4938926128228819,0.9745674516025695,0.2858079081400591,0.3417884053291076,0.0391638088600621,0.8320832744911709,0.008638473252254752,0.8136017236686776,0.04097704678428615,0.1617198312593051,0.06109033502001526,0.677934252539423,0.806945279423798,0.10668427664371516,0.8829395309317556,0.7894509589526039,0.19349430339105655,0.1669902268855037,0.06266590507253644,0.018171695652985376,0.9106253744227556,0.10590687400799625,0.015576210474425034,0.9794274547968512,0.47502090295683463,0.9458082943265075,0.9247279850507382,0.07514099245095884,0.8928087689446931,0.46359108330985654,0.25210244426835937,0.3470164737086995,0.23322299553694847,0.9079114293526377,0.026638058115173835,0.771711796202301,0.4666252627667894,0.46526075671588085,0.3663651671216016,0.6488363467933668,0.4638751195375701,0.8233284036802277,0.6484193376194508,0.9926522820399144,0.9039248712011043,0.07677189821349717,0.1422820627699144,0.2134372079131459,0.24596564658624964,0.5573352568055026,0.9658697665276113,0.09474987101517385,0.5650999010563039,0.573823653573161,0.9909398501133779,0.04887659984572357,0.3074626847215465,0.8779318808351226,0.285931499493696,0.296448872466884,0.6174504095972803,0.39179815972414755,0.31459535931127747,0.7599185805710892,0.2331369041922975,0.7999196562474936,0.713061879724773,0.10358206921036106,0.2661643945527864,0.2527632368048368,0.5923841151025331,0.2518957273033964,0.5752598903059143,0.8712593410144022,0.19538986724889584,0.8199399184805046,0.37904868366682776,0.8366248625873504,0.6533013817893552,0.32306832163847676,0.7212824132257194,0.12112796131004633,0.6916413238768476,0.673760332994178,0.8310432673802979,0.2324483764902514,0.22724931864528364,0.39520201661952525,0.4740275368558481,0.7683208834342296,0.1486223038008202,0.7870371026439674,0.02755577442378565,0.1459927397308005,0.31190878658228394,0.2704960268205383,0.629095463449734,0.12965688994091007,0.5551073699604091,0.4831307007528338,0.03302207997264983,0.9856759169363242,0.6148156441961529,0.6291108285327542,0.8817180416640029,0.4630092401035184,0.17543428209202394,0.9565216825953938,0.011832768942790395,0.4890400846862626,0.6169190304611959,0.46652313686876423,0.6771273521708172,0.4679412543151005,0.8951170149321392,0.48045109250353923,0.7680664605523686,0.885454982008181,0.5312642574821822,0.3785617370810328,0.6548411469937568,0.9461691678776816,0.7589337337931344,0.5135787349691877,0.9239056958700496,0.7288082459670477,0.40480727476131584,0.34061691312449016,0.8866327220577952,0.30049199546073635,0.08694960358031123,0.34886949560898284,0.6263863630374134,0.9630950494403097,0.04061074134809406,0.3723825459193869,0.858284001430986]},\"selected\":{\"id\":\"2102\",\"type\":\"Selection\"},\"selection_policy\":{\"id\":\"2101\",\"type\":\"UnionRenderers\"}},\"id\":\"1992\",\"type\":\"ColumnDataSource\"},{\"attributes\":{},\"id\":\"2010\",\"type\":\"BasicTicker\"},{\"attributes\":{\"callback\":null,\"data\":{\"xm\":[0,1],\"ym\":[0.5,0.5]},\"selected\":{\"id\":\"2104\",\"type\":\"Selection\"},\"selection_policy\":{\"id\":\"2103\",\"type\":\"UnionRenderers\"}},\"id\":\"2023\",\"type\":\"ColumnDataSource\"},{\"attributes\":{\"dimension\":1,\"ticker\":{\"id\":\"2010\",\"type\":\"BasicTicker\"}},\"id\":\"2013\",\"type\":\"Grid\"},{\"attributes\":{\"line_alpha\":0.6,\"line_color\":\"orange\",\"line_width\":5,\"x\":{\"field\":\"xm\"},\"y\":{\"field\":\"ym\"}},\"id\":\"2025\",\"type\":\"Line\"},{\"attributes\":{\"active_drag\":\"auto\",\"active_inspect\":\"auto\",\"active_multi\":null,\"active_scroll\":\"auto\",\"active_tap\":\"auto\",\"tools\":[{\"id\":\"2014\",\"type\":\"LassoSelectTool\"}]},\"id\":\"2015\",\"type\":\"Toolbar\"},{\"attributes\":{\"source\":{\"id\":\"2023\",\"type\":\"ColumnDataSource\"}},\"id\":\"2028\",\"type\":\"CDSView\"},{\"attributes\":{\"callback\":null,\"overlay\":{\"id\":\"2105\",\"type\":\"PolyAnnotation\"}},\"id\":\"2014\",\"type\":\"LassoSelectTool\"},{\"attributes\":{\"callback\":null},\"id\":\"1998\",\"type\":\"DataRange1d\"},{\"attributes\":{\"fill_alpha\":{\"value\":0.4},\"fill_color\":{\"field\":\"color\"},\"line_alpha\":{\"value\":0.4},\"line_color\":{\"field\":\"color\"},\"size\":{\"units\":\"screen\",\"value\":8},\"x\":{\"field\":\"x\"},\"y\":{\"field\":\"y\"}},\"id\":\"2018\",\"type\":\"Circle\"},{\"attributes\":{\"text\":\"Select Here\"},\"id\":\"1994\",\"type\":\"Title\"},{\"attributes\":{},\"id\":\"2100\",\"type\":\"BasicTickFormatter\"},{\"attributes\":{\"args\":{\"s1\":{\"id\":\"1992\",\"type\":\"ColumnDataSource\"},\"s2\":{\"id\":\"2023\",\"type\":\"ColumnDataSource\"}},\"code\":\"\\n    var inds = s1.selected.indices;\\n    if (inds.length == 0)\\n        return;\\n\\n    var ym = 0\\n    for (var i = 0; i < inds.length; i++) {\\n        ym += s1.data.y[inds[i]]\\n    }\\n    \\n    ym /= inds.length\\n    s2.data.ym = [ym, ym]\\n\\n    // necessary becasue we mutated source.data in-place\\n    s2.change.emit();  \\n\"},\"id\":\"2029\",\"type\":\"CustomJS\"},{\"attributes\":{\"callback\":null},\"id\":\"1996\",\"type\":\"DataRange1d\"},{\"attributes\":{\"fill_alpha\":{\"value\":0.1},\"fill_color\":{\"value\":\"#1f77b4\"},\"line_alpha\":{\"value\":0.1},\"line_color\":{\"value\":\"#1f77b4\"},\"size\":{\"units\":\"screen\",\"value\":8},\"x\":{\"field\":\"x\"},\"y\":{\"field\":\"y\"}},\"id\":\"2019\",\"type\":\"Circle\"},{\"attributes\":{\"fill_alpha\":{\"value\":0.4},\"fill_color\":{\"value\":\"firebrick\"},\"line_alpha\":{\"value\":0.4},\"line_color\":{\"value\":\"firebrick\"},\"size\":{\"units\":\"screen\",\"value\":8},\"x\":{\"field\":\"x\"},\"y\":{\"field\":\"y\"}},\"id\":\"2020\",\"type\":\"Circle\"},{\"attributes\":{\"data_source\":{\"id\":\"1992\",\"type\":\"ColumnDataSource\"},\"glyph\":{\"id\":\"2018\",\"type\":\"Circle\"},\"hover_glyph\":null,\"muted_glyph\":null,\"nonselection_glyph\":{\"id\":\"2019\",\"type\":\"Circle\"},\"selection_glyph\":{\"id\":\"2020\",\"type\":\"Circle\"},\"view\":{\"id\":\"2022\",\"type\":\"CDSView\"}},\"id\":\"2021\",\"type\":\"GlyphRenderer\"},{\"attributes\":{\"source\":{\"id\":\"1992\",\"type\":\"ColumnDataSource\"}},\"id\":\"2022\",\"type\":\"CDSView\"},{\"attributes\":{\"data_source\":{\"id\":\"2023\",\"type\":\"ColumnDataSource\"},\"glyph\":{\"id\":\"2025\",\"type\":\"Line\"},\"hover_glyph\":null,\"muted_glyph\":null,\"nonselection_glyph\":{\"id\":\"2026\",\"type\":\"Line\"},\"selection_glyph\":null,\"view\":{\"id\":\"2028\",\"type\":\"CDSView\"}},\"id\":\"2027\",\"type\":\"GlyphRenderer\"},{\"attributes\":{},\"id\":\"2101\",\"type\":\"UnionRenderers\"},{\"attributes\":{\"line_alpha\":0.1,\"line_color\":\"#1f77b4\",\"line_width\":5,\"x\":{\"field\":\"xm\"},\"y\":{\"field\":\"ym\"}},\"id\":\"2026\",\"type\":\"Line\"},{\"attributes\":{},\"id\":\"2102\",\"type\":\"Selection\"}],\"root_ids\":[\"1993\"]},\"title\":\"Bokeh Application\",\"version\":\"1.3.4\"}};\n",
       "  var render_items = [{\"docid\":\"6f21f4b7-9edb-439e-899b-08459a6b8c67\",\"roots\":{\"1993\":\"7e273630-67a9-4962-8230-0ae1c8b0714c\"}}];\n",
       "  root.Bokeh.embed.embed_items_notebook(docs_json, render_items);\n",
       "\n",
       "  }\n",
       "  if (root.Bokeh !== undefined) {\n",
       "    embed_document(root);\n",
       "  } else {\n",
       "    var attempts = 0;\n",
       "    var timer = setInterval(function(root) {\n",
       "      if (root.Bokeh !== undefined) {\n",
       "        embed_document(root);\n",
       "        clearInterval(timer);\n",
       "      }\n",
       "      attempts++;\n",
       "      if (attempts > 100) {\n",
       "        console.log(\"Bokeh: ERROR: Unable to run BokehJS code because BokehJS library is missing\");\n",
       "        clearInterval(timer);\n",
       "      }\n",
       "    }, 10, root)\n",
       "  }\n",
       "})(window);"
      ],
      "application/vnd.bokehjs_exec.v0+json": ""
     },
     "metadata": {
      "application/vnd.bokehjs_exec.v0+json": {
       "id": "1993"
      }
     },
     "output_type": "display_data"
    }
   ],
   "source": [
    "from random import random\n",
    "\n",
    "x = [random() for x in range(500)]\n",
    "y = [random() for y in range(500)]\n",
    "color = [\"navy\"] * len(x)\n",
    "\n",
    "s1 = ColumnDataSource(data=dict(x=x, y=y, color=color))\n",
    "p = figure(plot_width=400, plot_height=400, tools=\"lasso_select\", title=\"Select Here\")\n",
    "p.circle('x', 'y', color='color', size=8, alpha=0.4, source=s1, \n",
    "         selection_color=\"firebrick\", selection_alpha=0.4)\n",
    "\n",
    "s2 = ColumnDataSource(data=dict(xm=[0,1],ym=[0.5, 0.5]))\n",
    "p.line(x='xm', y='ym', color=\"orange\", line_width=5, alpha=0.6, source=s2)\n",
    "\n",
    "s1.callback = CustomJS(args=dict(s1=s1, s2=s2), code=\"\"\"\n",
    "    var inds = s1.selected.indices;\n",
    "    if (inds.length == 0)\n",
    "        return;\n",
    "\n",
    "    var ym = 0\n",
    "    for (var i = 0; i < inds.length; i++) {\n",
    "        ym += s1.data.y[inds[i]]\n",
    "    }\n",
    "    \n",
    "    ym /= inds.length\n",
    "    s2.data.ym = [ym, ym]\n",
    "\n",
    "    // necessary becasue we mutated source.data in-place\n",
    "    s2.change.emit();  \n",
    "\"\"\")\n",
    "\n",
    "show(p)"
   ]
  },
  {
   "cell_type": "markdown",
   "metadata": {},
   "source": [
    "### CustomJS für UI-Events\n",
    "\n",
    "Alle verfügbaren UI-Ereignisse und ihre Eigenschaften sind im Abschnitt [bokeh.events](https://bokeh.pydata.org/en/latest/docs/reference/events.html) aufgeführt."
   ]
  },
  {
   "cell_type": "code",
   "execution_count": 9,
   "metadata": {},
   "outputs": [
    {
     "data": {
      "text/html": [
       "\n",
       "\n",
       "\n",
       "\n",
       "\n",
       "\n",
       "  <div class=\"bk-root\" id=\"0f2e1141-a6fc-4485-b7bb-b870619885cf\" data-root-id=\"2196\"></div>\n"
      ]
     },
     "metadata": {},
     "output_type": "display_data"
    },
    {
     "data": {
      "application/javascript": [
       "(function(root) {\n",
       "  function embed_document(root) {\n",
       "    \n",
       "  var docs_json = {\"eb5a0bdc-3606-4895-8826-bcea1aba54d6\":{\"roots\":{\"references\":[{\"attributes\":{\"children\":[{\"id\":\"2194\",\"type\":\"Button\"},{\"id\":\"2195\",\"type\":\"Row\"}]},\"id\":\"2196\",\"type\":\"Column\"},{\"attributes\":{\"args\":{\"div\":{\"id\":\"2193\",\"type\":\"Div\"}},\"code\":\"\\ndiv.text = \\\"Button!\\\";\\n\"},\"id\":\"2197\",\"type\":\"CustomJS\"},{\"attributes\":{\"active_drag\":\"auto\",\"active_inspect\":\"auto\",\"active_multi\":null,\"active_scroll\":\"auto\",\"active_tap\":\"auto\",\"tools\":[{\"id\":\"2185\",\"type\":\"BoxSelectTool\"}]},\"id\":\"2186\",\"type\":\"Toolbar\"},{\"attributes\":{\"callback\":null,\"overlay\":{\"id\":\"2283\",\"type\":\"BoxAnnotation\"}},\"id\":\"2185\",\"type\":\"BoxSelectTool\"},{\"attributes\":{},\"id\":\"2280\",\"type\":\"BasicTickFormatter\"},{\"attributes\":{\"fill_alpha\":{\"value\":0.6},\"fill_color\":{\"value\":\"#1f77b4\"},\"line_color\":{\"value\":null},\"radius\":{\"units\":\"data\",\"value\":1},\"x\":{\"field\":\"x\"},\"y\":{\"field\":\"y\"}},\"id\":\"2189\",\"type\":\"Circle\"},{\"attributes\":{\"children\":[{\"id\":\"2166\",\"subtype\":\"Figure\",\"type\":\"Plot\"},{\"id\":\"2193\",\"type\":\"Div\"}]},\"id\":\"2195\",\"type\":\"Row\"},{\"attributes\":{\"args\":{\"div\":{\"id\":\"2193\",\"type\":\"Div\"}},\"code\":\"\\ndiv.text = \\\"Selection! <p> <p>\\\" + JSON.stringify(cb_obj.geometry, undefined, 2);\\n\"},\"id\":\"2198\",\"type\":\"CustomJS\"},{\"attributes\":{\"text\":\"\"},\"id\":\"2276\",\"type\":\"Title\"},{\"attributes\":{},\"id\":\"2282\",\"type\":\"Selection\"},{\"attributes\":{\"dimension\":1,\"ticker\":{\"id\":\"2181\",\"type\":\"BasicTicker\"}},\"id\":\"2184\",\"type\":\"Grid\"},{\"attributes\":{\"bottom_units\":\"screen\",\"fill_alpha\":{\"value\":0.5},\"fill_color\":{\"value\":\"lightgrey\"},\"left_units\":\"screen\",\"level\":\"overlay\",\"line_alpha\":{\"value\":1.0},\"line_color\":{\"value\":\"black\"},\"line_dash\":[4,4],\"line_width\":{\"value\":2},\"render_mode\":\"css\",\"right_units\":\"screen\",\"top_units\":\"screen\"},\"id\":\"2283\",\"type\":\"BoxAnnotation\"},{\"attributes\":{\"callback\":null,\"data\":{\"x\":{\"__ndarray__\":\"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\",\"dtype\":\"float64\",\"shape\":[2000]},\"y\":{\"__ndarray__\":\"XDBFqCKNQEAN6zsqzjFSQAy/rZ+uu0pAtwsHRWwHUUBgnnICo4M2QDrc+IlxUFJAsDWtVWFfTkB2SAPxKqY3QGyvai50klRA2SqmR5FwU0ARRueeWW1PQN9hjIy7PFZA1pIVsN8QMUDRVzHRXms+QKWm0cB231RApxV/TcQMQ0DuqZuLwblQQN92Rp6901FAQFDOVL3sU0C60GkbcYA7QM+K/M+Q7VJAGxWhNd2VVUAA+qeM5tgiQHHucbVzs1hAmzWUfU1iVkC+fsKwa7tDQDtKE9OVBEBAW8QT14fUC0DBlsDaba0kQBo8wdUPYkZAJgZFBkvUT0DmsWkTpslGQOPyNKDhWVZAQN9jKlgVPUCy/oCPC8MmQJqcJWON9QdAIKjWf/flQUA6oI5msAUdQGzkcNmttDdAHHI5YOfMRkDVjhsW9IQeQJFye7PmWkxAg3uBsNWPMkC+KEj+SNVOQLBIuq0gUzRAfNEUO6aAOkCvTeWK2MdKQHRm8J4Ja1dAHbJ3XApHR0BZ5CWeDOVWQNWOWe40GEtANme8kL/xREDIe5D9zMNLQITcMCw2GSRAGh04kiYoSEBwTXFXBVQ9QP1KDDPMFlRA8ilXSo+pVUAr9XweguAkQNFZCJsv90BAl81jJ9R5SEC7raCBNvRXQCCLHUCRhFJAKNyXgsElTEBFTtTjYlFVQFikBgLcSFBAcsprdWHJOkCYCvNioC5NQKsNX4HW+kZAVQLkBv2qTUDtHekbL2BUQNIl7J1PT0pAkJaEC6jAPkDiIXdkOVNFQByZeFyF0lFAhmoRCha5NEDQXIZ5UvBLQOyZEU1JUzFAnnRbmuCmVkAm36uo6yZAQG1Mq/hfFy1ALWcafGulWEAn6mNALeBXQB31jtO5N1ZAtq32yxFwU0B9K4LWgCVHQLhJAEl8Q0VAwC5UxdZyRkAeUnH3QA0XQHS5NwmVxFdAgXQT+s3NGkBwK+ptLxlSQMLOk+CpQFNAJoPtv/RRFED4+yIMQB9IQPwwiHf/61ZA8mKgK2HgTUCERRfoJrfiP6SWBF3jEytAOM3djItIMkBlhp2T/GVAQNO+ZDziI1RAdMFTgSEdIUD2rTa06/1MQD9qEW3/D0lAXhFYSy1OJkBEco5SWuI0QEH0nn3dHDRAC8D9aEM+PkBgAbgDeXUeQBE2GXMrilNAkBKNmZq39j85RJmFsmouQDR/2IAm0UdAccaAkCEVRECHhmTUAWtNQFHgueu510dA98CJ1SUlTUD0VIUAak42QPJ+xvUc/kpA2X7MGcA5TkA3h4BJfNZTQEAVSJ0IyEdAlSrFzXH6UUB/3X4mKsBEQAKnOfQLy0NAsnJuQsFrLUBe94vSbgA5QPJsM9p1PVNA7hj6Pf8HQkCcOA9vo9pKQAXWO4NrikRA/UBSHIHYTkCmp6SN0CtRQKB3cI6tsklAte7o2xDlBEBQwtUtZEVOQLbBXmygt09AQ7YUD7R6N0BGPy/xIABHQHsD3kqnJlJA0TjseZlBS0AGlSCO9PJUQB3il7BQyy1AwfahjMiDU0AqvfLfB49AQNRglrQ8EVZA7HrFdVdTQEAoQS9ROxRDQEBRiGIjDVVA8IO3T7m6JkBDIGhZ9d8zQP4rxAUHkkNANCFU+1fqWEAfgSLiDtNQQOSzhsnlvD1An/Zsn/j9VUCtDIMSgSBYQMUf9e3aAklAca2Opm0cMkD844tkp4xNQIfEYR2f9FRAgTu2HdKXVEDSTaQD7xlTQOF8t/5Dc1BAusXpCEVBMUClXGchr8JUQMKCqtIwlUNA6JBZeiy3OEBYioPg4nj8PxAl3gNg9d8/ssKV/mxIUEA0CfSekhUjQNBk8VdKZVhA8vZ0Bn7yVkDmgrgea23+PzS7xWeepwVAmzINjICzNEDTkl5QSzVVQPXXHYqnjDZAdDMOeB7sSECoGSr8KSURQPBy8bpGQ1FAiV+j+oDnOUCjhFxqDIxDQK0ZtwBhg1VAn+LUDk5oUkAMXVwx24IsQB71pZEjgipAw6pho2ypS0AZg4aVOQ5LQGBIXmsP+0BAFKB6UlwbNUDP502fDM5UQEOvPHKkW1FA5pB21bXlJEAu/GSabQVSQOGliUWAvExAbyDP2SarU0DVJ4DVb41YQJnHRdihSVNA8JOWkBTwP0D6v4W6+vdGQGpg6AzP1ytAnlFamlAwVkDEkK2kw3hLQCu0YIxN9CNAeSmo3I1qWEAMeykRC3ZPQBIMsAIUOUVAWLRrKGN1QEAksUtw/bJCQBw/3Ly3WlZA4Unx4AU4UEBe10oZxrJJQP8MqqC7qU5A5fmjyb2UV0Am2W4rPq9IQKvq4t4vF1RAxiHp49pyUkC2PT9+4MRUQOGV3dPiJ0pAAu/uz3fE8z9ycTIzJU49QPptNLCa/0pAoGadSWxl0z/mmQyGC3cVQCOo3IB0DVdA3Qpqk/7XQEBF3oXT6uIUQAbETdzkuExAM9wJ1FLZHUDHSfvgZsU2QC+i2c3A4hpAkQOy5E3EV0A47XYZuGVMQEm2oexGP1JAwJDIKUapUED1+4S47v1UQNIw1aOrcUFAmDjRN6HlQEAmG36sE8MqQF715Bm9xE5ALZ3VbnI2LEALOCEh9BFTQKX3i53KKDJApVk1fimiVkBQLCcyXyNVQGaktMCq60FAW8SVl6enWEB21lPYnCFWQHupqVq4xjxAtnecYvnpV0CvOwWMLvkuQPYwluHgJ1NArKianP8OV0Cic5qKlkFDQGWAWPGPVFBAUpY6Z/i/M0B2Etz8oUlEQLviO7W5YktASWalelH4RkBFrOydguo9QJqGV+goOkRA/+M5w6DKPUCTn+MSyItRQMlF5/MAN1JABASHivNyU0BtRcQxePRQQJuskNgnLDhAA4PeE6QBT0AafszQcgYhQIbtQ0IH0EdARpYhn17SEUBPnjwM1J5EQMubliQt4EFAMBJ17Xq/PEBMA+vYoS4VQA/RQNFyNTRAAW2kjBMDVkCaFIlOZAJRQHYfxq83mlBAQBbzSK8gT0DKoUN4yz1NQP88229DejxAWOVl9jLLVUAyznKz2N8qQFewJLNKWE9AIGsf9UKPV0Co83EMhPRQQC5mfwGNyS9ASeVYCO4ZRECDsgqnZ2dIQO8L9QKpr0dArkTZdOmFUkBdvxdp9tNMQDw3jS4lBlRA7zzT5JQuRECWRt5uCOYvQD+9+Q3bV1ZAuTwZN77QWEAumz6DZPxIQMcCkGKu9VZAbcNCwjaANEBwhNznPHL6P9NxHAhSr1JAbUdP7AMaVUADEY90Xf5QQAroPWgjBlZADuLICz1yQ0AI/Z7yBRROQMQLhOEs+VJAo0tOsynGSkC6Tlc/sClRQOymi8Vc+VZAQYvFgFacUkCJVSXMjO9YQD66+I9FFERAbvwFQxfrV0CeOXsrV9pTQHgDZ4ENm9s/H9LVuVJmRkCscg4nXW/xP2N4q+4ZWyZAvVHJRk+AN0ClSCqgJBpQQGJdVjrfJSdAWxRQHaC2QkA8IV7cjq9EQEJUn4n0NE9AB/ufnvhiVEBNxNeYklgQQNBYf5IzBkFAjE9hRkG+KEA75bv59Z40QP54k/fmoldApx36K5HwP0BZIZsgHicwQD/0DONu1ENAT1Yl2v39V0B4bdj0lStVQO7Al/C2GVVAAVfc7PCIQkBcMBfzdKtYQP6JnobypypAh6qTQhxePUC7I8tGVntIQHl3v1ZHclJA3+Zx9Qf1P0AsDTPLtPAfQJ/QtGSYEyFAg0TJtKHCP0CQjw78P90aQGew10Ux3VZA8BvLwhDxUkBzGV+UGnw9QNTalVkC1Pc/UH2t/H+rUUCqPiOvo4ZQQP5u8z15ffA/rMBg/MuuQEAnOg6SWztYQFMKMVa4bkFA/eNQ+smLVUDD7mHLBdJOQMkOSyivaidAwRU84Hk7RkA8sWT0VPVAQMwGy/papuA/I+5UYaZRN0AzbRa0qVIyQCy4upYKulJAVFUQFCEYR0CpiM8pLORTQBmTfGTuplBAIHJdVxEEWEAxc4VutnopQIRZ/FY+CUhA+kJ0MrQnOUDls44u76RWQMgVKUo1ekdAjUN809pfQUCefb+tgk5GQCzBy7b7hVZAmLQo5NwiF0ASOIbTMxA7QOkwac12uFBAcAvSU8RwT0CQ49+brTtTQPklUgQouANAJMi9VUmJMkB31wkvemVCQFkOggdUvUZAkGs6DHhEWECbuNcehNBHQL4X0puoWzdAeiAp1Z3DNkB35dlDKQBSQCXOH/637DFANs/lgIuwM0BFfqgCLtdJQM8bS3DvOShA55cB35LTVUB17u36b2ZMQJfL7c7bHVFAKHAEWSJNSkA0Hl7ygSVAQBaF9UDsjFJAEtSxXZRVUkAzsvzuwhxXQLY0OjwBMlBAhftKU7XaT0CjfCYB6A0+QPPE9EdCgVBAPZA06cg2PEAEvop8lZJGQAK8KPerU0BA/w0B13BTUECUi7zsJidSQCKNdPkWS0RAX3ip4hcySEBXxplxIyMyQDL2D2Iu1DlA3j9Jd4mhVkCkMnjILPVCQH6Rchit4EZAAgXnTu20OkBgtJRcgnFJQFpMXCHJWwFAkBmrolKhN0A1VPPNjBpVQEr05YiTC1hAyDUo1nItQUBJcUUdNyk+QLdzqO3fdh9Ae8CauYHFTUBDkcZlHgIsQDmEUxW/7E1Ae/3WhGEeNUAVau4UxFU2QAqYAPgOzBtAMudz2zGBUEA4dFQjxFNAQNWoEM52/CBAcP3GSdZkPUAPZfCS4cAvQFifNZLTz1JAAXpl+w+YNECz5hmA6TpUQNNDQ09BxFVA8grmflTfRED/26+Yt8lGQCbiHmnfB09AQdVAsWJJMEAhstXuy/Y/QHNx+wg2cT5AQpUs4R/RVUD/sdq7IdJYQM/Q01fNO0RAlBRDCg2qP0DUoCzUnSZKQDZlYALSrlNArmDmlsOUPUDpT3Q+R+xQQBRhdSvZxFFAVJu6t7vIUUDQyvmLJrQ/QIfovxw3Q0JACK/q3JYkRkAz51QgJb5RQFmBs4u9OUVAR+1NyAGIVEDuOH/vHEFAQLlbamjIulFAJnt66pKZSEDEbS0Sz8FWQC58v2UrICNA7HnriqQ+JUCaKdcswPQ8QGuxenQF9iZAqlLfeEaFRUCESXRywclUQHeamWhh7lZAoZHIBoZXR0DtUJ+TfDsYQHZLz5liUkVAPquMv8lYRUCBLu+A4L81QIskxi2RgUZAPxXFcyrgU0D7/BKZ6yg3QCDOXqZKckhAfVmfcFAsTEBKR9vgTM5IQHSVvoNAiz5ABncvDAEgUEAdND3lzwo0QPWVN8DA2U1ACS1V44lZQEDY523k1dpRQOhPsOFLv1VArzyCDWWDQkAEXjerhbRGQMKuYa9ll1ZASzrjbrZRVECE+uaW+BFXQJYiut2C0TlAFRFLx6ZdM0BIbsluC+I7QFLA0hQ9FFRAL1qZjMyLS0A8LNdYYpo2QOz7qaHVOkVADqd3vOzrF0CS4RLyZ6FMQF5oWQ8P31hABNdtv5TlVUBraZtl12lCQBY/T4iT5EFAb1dRz1n1VkAHWKqcLzQ1QA48W6s4BkVAp6TVU+KMVkCwgdIznMlYQG0wD04irlZARkKZcHkNUkAmx9Dh2B1XQDdq1+D14EZA7bHWloA+VkCK3Jxl5FlPQEaIX0bWhDVAKxeabA9uTkCICHVdW5xRQC7tnFrcdzBA40k/e5SKT0CgbtM8RlBTQHoS5Q2lqDVAVwAF1qtzUUDi7CxALdxCQFJv9q6BGyZArwITNvDKRkB0zX3D7jlXQN0FTqNW3k9Axh06rXqFMECHMvgOQBdGQI7OIT/C0CdARUW87qhBV0DyqfD7+ptCQJox1NJ8tUtARgVV2wPNVUDYrvdNaw5QQIeDo5uGHANAm4KOlUcUV0CaEgoEhBxPQEnpAvs/Mi1AX04hIuxnQUBjKVDSGpJWQNN+L1KgxVRADquUWF3hV0CEePZYPkpQQDBSUA30pRJASCAoVfB/WEAT0oD4Ln5JQGBLx3MI/8E/dhHnKFTw9D/JbAPEr00zQBCPTrpcO1VA4GIILzpTOUCujRJzy+QlQAF0xlzFB1dAWCwp377RUECDlN/o2WNFQHJm+Lg4MT1AcE3P2mSsSUAdGSMX6n8iQADwV+JA/0JADfY8eIEnIUC6+WKoGAtXQOt1i4hsI09AyTOCnFRBWEDUz1FDJ0s+QLTvsWmumUZAjIIlOSa+T0AtVdP77qEdQNmjirWwNFdAVrEbLWRuUUDulQaCNGtAQCks6vUNpFBAIKY38WXnWEBBY/n4sxhKQFeifMjHlVJAivC/kqzJUkBphcKyz9JTQKtYofNy8lFA4CIUT1s8HkCNKijhQgcdQB2JooM2BhpAfoN4P38SN0Bp3gBI+d41QGXOgnBMaldATGu7jfd1UkAxfcPvO41YQE6CY1cIsC9AiDy/PerSSkDLdXiqvuBJQA9/KZtwrT9AIHTKSsY40T/091eVZ5wzQAyGvYOotkxAm3XRR2//UUBUCunXgsxTQGgAlgI/6UFAuaYDmReCTkBGh6ae9uZXQAFaGy44A1RACO4tHFnxLkCj5kFwVElGQFzn6PahfVVAe46HZ2XEQkBA/7ZvbHZSQK2ygRzokRlAJZjy6gLhQ0DDkPBeccNMQDkBTxmqKEFAnxWiW/uKVEB/3SSHbmdXQKwlcLkY6TxATVAmVQh1Q0D1cR2oQThHQE6IbmUvOD1Ar/nPpflwVUDiN2gSDr1UQB4CJmlcU0JAUS5ZcYciV0BoC93HIwhSQL7pA3RB2FhAoEQ2/QiLQEBLTMT85NFGQMp2yNkHDwpA+68Rudj+RkCOsXr3vGxTQD4J53Mg0VdACSV4RuZnAEDmj5+wU8c+QLpf9c5czUJAMNQqCR9v6z+NTfgR+7dAQIafTU+r7ztA+GrrVpczVUCdFfktFYlCQItsQMaPCyFApAFI4KCbSUDnR+Edzk8yQI8VKFxDwFZAWqpGDDZ5VUCtG9TaZkBWQBcIkWR8Qk9ASMbyQtOZJ0AJtA0EUmVTQI06F2BAc0BAif1WSlWRUUAMq8z7NCRYQCLtAhuvtkFAcweVGMiXQ0BGfm23gONBQOYg1L0hbUJAWaW9g3HVUUAY16vVaz5RQPDZzdrEAEJAYl13DUKf9j8m6WfpZc86QPYgtqruIkBA12/qtCPvQUC1FAtvdyNLQG74toTr8UpAyAvlmMp+REDKgevvgvpUQMGWVMuU1FVATSFQMwmWV0DCSKOhRZxCQElDc2GeV1ZAz/OHhQNIVUDQpvG9BJwKQIkV/mup/0ZAkA7gXr8jEEAwAzvG1Vc2QB9fFQqkaUZA3Ft9eXI5TUCZCBBnqbhTQHJbrr6Bv09Ajy0hqBgFQkAGgmj++JRVQLdDIIdRQVBA/qjKG/jiREAEQSzXjkBUQHnv+RAJfERA+TqVO9rkTkCfqfQMINU2QOlNBGFTE0NAblCsJjKXT0AJgHMMEddTQJhwCHc6ekpAsClbTzMIUkC6fPj7nplRQJaP5FYxFU9A4DI5Cv7rU0AVq2+oV0xDQKQEBRT74lNAwo0yYuFXHEB4VrLpdYJCQMBUG0mpaEFALFZyQirUMUBeraIYTR1QQLDrYICQvU1AWWxKkw19UUDdH/s5+E1VQJZjFZQlnVZAZywdWCcJVkCBP2tS4IdVQKLilyf2cUdAeBY/e1bMWEBOwEuZLy5OQJKpSvdmj1dAjDvJHXIBM0DKItYbEdpQQP6+yPbULUNABr6Gd3UkTUD+EpX5gD8TQOL5oDaGOFRAotZ3+mhnV0BWicIiIYVRQCMVDA8efkFAaKfVS12CUUAeBHORwmBXQOP64Kh61whAHUmHPOsAVUBDI+V8bSJQQN43avB1BUBA0BzRh00Q5j8+9xk97YA3QF3HFcstd1hAt+yDwIcNUkBqUcp5YxBBQPhgFjlMmFNAN4fFYbs7SUAUqfqH2+BPQEo8wQsOcyNAQD4JlXzuI0Atbn6rrBgrQIrplcXakEVAPipDfwgaUUA4DzftOSNRQMpnDDvw+U1Af+w1oNPAQkAGg9vuhm4yQN/JFlXlojNAdm7x73yHIkCFrlZbF2kSQLQtwd98fERAwATEiiWQH0D+l2/AtfBTQPP30A2YGVFA3X7XxXItM0A8IkeSHihWQNKZUIpot05AvPmsRniJPkCwP4xgW+tXQBDdTJURsz1A30mWptwXUEDkxsU8d97/P3d3oJFcjEZACaUwMhiNO0CXv8fl/HdKQIvkFwCx5FVAjvI8ZQmAQUA2r096/dNXQGFAIvM/5TFA6ELuqUeXUEAiJs+p9ORAQPil2D4N6UhAjisTb8IGRkBkT3Ncr4k/QFGICpiiolhAyOSRodEkQkDKssA5BTJMQObPI6bOA01AdzsOGL40OUAPwWKuckxXQFF8awujJkNAurVQ3ilIJUDWUcOgDj9SQHoGDTLBSjhA8U5cCtVsJ0BqIASjexJQQJTKm6ALz1dATUIBvF9BREDZv6pktEdYQFgXUYHzx1JAfBcgaLlKUUDQrhDPgTpMQCxwEuKCTTVAgQcpPhkWVkC094fA1lFPQDTi7M0XwUdANiTFYSwJWEBHSvybPQRUQAfB6TOiNjlAe4u3VtfLV0AnMdz4HOhPQKzR0juGwUFAaAEAce5jVkDkorkvVSxKQJ4SgiSg9D1AoghNXPlxREB0WI0oiuFYQFKMh0LtwUJA0gHsK7QWREA3lENRdB1FQEqhs5c+RkJAX1m8OFEBPUBTKygiDSdUQFAvKJq0oFZAL8eLuLfAJUBeNE8PWotMQKUySmaZqQZAFaSWBYEMOUB20InwXNIyQAqIZ55C205A7LFHOKisOUCmH9kSMAEDQBJTUcf5uFhA5CN9dTkBL0BmEtywduARQPw5Fq95iDxAtjtFzGixV0AZVF2YxMVYQLz0HjQ/+kVAeYdyeqXFNEBnORmQkjNQQOYC92GG3VVArttvfFG3U0BSW2+E4XcmQLLZy+bueVRAc/RNBd0ETUCuvZeYkztCQEsKwYHtSExAidvO04nEVUBVIgkXObJDQOIdYPNY81dAgqlHvOVyU0A3m6c4UhU0QKmPmcpakVBAGwgK2faUQUDABUtBbq1PQDEgBNsO8UBAYvNfhne3UEDSmi0OCXVDQPrSh9hzEDBAX2jzUrjXL0BUDs/WAYxSQAaxbckwgEhAaBnuTMLAPUC0R9K7nRxPQMY9vEWmhE5ABYnMh+xES0DY8X8fyotEQO1C/5ClXzRACVlDUej2VUAxLA3O+RtVQH3mJ7TLFVJA1/GyLBPsVUCe7rExjihTQCex1GdoAUlAFZqtIcwqUEBOFwmX1XgVQLmRtJcAEzNAwqB5wjSUQkCxInftTbRQQM8QV/XUq0FAspFkHVE/MkAWw309ExZDQMgXSGuPM0pATNu+WHkGUkAB1AsjBYUCQHP+cAYXnUtAly/T+BJDR0AAgGGVDxFNP/cKeY4JqUZAmAKTzHyYMkCuH4W8VzRAQGwuCS+A9BRAb+fnqKi2S0ByTCWXVRYXQBpHeDRU0TVAjyg5kVumVEAw1tggkr5UQAQkErClfytAgad5xLPbR0A6L1xkqvE6QFqY+ZO2aDxAhhaRK1B+IkAcQ8iXF5hAQFSGQP/f/1BAXRUAadm0WEApDXA3lDxQQEyNJh55VFRAy7laIY7yREDS9WbLXFRTQCLrYrojTzdAMXtMdLPiSUBOsZj0naA/QAZltVvM9VVALmxErro2QUCNGStP/CpWQDml18h1jkpAgKHgdGC+3j8nYxUXcx1HQNeWxZT0DDNApMBjZ9vHG0CtAo2oGOpGQDsRiPuuiTFAav/rZNJ1UUDlbJG9zBonQLGLisHkIEdAh6zOgZdpIkBuTRQC8bJNQHvNESMu2CtAk2E5hscAMUCCPsD979AtQC4RhviU0RxAiMDzOvugLEAzzPtS7pZTQINqeTPWo0VAvuxAfjekTEC0QtDQpBtSQCwgB5urvkxAhrPXnx6XTUDqFMgSDmhAQKHdRkV2dFVAXy3/esM7MED0xKa3NIVMQAshS1LSjVNAbW1gPuOOLUAhMhgbKUEjQHUIvJljWD9AfIiwUUFBWEB2rNAKe8lLQDTeUWCm/ThAQnfjM51AQUDJH7QS2wAhQO6jtoV40FFACtL/F+MkNEBrjbqEAedWQDX+bGSzwylAWc5sn01mR0CYYYBvZXsXQBSUxPM17TVAuB3tsnp4QEDmnwmINphJQHwln0qOjVNASHbc/liRTEBWgqiRkqkoQHGnobaRe1VAtALSezq3NUDR+2CNrJMkQF7FLfYTtklAb6llwJWLMEAAsAyw3btNQA/hi4+hBUxAMJqQQf77WEBEkJsZNCkzQAEKaJ1mszpArAy7FX/0AUAvGgIlJl1KQIeuul+iH1dA/f0JeKVsUUDE0Lzpf9o4QNaiWkIQwzpA1OILVkX6V0A055M59H5UQBeq3seYBzVAKNdMeZElVkBDpHwbRE8xQLKy9AX770BA2uj3APrcVEDFB6IMkGtEQM9CYYZCLktAf8KZ7D22U0AvsMEun31SQDzOLUJ7tCBAphYqhr5YVUA0vnpigWNNQH+1ty7VplVAuqh9rrxxMUBu6Ir9jVlRQBEut6TYFCNARKnLllTFVkB3jl8gwFssQGQwC9xQvlVAmyCkm3lRQUCNaXOSGOdGQO3ix2EmSlFAjZJVMmR8VECziVPDeTFGQJMB1skzbFZAWcmlyRljVEDwMfA7T8s/QMxdFY4bzVJAxV/VdHfkFkBiQ7Td0j5GQACP5TCghPc/n/mlSAVMQUAnEigQodg1QMCrn8LKlUFAWfBeVPfxQEBa1xdCatdKQOJw/L9ZqB1AmO7fENxuVkBzNad4f69VQJuWTpQ8BldAcdj+HbnuTEAo8v5Xmz1VQOoWd2PVUlhAd4l03hqePkAsYvUKlF0tQAEU24UvGktAYBitkBpjVEDhfRP41IYrQF9HJZkON1BASuIwncmFFUAqg+evEOJRQJxAdLs2lVBA92qBQ42gVEASEP5k9stUQMxdZXULEElArWbyHicuSED+oYe1AY5EQP4r4V1agFdAVRPrD4AQOkAJoJBZsRA8QJe0CFv+STBATUnmacRmU0CsWj/B7VoxQDxpMTBw4jhArm8V/8m7WEB1TiZkMSlYQDdX8sJNIlFAI+P6IwchKEBpQ4TlKmBYQAa2MNrxQlJAyDdn9UbvQUDz+LOCJ8o+QNgrb3y/eBFAVNuwVS01IkBbuCMnyj1BQJY0ULGhWSpA70MfrXXXQkB+cWStl5tCQEZNcSCcQ1BAO2hDHfyOTUBLRVQwrDJNQMmDHDTVxDdAvRL/8Lq9WEDVlAHyBzdVQOWG3mJqFVJAeMGAwSWK/z9X695UiYo9QJ/p+ie2IEtAYgJnVedMP0AIIJwjDC5NQGKVfwq0rA1AAHbXdhoBUEA37VRoZYdMQMARyR7YyzZA1PoSSjUEV0BbBMRTMbBGQIr/mkpcQz1AB04+4Sy0VEB69+73MuNFQIwD78oct1JABAx/iVGAVEBifzjKzupEQExpv5ThhlVAnKMSle20U0Bo+XSb/kwyQJkDGtsF9VRAXOQ+voB0UkAvM8oChsI1QLdvDksN2UdApXGhznSkPUBslRdljGkwQOxa4wv8d0tAnrBCc+cDTkBZAE/XMW5OQKcBXyn1KDZAkKKDW6KMRkBh+8Yue+03QOHUMpCx1UlA6wjKkFCIKECEoL0Hz0tSQO6j6WJfWk1Af1R3tyalT0DKGbd+wrVCQOhJeqU1HjBAOBkTcdj5P0BGZbZe/zlIQOlWk8AxK1RA6bJSVn8wSUBX3wqSv1BMQGAlRz0k0EJAjErBDpnQQECVnqUL5PcwQDwQofq5Z1hA0N3pwUbrVUBMTjjA82FTQAJieCF7wEpA0/D75eY3Q0D94gB/yhFUQHjexBdDHh1AvgOpPThlQUBaRaD0Ru5SQL0bLb3C9lJApWfGkovxMEAshHW6T2NSQAR3dExVq1ZAijwbv2jLREArdsvNWitKQL2wYHKodApA8w2TqfcJRUBUzGgFiQRQQBldYmWlbUdAQmw9YGGlMECgg5FuGutXQKKTMM5KPC5AaZV4p9CdVkAPUQbhU9dPQPe33QgMmiBAgYs60Cg2EUDOFc8f+To/QEF1tJKruE9AJUmUJUxeVEAcg4qvBeJKQJ//ayko7SZAos5v4rkLQEAd41SDOyhYQMbSWo5YbC5ALkJf3nztNkD6A13JYZ1VQLowHfJW5VdAsw6iqsupQkD9bfJR8SpSQL01lZjK9A9AymUBKrYuU0B4DKh3PqxGQLpFuAaFE1BArOq/E8wDRkBUr5B8wR1AQBIsiM4shjBA9l8JTHeVSEC/AhVQEQJXQJr1bCtGUjNAM0VhUwGUPUAj5SK3LKNVQOfJJr+v91JAYgXIepKMI0D+Na2lF95DQCXhP00ZoERACFmXAZER2D832ddc5oZXQEQYmabuGFZA9KngCl4uS0BYlzUDGckdQFy7EUIUtVJA7us5b3MgQ0Acqoq/roJQQH4o01BR6kNAEaE0Lnp4U0BZw6taEGtYQKKlNnJwAUxAc/tQAxTgVECcMHuif+1TQF93E5y3YSFAkRTApAuBS0C5g+0f7nlOQM/bqpaCNFNA0FbotkA3UUAQgoiSpMBOQOP0p/wU9DRA/xP04sutNUBmrThGr2ZBQJaUnEF2QE5AvpfjRsOtN0AAIbG6CPRSQJzo0wwNpjpAfLSHcpbgQUDm3WQ0jkVEQCZ1mkcHT0VAriUtLNNsUUDwZiJlF4VJQLpS5HcctUlAdJq3RHsxRkAn7ALB9ztYQNozZUfUn1VAzRXuqB+uTkB6wWEkRGlHQG58/F66cz1AGMPxWvNUOkB6kftJNZRFQFNDIXUovVdAOUjde3JtVkAgWQps6W1IQJzXDCRPvFFAsqT1weszT0A1ZGZIAKFVQJ2/FGeDx1RAIN/FQaR3RkC+uEY9z1zwP3x5+ESstyFAQw3zF+mgPkC0V6O0/uIRQMAigWu+iuQ/Ap2DZUcyTUCWSopAiPNKQOOHiGWHM1RA6Z6mPNPMNEBNTo9xRq1WQBlWA4VdL1dAmzVEP+DHS0AvFYJg8SM9QHpgYLnHBENA7tDrDvhORkBIseYrL/VCQOUWmNFCFUZANJG5zUX/RUBXOANfM70yQKZ/XpMFoVdAy5EBDlBfMkBe4V+s4LUvQITalpZpGT1AVktTbjVyQ0Cs9gZNql5EQIyhYE/oelNAabQ0e6MHSUDnDHkQXw9YQFPyiz8F9kZAy9w7rdI5QEA3IjE/flM8QOG97aAdh1ZASdkcbqIrK0Bg4T+EOnhYQHig9NM050VA29TQ2PqgQEDW+tA5g1dEQEAuaIqH4VNAs/J5B5DzU0CwKndcpF9TQIZG1lcQo1VAV2MVaGhpNkAUl8dS40lXQJKyYeqxJFRA0CcuCQIuUEDV/ZeGyqoyQM/11qU2nzFA5h0j1XfzTkBXEVNxAvRKQFz0NJRrY0pA57tBFsIbNEBV9iWoFRczQHdNmomRk09AtNQlmyDdMEBZ794YQ2QpQJsPiFos0lRAI9LhE7iAUkAAmTk706JOQOGPEz/XuVRAfgLn/d1yTkBrmokawWNJQLSU0ZFfpE1AC3bzd/lxQEC+/49HxsxRQOnniuBgIT1A84y5E2CfWECiavghfSAzQInTcY4ANEJA+QnJA0TVQ0DXXx+nuHNMQMDJLk3SnVFAk5LgrMSWT0ARtTyPVr45QDJWI/abZlJAZOv1BSeKVEALIs7+AkxAQL7Z+qcmk1BAd9HDHvb1UEAvEbWVNdBOQIFLjaxGKAJAAQ9t2k7HS0ADmhavWEpGQCgSyLnr6FdAw/JDmSD7UkAI6vU5l8FDQNLK/Nu0jjJAL6r4RbyqQkAZbWFLeVRWQAiionJm7EJAp0IIh06gOEAKgLOPMHFVQHSCBAvkrFNA78i8qcBbQ0DeNjitIeJRQFh3LFKfEVhAcGZ0TRrdJEAY0ujutQpMQD7k48rkAk1A7tq9zqnRWEByLSqvWrxYQLkkdUMsIUdA+IiqzEt0WEAKXncUAf1MQFYajHQ2ilRAhMEOmzmZM0B3ZKdvqwMdQABsuxVvIUJAFT/SYzILVUCSArwOos0uQLikk8igBRdAoAxEXBpsOUBYe2qFFTpTQOw+qJYMaVRAABwsq8o0vD+veTEzaxxJQAAVo1JLDCdAjRLv9RgqGkDZh1uPRt5RQHXc63e71kFAb6sS2Lv2LkDY4fwM2N3XP6jG9InAqlZADo8sZ32+UkAgOT8dlrFUQF0DoDmJHFFA5tziNGm0V0ChzbSqHTEmQDGm2Rdk71BA7doiQz+uREAfGwO5l4FSQNsnvGY5tkdAh9E2kGVfUEA3Lm5biYQ3QBFzNQ2Lr0JAmwbo57VmV0D7ICe99PNWQGaSe2UXe1ZAk2L+3C/JOECVfQTpGe42QJZWfCXEeC9AoZT7j9sKMUDs2f7H2kpYQHSCnAXj5FdAh5D9CC6xQ0Dm9STRqlBNQKcP8hrztCVAQJKEjvosRUAlWJ0nR/osQKR7COH03lVANax0S4gOR0CKsrJ9qpc8QJmKYJfe7lVANLRx0hgpMkBBx3aBxadRQMnZguuTo0ZA8qpjPuycSUBmZYCEupg/QOTFAs7TlC1Aznq43+BTAkA3qKrJTG1OQJ9q+wx6fFhAoCG4E+HOP0CxqkfhJCI1QKZlaCbHX1VAbwEGtMH8RkCEMkvvU0v1P+oG6DuahzFAf/y5uDd/T0DfqKmfQ45EQJVtmAr2rFdAwjWC6n4yLUDt/Gfw3FchQHtmCSR54FJAm9K7ClbJSED3QWMFvcJSQIoN7Php/BlAaB++G2OSJ0CQ9QIVX2c9QCgUqrUITEBADwz/0ByDV0C0ECgSjJpWQLYrOYySTUNAMXDl23S6S0CsXqh8V8U+QLS5mSUqG1FAzoX4MhpeUkCK4d1KAtBWQKpHPRFIO1FAqaE1nOlIRkBE42xzGVApQFl/6hSiCCNASg4vCE8TKUC7znMSz6dVQLnYcO6Q2itAgwC3Fm+xO0DQJ/3MtU43QNoaXADBi01At2HpgwauUEBMEEjGgfsyQM//FEpLh1FAeM6O6mv8UECYctFe09dXQBWGlWcf61VA+nHB5yyhUUB5OOZfkkNCQHIVcYl7fPw/vr3hWEdhMUDd3NzJwdtKQGDZ3ogXG1RAcOCcvjNHSEDSsYjM/TVNQDUQ1GGPzDdA+3aCoqkuRkCwvzMx5pVBQGwgTnotPiRAdviyJ40jVUDUCupfd+oVQFJaSYuhUERAWNFI5v/o7T9iht1vMjJRQPo+rsgqkCdAcfyRNR46SEBNjAGWMSk8QJdfnAcj/0NA0VHsZ1ddTEB+rhPmLKVJQN8cjNz51DNAhQ0YikSdWEA/uqbeuE5KQAGv6E0E3klAUR05UNHEV0CIu/g3kn4zQNYndPAPrzxAjomDUSfrWEAaQhpbFTQuQDHPZwR6705ArGRfO0A7VkDkzFIOaiZBQLxXN3+NaUpAOCLS2sImVUD1KKwBnB1IQKFtzYUcNkBAZZc92YjwREDTWdc0mGNIQGV6N/uP60JAYtuHtHfeVkAEdzjyvyFRQF0UQi/7U1FAnS5KSYthQUDZQjHwp0w5QGTXfqNEnUpAhNwcvD1yUED+D3XpkmFJQHDjaxYc8lFA5nbq3PqARECiOvh95v8RQMiVQDKqY1BAU9irdDdcUUCNHJcAHsdTQHrNcn8cNlRA2fM7157DUEBxbI6Fl9JWQL8rCI40VDtA9o39YjSZU0Bhp2hy9ng4QE/BD8OApCZAYkTSZMugM0Cx8uwwqt5UQGnQoUitVFZABnYil9eRD0Cb+FSorhhSQGoyFPWPlldAhYydIZIHPECSMaHhhnRUQLqDkZtz4fc/Cy3WYuGrS0C7JrffbqxTQPvhIg495C9ATvWo9z6GVUDcEdASuw5NQBjrM0iqBkFA/DWFmZFoJECaHzCagj9QQHd40CRy2UNAojJmwsMYGkC3OresvnFFQFGQxNnbA1hA/I7dZocXT0Bsl8RlWSgzQBv0ntH2DC1AACqisterJUABT9jSZPtSQCBxMNrmpFhAtBSnNlwPQEDbkEqi1e5KQB4UXLzuB0hAGaJhX7b7WEBoNctIWSRAQNPi8ih9rT9A2liQr0hzU0DL4rmURFBQQESGSHqfkjJAiRMz8vWcVEDRB0uQRwFCQOPLPSilvUVAI2scdx13QUB0rJeIccRFQA9V7OzgqlFAst+8sKVdU0BOTBp8Av8+QDVuCYh6iixAzxvxXYJtU0DW/beZWN5LQPxuo0pQbThAyjuNVnLkEkC6afDjhQVYQGj07Q7gOldAhTk74XOXVUBq/Q8jsrNJQKfm9ktPO0tA0fxQ2vayVEBKdVtDUbQzQFJlOVUfeFhA22g9iCiCOkDrPKAzoBE/QBQfN8CN4v4/d1QAbGi8TUAYUqVnQqlWQAbPVs7FKzFAUas5VLCqK0BNVkqnKP9UQIE9QfBob1hA33tKp6L4SUAo/vSjTCsOQMz3NiOqiU5AIu1WzW7LQkAj9NJ1d/JKQNqmM3yW5khATnyrJHk9Q0ASrcTH4uc9QLrpfAij0kdAHyD3kHt0NUCeeA7U4WtUQEj6R+l06UNAB7DJ4tv6VEBdYBWIB20tQFtAN1eD/VJAwF2aQycCtz+UEeKcFgXlP4kxaFQNg0xAm3g3GSoARkCKqjhuWD4sQPkZA8Vyv0tAQkunA2/JSEDW42nfEdBWQJGwnsSTB0tAgHlpUylxQUA+2HWCXEgxQGdmok0HA05A0f+uM5DKQkBb6pdisTE2QC3uaY784EpASjOrpwBDKkAyvWiy4xA5QOqC6+2yIw9AGjIT7PGwQkCJMefpZtlQQBUk7jQrXVVAcN7n7/FKT0Do8/mIeDlXQJJuJyG8gzRAsz0zR7jrVEDHqFoeJTVXQKBXdzRiESJApBFtuo+BVkB5brXftkJIQKodnddWFv8/aq/PIcTCNkCriqAKcQ9QQKmekEH25URAqHbNXyFoP0DK2rgn7O1YQMzjaEad9kNA6ynDcsyyN0BTG0CAwQsiQIeiV4uaADtAadGo7RHdSkAFqOyPVXVWQNynkOfXslRAhx7NL40cM0C0iWMYJ9tDQFfoXRR0NlhAVwxrgYAwSUC127y+rplVQBQvc59e7yVA9vGAn9WiAECqlfymCjU/QBjxhjbXiTxAn6RWt2BEUUBkBbhl4E9RQG4A6Kzx4FVAxBXAXmkZVkCk8Bka09QbQDfQF0XFcENAls1tLFR+TEDPlJ9Rw/M5QDkRaanyizNAemFzdm0gV0AyPI3EvtlYQAWl2j41cU5AewVGxB1oOEAfBvyTwNNNQFyIY4owAkVAcqkXN39iLkAodlwscnhIQHi2hiHzyFJAdetUfsoRUUDJ9VoTOfRVQHv6DilFjSFAYnPIo1vVVUDeN+cumMVEQBgwNq+mFUpAqg+7JKsWFkBEhUQWW91QQO6gxN0mGStAKLEfYU/cSkCWxSbsid1EQBpIf2KhmlZAZdYyWTILM0B+/mhWMBA7QOVw6paNXFBAV+NBEIfKWEBkO48zf4AwQKN6VD/M2FVA53RI01atWEArl6dPhqNDQIcReRokUzJA3ccgFRvhUUAMwOfQrlBRQFKO1absqVhA7K8EnEFMTkDoOE7EGiA1QIWt26glrkRAPlIBNpuL8T+pQG8xO0hWQEWGK6W5KlNA3E4VH3NtPkDWXxmPir5EQJcI9vPWoVdA5VJhlMSRSkCJdwjQ8O0qQB8VJM4rZk1A4rjUHPHtMkC9+cldfiVIQM1XROzDlT5A9g855gqESkAU3QEFiRwiQOEdMPBB/DhAiVPktVqgSkBwvA+P5/orQET1VM4bnElAs/qEFlARFED44DvKP61TQDXtStNt8DpAcVCWnag2J0DUB35AfL4eQNL5PlMmlVhAIv25fT64E0Dm+CC7NN8vQEmj0EfK9UBAI2gW7ftwUkBchimp4DBIQHG9A+oTjkJAqlJBf9/dOUCSdSaoyyI8QEQXtgvlpjhAziuC7mbCLEA4AkDg7XdFQMl9Ct5eNC5A3/+kZFa1OUDEP97IGX07QHSiyK3jl1NAkjl8i9AKVEDkxSKmdFs9QN2iggEwhVNAnpTQW8kEUED64v8Bjb46QGiA5bzNuFZAavYb4+xEPUCIgZBa/zJNQGuUCGlHOQNAoxbZ8eglUkCboasf+aEwQI8HfjlDbzJAJmv/Gvd+SUA1BDobShBTQFnVu6ROhSlAf0zKnFpnUkCGoIS73hhLQE5PXvTCf0RALGGx7ssxVEDEwksFdsFXQLW1pjMzZhxAf3NRIms4TEBpCFVsZuNEQBg/4vtbqC5AtlJDnCmmQ0AMznCSBwpUQLgncf3Cx0dAy9ckWiUeREDeafbm969RQC8P8KJrsVZAJL7wu/spUkAsAqtl0bdRQDRhjJeZoVRAJDI8JwXNP0A9LXrYQItUQBxgutdKbFFA+FqMpefVVED7bOnedN9XQLDDRCHXJEhAFNCRSVA7QEBap41cHLxFQJIT87iWPlFAXM6h1OaLQUCglelOuTBWQODHRy6oED5AW2geJKZpQEBfewDW4xE8QF+kawo4N05AFWAMHtsqOUBB3LislcBXQH738irORVVAOQRmwPdiVEA3vntDDjhDQGkOiQPUMTFA1V6/fx47NkAH9yr2UxFSQAJAFMWsRAtA1qZcvJmSVEA+XdM2jT5SQB7q4/6ODC5AyHw7VSCmOUC6RppnvHROQD/blWDtT0VAW0B1Jih0QEDgW4BD0mJVQKpbhLceVjVAq9sYJcCzUEDU+T3SMnhKQK6yS5da3E1A8ZBknnqMIEAq1lKQAnhVQDRAZKGPq+M/714lislvSkC0XzV/+l1FQAp2tgMY/0NAzMh/0Y1LGkBt5KeXdBxSQLlV4dBW+ElAetmbUdFUUkBAxuuMqz5TQIzrvQIgk1dAxcOAiKUjVUCABztdzrtWQM1OVFcv5FhAqFTZUz8Q3T8JCTWpiCA7QC3Ps8ntkUVAkranu3fEVUAgPZcOIihYQIVdHhQ5RlNAy6Vrrj/EIkBE8POVHdxVQOYCN/97TixAT8ny3r1nRkCHvdy2UShCQAeDpB8N7lVAkt+NJvTGRUDgZupm+HdLQO0PJ8yLrDRASPARebLGV0Boq4NR1OUyQF41KTNIFlNAUtIHY7c9QUCA/KDQR+cZQN/DhkiYHVJAwj0WMzkzSUBND68F+RRHQMLeXNs6iUpAhYziQQgNSkBue0m5iopSQFVXin44o0xAS0e92VbnUkBAODDoyURSQJ+jOWOHsFNAblXzc0ljQEC0ccMnxv4tQKl18CzREUFASEkY6pbdLUDUsENaZiFJQHS39MxyhjZACl4HdVD4PkC/YCoJ9gMhQCdLwKhey1RAMEXKcvFUSUCsl+5V0yJUQGMTWFmSLldAlD8//9geTkCw6uxMjZM7QJwXe3Rudk9AEkhmUwzOUkCCDt5X9qcmQKo3e+WWe0FAabnkv+u5TUB1+YG0LYk9QAPwnFXJk1ZA0Gpef5CJSkAq5Lo8qxwwQPPjuUPdTSVA4G3pX7QpzD8yZXTDNixEQPdKnP/Qx1dAzRSAHfcEC0AubmFDPA5DQGKSLfUvbjVA67LCF1msTUA9ebhazcdQQAHNmF7u/zxAzwRl/AZWS0Bs7SNeqkRTQEIMTIGv4VRAM/z9cIc1MEAe2p4kBO1MQG7CsMBq60dAh+Snd3trRkBynM0XqFQ8QF755vwTIzZAuDrU+o4SLUAL1HyCl+dYQHjCUcDIx0xA0Pki7YrnS0AXB/9tyM9TQJ8h3jRFuktAKZchgcL1QECGK2euQ0wQQCGzsK9QY0JAoEgkg1w4VUChsAwTE/E2QKpsYbN1rxpA1FOPztgLWEDk743+LghFQIzp5V76pRtA8kXjs6DyVkC6Z6/xCMwaQFrY9ZE+ZFFAVBwfVcuMKEDtBnI0uHdRQMzYd3/h01JAklulgq4QTkAOII7VyH9TQFhi7PiA3kFAG9GpSwmzMkA7DzdfXHs7QEkFjjdz+TZAV766fyyHP0ANhsbh+cQ+QHwWeQ6zA1JA8Mkek+NST0AemSX7k9QvQPISJHC5ElhAhYyNoXbZTUAUe4ou0wNRQKVmavDr3ldAhkAVyBraG0B2hUQlQHNMQGx3mBgjaRRA5tOrahYvVkCciSrVdwZHQAsR7+6kq01AZQuvF4AJR0Bp9ugjwgtUQL6ykNQNAztAFaMkbageTkC4jdUoDgoUQF/SUaefcS9ARoXaThbqIEAvw/cPui9EQNFNX4+9IkFAkp/eCNwUQUCdpVCAjWJPQAIGmKdkqi9AZtqIvVkkOkDgQ9LRC/vHP3SotetDd/0/Q34MlZRcQUBeplxybLNCQOpSIvpDqDlAYjY9bTnJUUAmnA9KPS9NQIqd3cTkwj1AoCbhgl8LR0BdjuFQra9DQPKOB/h+BDFAHD1LpjZ9VkAWv0STA2NSQDg+dQuKkE9AlaP3q4t8MkDKc3YSnrFUQAQw1V6+AlFAjXO3+5GGVEAPVto0B6pHQNMERj7RNR9AJzI8zjDwNUAifOEIn0pUQODhas8FsC5AU7v9B3m5MEDB5sboyctOQIg6X5ugyDtApuI1jdLjEUDIhOflj1wCQEowdiARVCpAuqhXXTxeR0Au0sCD4lwzQOCpjgyK7kRAlQUEjCVNUUCZDr1e2BNRQA2JhQUe1E1AXd2diNiMTEA6AiZi+NxGQEsarITnOx5AVRcLMp56TkDSu/mP/YY5QLgF9tdAIkRAwgdIE8geRkBHia4/Yb5TQEdk+PjVhFhAeXhr2o+DR0BgT7UrguIyQEs/LzGNGU5A5uvq5iZsKECZb5cFZtImQMbkl9xK80RASpoVlS/HJUC6dcYhyKRQQBMOZkpLmjtAoyUIbSPFBUBtvDHvwJ5IQCQ6K46ObldAqlgWt+VfVkBemPr8Rt5MQGW5ssbNQjRAMSIYT5PqTEC7Qy5sTis9QNe0J2CzNk1AS0vAJwN9U0A8EBFmWRRXQBkxykdSJVVA8AElpKzfVkDmoZzQIrU9QBf4zIr/Z1ZASLpVLnR5EEDlVXCFcigyQKE7K2S2/lhAPrtA8CeGKUBxx20ZnQ8nQIU3IxYHdCpAzBv8FxXwUkAyj83dC+E/QKg9e0ojz0BAesc/7Wm6UUDIm2WyGfxFQDhuj1KaezRAcp7cXjWyUECxIgAazilXQABuMs3MNC5AkW3dzvv0WEDVq6iGIFFAQDXB4qttClBAbW3u+MgpOEBCUgxflEhVQJT6MPRCDDdA/tu+2Xb4V0AVsgY6QENPQA==\",\"dtype\":\"float64\",\"shape\":[2000]}},\"selected\":{\"id\":\"2282\",\"type\":\"Selection\"},\"selection_policy\":{\"id\":\"2281\",\"type\":\"UnionRenderers\"}},\"id\":\"2188\",\"type\":\"ColumnDataSource\"},{\"attributes\":{\"below\":[{\"id\":\"2175\",\"type\":\"LinearAxis\"}],\"center\":[{\"id\":\"2179\",\"type\":\"Grid\"},{\"id\":\"2184\",\"type\":\"Grid\"}],\"js_event_callbacks\":{\"selectiongeometry\":[{\"id\":\"2198\",\"type\":\"CustomJS\"}]},\"left\":[{\"id\":\"2180\",\"type\":\"LinearAxis\"}],\"renderers\":[{\"id\":\"2191\",\"type\":\"GlyphRenderer\"}],\"title\":{\"id\":\"2276\",\"type\":\"Title\"},\"toolbar\":{\"id\":\"2186\",\"type\":\"Toolbar\"},\"x_range\":{\"id\":\"2167\",\"type\":\"DataRange1d\"},\"x_scale\":{\"id\":\"2171\",\"type\":\"LinearScale\"},\"y_range\":{\"id\":\"2169\",\"type\":\"DataRange1d\"},\"y_scale\":{\"id\":\"2173\",\"type\":\"LinearScale\"}},\"id\":\"2166\",\"subtype\":\"Figure\",\"type\":\"Plot\"},{\"attributes\":{\"callback\":null},\"id\":\"2167\",\"type\":\"DataRange1d\"},{\"attributes\":{},\"id\":\"2181\",\"type\":\"BasicTicker\"},{\"attributes\":{},\"id\":\"2281\",\"type\":\"UnionRenderers\"},{\"attributes\":{\"ticker\":{\"id\":\"2176\",\"type\":\"BasicTicker\"}},\"id\":\"2179\",\"type\":\"Grid\"},{\"attributes\":{\"formatter\":{\"id\":\"2278\",\"type\":\"BasicTickFormatter\"},\"ticker\":{\"id\":\"2181\",\"type\":\"BasicTicker\"}},\"id\":\"2180\",\"type\":\"LinearAxis\"},{\"attributes\":{\"fill_alpha\":{\"value\":0.1},\"fill_color\":{\"value\":\"#1f77b4\"},\"line_alpha\":{\"value\":0.1},\"line_color\":{\"value\":\"#1f77b4\"},\"radius\":{\"units\":\"data\",\"value\":1},\"x\":{\"field\":\"x\"},\"y\":{\"field\":\"y\"}},\"id\":\"2190\",\"type\":\"Circle\"},{\"attributes\":{},\"id\":\"2176\",\"type\":\"BasicTicker\"},{\"attributes\":{\"formatter\":{\"id\":\"2280\",\"type\":\"BasicTickFormatter\"},\"ticker\":{\"id\":\"2176\",\"type\":\"BasicTicker\"}},\"id\":\"2175\",\"type\":\"LinearAxis\"},{\"attributes\":{},\"id\":\"2171\",\"type\":\"LinearScale\"},{\"attributes\":{\"source\":{\"id\":\"2188\",\"type\":\"ColumnDataSource\"}},\"id\":\"2192\",\"type\":\"CDSView\"},{\"attributes\":{},\"id\":\"2173\",\"type\":\"LinearScale\"},{\"attributes\":{\"callback\":null,\"icon\":null,\"js_event_callbacks\":{\"button_click\":[{\"id\":\"2197\",\"type\":\"CustomJS\"}]}},\"id\":\"2194\",\"type\":\"Button\"},{\"attributes\":{\"width\":400},\"id\":\"2193\",\"type\":\"Div\"},{\"attributes\":{},\"id\":\"2278\",\"type\":\"BasicTickFormatter\"},{\"attributes\":{\"data_source\":{\"id\":\"2188\",\"type\":\"ColumnDataSource\"},\"glyph\":{\"id\":\"2189\",\"type\":\"Circle\"},\"hover_glyph\":null,\"muted_glyph\":null,\"nonselection_glyph\":{\"id\":\"2190\",\"type\":\"Circle\"},\"selection_glyph\":null,\"view\":{\"id\":\"2192\",\"type\":\"CDSView\"}},\"id\":\"2191\",\"type\":\"GlyphRenderer\"},{\"attributes\":{\"callback\":null},\"id\":\"2169\",\"type\":\"DataRange1d\"}],\"root_ids\":[\"2196\"]},\"title\":\"Bokeh Application\",\"version\":\"1.3.4\"}};\n",
       "  var render_items = [{\"docid\":\"eb5a0bdc-3606-4895-8826-bcea1aba54d6\",\"roots\":{\"2196\":\"0f2e1141-a6fc-4485-b7bb-b870619885cf\"}}];\n",
       "  root.Bokeh.embed.embed_items_notebook(docs_json, render_items);\n",
       "\n",
       "  }\n",
       "  if (root.Bokeh !== undefined) {\n",
       "    embed_document(root);\n",
       "  } else {\n",
       "    var attempts = 0;\n",
       "    var timer = setInterval(function(root) {\n",
       "      if (root.Bokeh !== undefined) {\n",
       "        embed_document(root);\n",
       "        clearInterval(timer);\n",
       "      }\n",
       "      attempts++;\n",
       "      if (attempts > 100) {\n",
       "        console.log(\"Bokeh: ERROR: Unable to run BokehJS code because BokehJS library is missing\");\n",
       "        clearInterval(timer);\n",
       "      }\n",
       "    }, 10, root)\n",
       "  }\n",
       "})(window);"
      ],
      "application/vnd.bokehjs_exec.v0+json": ""
     },
     "metadata": {
      "application/vnd.bokehjs_exec.v0+json": {
       "id": "2196"
      }
     },
     "output_type": "display_data"
    }
   ],
   "source": [
    "from bokeh.plotting import figure\n",
    "from bokeh import events\n",
    "from bokeh.models import CustomJS, Div, Button\n",
    "from bokeh.layouts import column, row\n",
    "\n",
    "import numpy as np\n",
    "x = np.random.random(size=2000) * 100\n",
    "y = np.random.random(size=2000) * 100\n",
    "\n",
    "p = figure(tools=\"box_select\")\n",
    "p.scatter(x, y, radius=1, fill_alpha=0.6, line_color=None)\n",
    "\n",
    "div = Div(width=400)\n",
    "button = Button(label=\"Button\")\n",
    "layout = column(button, row(p, div))\n",
    "\n",
    "# Events with no attributes\n",
    "button.js_on_event(events.ButtonClick,  CustomJS(args=dict(div=div), code=\"\"\"\n",
    "div.text = \"Button!\";\n",
    "\"\"\")) \n",
    "\n",
    "p.js_on_event(events.SelectionGeometry, CustomJS(args=dict(div=div), code=\"\"\"\n",
    "div.text = \"Selection! <p> <p>\" + JSON.stringify(cb_obj.geometry, undefined, 2);\n",
    "\"\"\"))\n",
    "\n",
    "show(layout)"
   ]
  },
  {
   "cell_type": "markdown",
   "metadata": {},
   "source": [
    "### Zusätzliche Informationen\n",
    "\n",
    "Es gibt viele Arten von Interaktionen und Ereignissen, die mit `CustomJS`-Rückrufen verbunden werden können:\n",
    "\n",
    "* **Widgets**: - Button, Toggle, Dropdown, TextInput, AutocompleteInput, Select, Multiselect, Slider, (DateRangeSlider), DatePicker,\n",
    "* **Tools**: - TapTool, BoxSelectTool, HoverTool,\n",
    "* **Selection**: - ColumnDataSource, AjaxDataSource, BlazeDataSource, ServerDataSource\n",
    "* **Ranges**: - Range1d, DataRange1d, FactorRange\n",
    "\n",
    "Vollständigere Beispiele findet ihr in [JavaScript Interactions](http://bokeh.pydata.org/en/latest/docs/user_guide/interaction.html). "
   ]
  }
 ],
 "metadata": {
  "kernelspec": {
   "display_name": "Python 3.7.4",
   "language": "python",
   "name": "python-374"
  },
  "language_info": {
   "codemirror_mode": {
    "name": "ipython",
    "version": 3
   },
   "file_extension": ".py",
   "mimetype": "text/x-python",
   "name": "python",
   "nbconvert_exporter": "python",
   "pygments_lexer": "ipython3",
   "version": "3.7.4"
  },
  "latex_envs": {
   "LaTeX_envs_menu_present": true,
   "autoclose": false,
   "autocomplete": true,
   "bibliofile": "biblio.bib",
   "cite_by": "apalike",
   "current_citInitial": 1,
   "eqLabelWithNumbers": true,
   "eqNumInitial": 1,
   "hotkeys": {
    "equation": "Ctrl-E",
    "itemize": "Ctrl-I"
   },
   "labels_anchors": false,
   "latex_user_defs": false,
   "report_style_numbering": false,
   "user_envs_cfg": false
  },
  "widgets": {
   "application/vnd.jupyter.widget-state+json": {
    "state": {},
    "version_major": 2,
    "version_minor": 0
   }
  }
 },
 "nbformat": 4,
 "nbformat_minor": 2
}
