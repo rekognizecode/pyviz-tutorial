{
 "cells": [
  {
   "cell_type": "markdown",
   "metadata": {},
   "source": [
    "# Interactions"
   ]
  },
  {
   "cell_type": "code",
   "execution_count": 1,
   "metadata": {
    "hide_input": true
   },
   "outputs": [
    {
     "data": {
      "text/html": [
       "\n",
       "    <div class=\"bk-root\">\n",
       "        <a href=\"https://bokeh.org\" target=\"_blank\" class=\"bk-logo bk-logo-small bk-logo-notebook\"></a>\n",
       "        <span id=\"1002\">Loading BokehJS ...</span>\n",
       "    </div>"
      ]
     },
     "metadata": {},
     "output_type": "display_data"
    },
    {
     "data": {
      "application/javascript": [
       "\n",
       "(function(root) {\n",
       "  function now() {\n",
       "    return new Date();\n",
       "  }\n",
       "\n",
       "  const force = true;\n",
       "\n",
       "  if (typeof root._bokeh_onload_callbacks === \"undefined\" || force === true) {\n",
       "    root._bokeh_onload_callbacks = [];\n",
       "    root._bokeh_is_loading = undefined;\n",
       "  }\n",
       "\n",
       "  const JS_MIME_TYPE = 'application/javascript';\n",
       "  const HTML_MIME_TYPE = 'text/html';\n",
       "  const EXEC_MIME_TYPE = 'application/vnd.bokehjs_exec.v0+json';\n",
       "  const CLASS_NAME = 'output_bokeh rendered_html';\n",
       "\n",
       "  /**\n",
       "   * Render data to the DOM node\n",
       "   */\n",
       "  function render(props, node) {\n",
       "    const script = document.createElement(\"script\");\n",
       "    node.appendChild(script);\n",
       "  }\n",
       "\n",
       "  /**\n",
       "   * Handle when an output is cleared or removed\n",
       "   */\n",
       "  function handleClearOutput(event, handle) {\n",
       "    const cell = handle.cell;\n",
       "\n",
       "    const id = cell.output_area._bokeh_element_id;\n",
       "    const server_id = cell.output_area._bokeh_server_id;\n",
       "    // Clean up Bokeh references\n",
       "    if (id != null && id in Bokeh.index) {\n",
       "      Bokeh.index[id].model.document.clear();\n",
       "      delete Bokeh.index[id];\n",
       "    }\n",
       "\n",
       "    if (server_id !== undefined) {\n",
       "      // Clean up Bokeh references\n",
       "      const cmd_clean = \"from bokeh.io.state import curstate; print(curstate().uuid_to_server['\" + server_id + \"'].get_sessions()[0].document.roots[0]._id)\";\n",
       "      cell.notebook.kernel.execute(cmd_clean, {\n",
       "        iopub: {\n",
       "          output: function(msg) {\n",
       "            const id = msg.content.text.trim();\n",
       "            if (id in Bokeh.index) {\n",
       "              Bokeh.index[id].model.document.clear();\n",
       "              delete Bokeh.index[id];\n",
       "            }\n",
       "          }\n",
       "        }\n",
       "      });\n",
       "      // Destroy server and session\n",
       "      const cmd_destroy = \"import bokeh.io.notebook as ion; ion.destroy_server('\" + server_id + \"')\";\n",
       "      cell.notebook.kernel.execute(cmd_destroy);\n",
       "    }\n",
       "  }\n",
       "\n",
       "  /**\n",
       "   * Handle when a new output is added\n",
       "   */\n",
       "  function handleAddOutput(event, handle) {\n",
       "    const output_area = handle.output_area;\n",
       "    const output = handle.output;\n",
       "\n",
       "    // limit handleAddOutput to display_data with EXEC_MIME_TYPE content only\n",
       "    if ((output.output_type != \"display_data\") || (!Object.prototype.hasOwnProperty.call(output.data, EXEC_MIME_TYPE))) {\n",
       "      return\n",
       "    }\n",
       "\n",
       "    const toinsert = output_area.element.find(\".\" + CLASS_NAME.split(' ')[0]);\n",
       "\n",
       "    if (output.metadata[EXEC_MIME_TYPE][\"id\"] !== undefined) {\n",
       "      toinsert[toinsert.length - 1].firstChild.textContent = output.data[JS_MIME_TYPE];\n",
       "      // store reference to embed id on output_area\n",
       "      output_area._bokeh_element_id = output.metadata[EXEC_MIME_TYPE][\"id\"];\n",
       "    }\n",
       "    if (output.metadata[EXEC_MIME_TYPE][\"server_id\"] !== undefined) {\n",
       "      const bk_div = document.createElement(\"div\");\n",
       "      bk_div.innerHTML = output.data[HTML_MIME_TYPE];\n",
       "      const script_attrs = bk_div.children[0].attributes;\n",
       "      for (let i = 0; i < script_attrs.length; i++) {\n",
       "        toinsert[toinsert.length - 1].firstChild.setAttribute(script_attrs[i].name, script_attrs[i].value);\n",
       "        toinsert[toinsert.length - 1].firstChild.textContent = bk_div.children[0].textContent\n",
       "      }\n",
       "      // store reference to server id on output_area\n",
       "      output_area._bokeh_server_id = output.metadata[EXEC_MIME_TYPE][\"server_id\"];\n",
       "    }\n",
       "  }\n",
       "\n",
       "  function register_renderer(events, OutputArea) {\n",
       "\n",
       "    function append_mime(data, metadata, element) {\n",
       "      // create a DOM node to render to\n",
       "      const toinsert = this.create_output_subarea(\n",
       "        metadata,\n",
       "        CLASS_NAME,\n",
       "        EXEC_MIME_TYPE\n",
       "      );\n",
       "      this.keyboard_manager.register_events(toinsert);\n",
       "      // Render to node\n",
       "      const props = {data: data, metadata: metadata[EXEC_MIME_TYPE]};\n",
       "      render(props, toinsert[toinsert.length - 1]);\n",
       "      element.append(toinsert);\n",
       "      return toinsert\n",
       "    }\n",
       "\n",
       "    /* Handle when an output is cleared or removed */\n",
       "    events.on('clear_output.CodeCell', handleClearOutput);\n",
       "    events.on('delete.Cell', handleClearOutput);\n",
       "\n",
       "    /* Handle when a new output is added */\n",
       "    events.on('output_added.OutputArea', handleAddOutput);\n",
       "\n",
       "    /**\n",
       "     * Register the mime type and append_mime function with output_area\n",
       "     */\n",
       "    OutputArea.prototype.register_mime_type(EXEC_MIME_TYPE, append_mime, {\n",
       "      /* Is output safe? */\n",
       "      safe: true,\n",
       "      /* Index of renderer in `output_area.display_order` */\n",
       "      index: 0\n",
       "    });\n",
       "  }\n",
       "\n",
       "  // register the mime type if in Jupyter Notebook environment and previously unregistered\n",
       "  if (root.Jupyter !== undefined) {\n",
       "    const events = require('base/js/events');\n",
       "    const OutputArea = require('notebook/js/outputarea').OutputArea;\n",
       "\n",
       "    if (OutputArea.prototype.mime_types().indexOf(EXEC_MIME_TYPE) == -1) {\n",
       "      register_renderer(events, OutputArea);\n",
       "    }\n",
       "  }\n",
       "\n",
       "  \n",
       "  if (typeof (root._bokeh_timeout) === \"undefined\" || force === true) {\n",
       "    root._bokeh_timeout = Date.now() + 5000;\n",
       "    root._bokeh_failed_load = false;\n",
       "  }\n",
       "\n",
       "  const NB_LOAD_WARNING = {'data': {'text/html':\n",
       "     \"<div style='background-color: #fdd'>\\n\"+\n",
       "     \"<p>\\n\"+\n",
       "     \"BokehJS does not appear to have successfully loaded. If loading BokehJS from CDN, this \\n\"+\n",
       "     \"may be due to a slow or bad network connection. Possible fixes:\\n\"+\n",
       "     \"</p>\\n\"+\n",
       "     \"<ul>\\n\"+\n",
       "     \"<li>re-rerun `output_notebook()` to attempt to load from CDN again, or</li>\\n\"+\n",
       "     \"<li>use INLINE resources instead, as so:</li>\\n\"+\n",
       "     \"</ul>\\n\"+\n",
       "     \"<code>\\n\"+\n",
       "     \"from bokeh.resources import INLINE\\n\"+\n",
       "     \"output_notebook(resources=INLINE)\\n\"+\n",
       "     \"</code>\\n\"+\n",
       "     \"</div>\"}};\n",
       "\n",
       "  function display_loaded() {\n",
       "    const el = document.getElementById(\"1002\");\n",
       "    if (el != null) {\n",
       "      el.textContent = \"BokehJS is loading...\";\n",
       "    }\n",
       "    if (root.Bokeh !== undefined) {\n",
       "      if (el != null) {\n",
       "        el.textContent = \"BokehJS \" + root.Bokeh.version + \" successfully loaded.\";\n",
       "      }\n",
       "    } else if (Date.now() < root._bokeh_timeout) {\n",
       "      setTimeout(display_loaded, 100)\n",
       "    }\n",
       "  }\n",
       "\n",
       "\n",
       "  function run_callbacks() {\n",
       "    try {\n",
       "      root._bokeh_onload_callbacks.forEach(function(callback) {\n",
       "        if (callback != null)\n",
       "          callback();\n",
       "      });\n",
       "    } finally {\n",
       "      delete root._bokeh_onload_callbacks\n",
       "    }\n",
       "    console.debug(\"Bokeh: all callbacks have finished\");\n",
       "  }\n",
       "\n",
       "  function load_libs(css_urls, js_urls, callback) {\n",
       "    if (css_urls == null) css_urls = [];\n",
       "    if (js_urls == null) js_urls = [];\n",
       "\n",
       "    root._bokeh_onload_callbacks.push(callback);\n",
       "    if (root._bokeh_is_loading > 0) {\n",
       "      console.debug(\"Bokeh: BokehJS is being loaded, scheduling callback at\", now());\n",
       "      return null;\n",
       "    }\n",
       "    if (js_urls == null || js_urls.length === 0) {\n",
       "      run_callbacks();\n",
       "      return null;\n",
       "    }\n",
       "    console.debug(\"Bokeh: BokehJS not loaded, scheduling load and callback at\", now());\n",
       "    root._bokeh_is_loading = css_urls.length + js_urls.length;\n",
       "\n",
       "    function on_load() {\n",
       "      root._bokeh_is_loading--;\n",
       "      if (root._bokeh_is_loading === 0) {\n",
       "        console.debug(\"Bokeh: all BokehJS libraries/stylesheets loaded\");\n",
       "        run_callbacks()\n",
       "      }\n",
       "    }\n",
       "\n",
       "    function on_error(url) {\n",
       "      console.error(\"failed to load \" + url);\n",
       "    }\n",
       "\n",
       "    for (let i = 0; i < css_urls.length; i++) {\n",
       "      const url = css_urls[i];\n",
       "      const element = document.createElement(\"link\");\n",
       "      element.onload = on_load;\n",
       "      element.onerror = on_error.bind(null, url);\n",
       "      element.rel = \"stylesheet\";\n",
       "      element.type = \"text/css\";\n",
       "      element.href = url;\n",
       "      console.debug(\"Bokeh: injecting link tag for BokehJS stylesheet: \", url);\n",
       "      document.body.appendChild(element);\n",
       "    }\n",
       "\n",
       "    for (let i = 0; i < js_urls.length; i++) {\n",
       "      const url = js_urls[i];\n",
       "      const element = document.createElement('script');\n",
       "      element.onload = on_load;\n",
       "      element.onerror = on_error.bind(null, url);\n",
       "      element.async = false;\n",
       "      element.src = url;\n",
       "      console.debug(\"Bokeh: injecting script tag for BokehJS library: \", url);\n",
       "      document.head.appendChild(element);\n",
       "    }\n",
       "  };\n",
       "\n",
       "  function inject_raw_css(css) {\n",
       "    const element = document.createElement(\"style\");\n",
       "    element.appendChild(document.createTextNode(css));\n",
       "    document.body.appendChild(element);\n",
       "  }\n",
       "\n",
       "  \n",
       "  const js_urls = [\"https://cdn.bokeh.org/bokeh/release/bokeh-2.4.1.min.js\", \"https://cdn.bokeh.org/bokeh/release/bokeh-gl-2.4.1.min.js\", \"https://cdn.bokeh.org/bokeh/release/bokeh-widgets-2.4.1.min.js\", \"https://cdn.bokeh.org/bokeh/release/bokeh-tables-2.4.1.min.js\", \"https://cdn.bokeh.org/bokeh/release/bokeh-mathjax-2.4.1.min.js\"];\n",
       "  const css_urls = [];\n",
       "  \n",
       "\n",
       "  const inline_js = [\n",
       "    function(Bokeh) {\n",
       "      Bokeh.set_log_level(\"info\");\n",
       "    },\n",
       "    function(Bokeh) {\n",
       "    \n",
       "    \n",
       "    }\n",
       "  ];\n",
       "\n",
       "  function run_inline_js() {\n",
       "    \n",
       "    if (root.Bokeh !== undefined || force === true) {\n",
       "      \n",
       "    for (let i = 0; i < inline_js.length; i++) {\n",
       "      inline_js[i].call(root, root.Bokeh);\n",
       "    }\n",
       "    if (force === true) {\n",
       "        display_loaded();\n",
       "      }} else if (Date.now() < root._bokeh_timeout) {\n",
       "      setTimeout(run_inline_js, 100);\n",
       "    } else if (!root._bokeh_failed_load) {\n",
       "      console.log(\"Bokeh: BokehJS failed to load within specified timeout.\");\n",
       "      root._bokeh_failed_load = true;\n",
       "    } else if (force !== true) {\n",
       "      const cell = $(document.getElementById(\"1002\")).parents('.cell').data().cell;\n",
       "      cell.output_area.append_execute_result(NB_LOAD_WARNING)\n",
       "    }\n",
       "\n",
       "  }\n",
       "\n",
       "  if (root._bokeh_is_loading === 0) {\n",
       "    console.debug(\"Bokeh: BokehJS loaded, going straight to plotting\");\n",
       "    run_inline_js();\n",
       "  } else {\n",
       "    load_libs(css_urls, js_urls, function() {\n",
       "      console.debug(\"Bokeh: BokehJS plotting callback run at\", now());\n",
       "      run_inline_js();\n",
       "    });\n",
       "  }\n",
       "}(window));"
      ],
      "application/vnd.bokehjs_load.v0+json": "\n(function(root) {\n  function now() {\n    return new Date();\n  }\n\n  const force = true;\n\n  if (typeof root._bokeh_onload_callbacks === \"undefined\" || force === true) {\n    root._bokeh_onload_callbacks = [];\n    root._bokeh_is_loading = undefined;\n  }\n\n  \n\n  \n  if (typeof (root._bokeh_timeout) === \"undefined\" || force === true) {\n    root._bokeh_timeout = Date.now() + 5000;\n    root._bokeh_failed_load = false;\n  }\n\n  const NB_LOAD_WARNING = {'data': {'text/html':\n     \"<div style='background-color: #fdd'>\\n\"+\n     \"<p>\\n\"+\n     \"BokehJS does not appear to have successfully loaded. If loading BokehJS from CDN, this \\n\"+\n     \"may be due to a slow or bad network connection. Possible fixes:\\n\"+\n     \"</p>\\n\"+\n     \"<ul>\\n\"+\n     \"<li>re-rerun `output_notebook()` to attempt to load from CDN again, or</li>\\n\"+\n     \"<li>use INLINE resources instead, as so:</li>\\n\"+\n     \"</ul>\\n\"+\n     \"<code>\\n\"+\n     \"from bokeh.resources import INLINE\\n\"+\n     \"output_notebook(resources=INLINE)\\n\"+\n     \"</code>\\n\"+\n     \"</div>\"}};\n\n  function display_loaded() {\n    const el = document.getElementById(\"1002\");\n    if (el != null) {\n      el.textContent = \"BokehJS is loading...\";\n    }\n    if (root.Bokeh !== undefined) {\n      if (el != null) {\n        el.textContent = \"BokehJS \" + root.Bokeh.version + \" successfully loaded.\";\n      }\n    } else if (Date.now() < root._bokeh_timeout) {\n      setTimeout(display_loaded, 100)\n    }\n  }\n\n\n  function run_callbacks() {\n    try {\n      root._bokeh_onload_callbacks.forEach(function(callback) {\n        if (callback != null)\n          callback();\n      });\n    } finally {\n      delete root._bokeh_onload_callbacks\n    }\n    console.debug(\"Bokeh: all callbacks have finished\");\n  }\n\n  function load_libs(css_urls, js_urls, callback) {\n    if (css_urls == null) css_urls = [];\n    if (js_urls == null) js_urls = [];\n\n    root._bokeh_onload_callbacks.push(callback);\n    if (root._bokeh_is_loading > 0) {\n      console.debug(\"Bokeh: BokehJS is being loaded, scheduling callback at\", now());\n      return null;\n    }\n    if (js_urls == null || js_urls.length === 0) {\n      run_callbacks();\n      return null;\n    }\n    console.debug(\"Bokeh: BokehJS not loaded, scheduling load and callback at\", now());\n    root._bokeh_is_loading = css_urls.length + js_urls.length;\n\n    function on_load() {\n      root._bokeh_is_loading--;\n      if (root._bokeh_is_loading === 0) {\n        console.debug(\"Bokeh: all BokehJS libraries/stylesheets loaded\");\n        run_callbacks()\n      }\n    }\n\n    function on_error(url) {\n      console.error(\"failed to load \" + url);\n    }\n\n    for (let i = 0; i < css_urls.length; i++) {\n      const url = css_urls[i];\n      const element = document.createElement(\"link\");\n      element.onload = on_load;\n      element.onerror = on_error.bind(null, url);\n      element.rel = \"stylesheet\";\n      element.type = \"text/css\";\n      element.href = url;\n      console.debug(\"Bokeh: injecting link tag for BokehJS stylesheet: \", url);\n      document.body.appendChild(element);\n    }\n\n    for (let i = 0; i < js_urls.length; i++) {\n      const url = js_urls[i];\n      const element = document.createElement('script');\n      element.onload = on_load;\n      element.onerror = on_error.bind(null, url);\n      element.async = false;\n      element.src = url;\n      console.debug(\"Bokeh: injecting script tag for BokehJS library: \", url);\n      document.head.appendChild(element);\n    }\n  };\n\n  function inject_raw_css(css) {\n    const element = document.createElement(\"style\");\n    element.appendChild(document.createTextNode(css));\n    document.body.appendChild(element);\n  }\n\n  \n  const js_urls = [\"https://cdn.bokeh.org/bokeh/release/bokeh-2.4.1.min.js\", \"https://cdn.bokeh.org/bokeh/release/bokeh-gl-2.4.1.min.js\", \"https://cdn.bokeh.org/bokeh/release/bokeh-widgets-2.4.1.min.js\", \"https://cdn.bokeh.org/bokeh/release/bokeh-tables-2.4.1.min.js\", \"https://cdn.bokeh.org/bokeh/release/bokeh-mathjax-2.4.1.min.js\"];\n  const css_urls = [];\n  \n\n  const inline_js = [\n    function(Bokeh) {\n      Bokeh.set_log_level(\"info\");\n    },\n    function(Bokeh) {\n    \n    \n    }\n  ];\n\n  function run_inline_js() {\n    \n    if (root.Bokeh !== undefined || force === true) {\n      \n    for (let i = 0; i < inline_js.length; i++) {\n      inline_js[i].call(root, root.Bokeh);\n    }\n    if (force === true) {\n        display_loaded();\n      }} else if (Date.now() < root._bokeh_timeout) {\n      setTimeout(run_inline_js, 100);\n    } else if (!root._bokeh_failed_load) {\n      console.log(\"Bokeh: BokehJS failed to load within specified timeout.\");\n      root._bokeh_failed_load = true;\n    } else if (force !== true) {\n      const cell = $(document.getElementById(\"1002\")).parents('.cell').data().cell;\n      cell.output_area.append_execute_result(NB_LOAD_WARNING)\n    }\n\n  }\n\n  if (root._bokeh_is_loading === 0) {\n    console.debug(\"Bokeh: BokehJS loaded, going straight to plotting\");\n    run_inline_js();\n  } else {\n    load_libs(css_urls, js_urls, function() {\n      console.debug(\"Bokeh: BokehJS plotting callback run at\", now());\n      run_inline_js();\n    });\n  }\n}(window));"
     },
     "metadata": {},
     "output_type": "display_data"
    }
   ],
   "source": [
    "from bokeh.io import output_notebook, show\n",
    "from bokeh.plotting import figure\n",
    "output_notebook()"
   ]
  },
  {
   "cell_type": "markdown",
   "metadata": {},
   "source": [
    "## Verknüpfte Interaktionen\n",
    "\n",
    "Es ist möglich, verschiedenen Bokeh-Plots interaktiv zu verknüpfen. Z.B. können zwei oder mehr Plots verknüpft werden, wobei in einem der Plots verschoben, gezoomt o.ä. wird und die anderen Plots gleichzeitig aktualisiert werden. Es ist auch möglich, Auswahlen zwischen zwei Plots zu verknüpfen, sodass bei der Auswahl von Elementen in einem Plot auch die entsprechenden Elemente im zweiten Plot ausgewählt werden."
   ]
  },
  {
   "cell_type": "markdown",
   "metadata": {},
   "source": [
    "### Verknüpftes Verschieben\n",
    "\n",
    "Verknüpftes Verschieben (wenn mehrere Darstellungen Bereiche haben, die synchron bleiben) ist mit Bokeh einfach zu realisieren. Ihr teilt einfach die entsprechenden Bereichsobjekte zwischen zwei (oder mehr) Plots auf. Das folgende Beispiel zeigt, wie ihr dies erreicht, indem ihr die Bereiche der drei Diagramme auf verschiedene Weise verknüpft:"
   ]
  },
  {
   "cell_type": "code",
   "execution_count": 2,
   "metadata": {
    "scrolled": true
   },
   "outputs": [
    {
     "data": {
      "text/html": [
       "\n",
       "\n",
       "\n",
       "\n",
       "\n",
       "\n",
       "  <div class=\"bk-root\" id=\"c30a0906-7806-457e-9d0f-4d93847bb0ce\" data-root-id=\"1120\"></div>\n"
      ]
     },
     "metadata": {},
     "output_type": "display_data"
    },
    {
     "data": {
      "application/javascript": [
       "(function(root) {\n",
       "  function embed_document(root) {\n",
       "    \n",
       "  const docs_json = {\"7f13b5d7-e4a6-4af5-9e91-3841a15a533d\":{\"defs\":[],\"roots\":{\"references\":[{\"attributes\":{\"children\":[{\"id\":\"1119\"},{\"id\":\"1117\"}]},\"id\":\"1120\",\"type\":\"Column\"},{\"attributes\":{\"below\":[{\"id\":\"1065\"}],\"center\":[{\"id\":\"1068\"},{\"id\":\"1072\"}],\"height\":250,\"left\":[{\"id\":\"1069\"}],\"renderers\":[{\"id\":\"1082\"}],\"title\":{\"id\":\"1106\"},\"toolbar\":{\"id\":\"1075\"},\"toolbar_location\":null,\"width\":250,\"x_range\":{\"id\":\"1004\"},\"x_scale\":{\"id\":\"1061\"},\"y_range\":{\"id\":\"1059\"},\"y_scale\":{\"id\":\"1063\"}},\"id\":\"1057\",\"subtype\":\"Figure\",\"type\":\"Plot\"},{\"attributes\":{},\"id\":\"1113\",\"type\":\"AllLabels\"},{\"attributes\":{},\"id\":\"1103\",\"type\":\"UnionRenderers\"},{\"attributes\":{\"coordinates\":null,\"formatter\":{\"id\":\"1087\"},\"group\":null,\"major_label_policy\":{\"id\":\"1088\"},\"ticker\":{\"id\":\"1017\"}},\"id\":\"1016\",\"type\":\"LinearAxis\"},{\"attributes\":{\"fill_color\":{\"value\":\"navy\"},\"hatch_color\":{\"value\":\"navy\"},\"line_color\":{\"value\":\"navy\"},\"size\":{\"value\":10},\"x\":{\"field\":\"x\"},\"y\":{\"field\":\"y\"}},\"id\":\"1026\",\"type\":\"Circle\"},{\"attributes\":{},\"id\":\"1008\",\"type\":\"LinearScale\"},{\"attributes\":{},\"id\":\"1010\",\"type\":\"LinearScale\"},{\"attributes\":{},\"id\":\"1104\",\"type\":\"Selection\"},{\"attributes\":{\"coordinates\":null,\"formatter\":{\"id\":\"1090\"},\"group\":null,\"major_label_policy\":{\"id\":\"1091\"},\"ticker\":{\"id\":\"1013\"}},\"id\":\"1012\",\"type\":\"LinearAxis\"},{\"attributes\":{},\"id\":\"1013\",\"type\":\"BasicTicker\"},{\"attributes\":{\"axis\":{\"id\":\"1012\"},\"coordinates\":null,\"group\":null,\"ticker\":null},\"id\":\"1015\",\"type\":\"Grid\"},{\"attributes\":{\"axis\":{\"id\":\"1016\"},\"coordinates\":null,\"dimension\":1,\"group\":null,\"ticker\":null},\"id\":\"1019\",\"type\":\"Grid\"},{\"attributes\":{},\"id\":\"1114\",\"type\":\"UnionRenderers\"},{\"attributes\":{},\"id\":\"1017\",\"type\":\"BasicTicker\"},{\"attributes\":{\"fill_alpha\":{\"value\":0.1},\"fill_color\":{\"value\":\"firebrick\"},\"hatch_alpha\":{\"value\":0.1},\"hatch_color\":{\"value\":\"firebrick\"},\"line_alpha\":{\"value\":0.1},\"line_color\":{\"value\":\"firebrick\"},\"marker\":{\"value\":\"triangle\"},\"size\":{\"value\":10},\"x\":{\"field\":\"x\"},\"y\":{\"field\":\"y\"}},\"id\":\"1053\",\"type\":\"Scatter\"},{\"attributes\":{},\"id\":\"1115\",\"type\":\"Selection\"},{\"attributes\":{},\"id\":\"1021\",\"type\":\"WheelZoomTool\"},{\"attributes\":{},\"id\":\"1020\",\"type\":\"PanTool\"},{\"attributes\":{\"fill_alpha\":{\"value\":0.2},\"fill_color\":{\"value\":\"navy\"},\"hatch_alpha\":{\"value\":0.2},\"hatch_color\":{\"value\":\"navy\"},\"line_alpha\":{\"value\":0.2},\"line_color\":{\"value\":\"navy\"},\"size\":{\"value\":10},\"x\":{\"field\":\"x\"},\"y\":{\"field\":\"y\"}},\"id\":\"1028\",\"type\":\"Circle\"},{\"attributes\":{\"data\":{\"x\":[0,1,2,3,4,5,6,7,8,9,10],\"y\":[10,9,8,7,6,5,4,3,2,1,0]},\"selected\":{\"id\":\"1104\"},\"selection_policy\":{\"id\":\"1103\"}},\"id\":\"1051\",\"type\":\"ColumnDataSource\"},{\"attributes\":{\"tools\":[{\"id\":\"1020\"},{\"id\":\"1021\"}]},\"id\":\"1022\",\"type\":\"Toolbar\"},{\"attributes\":{\"source\":{\"id\":\"1025\"}},\"id\":\"1030\",\"type\":\"CDSView\"},{\"attributes\":{\"coordinates\":null,\"data_source\":{\"id\":\"1025\"},\"glyph\":{\"id\":\"1026\"},\"group\":null,\"hover_glyph\":null,\"muted_glyph\":{\"id\":\"1028\"},\"nonselection_glyph\":{\"id\":\"1027\"},\"view\":{\"id\":\"1030\"}},\"id\":\"1029\",\"type\":\"GlyphRenderer\"},{\"attributes\":{\"below\":[{\"id\":\"1038\"}],\"center\":[{\"id\":\"1041\"},{\"id\":\"1045\"}],\"height\":250,\"left\":[{\"id\":\"1042\"}],\"renderers\":[{\"id\":\"1055\"}],\"title\":{\"id\":\"1095\"},\"toolbar\":{\"id\":\"1048\"},\"toolbar_location\":null,\"width\":250,\"x_range\":{\"id\":\"1004\"},\"x_scale\":{\"id\":\"1034\"},\"y_range\":{\"id\":\"1006\"},\"y_scale\":{\"id\":\"1036\"}},\"id\":\"1031\",\"subtype\":\"Figure\",\"type\":\"Plot\"},{\"attributes\":{},\"id\":\"1034\",\"type\":\"LinearScale\"},{\"attributes\":{},\"id\":\"1036\",\"type\":\"LinearScale\"},{\"attributes\":{},\"id\":\"1039\",\"type\":\"BasicTicker\"},{\"attributes\":{\"coordinates\":null,\"formatter\":{\"id\":\"1098\"},\"group\":null,\"major_label_policy\":{\"id\":\"1099\"},\"ticker\":{\"id\":\"1043\"}},\"id\":\"1042\",\"type\":\"LinearAxis\"},{\"attributes\":{},\"id\":\"1047\",\"type\":\"WheelZoomTool\"},{\"attributes\":{\"coordinates\":null,\"formatter\":{\"id\":\"1101\"},\"group\":null,\"major_label_policy\":{\"id\":\"1102\"},\"ticker\":{\"id\":\"1039\"}},\"id\":\"1038\",\"type\":\"LinearAxis\"},{\"attributes\":{\"axis\":{\"id\":\"1038\"},\"coordinates\":null,\"group\":null,\"ticker\":null},\"id\":\"1041\",\"type\":\"Grid\"},{\"attributes\":{},\"id\":\"1043\",\"type\":\"BasicTicker\"},{\"attributes\":{\"source\":{\"id\":\"1051\"}},\"id\":\"1056\",\"type\":\"CDSView\"},{\"attributes\":{\"axis\":{\"id\":\"1042\"},\"coordinates\":null,\"dimension\":1,\"group\":null,\"ticker\":null},\"id\":\"1045\",\"type\":\"Grid\"},{\"attributes\":{\"coordinates\":null,\"group\":null},\"id\":\"1106\",\"type\":\"Title\"},{\"attributes\":{},\"id\":\"1046\",\"type\":\"PanTool\"},{\"attributes\":{\"axis\":{\"id\":\"1065\"},\"coordinates\":null,\"group\":null,\"ticker\":null},\"id\":\"1068\",\"type\":\"Grid\"},{\"attributes\":{\"coordinates\":null,\"data_source\":{\"id\":\"1051\"},\"glyph\":{\"id\":\"1052\"},\"group\":null,\"hover_glyph\":null,\"muted_glyph\":{\"id\":\"1054\"},\"nonselection_glyph\":{\"id\":\"1053\"},\"view\":{\"id\":\"1056\"}},\"id\":\"1055\",\"type\":\"GlyphRenderer\"},{\"attributes\":{\"fill_color\":{\"value\":\"olive\"},\"hatch_color\":{\"value\":\"olive\"},\"line_color\":{\"value\":\"olive\"},\"marker\":{\"value\":\"square\"},\"size\":{\"value\":10},\"x\":{\"field\":\"x\"},\"y\":{\"field\":\"y\"}},\"id\":\"1079\",\"type\":\"Scatter\"},{\"attributes\":{\"fill_alpha\":{\"value\":0.2},\"fill_color\":{\"value\":\"firebrick\"},\"hatch_alpha\":{\"value\":0.2},\"hatch_color\":{\"value\":\"firebrick\"},\"line_alpha\":{\"value\":0.2},\"line_color\":{\"value\":\"firebrick\"},\"marker\":{\"value\":\"triangle\"},\"size\":{\"value\":10},\"x\":{\"field\":\"x\"},\"y\":{\"field\":\"y\"}},\"id\":\"1054\",\"type\":\"Scatter\"},{\"attributes\":{\"fill_alpha\":{\"value\":0.2},\"fill_color\":{\"value\":\"olive\"},\"hatch_alpha\":{\"value\":0.2},\"hatch_color\":{\"value\":\"olive\"},\"line_alpha\":{\"value\":0.2},\"line_color\":{\"value\":\"olive\"},\"marker\":{\"value\":\"square\"},\"size\":{\"value\":10},\"x\":{\"field\":\"x\"},\"y\":{\"field\":\"y\"}},\"id\":\"1081\",\"type\":\"Scatter\"},{\"attributes\":{\"source\":{\"id\":\"1078\"}},\"id\":\"1083\",\"type\":\"CDSView\"},{\"attributes\":{\"fill_alpha\":{\"value\":0.1},\"fill_color\":{\"value\":\"olive\"},\"hatch_alpha\":{\"value\":0.1},\"hatch_color\":{\"value\":\"olive\"},\"line_alpha\":{\"value\":0.1},\"line_color\":{\"value\":\"olive\"},\"marker\":{\"value\":\"square\"},\"size\":{\"value\":10},\"x\":{\"field\":\"x\"},\"y\":{\"field\":\"y\"}},\"id\":\"1080\",\"type\":\"Scatter\"},{\"attributes\":{\"coordinates\":null,\"data_source\":{\"id\":\"1078\"},\"glyph\":{\"id\":\"1079\"},\"group\":null,\"hover_glyph\":null,\"muted_glyph\":{\"id\":\"1081\"},\"nonselection_glyph\":{\"id\":\"1080\"},\"view\":{\"id\":\"1083\"}},\"id\":\"1082\",\"type\":\"GlyphRenderer\"},{\"attributes\":{\"tools\":[{\"id\":\"1046\"},{\"id\":\"1047\"}]},\"id\":\"1048\",\"type\":\"Toolbar\"},{\"attributes\":{},\"id\":\"1061\",\"type\":\"LinearScale\"},{\"attributes\":{},\"id\":\"1109\",\"type\":\"BasicTickFormatter\"},{\"attributes\":{},\"id\":\"1066\",\"type\":\"BasicTicker\"},{\"attributes\":{\"data\":{\"x\":[0,1,2,3,4,5,6,7,8,9,10],\"y\":[5,4,3,2,1,0,1,2,3,4,5]},\"selected\":{\"id\":\"1115\"},\"selection_policy\":{\"id\":\"1114\"}},\"id\":\"1078\",\"type\":\"ColumnDataSource\"},{\"attributes\":{},\"id\":\"1110\",\"type\":\"AllLabels\"},{\"attributes\":{\"toolbars\":[{\"id\":\"1022\"},{\"id\":\"1048\"},{\"id\":\"1075\"}],\"tools\":[{\"id\":\"1020\"},{\"id\":\"1021\"},{\"id\":\"1046\"},{\"id\":\"1047\"},{\"id\":\"1073\"},{\"id\":\"1074\"}]},\"id\":\"1118\",\"type\":\"ProxyToolbar\"},{\"attributes\":{},\"id\":\"1059\",\"type\":\"DataRange1d\"},{\"attributes\":{},\"id\":\"1112\",\"type\":\"BasicTickFormatter\"},{\"attributes\":{\"coordinates\":null,\"formatter\":{\"id\":\"1109\"},\"group\":null,\"major_label_policy\":{\"id\":\"1110\"},\"ticker\":{\"id\":\"1070\"}},\"id\":\"1069\",\"type\":\"LinearAxis\"},{\"attributes\":{\"coordinates\":null,\"formatter\":{\"id\":\"1112\"},\"group\":null,\"major_label_policy\":{\"id\":\"1113\"},\"ticker\":{\"id\":\"1066\"}},\"id\":\"1065\",\"type\":\"LinearAxis\"},{\"attributes\":{},\"id\":\"1063\",\"type\":\"LinearScale\"},{\"attributes\":{\"axis\":{\"id\":\"1069\"},\"coordinates\":null,\"dimension\":1,\"group\":null,\"ticker\":null},\"id\":\"1072\",\"type\":\"Grid\"},{\"attributes\":{},\"id\":\"1070\",\"type\":\"BasicTicker\"},{\"attributes\":{},\"id\":\"1074\",\"type\":\"WheelZoomTool\"},{\"attributes\":{},\"id\":\"1073\",\"type\":\"PanTool\"},{\"attributes\":{\"tools\":[{\"id\":\"1073\"},{\"id\":\"1074\"}]},\"id\":\"1075\",\"type\":\"Toolbar\"},{\"attributes\":{\"toolbar\":{\"id\":\"1118\"},\"toolbar_location\":\"above\"},\"id\":\"1119\",\"type\":\"ToolbarBox\"},{\"attributes\":{\"coordinates\":null,\"group\":null},\"id\":\"1084\",\"type\":\"Title\"},{\"attributes\":{\"coordinates\":null,\"group\":null},\"id\":\"1095\",\"type\":\"Title\"},{\"attributes\":{},\"id\":\"1087\",\"type\":\"BasicTickFormatter\"},{\"attributes\":{},\"id\":\"1088\",\"type\":\"AllLabels\"},{\"attributes\":{},\"id\":\"1090\",\"type\":\"BasicTickFormatter\"},{\"attributes\":{},\"id\":\"1091\",\"type\":\"AllLabels\"},{\"attributes\":{},\"id\":\"1098\",\"type\":\"BasicTickFormatter\"},{\"attributes\":{},\"id\":\"1099\",\"type\":\"AllLabels\"},{\"attributes\":{},\"id\":\"1101\",\"type\":\"BasicTickFormatter\"},{\"attributes\":{},\"id\":\"1102\",\"type\":\"AllLabels\"},{\"attributes\":{},\"id\":\"1092\",\"type\":\"UnionRenderers\"},{\"attributes\":{\"fill_color\":{\"value\":\"firebrick\"},\"hatch_color\":{\"value\":\"firebrick\"},\"line_color\":{\"value\":\"firebrick\"},\"marker\":{\"value\":\"triangle\"},\"size\":{\"value\":10},\"x\":{\"field\":\"x\"},\"y\":{\"field\":\"y\"}},\"id\":\"1052\",\"type\":\"Scatter\"},{\"attributes\":{\"data\":{\"x\":[0,1,2,3,4,5,6,7,8,9,10],\"y\":[0,1,2,3,4,5,6,7,8,9,10]},\"selected\":{\"id\":\"1093\"},\"selection_policy\":{\"id\":\"1092\"}},\"id\":\"1025\",\"type\":\"ColumnDataSource\"},{\"attributes\":{\"below\":[{\"id\":\"1012\"}],\"center\":[{\"id\":\"1015\"},{\"id\":\"1019\"}],\"height\":250,\"left\":[{\"id\":\"1016\"}],\"renderers\":[{\"id\":\"1029\"}],\"title\":{\"id\":\"1084\"},\"toolbar\":{\"id\":\"1022\"},\"toolbar_location\":null,\"width\":250,\"x_range\":{\"id\":\"1004\"},\"x_scale\":{\"id\":\"1008\"},\"y_range\":{\"id\":\"1006\"},\"y_scale\":{\"id\":\"1010\"}},\"id\":\"1003\",\"subtype\":\"Figure\",\"type\":\"Plot\"},{\"attributes\":{},\"id\":\"1093\",\"type\":\"Selection\"},{\"attributes\":{\"children\":[[{\"id\":\"1003\"},0,0],[{\"id\":\"1031\"},0,1],[{\"id\":\"1057\"},0,2]]},\"id\":\"1117\",\"type\":\"GridBox\"},{\"attributes\":{},\"id\":\"1006\",\"type\":\"DataRange1d\"},{\"attributes\":{},\"id\":\"1004\",\"type\":\"DataRange1d\"},{\"attributes\":{\"fill_alpha\":{\"value\":0.1},\"fill_color\":{\"value\":\"navy\"},\"hatch_alpha\":{\"value\":0.1},\"hatch_color\":{\"value\":\"navy\"},\"line_alpha\":{\"value\":0.1},\"line_color\":{\"value\":\"navy\"},\"size\":{\"value\":10},\"x\":{\"field\":\"x\"},\"y\":{\"field\":\"y\"}},\"id\":\"1027\",\"type\":\"Circle\"}],\"root_ids\":[\"1120\"]},\"title\":\"Bokeh Application\",\"version\":\"2.4.1\"}};\n",
       "  const render_items = [{\"docid\":\"7f13b5d7-e4a6-4af5-9e91-3841a15a533d\",\"root_ids\":[\"1120\"],\"roots\":{\"1120\":\"c30a0906-7806-457e-9d0f-4d93847bb0ce\"}}];\n",
       "  root.Bokeh.embed.embed_items_notebook(docs_json, render_items);\n",
       "\n",
       "  }\n",
       "  if (root.Bokeh !== undefined) {\n",
       "    embed_document(root);\n",
       "  } else {\n",
       "    let attempts = 0;\n",
       "    const timer = setInterval(function(root) {\n",
       "      if (root.Bokeh !== undefined) {\n",
       "        clearInterval(timer);\n",
       "        embed_document(root);\n",
       "      } else {\n",
       "        attempts++;\n",
       "        if (attempts > 100) {\n",
       "          clearInterval(timer);\n",
       "          console.log(\"Bokeh: ERROR: Unable to run BokehJS code because BokehJS library is missing\");\n",
       "        }\n",
       "      }\n",
       "    }, 10, root)\n",
       "  }\n",
       "})(window);"
      ],
      "application/vnd.bokehjs_exec.v0+json": ""
     },
     "metadata": {
      "application/vnd.bokehjs_exec.v0+json": {
       "id": "1120"
      }
     },
     "output_type": "display_data"
    }
   ],
   "source": [
    "from bokeh.layouts import gridplot\n",
    "\n",
    "x = list(range(11))\n",
    "y0, y1, y2 = x, [10-i for i in x], [abs(i-5) for i in x]\n",
    "\n",
    "plot_options = dict(width=250, plot_height=250, tools='pan,wheel_zoom')\n",
    "\n",
    "# create a new plot\n",
    "s1 = figure(**plot_options)\n",
    "s1.circle(x, y0, size=10, color=\"navy\")\n",
    "\n",
    "# create a new plot and share both ranges\n",
    "s2 = figure(x_range=s1.x_range, y_range=s1.y_range, **plot_options)\n",
    "s2.triangle(x, y1, size=10, color=\"firebrick\")\n",
    "\n",
    "# create a new plot and share only one range\n",
    "s3 = figure(x_range=s1.x_range, **plot_options)\n",
    "s3.square(x, y2, size=10, color=\"olive\")\n",
    "\n",
    "p = gridplot([[s1, s2, s3]])\n",
    "\n",
    "# show the results\n",
    "show(p)"
   ]
  },
  {
   "cell_type": "markdown",
   "metadata": {},
   "source": [
    "### Verknüpfte Auswahl\n",
    "\n",
    "Das Verknüpfen von Auswahlen erfolgt auf ähnliche Weise, indem Datenquellen zwischen Plots gemeinsam genutzt werden. Beachtet, dass normalerweise mit `` bokeh.plotting`` und `` bokeh.charts`` die Erstellung einer Standarddatenquelle für einfache Darstellungen automatisch erfolgt. Um jedoch eine Datenquelle gemeinsam zu nutzen, müssen wir sie manuell erstellen und explizit übergeben. Dies wird im folgenden Beispiel veranschaulicht:"
   ]
  },
  {
   "cell_type": "code",
   "execution_count": 3,
   "metadata": {},
   "outputs": [
    {
     "data": {
      "text/html": [
       "\n",
       "\n",
       "\n",
       "\n",
       "\n",
       "\n",
       "  <div class=\"bk-root\" id=\"29568a99-37a9-4378-9401-357df1b0dd3b\" data-root-id=\"1395\"></div>\n"
      ]
     },
     "metadata": {},
     "output_type": "display_data"
    },
    {
     "data": {
      "application/javascript": [
       "(function(root) {\n",
       "  function embed_document(root) {\n",
       "    \n",
       "  const docs_json = {\"ef65caef-764d-4335-822e-5832a34549d1\":{\"defs\":[],\"roots\":{\"references\":[{\"attributes\":{\"children\":[{\"id\":\"1394\"},{\"id\":\"1392\"}]},\"id\":\"1395\",\"type\":\"Column\"},{\"attributes\":{\"data\":{\"x\":[-20,-19,-18,-17,-16,-15,-14,-13,-12,-11,-10,-9,-8,-7,-6,-5,-4,-3,-2,-1,0,1,2,3,4,5,6,7,8,9,10,11,12,13,14,15,16,17,18,19,20],\"y0\":[20,19,18,17,16,15,14,13,12,11,10,9,8,7,6,5,4,3,2,1,0,1,2,3,4,5,6,7,8,9,10,11,12,13,14,15,16,17,18,19,20],\"y1\":[400,361,324,289,256,225,196,169,144,121,100,81,64,49,36,25,16,9,4,1,0,1,4,9,16,25,36,49,64,81,100,121,144,169,196,225,256,289,324,361,400]},\"selected\":{\"id\":\"1375\"},\"selection_policy\":{\"id\":\"1374\"}},\"id\":\"1301\",\"type\":\"ColumnDataSource\"},{\"attributes\":{\"coordinates\":null,\"data_source\":{\"id\":\"1301\"},\"glyph\":{\"id\":\"1329\"},\"group\":null,\"hover_glyph\":null,\"muted_glyph\":{\"id\":\"1331\"},\"nonselection_glyph\":{\"id\":\"1330\"},\"view\":{\"id\":\"1333\"}},\"id\":\"1332\",\"type\":\"GlyphRenderer\"},{\"attributes\":{},\"id\":\"1312\",\"type\":\"BasicTicker\"},{\"attributes\":{\"coordinates\":null,\"fill_alpha\":0.5,\"fill_color\":\"lightgrey\",\"group\":null,\"level\":\"overlay\",\"line_alpha\":1.0,\"line_color\":\"black\",\"line_dash\":[4,4],\"line_width\":2,\"syncable\":false,\"xs_units\":\"screen\",\"ys_units\":\"screen\"},\"id\":\"1323\",\"type\":\"PolyAnnotation\"},{\"attributes\":{\"bottom_units\":\"screen\",\"coordinates\":null,\"fill_alpha\":0.5,\"fill_color\":\"lightgrey\",\"group\":null,\"left_units\":\"screen\",\"level\":\"overlay\",\"line_alpha\":1.0,\"line_color\":\"black\",\"line_dash\":[4,4],\"line_width\":2,\"right_units\":\"screen\",\"syncable\":false,\"top_units\":\"screen\"},\"id\":\"1354\",\"type\":\"BoxAnnotation\"},{\"attributes\":{\"tools\":[{\"id\":\"1351\"},{\"id\":\"1352\"},{\"id\":\"1353\"}]},\"id\":\"1356\",\"type\":\"Toolbar\"},{\"attributes\":{\"tools\":[{\"id\":\"1319\"},{\"id\":\"1320\"},{\"id\":\"1321\"}]},\"id\":\"1324\",\"type\":\"Toolbar\"},{\"attributes\":{\"toolbars\":[{\"id\":\"1324\"},{\"id\":\"1356\"}],\"tools\":[{\"id\":\"1319\"},{\"id\":\"1320\"},{\"id\":\"1321\"},{\"id\":\"1351\"},{\"id\":\"1352\"},{\"id\":\"1353\"}]},\"id\":\"1393\",\"type\":\"ProxyToolbar\"},{\"attributes\":{\"coordinates\":null,\"fill_alpha\":0.5,\"fill_color\":\"lightgrey\",\"group\":null,\"level\":\"overlay\",\"line_alpha\":1.0,\"line_color\":\"black\",\"line_dash\":[4,4],\"line_width\":2,\"syncable\":false,\"xs_units\":\"screen\",\"ys_units\":\"screen\"},\"id\":\"1355\",\"type\":\"PolyAnnotation\"},{\"attributes\":{\"axis\":{\"id\":\"1315\"},\"coordinates\":null,\"dimension\":1,\"group\":null,\"ticker\":null},\"id\":\"1318\",\"type\":\"Grid\"},{\"attributes\":{},\"id\":\"1339\",\"type\":\"LinearScale\"},{\"attributes\":{\"axis\":{\"id\":\"1311\"},\"coordinates\":null,\"group\":null,\"ticker\":null},\"id\":\"1314\",\"type\":\"Grid\"},{\"attributes\":{\"fill_alpha\":{\"value\":0.1},\"fill_color\":{\"value\":\"#1f77b4\"},\"hatch_alpha\":{\"value\":0.1},\"line_alpha\":{\"value\":0.1},\"line_color\":{\"value\":\"#1f77b4\"},\"x\":{\"field\":\"x\"},\"y\":{\"field\":\"y1\"}},\"id\":\"1362\",\"type\":\"Circle\"},{\"attributes\":{},\"id\":\"1303\",\"type\":\"DataRange1d\"},{\"attributes\":{\"fill_color\":{\"value\":\"#1f77b4\"},\"line_color\":{\"value\":\"#1f77b4\"},\"x\":{\"field\":\"x\"},\"y\":{\"field\":\"y1\"}},\"id\":\"1361\",\"type\":\"Circle\"},{\"attributes\":{},\"id\":\"1375\",\"type\":\"Selection\"},{\"attributes\":{\"fill_color\":{\"value\":\"#1f77b4\"},\"line_color\":{\"value\":\"#1f77b4\"},\"x\":{\"field\":\"x\"},\"y\":{\"field\":\"y0\"}},\"id\":\"1329\",\"type\":\"Circle\"},{\"attributes\":{},\"id\":\"1307\",\"type\":\"LinearScale\"},{\"attributes\":{\"coordinates\":null,\"group\":null},\"id\":\"1379\",\"type\":\"Title\"},{\"attributes\":{\"coordinates\":null,\"formatter\":{\"id\":\"1372\"},\"group\":null,\"major_label_policy\":{\"id\":\"1373\"},\"ticker\":{\"id\":\"1312\"}},\"id\":\"1311\",\"type\":\"LinearAxis\"},{\"attributes\":{\"below\":[{\"id\":\"1343\"}],\"center\":[{\"id\":\"1346\"},{\"id\":\"1350\"}],\"height\":300,\"left\":[{\"id\":\"1347\"}],\"renderers\":[{\"id\":\"1364\"}],\"title\":{\"id\":\"1379\"},\"toolbar\":{\"id\":\"1356\"},\"toolbar_location\":null,\"width\":300,\"x_range\":{\"id\":\"1335\"},\"x_scale\":{\"id\":\"1339\"},\"y_range\":{\"id\":\"1337\"},\"y_scale\":{\"id\":\"1341\"}},\"id\":\"1334\",\"subtype\":\"Figure\",\"type\":\"Plot\"},{\"attributes\":{\"fill_alpha\":{\"value\":0.1},\"fill_color\":{\"value\":\"#1f77b4\"},\"hatch_alpha\":{\"value\":0.1},\"line_alpha\":{\"value\":0.1},\"line_color\":{\"value\":\"#1f77b4\"},\"x\":{\"field\":\"x\"},\"y\":{\"field\":\"y0\"}},\"id\":\"1330\",\"type\":\"Circle\"},{\"attributes\":{\"children\":[[{\"id\":\"1302\"},0,0],[{\"id\":\"1334\"},0,1]]},\"id\":\"1392\",\"type\":\"GridBox\"},{\"attributes\":{\"fill_alpha\":{\"value\":0.2},\"fill_color\":{\"value\":\"#1f77b4\"},\"hatch_alpha\":{\"value\":0.2},\"line_alpha\":{\"value\":0.2},\"line_color\":{\"value\":\"#1f77b4\"},\"x\":{\"field\":\"x\"},\"y\":{\"field\":\"y0\"}},\"id\":\"1331\",\"type\":\"Circle\"},{\"attributes\":{\"coordinates\":null,\"formatter\":{\"id\":\"1369\"},\"group\":null,\"major_label_policy\":{\"id\":\"1370\"},\"ticker\":{\"id\":\"1316\"}},\"id\":\"1315\",\"type\":\"LinearAxis\"},{\"attributes\":{\"coordinates\":null,\"group\":null},\"id\":\"1366\",\"type\":\"Title\"},{\"attributes\":{},\"id\":\"1305\",\"type\":\"DataRange1d\"},{\"attributes\":{},\"id\":\"1341\",\"type\":\"LinearScale\"},{\"attributes\":{},\"id\":\"1309\",\"type\":\"LinearScale\"},{\"attributes\":{\"fill_alpha\":{\"value\":0.2},\"fill_color\":{\"value\":\"#1f77b4\"},\"hatch_alpha\":{\"value\":0.2},\"line_alpha\":{\"value\":0.2},\"line_color\":{\"value\":\"#1f77b4\"},\"x\":{\"field\":\"x\"},\"y\":{\"field\":\"y1\"}},\"id\":\"1363\",\"type\":\"Circle\"},{\"attributes\":{},\"id\":\"1337\",\"type\":\"DataRange1d\"},{\"attributes\":{},\"id\":\"1374\",\"type\":\"UnionRenderers\"},{\"attributes\":{\"below\":[{\"id\":\"1311\"}],\"center\":[{\"id\":\"1314\"},{\"id\":\"1318\"}],\"height\":300,\"left\":[{\"id\":\"1315\"}],\"renderers\":[{\"id\":\"1332\"}],\"title\":{\"id\":\"1366\"},\"toolbar\":{\"id\":\"1324\"},\"toolbar_location\":null,\"width\":300,\"x_range\":{\"id\":\"1303\"},\"x_scale\":{\"id\":\"1307\"},\"y_range\":{\"id\":\"1305\"},\"y_scale\":{\"id\":\"1309\"}},\"id\":\"1302\",\"subtype\":\"Figure\",\"type\":\"Plot\"},{\"attributes\":{},\"id\":\"1369\",\"type\":\"BasicTickFormatter\"},{\"attributes\":{},\"id\":\"1348\",\"type\":\"BasicTicker\"},{\"attributes\":{\"coordinates\":null,\"formatter\":{\"id\":\"1382\"},\"group\":null,\"major_label_policy\":{\"id\":\"1383\"},\"ticker\":{\"id\":\"1348\"}},\"id\":\"1347\",\"type\":\"LinearAxis\"},{\"attributes\":{},\"id\":\"1344\",\"type\":\"BasicTicker\"},{\"attributes\":{\"overlay\":{\"id\":\"1355\"}},\"id\":\"1352\",\"type\":\"LassoSelectTool\"},{\"attributes\":{\"coordinates\":null,\"formatter\":{\"id\":\"1385\"},\"group\":null,\"major_label_policy\":{\"id\":\"1386\"},\"ticker\":{\"id\":\"1344\"}},\"id\":\"1343\",\"type\":\"LinearAxis\"},{\"attributes\":{\"axis\":{\"id\":\"1343\"},\"coordinates\":null,\"group\":null,\"ticker\":null},\"id\":\"1346\",\"type\":\"Grid\"},{\"attributes\":{},\"id\":\"1370\",\"type\":\"AllLabels\"},{\"attributes\":{\"bottom_units\":\"screen\",\"coordinates\":null,\"fill_alpha\":0.5,\"fill_color\":\"lightgrey\",\"group\":null,\"left_units\":\"screen\",\"level\":\"overlay\",\"line_alpha\":1.0,\"line_color\":\"black\",\"line_dash\":[4,4],\"line_width\":2,\"right_units\":\"screen\",\"syncable\":false,\"top_units\":\"screen\"},\"id\":\"1322\",\"type\":\"BoxAnnotation\"},{\"attributes\":{\"source\":{\"id\":\"1301\"}},\"id\":\"1365\",\"type\":\"CDSView\"},{\"attributes\":{\"coordinates\":null,\"data_source\":{\"id\":\"1301\"},\"glyph\":{\"id\":\"1361\"},\"group\":null,\"hover_glyph\":null,\"muted_glyph\":{\"id\":\"1363\"},\"nonselection_glyph\":{\"id\":\"1362\"},\"view\":{\"id\":\"1365\"}},\"id\":\"1364\",\"type\":\"GlyphRenderer\"},{\"attributes\":{\"axis\":{\"id\":\"1347\"},\"coordinates\":null,\"dimension\":1,\"group\":null,\"ticker\":null},\"id\":\"1350\",\"type\":\"Grid\"},{\"attributes\":{},\"id\":\"1316\",\"type\":\"BasicTicker\"},{\"attributes\":{},\"id\":\"1372\",\"type\":\"BasicTickFormatter\"},{\"attributes\":{},\"id\":\"1382\",\"type\":\"BasicTickFormatter\"},{\"attributes\":{},\"id\":\"1321\",\"type\":\"HelpTool\"},{\"attributes\":{\"overlay\":{\"id\":\"1323\"}},\"id\":\"1320\",\"type\":\"LassoSelectTool\"},{\"attributes\":{},\"id\":\"1373\",\"type\":\"AllLabels\"},{\"attributes\":{\"overlay\":{\"id\":\"1322\"}},\"id\":\"1319\",\"type\":\"BoxSelectTool\"},{\"attributes\":{},\"id\":\"1383\",\"type\":\"AllLabels\"},{\"attributes\":{\"toolbar\":{\"id\":\"1393\"},\"toolbar_location\":\"above\"},\"id\":\"1394\",\"type\":\"ToolbarBox\"},{\"attributes\":{},\"id\":\"1353\",\"type\":\"HelpTool\"},{\"attributes\":{},\"id\":\"1385\",\"type\":\"BasicTickFormatter\"},{\"attributes\":{\"overlay\":{\"id\":\"1354\"}},\"id\":\"1351\",\"type\":\"BoxSelectTool\"},{\"attributes\":{\"source\":{\"id\":\"1301\"}},\"id\":\"1333\",\"type\":\"CDSView\"},{\"attributes\":{},\"id\":\"1335\",\"type\":\"DataRange1d\"},{\"attributes\":{},\"id\":\"1386\",\"type\":\"AllLabels\"}],\"root_ids\":[\"1395\"]},\"title\":\"Bokeh Application\",\"version\":\"2.4.1\"}};\n",
       "  const render_items = [{\"docid\":\"ef65caef-764d-4335-822e-5832a34549d1\",\"root_ids\":[\"1395\"],\"roots\":{\"1395\":\"29568a99-37a9-4378-9401-357df1b0dd3b\"}}];\n",
       "  root.Bokeh.embed.embed_items_notebook(docs_json, render_items);\n",
       "\n",
       "  }\n",
       "  if (root.Bokeh !== undefined) {\n",
       "    embed_document(root);\n",
       "  } else {\n",
       "    let attempts = 0;\n",
       "    const timer = setInterval(function(root) {\n",
       "      if (root.Bokeh !== undefined) {\n",
       "        clearInterval(timer);\n",
       "        embed_document(root);\n",
       "      } else {\n",
       "        attempts++;\n",
       "        if (attempts > 100) {\n",
       "          clearInterval(timer);\n",
       "          console.log(\"Bokeh: ERROR: Unable to run BokehJS code because BokehJS library is missing\");\n",
       "        }\n",
       "      }\n",
       "    }, 10, root)\n",
       "  }\n",
       "})(window);"
      ],
      "application/vnd.bokehjs_exec.v0+json": ""
     },
     "metadata": {
      "application/vnd.bokehjs_exec.v0+json": {
       "id": "1395"
      }
     },
     "output_type": "display_data"
    }
   ],
   "source": [
    "from bokeh.models import ColumnDataSource\n",
    "\n",
    "x = list(range(-20, 21))\n",
    "y0, y1 = [abs(xx) for xx in x], [xx**2 for xx in x]\n",
    "\n",
    "# create a column data source for the plots to share\n",
    "source = ColumnDataSource(data=dict(x=x, y0=y0, y1=y1))\n",
    "\n",
    "TOOLS = \"box_select,lasso_select,help\"\n",
    "\n",
    "# create a new plot and add a renderer\n",
    "left = figure(tools=TOOLS, width=300, height=300)\n",
    "left.circle('x', 'y0', source=source)\n",
    "\n",
    "# create another new plot and add a renderer\n",
    "right = figure(tools=TOOLS, width=300, height=300)\n",
    "right.circle('x', 'y1', source=source)\n",
    "\n",
    "p = gridplot([[left, right]])\n",
    "\n",
    "show(p)"
   ]
  },
  {
   "cell_type": "markdown",
   "metadata": {},
   "source": [
    "## Hover Tools\n",
    "\n",
    "Bokeh verfügt über ein Hover-Tool, mit dem zusätzliche Informationen in einem Popup angezeigt werden können, wenn der Mauszeiger über einer bestimmten Glyphe schwebt. Die grundlegende Konfiguration des Hover-Tools bedeutet, dass eine Liste von ``(name, format)``-Tupeln bereitgestellt wird. Die vollständigen Details findet ihr im [User’s Guide](http://bokeh.pydata.org/en/latest/docs/user_guide/tools.html#hovertool).\n",
    "\n",
    "Das folgende Beispiel zeigt einige grundlegende Anwendungen des Hover-Werkzeugs mit einer Kreis-Glyphe, wobei die in `utils.py` definierten Hover-Informationen verwendet werden:"
   ]
  },
  {
   "cell_type": "code",
   "execution_count": 4,
   "metadata": {},
   "outputs": [
    {
     "data": {
      "text/html": [
       "\n",
       "\n",
       "\n",
       "\n",
       "\n",
       "\n",
       "  <div class=\"bk-root\" id=\"f0f9165c-d602-4257-a474-1efceb9c75f7\" data-root-id=\"1560\"></div>\n"
      ]
     },
     "metadata": {},
     "output_type": "display_data"
    },
    {
     "data": {
      "application/javascript": [
       "(function(root) {\n",
       "  function embed_document(root) {\n",
       "    \n",
       "  const docs_json = {\"e93290cb-4571-451b-b33c-22350a604d63\":{\"defs\":[],\"roots\":{\"references\":[{\"attributes\":{\"below\":[{\"id\":\"1571\"}],\"center\":[{\"id\":\"1574\"},{\"id\":\"1578\"}],\"height\":300,\"left\":[{\"id\":\"1575\"}],\"renderers\":[{\"id\":\"1585\"}],\"title\":{\"id\":\"1561\"},\"toolbar\":{\"id\":\"1579\"},\"width\":300,\"x_range\":{\"id\":\"1563\"},\"x_scale\":{\"id\":\"1567\"},\"y_range\":{\"id\":\"1565\"},\"y_scale\":{\"id\":\"1569\"}},\"id\":\"1560\",\"subtype\":\"Figure\",\"type\":\"Plot\"},{\"attributes\":{\"source\":{\"id\":\"1558\"}},\"id\":\"1586\",\"type\":\"CDSView\"},{\"attributes\":{\"coordinates\":null,\"formatter\":{\"id\":\"1641\"},\"group\":null,\"major_label_policy\":{\"id\":\"1642\"},\"ticker\":{\"id\":\"1576\"}},\"id\":\"1575\",\"type\":\"LinearAxis\"},{\"attributes\":{},\"id\":\"1644\",\"type\":\"BasicTickFormatter\"},{\"attributes\":{},\"id\":\"1576\",\"type\":\"BasicTicker\"},{\"attributes\":{},\"id\":\"1572\",\"type\":\"BasicTicker\"},{\"attributes\":{\"axis\":{\"id\":\"1575\"},\"coordinates\":null,\"dimension\":1,\"group\":null,\"ticker\":null},\"id\":\"1578\",\"type\":\"Grid\"},{\"attributes\":{},\"id\":\"1641\",\"type\":\"BasicTickFormatter\"},{\"attributes\":{\"coordinates\":null,\"data_source\":{\"id\":\"1558\"},\"glyph\":{\"id\":\"1582\"},\"group\":null,\"hover_glyph\":null,\"muted_glyph\":{\"id\":\"1584\"},\"nonselection_glyph\":{\"id\":\"1583\"},\"view\":{\"id\":\"1586\"}},\"id\":\"1585\",\"type\":\"GlyphRenderer\"},{\"attributes\":{\"coordinates\":null,\"formatter\":{\"id\":\"1644\"},\"group\":null,\"major_label_policy\":{\"id\":\"1645\"},\"ticker\":{\"id\":\"1572\"}},\"id\":\"1571\",\"type\":\"LinearAxis\"},{\"attributes\":{},\"id\":\"1642\",\"type\":\"AllLabels\"},{\"attributes\":{},\"id\":\"1567\",\"type\":\"LinearScale\"},{\"attributes\":{},\"id\":\"1569\",\"type\":\"LinearScale\"},{\"attributes\":{},\"id\":\"1645\",\"type\":\"AllLabels\"},{\"attributes\":{\"axis\":{\"id\":\"1571\"},\"coordinates\":null,\"group\":null,\"ticker\":null},\"id\":\"1574\",\"type\":\"Grid\"},{\"attributes\":{},\"id\":\"1563\",\"type\":\"DataRange1d\"},{\"attributes\":{},\"id\":\"1565\",\"type\":\"DataRange1d\"},{\"attributes\":{\"fill_alpha\":{\"value\":0.2},\"fill_color\":{\"value\":\"#1f77b4\"},\"hatch_alpha\":{\"value\":0.2},\"line_alpha\":{\"value\":0.2},\"line_color\":{\"value\":\"#1f77b4\"},\"size\":{\"value\":20},\"x\":{\"field\":\"x\"},\"y\":{\"field\":\"y\"}},\"id\":\"1584\",\"type\":\"Circle\"},{\"attributes\":{\"tools\":[{\"id\":\"1559\"}]},\"id\":\"1579\",\"type\":\"Toolbar\"},{\"attributes\":{\"fill_alpha\":{\"value\":0.1},\"fill_color\":{\"value\":\"#1f77b4\"},\"hatch_alpha\":{\"value\":0.1},\"line_alpha\":{\"value\":0.1},\"line_color\":{\"value\":\"#1f77b4\"},\"size\":{\"value\":20},\"x\":{\"field\":\"x\"},\"y\":{\"field\":\"y\"}},\"id\":\"1583\",\"type\":\"Circle\"},{\"attributes\":{\"callback\":null,\"tooltips\":[[\"index\",\"$index\"],[\"(x,y)\",\"($x, $y)\"],[\"desc\",\"@desc\"]]},\"id\":\"1559\",\"type\":\"HoverTool\"},{\"attributes\":{\"fill_color\":{\"value\":\"#1f77b4\"},\"line_color\":{\"value\":\"#1f77b4\"},\"size\":{\"value\":20},\"x\":{\"field\":\"x\"},\"y\":{\"field\":\"y\"}},\"id\":\"1582\",\"type\":\"Circle\"},{\"attributes\":{},\"id\":\"1647\",\"type\":\"Selection\"},{\"attributes\":{\"coordinates\":null,\"group\":null,\"text\":\"Mouse over the dots\"},\"id\":\"1561\",\"type\":\"Title\"},{\"attributes\":{\"data\":{\"desc\":[\"A\",\"b\",\"C\",\"d\",\"E\"],\"x\":[1,2,3,4,5],\"y\":[2,5,8,2,7]},\"selected\":{\"id\":\"1647\"},\"selection_policy\":{\"id\":\"1646\"}},\"id\":\"1558\",\"type\":\"ColumnDataSource\"},{\"attributes\":{},\"id\":\"1646\",\"type\":\"UnionRenderers\"}],\"root_ids\":[\"1560\"]},\"title\":\"Bokeh Application\",\"version\":\"2.4.1\"}};\n",
       "  const render_items = [{\"docid\":\"e93290cb-4571-451b-b33c-22350a604d63\",\"root_ids\":[\"1560\"],\"roots\":{\"1560\":\"f0f9165c-d602-4257-a474-1efceb9c75f7\"}}];\n",
       "  root.Bokeh.embed.embed_items_notebook(docs_json, render_items);\n",
       "\n",
       "  }\n",
       "  if (root.Bokeh !== undefined) {\n",
       "    embed_document(root);\n",
       "  } else {\n",
       "    let attempts = 0;\n",
       "    const timer = setInterval(function(root) {\n",
       "      if (root.Bokeh !== undefined) {\n",
       "        clearInterval(timer);\n",
       "        embed_document(root);\n",
       "      } else {\n",
       "        attempts++;\n",
       "        if (attempts > 100) {\n",
       "          clearInterval(timer);\n",
       "          console.log(\"Bokeh: ERROR: Unable to run BokehJS code because BokehJS library is missing\");\n",
       "        }\n",
       "      }\n",
       "    }, 10, root)\n",
       "  }\n",
       "})(window);"
      ],
      "application/vnd.bokehjs_exec.v0+json": ""
     },
     "metadata": {
      "application/vnd.bokehjs_exec.v0+json": {
       "id": "1560"
      }
     },
     "output_type": "display_data"
    }
   ],
   "source": [
    "from bokeh.models import HoverTool\n",
    "\n",
    "source = ColumnDataSource(\n",
    "        data=dict(\n",
    "            x=[1, 2, 3, 4, 5],\n",
    "            y=[2, 5, 8, 2, 7],\n",
    "            desc=['A', 'b', 'C', 'd', 'E'],\n",
    "        )\n",
    "    )\n",
    "\n",
    "hover = HoverTool(\n",
    "        tooltips=[\n",
    "            (\"index\", \"$index\"),\n",
    "            (\"(x,y)\", \"($x, $y)\"),\n",
    "            (\"desc\", \"@desc\"),\n",
    "        ]\n",
    "    )\n",
    "\n",
    "p = figure(plot_width=300, plot_height=300, tools=[hover], title=\"Mouse over the dots\")\n",
    "\n",
    "p.circle('x', 'y', size=20, source=source)\n",
    "\n",
    "show(p)"
   ]
  },
  {
   "cell_type": "markdown",
   "metadata": {},
   "source": [
    "## Widgets\n",
    "\n",
    "Bokeh unterstützt die direkte Integration mit einem kleinen grundlegenden Widget-Set. Dies kann in Verbindung mit einem Bokeh-Server oder mit `` CustomJS``-Modellen verwendet werden, um eure Dokumente interaktiver zu gestalten. Eine vollständige Liste mit Beispielcode findet ihr im Abschnitt [Adding Widgets](http://bokeh.pydata.org/en/latest/docs/user_guide/interaction.html#adding-widgets) des Benutzerhandbuchs.\n",
    "\n",
    "Um die Widgets zu verwenden, fügt sie wie ein Plotobjekt in ein Layout ein:"
   ]
  },
  {
   "cell_type": "code",
   "execution_count": 5,
   "metadata": {},
   "outputs": [
    {
     "data": {
      "text/html": [
       "\n",
       "\n",
       "\n",
       "\n",
       "\n",
       "\n",
       "  <div class=\"bk-root\" id=\"2da97691-7b8b-4024-bd87-9a37a8da05d0\" data-root-id=\"1694\"></div>\n"
      ]
     },
     "metadata": {},
     "output_type": "display_data"
    },
    {
     "data": {
      "application/javascript": [
       "(function(root) {\n",
       "  function embed_document(root) {\n",
       "    \n",
       "  const docs_json = {\"734c5c75-083e-4867-993f-97c5b2359ef6\":{\"defs\":[],\"roots\":{\"references\":[{\"attributes\":{\"children\":[{\"id\":\"1693\"}]},\"id\":\"1694\",\"type\":\"Column\"},{\"attributes\":{\"end\":10,\"start\":0,\"step\":0.1,\"title\":\"foo\",\"value\":1},\"id\":\"1693\",\"type\":\"Slider\"}],\"root_ids\":[\"1694\"]},\"title\":\"Bokeh Application\",\"version\":\"2.4.1\"}};\n",
       "  const render_items = [{\"docid\":\"734c5c75-083e-4867-993f-97c5b2359ef6\",\"root_ids\":[\"1694\"],\"roots\":{\"1694\":\"2da97691-7b8b-4024-bd87-9a37a8da05d0\"}}];\n",
       "  root.Bokeh.embed.embed_items_notebook(docs_json, render_items);\n",
       "\n",
       "  }\n",
       "  if (root.Bokeh !== undefined) {\n",
       "    embed_document(root);\n",
       "  } else {\n",
       "    let attempts = 0;\n",
       "    const timer = setInterval(function(root) {\n",
       "      if (root.Bokeh !== undefined) {\n",
       "        clearInterval(timer);\n",
       "        embed_document(root);\n",
       "      } else {\n",
       "        attempts++;\n",
       "        if (attempts > 100) {\n",
       "          clearInterval(timer);\n",
       "          console.log(\"Bokeh: ERROR: Unable to run BokehJS code because BokehJS library is missing\");\n",
       "        }\n",
       "      }\n",
       "    }, 10, root)\n",
       "  }\n",
       "})(window);"
      ],
      "application/vnd.bokehjs_exec.v0+json": ""
     },
     "metadata": {
      "application/vnd.bokehjs_exec.v0+json": {
       "id": "1694"
      }
     },
     "output_type": "display_data"
    }
   ],
   "source": [
    "from bokeh.models import Column\n",
    "from bokeh.models.widgets import Slider\n",
    "\n",
    "slider = Slider(start=0, end=10, value=1, step=.1, title=\"foo\")\n",
    "\n",
    "show(Column(slider))"
   ]
  },
  {
   "cell_type": "markdown",
   "metadata": {},
   "source": [
    "## CustomJS Callbacks\n",
    "\n",
    "Damit ein Widget nützlich wird, muss es Aktionen ausführen können. Mit Hilfe des Bokeh-Servers können Widgets echten Python-Code ausführen. Diese Möglichkeit wird unter [Bokeh-Server](bokeh-server.ipynb) erläutert. Hier betrachten wir, wie Widgets mit CustomJS-Callbacks konfiguriert werden können, die JavaScript-Code-Snippets ausführen."
   ]
  },
  {
   "cell_type": "code",
   "execution_count": 6,
   "metadata": {},
   "outputs": [
    {
     "data": {
      "text/html": [
       "\n",
       "\n",
       "\n",
       "\n",
       "\n",
       "\n",
       "  <div class=\"bk-root\" id=\"d90cb7b1-114f-4d35-b588-030eac01003f\" data-root-id=\"1758\"></div>\n"
      ]
     },
     "metadata": {},
     "output_type": "display_data"
    },
    {
     "data": {
      "application/javascript": [
       "(function(root) {\n",
       "  function embed_document(root) {\n",
       "    \n",
       "  const docs_json = {\"83dd2191-6a72-4e8d-8332-d67e66ae5dd4\":{\"defs\":[],\"roots\":{\"references\":[{\"attributes\":{\"below\":[{\"id\":\"1767\"}],\"center\":[{\"id\":\"1770\"},{\"id\":\"1774\"}],\"height\":300,\"left\":[{\"id\":\"1771\"}],\"renderers\":[{\"id\":\"1781\"}],\"title\":{\"id\":\"1844\"},\"toolbar\":{\"id\":\"1775\"},\"x_range\":{\"id\":\"1759\"},\"x_scale\":{\"id\":\"1763\"},\"y_range\":{\"id\":\"1761\"},\"y_scale\":{\"id\":\"1765\"}},\"id\":\"1758\",\"subtype\":\"Figure\",\"type\":\"Plot\"},{\"attributes\":{\"code\":\"alert('you tapped a circle!')\"},\"id\":\"1756\",\"type\":\"CustomJS\"},{\"attributes\":{\"coordinates\":null,\"group\":null},\"id\":\"1844\",\"type\":\"Title\"},{\"attributes\":{},\"id\":\"1852\",\"type\":\"UnionRenderers\"},{\"attributes\":{},\"id\":\"1768\",\"type\":\"BasicTicker\"},{\"attributes\":{},\"id\":\"1853\",\"type\":\"Selection\"},{\"attributes\":{\"callback\":{\"id\":\"1756\"}},\"id\":\"1757\",\"type\":\"TapTool\"},{\"attributes\":{},\"id\":\"1763\",\"type\":\"LinearScale\"},{\"attributes\":{},\"id\":\"1759\",\"type\":\"DataRange1d\"},{\"attributes\":{},\"id\":\"1761\",\"type\":\"DataRange1d\"},{\"attributes\":{},\"id\":\"1765\",\"type\":\"LinearScale\"},{\"attributes\":{\"coordinates\":null,\"formatter\":{\"id\":\"1847\"},\"group\":null,\"major_label_policy\":{\"id\":\"1848\"},\"ticker\":{\"id\":\"1772\"}},\"id\":\"1771\",\"type\":\"LinearAxis\"},{\"attributes\":{\"coordinates\":null,\"formatter\":{\"id\":\"1850\"},\"group\":null,\"major_label_policy\":{\"id\":\"1851\"},\"ticker\":{\"id\":\"1768\"}},\"id\":\"1767\",\"type\":\"LinearAxis\"},{\"attributes\":{\"axis\":{\"id\":\"1767\"},\"coordinates\":null,\"group\":null,\"ticker\":null},\"id\":\"1770\",\"type\":\"Grid\"},{\"attributes\":{\"axis\":{\"id\":\"1771\"},\"coordinates\":null,\"dimension\":1,\"group\":null,\"ticker\":null},\"id\":\"1774\",\"type\":\"Grid\"},{\"attributes\":{},\"id\":\"1847\",\"type\":\"BasicTickFormatter\"},{\"attributes\":{},\"id\":\"1772\",\"type\":\"BasicTicker\"},{\"attributes\":{},\"id\":\"1848\",\"type\":\"AllLabels\"},{\"attributes\":{\"fill_color\":{\"value\":\"#1f77b4\"},\"line_color\":{\"value\":\"#1f77b4\"},\"size\":{\"value\":20},\"x\":{\"field\":\"x\"},\"y\":{\"field\":\"y\"}},\"id\":\"1778\",\"type\":\"Circle\"},{\"attributes\":{},\"id\":\"1850\",\"type\":\"BasicTickFormatter\"},{\"attributes\":{\"fill_alpha\":{\"value\":0.2},\"fill_color\":{\"value\":\"#1f77b4\"},\"hatch_alpha\":{\"value\":0.2},\"line_alpha\":{\"value\":0.2},\"line_color\":{\"value\":\"#1f77b4\"},\"size\":{\"value\":20},\"x\":{\"field\":\"x\"},\"y\":{\"field\":\"y\"}},\"id\":\"1780\",\"type\":\"Circle\"},{\"attributes\":{},\"id\":\"1851\",\"type\":\"AllLabels\"},{\"attributes\":{\"coordinates\":null,\"data_source\":{\"id\":\"1777\"},\"glyph\":{\"id\":\"1778\"},\"group\":null,\"hover_glyph\":null,\"muted_glyph\":{\"id\":\"1780\"},\"nonselection_glyph\":{\"id\":\"1779\"},\"view\":{\"id\":\"1782\"}},\"id\":\"1781\",\"type\":\"GlyphRenderer\"},{\"attributes\":{\"tools\":[{\"id\":\"1757\"}]},\"id\":\"1775\",\"type\":\"Toolbar\"},{\"attributes\":{\"fill_alpha\":{\"value\":0.1},\"fill_color\":{\"value\":\"#1f77b4\"},\"hatch_alpha\":{\"value\":0.1},\"line_alpha\":{\"value\":0.1},\"line_color\":{\"value\":\"#1f77b4\"},\"size\":{\"value\":20},\"x\":{\"field\":\"x\"},\"y\":{\"field\":\"y\"}},\"id\":\"1779\",\"type\":\"Circle\"},{\"attributes\":{\"data\":{\"x\":[1,2,3,4,5],\"y\":[2,5,8,2,7]},\"selected\":{\"id\":\"1853\"},\"selection_policy\":{\"id\":\"1852\"}},\"id\":\"1777\",\"type\":\"ColumnDataSource\"},{\"attributes\":{\"source\":{\"id\":\"1777\"}},\"id\":\"1782\",\"type\":\"CDSView\"}],\"root_ids\":[\"1758\"]},\"title\":\"Bokeh Application\",\"version\":\"2.4.1\"}};\n",
       "  const render_items = [{\"docid\":\"83dd2191-6a72-4e8d-8332-d67e66ae5dd4\",\"root_ids\":[\"1758\"],\"roots\":{\"1758\":\"d90cb7b1-114f-4d35-b588-030eac01003f\"}}];\n",
       "  root.Bokeh.embed.embed_items_notebook(docs_json, render_items);\n",
       "\n",
       "  }\n",
       "  if (root.Bokeh !== undefined) {\n",
       "    embed_document(root);\n",
       "  } else {\n",
       "    let attempts = 0;\n",
       "    const timer = setInterval(function(root) {\n",
       "      if (root.Bokeh !== undefined) {\n",
       "        clearInterval(timer);\n",
       "        embed_document(root);\n",
       "      } else {\n",
       "        attempts++;\n",
       "        if (attempts > 100) {\n",
       "          clearInterval(timer);\n",
       "          console.log(\"Bokeh: ERROR: Unable to run BokehJS code because BokehJS library is missing\");\n",
       "        }\n",
       "      }\n",
       "    }, 10, root)\n",
       "  }\n",
       "})(window);"
      ],
      "application/vnd.bokehjs_exec.v0+json": ""
     },
     "metadata": {
      "application/vnd.bokehjs_exec.v0+json": {
       "id": "1758"
      }
     },
     "output_type": "display_data"
    }
   ],
   "source": [
    "from bokeh.models import TapTool, CustomJS, ColumnDataSource\n",
    "\n",
    "callback = CustomJS(code=\"alert('you tapped a circle!')\")\n",
    "tap = TapTool(callback=callback)\n",
    "\n",
    "p = figure(plot_width=600, plot_height=300, tools=[tap])\n",
    "\n",
    "p.circle(x=[1, 2, 3, 4, 5], y=[2, 5, 8, 2, 7], size=20)\n",
    "\n",
    "show(p)"
   ]
  },
  {
   "cell_type": "markdown",
   "metadata": {},
   "source": [
    "### Beispiel für ein Slider-Widget\n",
    "\n",
    "Das folgende Beispiel zeigt eine an einen Slider angehängte Aktion, mit der eine Datenquelle aktualisiert wird."
   ]
  },
  {
   "cell_type": "code",
   "execution_count": 7,
   "metadata": {},
   "outputs": [
    {
     "data": {
      "text/html": [
       "\n",
       "\n",
       "\n",
       "\n",
       "\n",
       "\n",
       "  <div class=\"bk-root\" id=\"2fa06ba1-2901-49e8-869d-14507222d173\" data-root-id=\"1944\"></div>\n"
      ]
     },
     "metadata": {},
     "output_type": "display_data"
    },
    {
     "data": {
      "application/javascript": [
       "(function(root) {\n",
       "  function embed_document(root) {\n",
       "    \n",
       "  const docs_json = {\"00a77b84-cd7e-4552-9203-83856ee7f0ed\":{\"defs\":[],\"roots\":{\"references\":[{\"attributes\":{\"children\":[{\"id\":\"1942\"},{\"id\":\"1905\"}]},\"id\":\"1944\",\"type\":\"Column\"},{\"attributes\":{},\"id\":\"1922\",\"type\":\"PanTool\"},{\"attributes\":{\"tools\":[{\"id\":\"1922\"},{\"id\":\"1923\"},{\"id\":\"1924\"},{\"id\":\"1925\"},{\"id\":\"1926\"},{\"id\":\"1927\"}]},\"id\":\"1929\",\"type\":\"Toolbar\"},{\"attributes\":{},\"id\":\"1923\",\"type\":\"WheelZoomTool\"},{\"attributes\":{\"line_alpha\":0.2,\"line_color\":\"#1f77b4\",\"line_width\":3,\"x\":{\"field\":\"x\"},\"y\":{\"field\":\"y\"}},\"id\":\"1939\",\"type\":\"Line\"},{\"attributes\":{\"args\":{\"slider\":{\"id\":\"1942\"},\"source\":{\"id\":\"1904\"}},\"code\":\"\\n    var data = source.data;\\n    var f = slider.value;\\n    x = data['x']\\n    y = data['y']\\n    for (i = 0; i < x.length; i++) {\\n        y[i] = Math.pow(x[i], f)\\n    }\\n    \\n    // necessary becasue we mutated source.data in-place\\n    source.change.emit();\\n\"},\"id\":\"1943\",\"type\":\"CustomJS\"},{\"attributes\":{},\"id\":\"1927\",\"type\":\"HelpTool\"},{\"attributes\":{\"overlay\":{\"id\":\"1928\"}},\"id\":\"1924\",\"type\":\"BoxZoomTool\"},{\"attributes\":{\"coordinates\":null,\"group\":null},\"id\":\"2016\",\"type\":\"Title\"},{\"attributes\":{},\"id\":\"1925\",\"type\":\"SaveTool\"},{\"attributes\":{},\"id\":\"1926\",\"type\":\"ResetTool\"},{\"attributes\":{\"bottom_units\":\"screen\",\"coordinates\":null,\"fill_alpha\":0.5,\"fill_color\":\"lightgrey\",\"group\":null,\"left_units\":\"screen\",\"level\":\"overlay\",\"line_alpha\":1.0,\"line_color\":\"black\",\"line_dash\":[4,4],\"line_width\":2,\"right_units\":\"screen\",\"syncable\":false,\"top_units\":\"screen\"},\"id\":\"1928\",\"type\":\"BoxAnnotation\"},{\"attributes\":{},\"id\":\"1910\",\"type\":\"LinearScale\"},{\"attributes\":{},\"id\":\"2019\",\"type\":\"BasicTickFormatter\"},{\"attributes\":{},\"id\":\"2020\",\"type\":\"AllLabels\"},{\"attributes\":{},\"id\":\"2022\",\"type\":\"BasicTickFormatter\"},{\"attributes\":{\"end\":6,\"js_property_callbacks\":{\"change:value\":[{\"id\":\"1943\"}]},\"start\":0.1,\"step\":0.1,\"title\":\"power\",\"value\":1},\"id\":\"1942\",\"type\":\"Slider\"},{\"attributes\":{},\"id\":\"2023\",\"type\":\"AllLabels\"},{\"attributes\":{\"data\":{\"x\":[0.0,0.005,0.01,0.015,0.02,0.025,0.03,0.035,0.04,0.045,0.05,0.055,0.06,0.065,0.07,0.075,0.08,0.085,0.09,0.095,0.1,0.105,0.11,0.115,0.12,0.125,0.13,0.135,0.14,0.145,0.15,0.155,0.16,0.165,0.17,0.17500000000000002,0.18,0.185,0.19,0.195,0.2,0.20500000000000002,0.21,0.215,0.22,0.225,0.23,0.23500000000000001,0.24,0.245,0.25,0.255,0.26,0.265,0.27,0.275,0.28,0.28500000000000003,0.29,0.295,0.3,0.305,0.31,0.315,0.32,0.325,0.33,0.335,0.34,0.34500000000000003,0.35000000000000003,0.355,0.36,0.365,0.37,0.375,0.38,0.385,0.39,0.395,0.4,0.405,0.41000000000000003,0.41500000000000004,0.42,0.425,0.43,0.435,0.44,0.445,0.45,0.455,0.46,0.465,0.47000000000000003,0.47500000000000003,0.48,0.485,0.49,0.495,0.5,0.505,0.51,0.515,0.52,0.525,0.53,0.535,0.54,0.545,0.55,0.555,0.56,0.5650000000000001,0.5700000000000001,0.5750000000000001,0.58,0.585,0.59,0.595,0.6,0.605,0.61,0.615,0.62,0.625,0.63,0.635,0.64,0.645,0.65,0.655,0.66,0.665,0.67,0.675,0.68,0.685,0.6900000000000001,0.6950000000000001,0.7000000000000001,0.705,0.71,0.715,0.72,0.725,0.73,0.735,0.74,0.745,0.75,0.755,0.76,0.765,0.77,0.775,0.78,0.785,0.79,0.795,0.8,0.805,0.81,0.8150000000000001,0.8200000000000001,0.8250000000000001,0.8300000000000001,0.835,0.84,0.845,0.85,0.855,0.86,0.865,0.87,0.875,0.88,0.885,0.89,0.895,0.9,0.905,0.91,0.915,0.92,0.925,0.93,0.935,0.9400000000000001,0.9450000000000001,0.9500000000000001,0.9550000000000001,0.96,0.965,0.97,0.975,0.98,0.985,0.99,0.995,1.0],\"y\":[0.0,0.005,0.01,0.015,0.02,0.025,0.03,0.035,0.04,0.045,0.05,0.055,0.06,0.065,0.07,0.075,0.08,0.085,0.09,0.095,0.1,0.105,0.11,0.115,0.12,0.125,0.13,0.135,0.14,0.145,0.15,0.155,0.16,0.165,0.17,0.17500000000000002,0.18,0.185,0.19,0.195,0.2,0.20500000000000002,0.21,0.215,0.22,0.225,0.23,0.23500000000000001,0.24,0.245,0.25,0.255,0.26,0.265,0.27,0.275,0.28,0.28500000000000003,0.29,0.295,0.3,0.305,0.31,0.315,0.32,0.325,0.33,0.335,0.34,0.34500000000000003,0.35000000000000003,0.355,0.36,0.365,0.37,0.375,0.38,0.385,0.39,0.395,0.4,0.405,0.41000000000000003,0.41500000000000004,0.42,0.425,0.43,0.435,0.44,0.445,0.45,0.455,0.46,0.465,0.47000000000000003,0.47500000000000003,0.48,0.485,0.49,0.495,0.5,0.505,0.51,0.515,0.52,0.525,0.53,0.535,0.54,0.545,0.55,0.555,0.56,0.5650000000000001,0.5700000000000001,0.5750000000000001,0.58,0.585,0.59,0.595,0.6,0.605,0.61,0.615,0.62,0.625,0.63,0.635,0.64,0.645,0.65,0.655,0.66,0.665,0.67,0.675,0.68,0.685,0.6900000000000001,0.6950000000000001,0.7000000000000001,0.705,0.71,0.715,0.72,0.725,0.73,0.735,0.74,0.745,0.75,0.755,0.76,0.765,0.77,0.775,0.78,0.785,0.79,0.795,0.8,0.805,0.81,0.8150000000000001,0.8200000000000001,0.8250000000000001,0.8300000000000001,0.835,0.84,0.845,0.85,0.855,0.86,0.865,0.87,0.875,0.88,0.885,0.89,0.895,0.9,0.905,0.91,0.915,0.92,0.925,0.93,0.935,0.9400000000000001,0.9450000000000001,0.9500000000000001,0.9550000000000001,0.96,0.965,0.97,0.975,0.98,0.985,0.99,0.995,1.0]},\"selected\":{\"id\":\"2025\"},\"selection_policy\":{\"id\":\"2024\"}},\"id\":\"1904\",\"type\":\"ColumnDataSource\"},{\"attributes\":{},\"id\":\"1919\",\"type\":\"BasicTicker\"},{\"attributes\":{\"below\":[{\"id\":\"1914\"}],\"center\":[{\"id\":\"1917\"},{\"id\":\"1921\"}],\"height\":400,\"left\":[{\"id\":\"1918\"}],\"renderers\":[{\"id\":\"1940\"}],\"title\":{\"id\":\"2016\"},\"toolbar\":{\"id\":\"1929\"},\"width\":400,\"x_range\":{\"id\":\"1906\"},\"x_scale\":{\"id\":\"1910\"},\"y_range\":{\"id\":\"1908\"},\"y_scale\":{\"id\":\"1912\"}},\"id\":\"1905\",\"subtype\":\"Figure\",\"type\":\"Plot\"},{\"attributes\":{\"axis\":{\"id\":\"1918\"},\"coordinates\":null,\"dimension\":1,\"group\":null,\"ticker\":null},\"id\":\"1921\",\"type\":\"Grid\"},{\"attributes\":{\"source\":{\"id\":\"1904\"}},\"id\":\"1941\",\"type\":\"CDSView\"},{\"attributes\":{},\"id\":\"1915\",\"type\":\"BasicTicker\"},{\"attributes\":{},\"id\":\"2024\",\"type\":\"UnionRenderers\"},{\"attributes\":{\"axis\":{\"id\":\"1914\"},\"coordinates\":null,\"group\":null,\"ticker\":null},\"id\":\"1917\",\"type\":\"Grid\"},{\"attributes\":{},\"id\":\"1906\",\"type\":\"DataRange1d\"},{\"attributes\":{\"line_alpha\":0.6,\"line_color\":\"#1f77b4\",\"line_width\":3,\"x\":{\"field\":\"x\"},\"y\":{\"field\":\"y\"}},\"id\":\"1937\",\"type\":\"Line\"},{\"attributes\":{},\"id\":\"1908\",\"type\":\"DataRange1d\"},{\"attributes\":{},\"id\":\"2025\",\"type\":\"Selection\"},{\"attributes\":{\"coordinates\":null,\"formatter\":{\"id\":\"2022\"},\"group\":null,\"major_label_policy\":{\"id\":\"2023\"},\"ticker\":{\"id\":\"1915\"}},\"id\":\"1914\",\"type\":\"LinearAxis\"},{\"attributes\":{\"line_alpha\":0.1,\"line_color\":\"#1f77b4\",\"line_width\":3,\"x\":{\"field\":\"x\"},\"y\":{\"field\":\"y\"}},\"id\":\"1938\",\"type\":\"Line\"},{\"attributes\":{},\"id\":\"1912\",\"type\":\"LinearScale\"},{\"attributes\":{\"coordinates\":null,\"data_source\":{\"id\":\"1904\"},\"glyph\":{\"id\":\"1937\"},\"group\":null,\"hover_glyph\":null,\"muted_glyph\":{\"id\":\"1939\"},\"nonselection_glyph\":{\"id\":\"1938\"},\"view\":{\"id\":\"1941\"}},\"id\":\"1940\",\"type\":\"GlyphRenderer\"},{\"attributes\":{\"coordinates\":null,\"formatter\":{\"id\":\"2019\"},\"group\":null,\"major_label_policy\":{\"id\":\"2020\"},\"ticker\":{\"id\":\"1919\"}},\"id\":\"1918\",\"type\":\"LinearAxis\"}],\"root_ids\":[\"1944\"]},\"title\":\"Bokeh Application\",\"version\":\"2.4.1\"}};\n",
       "  const render_items = [{\"docid\":\"00a77b84-cd7e-4552-9203-83856ee7f0ed\",\"root_ids\":[\"1944\"],\"roots\":{\"1944\":\"2fa06ba1-2901-49e8-869d-14507222d173\"}}];\n",
       "  root.Bokeh.embed.embed_items_notebook(docs_json, render_items);\n",
       "\n",
       "  }\n",
       "  if (root.Bokeh !== undefined) {\n",
       "    embed_document(root);\n",
       "  } else {\n",
       "    let attempts = 0;\n",
       "    const timer = setInterval(function(root) {\n",
       "      if (root.Bokeh !== undefined) {\n",
       "        clearInterval(timer);\n",
       "        embed_document(root);\n",
       "      } else {\n",
       "        attempts++;\n",
       "        if (attempts > 100) {\n",
       "          clearInterval(timer);\n",
       "          console.log(\"Bokeh: ERROR: Unable to run BokehJS code because BokehJS library is missing\");\n",
       "        }\n",
       "      }\n",
       "    }, 10, root)\n",
       "  }\n",
       "})(window);"
      ],
      "application/vnd.bokehjs_exec.v0+json": ""
     },
     "metadata": {
      "application/vnd.bokehjs_exec.v0+json": {
       "id": "1944"
      }
     },
     "output_type": "display_data"
    }
   ],
   "source": [
    "from bokeh.layouts import column\n",
    "from bokeh.models import CustomJS, ColumnDataSource, Slider\n",
    "\n",
    "x = [x*0.005 for x in range(0, 201)]\n",
    "\n",
    "source = ColumnDataSource(data=dict(x=x, y=x))\n",
    "\n",
    "plot = figure(plot_width=400, plot_height=400)\n",
    "plot.line('x', 'y', source=source, line_width=3, line_alpha=0.6)\n",
    "\n",
    "slider = Slider(start=0.1, end=6, value=1, step=.1, title=\"power\")\n",
    "\n",
    "update_curve = CustomJS(args=dict(source=source, slider=slider), code=\"\"\"\n",
    "    var data = source.data;\n",
    "    var f = slider.value;\n",
    "    x = data['x']\n",
    "    y = data['y']\n",
    "    for (i = 0; i < x.length; i++) {\n",
    "        y[i] = Math.pow(x[i], f)\n",
    "    }\n",
    "    \n",
    "    // necessary becasue we mutated source.data in-place\n",
    "    source.change.emit();\n",
    "\"\"\")\n",
    "slider.js_on_change('value', update_curve)\n",
    "\n",
    "\n",
    "show(column(slider, plot))"
   ]
  },
  {
   "cell_type": "markdown",
   "metadata": {},
   "source": [
    "### Beispiel für die Datenauswahl\n",
    "\n",
    "Es ist auch möglich, JavaScript-Aktionen auszuführen, wenn sich eine Benutzerauswahl (z.B. Box, Punkt, Lasso) ändert. Dies geschieht durch Anhängen derselben Art von CustomJS-Objekt an die Datenquelle, für die die Auswahl getroffen wird.\n",
    "\n",
    "Das folgende Beispiel ist etwas komplexer und zeigt die Aktualisierung einer Datenquelle einer Glyphe als Reaktion auf die Auswahl einer anderen Glyphe:"
   ]
  },
  {
   "cell_type": "code",
   "execution_count": 8,
   "metadata": {},
   "outputs": [
    {
     "data": {
      "text/html": [
       "\n",
       "\n",
       "\n",
       "\n",
       "\n",
       "\n",
       "  <div class=\"bk-root\" id=\"dc961542-5b83-42d1-9d83-431c7456a6d5\" data-root-id=\"2141\"></div>\n"
      ]
     },
     "metadata": {},
     "output_type": "display_data"
    },
    {
     "data": {
      "application/javascript": [
       "(function(root) {\n",
       "  function embed_document(root) {\n",
       "    \n",
       "  const docs_json = {\"d90d6eed-eb9d-4d1e-a957-b6929a161f88\":{\"defs\":[],\"roots\":{\"references\":[{\"attributes\":{\"children\":[{\"id\":\"2083\"},{\"id\":\"2113\"}]},\"id\":\"2141\",\"type\":\"Row\"},{\"attributes\":{\"coordinates\":null,\"formatter\":{\"id\":\"2227\"},\"group\":null,\"major_label_policy\":{\"id\":\"2228\"},\"ticker\":{\"id\":\"2099\"}},\"id\":\"2098\",\"type\":\"LinearAxis\"},{\"attributes\":{\"coordinates\":null,\"formatter\":{\"id\":\"2233\"},\"group\":null,\"major_label_policy\":{\"id\":\"2234\"},\"ticker\":{\"id\":\"2129\"}},\"id\":\"2128\",\"type\":\"LinearAxis\"},{\"attributes\":{},\"id\":\"2092\",\"type\":\"LinearScale\"},{\"attributes\":{},\"id\":\"2228\",\"type\":\"AllLabels\"},{\"attributes\":{},\"id\":\"2122\",\"type\":\"LinearScale\"},{\"attributes\":{},\"id\":\"2236\",\"type\":\"BasicTickFormatter\"},{\"attributes\":{},\"id\":\"2116\",\"type\":\"Range1d\"},{\"attributes\":{},\"id\":\"2230\",\"type\":\"BasicTickFormatter\"},{\"attributes\":{},\"id\":\"2241\",\"type\":\"UnionRenderers\"},{\"attributes\":{},\"id\":\"2086\",\"type\":\"DataRange1d\"},{\"attributes\":{\"args\":{\"s1\":{\"id\":\"2082\"},\"s2\":{\"id\":\"2112\"}},\"code\":\"\\n        const inds = cb_obj.indices;\\n        const d1 = s1.data;\\n        const d2 = s2.data;\\n        d2['x'] = []\\n        d2['y'] = []\\n        for (let i = 0; i < inds.length; i++) {\\n            d2['x'].push(d1['x'][inds[i]])\\n            d2['y'].push(d1['y'][inds[i]])\\n        }\\n        s2.change.emit();\\n    \"},\"id\":\"2140\",\"type\":\"CustomJS\"},{\"attributes\":{\"coordinates\":null,\"group\":null,\"text\":\"Select Here\"},\"id\":\"2084\",\"type\":\"Title\"},{\"attributes\":{},\"id\":\"2237\",\"type\":\"AllLabels\"},{\"attributes\":{\"coordinates\":null,\"group\":null,\"text\":\"Watch Here\"},\"id\":\"2114\",\"type\":\"Title\"},{\"attributes\":{},\"id\":\"2088\",\"type\":\"DataRange1d\"},{\"attributes\":{},\"id\":\"2231\",\"type\":\"AllLabels\"},{\"attributes\":{},\"id\":\"2118\",\"type\":\"Range1d\"},{\"attributes\":{},\"id\":\"2095\",\"type\":\"BasicTicker\"},{\"attributes\":{},\"id\":\"2234\",\"type\":\"AllLabels\"},{\"attributes\":{},\"id\":\"2125\",\"type\":\"BasicTicker\"},{\"attributes\":{\"data\":{\"x\":[],\"y\":[]},\"selected\":{\"id\":\"2242\"},\"selection_policy\":{\"id\":\"2241\"}},\"id\":\"2112\",\"type\":\"ColumnDataSource\"},{\"attributes\":{},\"id\":\"2242\",\"type\":\"Selection\"},{\"attributes\":{\"axis\":{\"id\":\"2124\"},\"coordinates\":null,\"group\":null,\"ticker\":null},\"id\":\"2127\",\"type\":\"Grid\"},{\"attributes\":{\"below\":[{\"id\":\"2124\"}],\"center\":[{\"id\":\"2127\"},{\"id\":\"2131\"}],\"height\":400,\"left\":[{\"id\":\"2128\"}],\"renderers\":[{\"id\":\"2137\"}],\"title\":{\"id\":\"2114\"},\"toolbar\":{\"id\":\"2132\"},\"width\":400,\"x_range\":{\"id\":\"2116\"},\"x_scale\":{\"id\":\"2120\"},\"y_range\":{\"id\":\"2118\"},\"y_scale\":{\"id\":\"2122\"}},\"id\":\"2113\",\"subtype\":\"Figure\",\"type\":\"Plot\"},{\"attributes\":{},\"id\":\"2120\",\"type\":\"LinearScale\"},{\"attributes\":{\"coordinates\":null,\"formatter\":{\"id\":\"2236\"},\"group\":null,\"major_label_policy\":{\"id\":\"2237\"},\"ticker\":{\"id\":\"2125\"}},\"id\":\"2124\",\"type\":\"LinearAxis\"},{\"attributes\":{\"axis\":{\"id\":\"2094\"},\"coordinates\":null,\"group\":null,\"ticker\":null},\"id\":\"2097\",\"type\":\"Grid\"},{\"attributes\":{},\"id\":\"2090\",\"type\":\"LinearScale\"},{\"attributes\":{\"coordinates\":null,\"formatter\":{\"id\":\"2230\"},\"group\":null,\"major_label_policy\":{\"id\":\"2231\"},\"ticker\":{\"id\":\"2095\"}},\"id\":\"2094\",\"type\":\"LinearAxis\"},{\"attributes\":{\"axis\":{\"id\":\"2128\"},\"coordinates\":null,\"dimension\":1,\"group\":null,\"ticker\":null},\"id\":\"2131\",\"type\":\"Grid\"},{\"attributes\":{},\"id\":\"2238\",\"type\":\"UnionRenderers\"},{\"attributes\":{},\"id\":\"2129\",\"type\":\"BasicTicker\"},{\"attributes\":{},\"id\":\"2132\",\"type\":\"Toolbar\"},{\"attributes\":{\"axis\":{\"id\":\"2098\"},\"coordinates\":null,\"dimension\":1,\"group\":null,\"ticker\":null},\"id\":\"2101\",\"type\":\"Grid\"},{\"attributes\":{},\"id\":\"2099\",\"type\":\"BasicTicker\"},{\"attributes\":{\"fill_alpha\":{\"value\":0.1},\"fill_color\":{\"value\":\"#1f77b4\"},\"hatch_alpha\":{\"value\":0.1},\"line_alpha\":{\"value\":0.1},\"line_color\":{\"value\":\"#1f77b4\"},\"x\":{\"field\":\"x\"},\"y\":{\"field\":\"y\"}},\"id\":\"2108\",\"type\":\"Circle\"},{\"attributes\":{\"source\":{\"id\":\"2112\"}},\"id\":\"2138\",\"type\":\"CDSView\"},{\"attributes\":{\"fill_alpha\":{\"value\":0.1},\"fill_color\":{\"value\":\"#1f77b4\"},\"hatch_alpha\":{\"value\":0.1},\"line_alpha\":{\"value\":0.1},\"line_color\":{\"value\":\"#1f77b4\"},\"x\":{\"field\":\"x\"},\"y\":{\"field\":\"y\"}},\"id\":\"2135\",\"type\":\"Circle\"},{\"attributes\":{\"overlay\":{\"id\":\"2103\"}},\"id\":\"2102\",\"type\":\"LassoSelectTool\"},{\"attributes\":{\"coordinates\":null,\"fill_alpha\":0.5,\"fill_color\":\"lightgrey\",\"group\":null,\"level\":\"overlay\",\"line_alpha\":1.0,\"line_color\":\"black\",\"line_dash\":[4,4],\"line_width\":2,\"syncable\":false,\"xs_units\":\"screen\",\"ys_units\":\"screen\"},\"id\":\"2103\",\"type\":\"PolyAnnotation\"},{\"attributes\":{\"source\":{\"id\":\"2082\"}},\"id\":\"2111\",\"type\":\"CDSView\"},{\"attributes\":{\"js_property_callbacks\":{\"change:indices\":[{\"id\":\"2140\"}]}},\"id\":\"2139\",\"type\":\"Selection\"},{\"attributes\":{\"fill_alpha\":{\"value\":0.2},\"fill_color\":{\"value\":\"#1f77b4\"},\"hatch_alpha\":{\"value\":0.2},\"line_alpha\":{\"value\":0.2},\"line_color\":{\"value\":\"#1f77b4\"},\"x\":{\"field\":\"x\"},\"y\":{\"field\":\"y\"}},\"id\":\"2136\",\"type\":\"Circle\"},{\"attributes\":{\"coordinates\":null,\"data_source\":{\"id\":\"2112\"},\"glyph\":{\"id\":\"2134\"},\"group\":null,\"hover_glyph\":null,\"muted_glyph\":{\"id\":\"2136\"},\"nonselection_glyph\":{\"id\":\"2135\"},\"view\":{\"id\":\"2138\"}},\"id\":\"2137\",\"type\":\"GlyphRenderer\"},{\"attributes\":{\"tools\":[{\"id\":\"2102\"}]},\"id\":\"2104\",\"type\":\"Toolbar\"},{\"attributes\":{},\"id\":\"2227\",\"type\":\"BasicTickFormatter\"},{\"attributes\":{\"fill_alpha\":{\"value\":0.6},\"fill_color\":{\"value\":\"#1f77b4\"},\"hatch_alpha\":{\"value\":0.6},\"line_alpha\":{\"value\":0.6},\"line_color\":{\"value\":\"#1f77b4\"},\"x\":{\"field\":\"x\"},\"y\":{\"field\":\"y\"}},\"id\":\"2134\",\"type\":\"Circle\"},{\"attributes\":{\"below\":[{\"id\":\"2094\"}],\"center\":[{\"id\":\"2097\"},{\"id\":\"2101\"}],\"height\":400,\"left\":[{\"id\":\"2098\"}],\"renderers\":[{\"id\":\"2110\"}],\"title\":{\"id\":\"2084\"},\"toolbar\":{\"id\":\"2104\"},\"width\":400,\"x_range\":{\"id\":\"2086\"},\"x_scale\":{\"id\":\"2090\"},\"y_range\":{\"id\":\"2088\"},\"y_scale\":{\"id\":\"2092\"}},\"id\":\"2083\",\"subtype\":\"Figure\",\"type\":\"Plot\"},{\"attributes\":{\"coordinates\":null,\"data_source\":{\"id\":\"2082\"},\"glyph\":{\"id\":\"2107\"},\"group\":null,\"hover_glyph\":null,\"muted_glyph\":{\"id\":\"2109\"},\"nonselection_glyph\":{\"id\":\"2108\"},\"view\":{\"id\":\"2111\"}},\"id\":\"2110\",\"type\":\"GlyphRenderer\"},{\"attributes\":{},\"id\":\"2233\",\"type\":\"BasicTickFormatter\"},{\"attributes\":{\"fill_alpha\":{\"value\":0.6},\"fill_color\":{\"value\":\"#1f77b4\"},\"hatch_alpha\":{\"value\":0.6},\"line_alpha\":{\"value\":0.6},\"line_color\":{\"value\":\"#1f77b4\"},\"x\":{\"field\":\"x\"},\"y\":{\"field\":\"y\"}},\"id\":\"2107\",\"type\":\"Circle\"},{\"attributes\":{\"fill_alpha\":{\"value\":0.2},\"fill_color\":{\"value\":\"#1f77b4\"},\"hatch_alpha\":{\"value\":0.2},\"line_alpha\":{\"value\":0.2},\"line_color\":{\"value\":\"#1f77b4\"},\"x\":{\"field\":\"x\"},\"y\":{\"field\":\"y\"}},\"id\":\"2109\",\"type\":\"Circle\"},{\"attributes\":{\"data\":{\"x\":[0.5735564029919988,0.1758819871343933,0.09983465063522279,0.6421307297860092,0.4676449154037752,0.033484445212684566,0.5617300697469193,0.00037094655886349415,0.881068547633802,0.6330588384983131,0.7935110103011292,0.06790938781707112,0.2353267340012093,0.16211168080640848,0.017251002550386585,0.6168790373465688,0.17988658712296546,0.30414037501235125,0.7269916263473699,0.772143786660094,0.9379218979294209,0.44209184831599735,0.3064123169501529,0.4811593762832307,0.7434494100102133,0.3480559087981243,0.6505514065092571,0.06007747939526109,0.8427513871918633,0.023657662748584052,0.744750519464117,0.7082002123511344,0.21984280586792038,0.5307528645016156,0.800792190225609,0.7643639305665265,0.6352726985502116,0.36506740075732746,0.6747493896841195,0.989084250745065,0.9616142249229528,0.08997040705518777,0.4473933153342794,0.18287676851664036,0.12398382628835769,0.8258773644777637,0.0475960473385213,0.9622583947739466,0.235518304942669,0.26309312997048206,0.3250894627769778,0.7505288807212382,0.7569942962046476,0.7820515863897187,0.9035117070237083,0.4165597294370238,0.3374841504261362,0.8576744820312114,0.13614377468229555,0.36459270524537113,0.7018496813156657,0.2338136850295438,0.8466284173825682,0.3696398987685393,0.053873850937636636,0.8677510266134656,0.48817526702710357,0.24219600457220924,0.2442084765036453,0.950838520030664,0.9721648672261439,0.8412154066402378,0.9949043153910059,0.3598121215113851,0.9501584092212579,0.3641083299666309,0.010262533286763409,0.9745258129113769,0.6357215792311871,0.8180842387256366,0.45303268511362205,0.44393327681000294,0.8717973622046705,0.9824648598360672,0.14193126888514218,0.35739086786431007,0.7492515765141289,0.2911451379652039,0.740040925341633,0.18104327722766334,0.751705643221692,0.20762776540077577,0.8125905371432666,0.11718253762776953,0.4539179273503101,0.15026263237108173,0.2750249512477323,0.6910584508715367,0.35635772459741677,0.8186846627799926,0.8391992244300621,0.8896932266341226,0.35943848160883873,0.008966115724469148,0.7654780636396268,0.5313345523904834,0.8086095244018163,0.3547377398284135,0.343373911921259,0.6410820762542625,0.9574832677703237,0.5172525031114753,0.2031951500932767,0.16427336918274138,0.6863012043165237,0.6311883773651593,0.3081022371301868,0.13655682239865252,0.667979801230885,0.3012084657522479,0.14880572679540371,0.361656248381111,0.21719045740770604,0.32847501922873035,0.9995622682458992,0.549143090024072,0.24060955083210112,0.7344489523433471,0.1402355859554827,0.7282646583689352,0.9112830702857977,0.2746449298274155,0.44846329558505726,0.3394253274980281,0.35297118897954205,0.28436890745633525,0.6735751935616665,0.7480213032518359,0.34985573392010794,0.40082072674525704,0.9768737544494536,0.5469018262725043,0.8380159240101338,0.9184621066573276,0.13826940288007816,0.5142144985184031,0.9420131314823489,0.7426594801123781,0.2680144149220226,0.5961583107256042,0.25696595867277994,0.7205096077183748,0.18133371678598043,0.27135820716376,0.8587041127304651,0.37436416112531046,0.15192044022887974,0.320571427084554,0.7841297371232279,0.019766149734971483,0.5412396176607602,0.48020089253776155,0.7353971662635276,0.48489457035813555,0.8090578972603485,0.572764148522698,0.6745118389599075,0.5560502210680983,0.026256394995786914,0.617540091661916,0.9206976580903025,0.13092140745472558,0.3447509323369564,0.21359860685360743,0.23238928870245534,0.3767827933607787,0.635487565148085,0.7032107824434695,0.8247930452338056,0.7680040600203044,0.09774041082572893,0.2947657997139511,0.21925959150667118,0.8980240901613462,0.11023374557056587,0.7114786433781461,0.43280737457786655,0.6975921247241159,0.010245995504590821,0.8939417073443966,0.587043518498148,0.9446520575270404,0.03655803653485634,0.2123240843660421,0.010439014117203493,0.6889976053663437,0.2171192409358247,0.9244147145640818,0.5692024609598638,0.9766683619195833,0.5384909961307105,0.6792046942396088,0.6034398998505774,0.22886463160214388,0.2803223414660694,0.3331187157959077,0.07580168630090511,0.015849379988421064,0.1707664054005832,0.9569579522301737,0.06950301121214297,0.8360310888639843,0.29936997719626934,0.6300954816297937,0.6180792412976267,0.803283229805014,0.4399756311601938,0.2703618070355841,0.5440938136076747,0.44438894439976284,0.9635354022660083,0.7499710850736491,0.11859509812241897,0.2295648872288094,0.5879679159343159,0.8143924104469314,0.4182709667794585,0.9464508814778165,0.9994570454811739,0.02855664904541666,0.3644302128542145,0.41861819467172023,0.7211097345431441,0.39602123979623505,0.4236649563125646,0.30534664563376335,0.4008447740714991,0.30599976003563933,0.2156589501303776,0.48279553752902815,0.2986024495626135,0.49357649368815415,0.6640905332242794,0.5511976977211351,0.4633323685516665,0.026258275668089137,0.6932970399919228,0.17452324981862644,0.35555270615143486,0.015705424805132817,0.8264361012843288,0.6325623203474184,0.8591965678362746,0.6399663963573564,0.7730167945470152,0.6489657880799692,0.037759941998475544,0.3681193336284583,0.3474442614595086,0.21337693361564458,0.8873806417367678,0.1341629999860663,0.40687442628570825,0.4751201597579311,0.40186793964693857,0.9360955557912638,0.02605092131656439,0.5262607362111662,0.1844244165312635,0.6094602729845915,0.011632040608446803,0.8717484860517786,0.559090998309439,0.7466408509038327,0.5495249763331959,0.9795529247891127,0.3553558250787743,0.8159835250671063,0.33683073796918706,0.5969275036007066,0.6331740308255329,0.18683831400867057,0.7404818773613075,0.7787496636238086,0.5533922231041255,0.08689840323382836,0.9405563927374978,0.812434845862911,0.2910041517556783,0.5444926035788519,0.7887206678961569,0.0803836404500835,0.03732968224927902,0.4435457046599146,0.6679455569318844,0.7388960607132172,0.6529447774778204,0.9683109657869233,0.48148690960037976,0.9355217838298866,0.9335848058872863,0.6641614869017182,0.7996381443694496,0.7369104006802889,0.07798384589196705,0.8380335286195788,0.289856951061078,0.43682992532195986,0.8869574820489848,0.20948632529915,0.5236189503785141,0.371913577572883,0.3428049812398555,0.1842377628747388,0.9060629683311817,0.25998777238012294,0.175886237178405,0.6653785776015428,0.4433945386790439,0.8441274109965107,0.7501022991587638,0.2154913947693894,0.7048298786306045,0.20106471944768223,0.5684603372787931,0.36333878536479947,0.5066033608213145,0.8944173139132499,0.6792084035542474,0.4578800180505189,0.46973318299935585,0.7298296969813272,0.005413085720770261,0.3136780558073967,0.053833244897141364,0.4747302213060872,0.8084795125472962,0.44549286312471026,0.5401224910174561,0.7599309288807335,0.0904161682058876,0.1884834372199553,0.7576424505014198,0.4745866289474323,0.7378596385517349,0.006205223678403482,0.7455663821442532,0.10635669923176816,0.08790676507441098,0.9803954470266286,0.1792719990332634,0.7222946671815491,0.14861072061776592,0.9005392136764464,0.05148615071318596,0.4783319694305733,0.9441625589997574,0.2932351204244035,0.3390750274759142,0.4268307250952724,0.0991384309740404,0.26447647117992934,0.7156910134556633,0.6750758372675802,0.049562549139981704,0.1618434595077407,0.42907016080139737,0.8939288618837029,0.2354145098501067,0.514825601111381,0.03206215626684161,0.8710920943330782,0.29691662805229646,0.5380143210844096,0.488816251922744,0.7730908392739548,0.8150684496418316,0.541285273324926,0.04516355386327686,0.45369298554739546,0.4783658224012334,0.10200216133297035,0.9896934673238367,0.9981552524229746,0.40245577185617476,0.033978246240020216,0.6393703970459521,0.1296811510204816,0.20900309409971485,0.05552200722595224,0.6155185833157194,0.8170842595668496,0.41032681166504714,0.45394494071935343,0.3781328036954419,0.7384343271813592,0.7923240381433616,0.501873274377154,0.6230060821320887,0.7799596899107718,0.4959989326407922,0.14003623758020045,0.00120177309944125,0.36644621332884986,0.8682577552650124,0.7797376017258855,0.9639026547964261,0.4212973672664141,0.5046226592667407,0.7235400522383477,0.9717728578469887,0.6230082565822488,0.10260225516966892,0.1710675484838141,0.1551719356400192,0.8585047565535581,0.3757127177433476,0.7951010198421169,0.36270920895126113,0.65141397220452,0.6731714868138546,0.6827563509289837,0.49248961446925765,0.9646232863171994,0.8488082610877907,0.44026618176001064,0.880952759177553,0.019427970493715918,0.9581636760210991,0.3665251672210924,0.18482969941267646,0.5581852223871905,0.7113916486877231,0.8044246887106336,0.8888220501122908,0.47876201561726706,0.2941777960096622,0.8922264303532124,0.9020857562161168,0.8237288773821113,0.9203056384389089,0.32704742976223433,0.021497015459438162,0.19490332020142476,0.46935116343864314,0.9591604171008987,0.6976443031322589,0.6735962511188364,0.6492369104211666,0.0066166466410693126,0.6323563104453828,0.4714099563717684,0.3935673999293805,0.9793851323848722,0.8101800445931494,0.25616798420930953,0.8227103270642103,0.6203136139575716,0.7903462941518119,0.5452172416864798,0.24182662664340338,0.7386151535416801,0.4536639228774545,0.9027545348851902,0.9600408954921166,0.7653318566809177,0.04939820412288498,0.0700649121683612,0.16878331898494892,0.2212940821405689,0.07613413683809167,0.7965752334193081,0.8568441032404978,0.4603696392334117,0.4696375671703671,0.5156800179048979,0.029007866606788557,0.3162180186334326,0.010644294505301022,0.26226824376796876,0.29947580666474727,0.886716409544758,0.5046728777886674,0.40490145923375187,0.13535295178372186,0.3149344037148212,0.03941618882413256,0.604632088007579,0.46879117141377546,0.7870625181513103,0.4455492990302692,0.4397831655445231,0.7312707611728603,0.8970017269618714,0.5723307171579014,0.13235692258940746,0.978976934103773,0.32916987733799974,0.5702555855238972,0.0008503869110974005],\"y\":[0.6859491959729082,0.9037476594454374,0.012705271309806365,0.4615373399654471,0.25111417361098665,0.8459292126817253,0.7663311608685032,0.2872997427974149,0.2748438506120886,0.5512066872977146,0.4305532352356434,0.33684213121452244,0.7374023408182664,0.3258701672177621,0.8441056436497015,0.2411949173073269,0.2687038085717237,0.10150177042584008,0.4802972532920802,0.635337020933642,0.8755862817686173,0.6934534186998679,0.18205941166858508,0.14634688282436326,0.33165397879520264,0.6907971787163181,0.6128176599650804,0.9474622408780914,0.21077527675102325,0.005173459694239435,0.2337912627812474,0.3701421918670422,0.4678483771111518,0.2725509105787294,0.40955572890732006,0.642497318937773,0.09241057242890394,0.8852524006028483,0.22995108100245898,0.325891813545096,0.13381602664339687,0.7042543572599892,0.2887089424157915,0.7946018164298205,0.4865157030759716,0.9640358617727768,0.34513061697933134,0.9868669704169536,0.4438689423916945,0.37418948722996703,0.3640130517909943,0.25746891847388864,0.9774671094879082,0.834980091068243,0.22564458826157174,0.9156330578991474,0.9067168165819562,0.19638323165312188,0.2526920229561076,0.35729032447830256,0.7708661633337938,0.021232146163023824,0.17162307672988997,0.44842711513583533,0.2650016810464281,0.2235575029123923,0.48271929137016134,0.6787859547686557,0.9983331648630417,0.1535409316542501,0.18390067690014655,0.9462619117420811,0.5688080130377645,0.7287004249828681,0.1545165397397017,0.5547911959080352,0.414950758779139,0.5649861381611421,0.5923639089264526,0.9127861526598998,0.33072754851052344,0.7296617193245271,0.6728302271681896,0.9607088206068531,0.6783891444662203,0.929266479906364,0.6547538116861537,0.35569976661826674,0.002146392319908541,0.774540861170064,0.0988509879742907,0.14208083912401803,0.15575720800948956,0.666543434872803,0.5025092548365975,0.040272006964421236,0.23521457676466018,0.49863055230229714,0.9631816931884314,0.6908669868625914,0.9281509392866331,0.5663379760972296,0.9532796205042968,0.8282505860145718,0.3053757972900585,0.39645380791721074,0.5019146197812901,0.8276950484177225,0.39453821466817063,0.4971241093461606,0.7945021916186318,0.27471029061462504,0.19154210958011786,0.5969215939237534,0.6271584180983207,0.5175600959953189,0.8861898334035695,0.3690170616780284,0.6354032100804572,0.6307156346653301,0.6177519556060808,0.4488706614650325,0.4243416589331942,0.6849076956984431,0.6939411711564232,0.5876192328688715,0.9941600897569943,0.0032377099048666036,0.43032413199184305,0.6239099419392978,0.19083669262672454,0.9484836732972682,0.07638557950797353,0.3686372966227084,0.09084865279106824,0.6637944233897737,0.04161588578537645,0.03535114231672676,0.713132673455345,0.03884081912571302,0.23150062294289397,0.6451258947525734,0.47916839932485433,0.30928824912997177,0.7375494603021333,0.7540775888876363,0.35991629591392427,0.7098855882637615,0.6670770559670416,0.6025700201062191,0.17385761144409329,0.7814102468598708,0.5415798544364704,0.9219039390607041,0.5152647129755702,0.3453359460750568,0.1872751209549216,0.6406400227156914,0.6700813304918677,0.2858914791002384,0.21175260677294427,0.20395255510582289,0.11329789453516215,0.5934797252735831,0.33116244238827597,0.010234779225027801,0.8050290618560585,0.44638586551125214,0.9970771087234409,0.49202804434323877,0.7581744604061017,0.8066055158776724,0.278960986472811,0.04983374285743514,0.9024304831676149,0.22324178143370133,0.6230986310174017,0.21381415675995274,0.9004403052567255,0.2715348221670383,0.010382835699687676,0.17853328193335571,0.8137267568511274,0.1432039769104141,0.8100437564698106,0.15497819148538894,0.020581317994977533,0.6957750879815712,0.9764071099695448,0.6385109774130336,0.9255987060667737,0.09208449947730646,0.5616167250042114,0.13055327905623515,0.069986644925501,0.09117097853210199,0.05573398943027619,0.6334580327366633,0.4352246489851239,0.7511224064533265,0.9430865716627859,0.49770464280111004,0.45801673692222655,0.19713539745651898,0.7183059174037602,0.8581374593516677,0.504220085769123,0.19534744572249552,0.3536046766555587,0.38641618895834695,0.005405718840539087,0.9126780265983268,0.7220782149838797,0.9792664618180392,0.6265633362789956,0.8183047938282284,0.11371899138224895,0.3497264583622951,0.9124064012595473,0.8088807020567985,0.6508216215419512,0.5289659324332885,0.9246178366456044,0.06420887979694945,0.7252835894130912,0.8477071647335426,0.7103606993927166,0.39809357146172797,0.7757748033114248,0.3921533194628142,0.5403885896258876,0.3326160406126596,0.45136336588640147,0.8503134311996855,0.9087707905493854,0.5138038602449946,0.9898152214007595,0.7813650754763942,0.018607456384950094,0.2472365193183388,0.6380277660908031,0.607446749094625,0.5147582216492699,0.8309882575007741,0.06641971270355196,0.15425016861064023,0.5618603338528493,0.6478873958553374,0.7459262762205454,0.9520718391608812,0.114736129381804,0.6473272046700365,0.8577673607021103,0.1571964769161026,0.13923429167439116,0.5205757497785766,0.7291612178235856,0.8400314801575501,0.7227343078837389,0.6779372791996127,0.5633477722776693,0.22407908825453382,0.5424490245567383,0.8672846951761308,0.12017391397652777,0.2775352754163092,0.7107295262972819,0.9908500864956739,0.2473452556460437,0.3854707888136284,0.9895275137657585,0.9047139635098791,0.7710525456337521,0.5570945437149396,0.9614844614052998,0.16280544393344498,0.2916313606162385,0.762677256573295,0.18143301807168732,0.5715729490020723,0.6408147965375858,0.4327615863516674,0.9221112006362919,0.37947230198673754,0.23491969325134476,0.5748814330835517,0.5136698280465507,0.901270835313403,0.5694031290106029,0.5942373292622004,0.43695470927691593,0.322712039831211,0.2593735384178322,0.14145462617316007,0.09565751423775559,0.4734306373376258,0.603646873662359,0.7601900673121189,0.7091217510076715,0.13009005336376733,0.7793802276339977,0.6091341529182801,0.7814936075608327,0.8809041926581511,0.7725307990345047,0.2713893673494656,0.03786588313815131,0.19095257417975264,0.4887151191919987,0.8691524352746993,0.10426235783358029,0.34725594976602014,0.18353280724587118,0.5799696936403653,0.41493241804446135,0.27653512311631856,0.7189888589276405,0.8904108440808632,0.09749058326391014,0.10299288204114876,0.7516330406529399,0.3703768905526108,0.6589931823129302,0.6984520364665209,0.8586828113830554,0.5693025447980802,0.2515521716709912,0.39913100267024326,0.3057849269124684,0.19310616567497796,0.6820492481702785,0.8394227658754437,0.42418932061985504,0.5140196318384648,0.3981239973503381,0.29626095175079714,0.21443556640751726,0.3758705496567689,0.24765116125879005,0.6001856863344005,0.9956836069542561,0.34799541683730884,0.9164279768286918,0.6810952158031714,0.8803372831434242,0.0856780055152222,0.462952202592509,0.8522488749233317,0.014380439058931715,0.1983080191801475,0.8290618450610026,0.8565617013513703,0.533492574886965,0.9412274399524626,0.9948952251230673,0.877002069081441,0.69703217777069,0.3084626837899246,0.9368901947498014,0.143829055190275,0.13055121722888297,0.7818286535548294,0.7356667544517868,0.25434259925852976,0.9586830008076375,0.9987396508275863,0.07001725788437618,0.6786348793026286,0.9517798846629933,0.676105558381061,0.6940846420610312,0.6062186357586318,0.24853293427869239,0.37727944917155976,0.401410588373995,0.2965151432733458,0.5422697878278905,0.07127197750668368,0.5122253694908514,0.7517676517454415,0.2644059476281798,0.11892725734548171,0.9862554426545028,0.7979504908620403,0.6550882295844805,0.7710808431156313,0.7699585924563104,0.3126463874257158,0.40499277607354345,0.32320548906978386,0.760453796492821,0.2524155932322715,0.1976171159042267,0.2849205983936459,0.49496046116835624,0.295480980665506,0.2973848373752904,0.8817831667598596,0.48399552023017667,0.1367663553624482,0.22317785260186984,0.8606127996234473,0.9689857252051063,0.2241160614928429,0.9858103542672243,0.43379067339643684,0.5389361023545481,0.08959522738183845,0.5491867389210325,0.7018308375912796,0.4075960769018172,0.23567055488749156,0.6800488018033761,0.9324151323037383,0.32322308950935075,0.062323106998596,0.43910630839947207,0.7221689522566113,0.8714254132832945,0.22212498688472482,0.5154394112665829,0.6536312877213633,0.8159770667115744,0.9391546585485698,0.91181244739211,0.47571392668596924,0.11590510459912873,0.042797871177946534,0.016414877269391948,0.3709612098437741,0.3175983566082279,0.09476700465261767,0.8034909789073529,0.9225752079700178,0.4144890409381281,0.8757581609782947,0.4888836180581938,0.2945812521814629,0.8687052805679901,0.3663030615389288,0.04808606481730682,0.9563854801555635,0.9496967775071465,0.15088375910883078,0.6830308405574389,0.7801331967468023,0.8300161349436468,0.981495199976735,0.8571836737975193,0.6849161601818812,0.5317975322100728,0.6650051423780133,0.506983643544234,0.201241895901361,0.013621201918129655,0.036634455341224226,0.35050901144599556,0.6151150456940643,0.6046504130678999,0.09654897689582231,0.9924860636960431,0.281414212477082,0.20958698043614676,0.19657139527147482,0.6543769899233912,0.8322284611943545,0.6270973546590816,0.9664353930041699,0.6370664408017559,0.42151064080416034,0.0382173642352831,0.20901023389144913,0.6949616992587528,0.7112410859600133,0.832254605158373,0.5392115386524449,0.5010158476447372,0.32862583349553487,0.7318128136590338,0.5460512613918854,0.862193725598639,0.9145323880974403,0.9747245744097293,0.4041099309292553,0.6457121009583737,0.45137833297770713,0.09344617701505431,0.7006814104239399,0.2596109104677645,0.4031056463192755,0.8559568804685217,0.32335477998325934,0.6558801924612467,0.67196348766281,0.026163061446000446,0.07195578409091663,0.8264099396155291,0.9142449355188451,0.1356182511628501,0.18859173623629255]},\"selected\":{\"id\":\"2139\"},\"selection_policy\":{\"id\":\"2238\"}},\"id\":\"2082\",\"type\":\"ColumnDataSource\"}],\"root_ids\":[\"2141\"]},\"title\":\"Bokeh Application\",\"version\":\"2.4.1\"}};\n",
       "  const render_items = [{\"docid\":\"d90d6eed-eb9d-4d1e-a957-b6929a161f88\",\"root_ids\":[\"2141\"],\"roots\":{\"2141\":\"dc961542-5b83-42d1-9d83-431c7456a6d5\"}}];\n",
       "  root.Bokeh.embed.embed_items_notebook(docs_json, render_items);\n",
       "\n",
       "  }\n",
       "  if (root.Bokeh !== undefined) {\n",
       "    embed_document(root);\n",
       "  } else {\n",
       "    let attempts = 0;\n",
       "    const timer = setInterval(function(root) {\n",
       "      if (root.Bokeh !== undefined) {\n",
       "        clearInterval(timer);\n",
       "        embed_document(root);\n",
       "      } else {\n",
       "        attempts++;\n",
       "        if (attempts > 100) {\n",
       "          clearInterval(timer);\n",
       "          console.log(\"Bokeh: ERROR: Unable to run BokehJS code because BokehJS library is missing\");\n",
       "        }\n",
       "      }\n",
       "    }, 10, root)\n",
       "  }\n",
       "})(window);"
      ],
      "application/vnd.bokehjs_exec.v0+json": ""
     },
     "metadata": {
      "application/vnd.bokehjs_exec.v0+json": {
       "id": "2141"
      }
     },
     "output_type": "display_data"
    }
   ],
   "source": [
    "from random import random\n",
    "\n",
    "from bokeh.layouts import row\n",
    "from bokeh.models import ColumnDataSource, CustomJS\n",
    "from bokeh.plotting import figure, output_file, show\n",
    "\n",
    "x = [random() for x in range(500)]\n",
    "y = [random() for y in range(500)]\n",
    "\n",
    "s1 = ColumnDataSource(data=dict(x=x, y=y))\n",
    "p1 = figure(width=400, height=400, tools=\"lasso_select\", title=\"Select Here\")\n",
    "p1.circle('x', 'y', source=s1, alpha=0.6)\n",
    "\n",
    "s2 = ColumnDataSource(data=dict(x=[], y=[]))\n",
    "p2 = figure(width=400, height=400, x_range=(0, 1), y_range=(0, 1),\n",
    "            tools=\"\", title=\"Watch Here\")\n",
    "p2.circle('x', 'y', source=s2, alpha=0.6)\n",
    "\n",
    "s1.selected.js_on_change('indices', CustomJS(args=dict(s1=s1, s2=s2), code=\"\"\"\n",
    "        const inds = cb_obj.indices;\n",
    "        const d1 = s1.data;\n",
    "        const d2 = s2.data;\n",
    "        d2['x'] = []\n",
    "        d2['y'] = []\n",
    "        for (let i = 0; i < inds.length; i++) {\n",
    "            d2['x'].push(d1['x'][inds[i]])\n",
    "            d2['y'].push(d1['y'][inds[i]])\n",
    "        }\n",
    "        s2.change.emit();\n",
    "    \"\"\")\n",
    ")\n",
    "\n",
    "layout = row(p1, p2)\n",
    "\n",
    "show(layout)"
   ]
  },
  {
   "cell_type": "markdown",
   "metadata": {},
   "source": [
    "### CustomJS für UI-Events\n",
    "\n",
    "Alle verfügbaren UI-Ereignisse und ihre Eigenschaften sind im Abschnitt [bokeh.events](https://bokeh.pydata.org/en/latest/docs/reference/events.html) aufgeführt."
   ]
  },
  {
   "cell_type": "code",
   "execution_count": 9,
   "metadata": {},
   "outputs": [
    {
     "data": {
      "text/html": [
       "\n",
       "\n",
       "\n",
       "\n",
       "\n",
       "\n",
       "  <div class=\"bk-root\" id=\"d85cf14f-4a4f-4317-81f8-731c2b530a09\" data-root-id=\"2368\"></div>\n"
      ]
     },
     "metadata": {},
     "output_type": "display_data"
    },
    {
     "data": {
      "application/javascript": [
       "(function(root) {\n",
       "  function embed_document(root) {\n",
       "    \n",
       "  const docs_json = {\"554dcbbf-82d3-41f0-a528-b8c64a625f03\":{\"defs\":[],\"roots\":{\"references\":[{\"attributes\":{\"children\":[{\"id\":\"2366\"},{\"id\":\"2367\"}]},\"id\":\"2368\",\"type\":\"Column\"},{\"attributes\":{\"coordinates\":null,\"formatter\":{\"id\":\"2475\"},\"group\":null,\"major_label_policy\":{\"id\":\"2476\"},\"ticker\":{\"id\":\"2352\"}},\"id\":\"2351\",\"type\":\"LinearAxis\"},{\"attributes\":{},\"id\":\"2345\",\"type\":\"LinearScale\"},{\"attributes\":{},\"id\":\"2348\",\"type\":\"BasicTicker\"},{\"attributes\":{},\"id\":\"2343\",\"type\":\"LinearScale\"},{\"attributes\":{},\"id\":\"2475\",\"type\":\"BasicTickFormatter\"},{\"attributes\":{},\"id\":\"2476\",\"type\":\"AllLabels\"},{\"attributes\":{\"axis\":{\"id\":\"2347\"},\"coordinates\":null,\"group\":null,\"ticker\":null},\"id\":\"2350\",\"type\":\"Grid\"},{\"attributes\":{},\"id\":\"2339\",\"type\":\"DataRange1d\"},{\"attributes\":{},\"id\":\"2478\",\"type\":\"BasicTickFormatter\"},{\"attributes\":{\"axis\":{\"id\":\"2351\"},\"coordinates\":null,\"dimension\":1,\"group\":null,\"ticker\":null},\"id\":\"2354\",\"type\":\"Grid\"},{\"attributes\":{},\"id\":\"2479\",\"type\":\"AllLabels\"},{\"attributes\":{\"coordinates\":null,\"group\":null},\"id\":\"2472\",\"type\":\"Title\"},{\"attributes\":{\"overlay\":{\"id\":\"2356\"}},\"id\":\"2355\",\"type\":\"BoxSelectTool\"},{\"attributes\":{},\"id\":\"2352\",\"type\":\"BasicTicker\"},{\"attributes\":{\"args\":{\"div\":{\"id\":\"2365\"}},\"code\":\"\\ndiv.text = \\\"Button!\\\";\\n\"},\"id\":\"2369\",\"type\":\"CustomJS\"},{\"attributes\":{\"fill_alpha\":{\"value\":0.6},\"fill_color\":{\"value\":\"#1f77b4\"},\"line_color\":{\"value\":null},\"radius\":{\"value\":1},\"x\":{\"field\":\"x\"},\"y\":{\"field\":\"y\"}},\"id\":\"2360\",\"type\":\"Circle\"},{\"attributes\":{\"children\":[{\"id\":\"2338\"},{\"id\":\"2365\"}]},\"id\":\"2367\",\"type\":\"Row\"},{\"attributes\":{},\"id\":\"2341\",\"type\":\"DataRange1d\"},{\"attributes\":{\"icon\":null,\"js_event_callbacks\":{\"button_click\":[{\"id\":\"2369\"}]}},\"id\":\"2366\",\"type\":\"Button\"},{\"attributes\":{\"bottom_units\":\"screen\",\"coordinates\":null,\"fill_alpha\":0.5,\"fill_color\":\"lightgrey\",\"group\":null,\"left_units\":\"screen\",\"level\":\"overlay\",\"line_alpha\":1.0,\"line_color\":\"black\",\"line_dash\":[4,4],\"line_width\":2,\"right_units\":\"screen\",\"syncable\":false,\"top_units\":\"screen\"},\"id\":\"2356\",\"type\":\"BoxAnnotation\"},{\"attributes\":{\"below\":[{\"id\":\"2347\"}],\"center\":[{\"id\":\"2350\"},{\"id\":\"2354\"}],\"js_event_callbacks\":{\"selectiongeometry\":[{\"id\":\"2370\"}]},\"left\":[{\"id\":\"2351\"}],\"renderers\":[{\"id\":\"2363\"}],\"title\":{\"id\":\"2472\"},\"toolbar\":{\"id\":\"2357\"},\"x_range\":{\"id\":\"2339\"},\"x_scale\":{\"id\":\"2343\"},\"y_range\":{\"id\":\"2341\"},\"y_scale\":{\"id\":\"2345\"}},\"id\":\"2338\",\"subtype\":\"Figure\",\"type\":\"Plot\"},{\"attributes\":{\"fill_alpha\":{\"value\":0.2},\"fill_color\":{\"value\":\"#1f77b4\"},\"hatch_alpha\":{\"value\":0.2},\"line_alpha\":{\"value\":0.2},\"line_color\":{\"value\":null},\"radius\":{\"value\":1},\"x\":{\"field\":\"x\"},\"y\":{\"field\":\"y\"}},\"id\":\"2362\",\"type\":\"Circle\"},{\"attributes\":{\"width\":400},\"id\":\"2365\",\"type\":\"Div\"},{\"attributes\":{\"data\":{\"x\":{\"__ndarray__\":\"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\",\"dtype\":\"float64\",\"order\":\"little\",\"shape\":[2000]},\"y\":{\"__ndarray__\":\"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\",\"dtype\":\"float64\",\"order\":\"little\",\"shape\":[2000]}},\"selected\":{\"id\":\"2481\"},\"selection_policy\":{\"id\":\"2480\"}},\"id\":\"2359\",\"type\":\"ColumnDataSource\"},{\"attributes\":{\"fill_alpha\":{\"value\":0.1},\"fill_color\":{\"value\":\"#1f77b4\"},\"hatch_alpha\":{\"value\":0.1},\"line_alpha\":{\"value\":0.1},\"line_color\":{\"value\":null},\"radius\":{\"value\":1},\"x\":{\"field\":\"x\"},\"y\":{\"field\":\"y\"}},\"id\":\"2361\",\"type\":\"Circle\"},{\"attributes\":{},\"id\":\"2480\",\"type\":\"UnionRenderers\"},{\"attributes\":{\"args\":{\"div\":{\"id\":\"2365\"}},\"code\":\"\\ndiv.text = \\\"Selection! <p> <p>\\\" + JSON.stringify(cb_obj.geometry, undefined, 2);\\n\"},\"id\":\"2370\",\"type\":\"CustomJS\"},{\"attributes\":{},\"id\":\"2481\",\"type\":\"Selection\"},{\"attributes\":{\"tools\":[{\"id\":\"2355\"}]},\"id\":\"2357\",\"type\":\"Toolbar\"},{\"attributes\":{\"source\":{\"id\":\"2359\"}},\"id\":\"2364\",\"type\":\"CDSView\"},{\"attributes\":{\"coordinates\":null,\"data_source\":{\"id\":\"2359\"},\"glyph\":{\"id\":\"2360\"},\"group\":null,\"hover_glyph\":null,\"muted_glyph\":{\"id\":\"2362\"},\"nonselection_glyph\":{\"id\":\"2361\"},\"view\":{\"id\":\"2364\"}},\"id\":\"2363\",\"type\":\"GlyphRenderer\"},{\"attributes\":{\"coordinates\":null,\"formatter\":{\"id\":\"2478\"},\"group\":null,\"major_label_policy\":{\"id\":\"2479\"},\"ticker\":{\"id\":\"2348\"}},\"id\":\"2347\",\"type\":\"LinearAxis\"}],\"root_ids\":[\"2368\"]},\"title\":\"Bokeh Application\",\"version\":\"2.4.1\"}};\n",
       "  const render_items = [{\"docid\":\"554dcbbf-82d3-41f0-a528-b8c64a625f03\",\"root_ids\":[\"2368\"],\"roots\":{\"2368\":\"d85cf14f-4a4f-4317-81f8-731c2b530a09\"}}];\n",
       "  root.Bokeh.embed.embed_items_notebook(docs_json, render_items);\n",
       "\n",
       "  }\n",
       "  if (root.Bokeh !== undefined) {\n",
       "    embed_document(root);\n",
       "  } else {\n",
       "    let attempts = 0;\n",
       "    const timer = setInterval(function(root) {\n",
       "      if (root.Bokeh !== undefined) {\n",
       "        clearInterval(timer);\n",
       "        embed_document(root);\n",
       "      } else {\n",
       "        attempts++;\n",
       "        if (attempts > 100) {\n",
       "          clearInterval(timer);\n",
       "          console.log(\"Bokeh: ERROR: Unable to run BokehJS code because BokehJS library is missing\");\n",
       "        }\n",
       "      }\n",
       "    }, 10, root)\n",
       "  }\n",
       "})(window);"
      ],
      "application/vnd.bokehjs_exec.v0+json": ""
     },
     "metadata": {
      "application/vnd.bokehjs_exec.v0+json": {
       "id": "2368"
      }
     },
     "output_type": "display_data"
    }
   ],
   "source": [
    "from bokeh.plotting import figure\n",
    "from bokeh import events\n",
    "from bokeh.models import CustomJS, Div, Button\n",
    "from bokeh.layouts import column, row\n",
    "\n",
    "import numpy as np\n",
    "x = np.random.random(size=2000) * 100\n",
    "y = np.random.random(size=2000) * 100\n",
    "\n",
    "p = figure(tools=\"box_select\")\n",
    "p.scatter(x, y, radius=1, fill_alpha=0.6, line_color=None)\n",
    "\n",
    "div = Div(width=400)\n",
    "button = Button(label=\"Button\")\n",
    "layout = column(button, row(p, div))\n",
    "\n",
    "# Events with no attributes\n",
    "button.js_on_event(events.ButtonClick,  CustomJS(args=dict(div=div), code=\"\"\"\n",
    "div.text = \"Button!\";\n",
    "\"\"\")) \n",
    "\n",
    "p.js_on_event(events.SelectionGeometry, CustomJS(args=dict(div=div), code=\"\"\"\n",
    "div.text = \"Selection! <p> <p>\" + JSON.stringify(cb_obj.geometry, undefined, 2);\n",
    "\"\"\"))\n",
    "\n",
    "show(layout)"
   ]
  },
  {
   "cell_type": "markdown",
   "metadata": {},
   "source": [
    "### Zusätzliche Informationen\n",
    "\n",
    "Es gibt viele Arten von Interaktionen und Ereignissen, die mit `CustomJS`-Rückrufen verbunden werden können:\n",
    "\n",
    "* **Widgets**: - Button, Toggle, Dropdown, TextInput, AutocompleteInput, Select, Multiselect, Slider, (DateRangeSlider), DatePicker,\n",
    "* **Tools**: - TapTool, BoxSelectTool, HoverTool,\n",
    "* **Selection**: - ColumnDataSource, AjaxDataSource, BlazeDataSource, ServerDataSource\n",
    "* **Ranges**: - Range1d, DataRange1d, FactorRange\n",
    "\n",
    "Vollständigere Beispiele findet ihr in [JavaScript Interactions](http://bokeh.pydata.org/en/latest/docs/user_guide/interaction.html). "
   ]
  }
 ],
 "metadata": {
  "kernelspec": {
   "display_name": "Python 3.8",
   "language": "python",
   "name": "python-38"
  },
  "language_info": {
   "codemirror_mode": {
    "name": "ipython",
    "version": 3
   },
   "file_extension": ".py",
   "mimetype": "text/x-python",
   "name": "python",
   "nbconvert_exporter": "python",
   "pygments_lexer": "ipython3",
   "version": "3.8.12"
  },
  "latex_envs": {
   "LaTeX_envs_menu_present": true,
   "autoclose": false,
   "autocomplete": true,
   "bibliofile": "biblio.bib",
   "cite_by": "apalike",
   "current_citInitial": 1,
   "eqLabelWithNumbers": true,
   "eqNumInitial": 1,
   "hotkeys": {
    "equation": "Ctrl-E",
    "itemize": "Ctrl-I"
   },
   "labels_anchors": false,
   "latex_user_defs": false,
   "report_style_numbering": false,
   "user_envs_cfg": false
  },
  "widgets": {
   "application/vnd.jupyter.widget-state+json": {
    "state": {},
    "version_major": 2,
    "version_minor": 0
   }
  }
 },
 "nbformat": 4,
 "nbformat_minor": 2
}
