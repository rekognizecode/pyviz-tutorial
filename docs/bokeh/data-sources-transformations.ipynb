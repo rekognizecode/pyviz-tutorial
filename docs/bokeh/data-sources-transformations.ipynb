{
 "cells": [
  {
   "cell_type": "markdown",
   "metadata": {},
   "source": [
    "# Datenquellen und Transformationen\n",
    "\n",
    "## Überblick\n",
    "\n",
    "Bokeh kann mit Python-Listen, NumPy-Arrays, Pandas-Serien usw. arbeiten. Dabei werden diese Eingaben in eine Bokeh `ColumnDataSource` konvertiert. Obwohl Bokeh dies oft transparent macht, kann es gelegentlich sinnvoll sein, sie explizit zu erstellen."
   ]
  },
  {
   "cell_type": "code",
   "execution_count": null,
   "metadata": {},
   "outputs": [],
   "source": [
    "from bokeh.io import output_notebook, show\n",
    "from bokeh.plotting import figure\n",
    "output_notebook()"
   ]
  },
  {
   "cell_type": "markdown",
   "metadata": {},
   "source": [
    "## Python Dicts\n",
    "\n",
    "Die `ColumnDataSource` kann aus `bokeh.models` importiert werden:"
   ]
  },
  {
   "cell_type": "code",
   "execution_count": null,
   "metadata": {},
   "outputs": [],
   "source": [
    "from bokeh.models import ColumnDataSource"
   ]
  },
  {
   "cell_type": "markdown",
   "metadata": {},
   "source": [
    "`ColumnDataSource` ist eine Zuordnung von Spaltennamen zu Wertsequenzen. Dabei müssen alle Spalten immer die gleiche Länge haben:"
   ]
  },
  {
   "cell_type": "code",
   "execution_count": null,
   "metadata": {},
   "outputs": [],
   "source": [
    "source = ColumnDataSource(data={\n",
    "    'x' : [1, 2, 3, 4, 5],\n",
    "    'y' : [3, 7, 8, 5, 1],\n",
    "})"
   ]
  },
  {
   "cell_type": "markdown",
   "metadata": {},
   "source": [
    "Bisher haben wir Funktionen wie `p.circle` aufgerufen, indem wir direkt Listen oder Datenarrays übergeben haben. Dann erstellt Bokeh automatisch eine `ColumnDataSource` für uns. Es ist jedoch auch möglich, eine `ColumnDataSource` explizit anzugeben, indem als Quellargument eine Glyph-Methode übergeben wird:"
   ]
  },
  {
   "cell_type": "code",
   "execution_count": null,
   "metadata": {},
   "outputs": [],
   "source": [
    "p = figure(plot_width=400, plot_height=400)\n",
    "p.circle('x', 'y', size=20, source=source)\n",
    "show(p)"
   ]
  },
  {
   "cell_type": "markdown",
   "metadata": {},
   "source": [
    "## `pandas.DataFrame`\n",
    "\n",
    "Es ist auch einfach, `ColumnDataSource`-Objekte direkt aus Pandas-DataFrames zu erstellen:"
   ]
  },
  {
   "cell_type": "code",
   "execution_count": null,
   "metadata": {},
   "outputs": [],
   "source": [
    "from bokeh.sampledata.iris import flowers as df\n",
    "source = ColumnDataSource(df)\n",
    "p = figure(plot_width=400, plot_height=400)\n",
    "p.circle('petal_length', 'petal_width', source=source)\n",
    "show(p)"
   ]
  },
  {
   "cell_type": "markdown",
   "metadata": {},
   "source": [
    "## Transformationen\n",
    "\n",
    "Wenn Datenquellen nicht gemeinsam genutzt werden müssen, können Dicts, `pandas.DataFrame`- oder `GroupBy`-Objekte direkt an die Glyph-Methode übergeben werden ohne explizit eine `ColumnDataSource` zu erstellen. In diesem Fall erfolgt die Konvertierung automatisch.\n",
    "\n",
    "Glyph-Eigenschaften können nicht nur mit Namen von Spalten aus Datenquellen konfiguriert werden, sondern auch mit Transformationsobjekten aus `bokeh.transform`. Dabei ist wichtig zu beachten, dass bei der Verwendung dieser Objekte die Transformationen im Browser und nicht in Python erfolgen."
   ]
  },
  {
   "cell_type": "markdown",
   "metadata": {},
   "source": [
    "### `cumsum`\n",
    "\n",
    "Im Folgenden betrachten wir zunächst eine `cumsum`-Transformation, die aus einer Spalte eine neue Folge von Werten erzeugen kann indem die Werte kumulativ summiert werden. Dies kann für Kreisdiagramme oder Doughnut-Diagramme nützlich sein:"
   ]
  },
  {
   "cell_type": "code",
   "execution_count": null,
   "metadata": {},
   "outputs": [],
   "source": [
    "from math import pi\n",
    "import pandas as pd\n",
    "from bokeh.palettes import Category20c\n",
    "from bokeh.transform import cumsum\n",
    "\n",
    "x = { 'United States': 157, 'United Kingdom': 93, 'Japan': 89, 'China': 63,\n",
    "      'Germany': 44, 'India': 42, 'Italy': 40, 'Australia': 35, 'Brazil': 32,\n",
    "      'France': 31, 'Taiwan': 31, 'Spain': 29 }\n",
    "\n",
    "data = pd.Series(x).reset_index(name='value').rename(columns={'index':'country'})\n",
    "data['color'] = Category20c[len(x)]\n",
    "\n",
    "# represent each value as an angle = value / total * 2pi\n",
    "data['angle'] = data['value']/data['value'].sum() * 2*pi\n",
    "\n",
    "p = figure(plot_height=350, title=\"Pie Chart\", toolbar_location=None,\n",
    "           tools=\"hover\", tooltips=\"@country: @value\")\n",
    "\n",
    "p.wedge(x=0, y=1, radius=0.4, \n",
    "        \n",
    "        # use cumsum to cumulatively sum the values for start and end angles\n",
    "        start_angle=cumsum('angle', include_zero=True), end_angle=cumsum('angle'),\n",
    "        line_color=\"white\", fill_color='color', legend_label='country', source=data)\n",
    "\n",
    "p.axis.axis_label=None\n",
    "p.axis.visible=False\n",
    "p.grid.grid_line_color = None\n",
    "\n",
    "show(p)"
   ]
  },
  {
   "cell_type": "markdown",
   "metadata": {},
   "source": [
    "### `linear_cmap`\n",
    "\n",
    "Mit der `linear_cmap`-Transformation kann eine lineare Farbzuordnung zur Spalte einer Datenquelle eine neue Farbsequenz erzeugen:"
   ]
  },
  {
   "cell_type": "code",
   "execution_count": null,
   "metadata": {},
   "outputs": [],
   "source": [
    "import numpy as np\n",
    "from bokeh.transform import linear_cmap\n",
    "\n",
    "N = 4000\n",
    "data = dict(x=np.random.random(size=N) * 100,\n",
    "            y=np.random.random(size=N) * 100,\n",
    "            r=np.random.random(size=N) * 1.5)\n",
    "\n",
    "p = figure()\n",
    "\n",
    "p.circle('x', 'y', radius='r', source=data, fill_alpha=0.6,\n",
    "        \n",
    "         # color map based on the x-coordinate\n",
    "         color=linear_cmap('x', 'Viridis256', 0, 100))\n",
    "\n",
    "show(p)"
   ]
  }
 ],
 "metadata": {
  "language_info": {
   "name": "python",
   "pygments_lexer": "ipython3"
  }
 },
 "nbformat": 4,
 "nbformat_minor": 2
}
