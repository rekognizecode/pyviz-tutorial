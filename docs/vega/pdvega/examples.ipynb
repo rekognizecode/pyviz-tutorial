{
 "cells": [
  {
   "cell_type": "markdown",
   "metadata": {},
   "source": [
    "# PdVega-Beispiele"
   ]
  },
  {
   "cell_type": "markdown",
   "metadata": {},
   "source": [
    "## Importe"
   ]
  },
  {
   "cell_type": "code",
   "execution_count": null,
   "metadata": {},
   "outputs": [],
   "source": [
    "import pandas as pd\n",
    "import numpy as np\n",
    "import pdvega"
   ]
  },
  {
   "cell_type": "markdown",
   "metadata": {},
   "source": [
    "## Deklarative Beschreibung der Datenvisualisierung\n",
    "\n",
    "Mit [Vega-Lite](http://vega.github.io/vega-lite) lässt sich deklarativ beschreiben, wie die Daten auf Visualisierungsfunktionen abgebildet werden sollen. Mit `pdvega` wird diese Spezifikation ähnlich einfach wie über die [Matplotlib-API](https://pandas.pydata.org/pandas-docs/stable/visualization.html) verfügbar: `data.plot` muss lediglich durch `data.vgplot` ersetzt werden, wobei sich `data` auf Pandas-`Series` oder `DataFrame`-Objekte bezieht."
   ]
  },
  {
   "cell_type": "markdown",
   "metadata": {},
   "source": [
    "Laden eines `DataFrame` mit Zeitreihen von Aktienkursen:"
   ]
  },
  {
   "cell_type": "code",
   "execution_count": null,
   "metadata": {},
   "outputs": [],
   "source": [
    "from vega_datasets import data\n",
    "stocks = data.stocks(pivoted=True)"
   ]
  },
  {
   "cell_type": "markdown",
   "metadata": {},
   "source": [
    "[Matplotlib-API](https://pandas.pydata.org/pandas-docs/stable/visualization.html):"
   ]
  },
  {
   "cell_type": "code",
   "execution_count": null,
   "metadata": {},
   "outputs": [],
   "source": [
    "stocks.plot.line()"
   ]
  },
  {
   "cell_type": "markdown",
   "metadata": {},
   "source": [
    "`pdvega`-API:"
   ]
  },
  {
   "cell_type": "code",
   "execution_count": null,
   "metadata": {},
   "outputs": [],
   "source": [
    "stocks.vgplot.line()"
   ]
  },
  {
   "cell_type": "markdown",
   "metadata": {},
   "source": [
    "Das Ergebnis sind schöne Datenvisualisierungen mit einem Minimum an Boilerplate. Zudem sind die aus `pdvega` erstellten Diagramme interaktiv und lassen sich Verschieben und Vergrößern/Verkleinern."
   ]
  },
  {
   "cell_type": "markdown",
   "metadata": {},
   "source": [
    "## Einfache Datenvisualisierungen mit `data.vgplot`\n",
    "\n",
    "Die zentrale Schnittstelle von `pdvega` ist das `vgplot`-Attribut, das Pandas-`DataFrame` und `Series`-Objekten hinzugefügt wird.\n",
    "\n",
    "Wie bei dem Pandas Plots gibt es zwei Möglichkeiten, Diagramme zu erstellen:\n",
    "\n",
    "1. das `vgplot`-Attribut eines Pandas-Objekts kann direkt aufgerufen werden, also z.B.\n",
    "\n",
    "```\n",
    "iris.vgplot(kind='scatter', x='sepalLength', y='petalLength', c='species')\n",
    "```\n",
    "\n",
    "2. Alternativ kann auch die spezifische Methode aufgerufen werden, die jedem Diagrammtyp zugeordnet ist:\n",
    "\n",
    "```\n",
    "iris.vgplot.scatter(x='sepalLength', y='petalLength', c='species')\n",
    "```\n",
    "\n",
    "Dieser Ansatz bietet den Vorteil, dass verfügbare Plottypen über die Tabulatorvervollständigung untersucht werden können. Die einzelnen Funktionen bieten auch eine detailliertere Dokumentation der für jede Methode verfügbaren Argumente."
   ]
  },
  {
   "cell_type": "markdown",
   "metadata": {},
   "source": [
    "### Diagrammtypen\n",
    "\n",
    "Die `vgplot`-API stellt neun grundlegende Diagrammtypen bereit:"
   ]
  },
  {
   "cell_type": "markdown",
   "metadata": {},
   "source": [
    "#### Liniendiagramme mit `vgplot.line`\n",
    "\n",
    "Der Standarddiagrammtyp für `vgplot` ist ein Liniendiagramm.\n",
    "\n",
    "Sofern nichts anders angegeben ist, wird der Index von `DataFrame` oder `Series` als x-Achsenvariable verwendet, und eine separate Linie für die y-Werte jeder Spalte des `DataFrame`. Wenn Sie ihr nur eine Teilmenge der Spalten plotten lassen möchtet, könnt ihr mithilfe der Pandas-Indizierung die Spalten auswählen, an denen ihr interessiert seid:"
   ]
  },
  {
   "cell_type": "code",
   "execution_count": null,
   "metadata": {},
   "outputs": [],
   "source": [
    "stocks[['AAPL', 'AMZN']].vgplot.line()"
   ]
  },
  {
   "cell_type": "markdown",
   "metadata": {},
   "source": [
    "Liniendiagramme können weiter angepasst werden. Informationen hierzu findet ihr in der Dokumentation:\n",
    "\n",
    "* [pdvega.FramePlotMethods.line()](https://altair-viz.github.io/pdvega/API.html#pdvega.FramePlotMethods.line)\n",
    "* [pdvega.SeriesPlotMethods.line()](https://altair-viz.github.io/pdvega/API.html#pdvega.SeriesPlotMethods.line)"
   ]
  },
  {
   "cell_type": "markdown",
   "metadata": {},
   "source": [
    "#### Streudiagramme mit `vgplot.scatter`"
   ]
  },
  {
   "cell_type": "code",
   "execution_count": null,
   "metadata": {},
   "outputs": [],
   "source": [
    "stocks.vgplot.scatter(x='AAPL', y='AMZN')"
   ]
  },
  {
   "cell_type": "markdown",
   "metadata": {},
   "source": [
    "Um Streudiagramme weiter anzupassen, schaut euch [pdvega.FramePlotMethods.scatter()](https://altair-viz.github.io/pdvega/API.html#pdvega.FramePlotMethods.scatter) an."
   ]
  },
  {
   "cell_type": "markdown",
   "metadata": {},
   "source": [
    "#### Flächendiagramme mit `vgplot.area`"
   ]
  },
  {
   "cell_type": "code",
   "execution_count": null,
   "metadata": {},
   "outputs": [],
   "source": [
    "stocks[['MSFT', 'AAPL', 'AMZN']].vgplot.area()"
   ]
  },
  {
   "cell_type": "markdown",
   "metadata": {},
   "source": [
    "Flächendiagramme können auch gestapelt werden. In diesem Fall sind transparente Flächen häufig hilfreich."
   ]
  },
  {
   "cell_type": "code",
   "execution_count": null,
   "metadata": {},
   "outputs": [],
   "source": [
    "stocks[['MSFT', 'AAPL', 'AMZN']].vgplot.area(stacked=False, alpha=0.4)"
   ]
  },
  {
   "cell_type": "markdown",
   "metadata": {},
   "source": [
    "Flächendiagramme können weiter angepasst werden, siehe\n",
    "\n",
    "* [pdvega.FramePlotMethods.area()](https://altair-viz.github.io/pdvega/API.html#pdvega.FramePlotMethods.area)\n",
    "* [pdvega.SeriesPlotMethods.area()](https://altair-viz.github.io/pdvega/API.html#pdvega.SeriesPlotMethods.area)"
   ]
  },
  {
   "cell_type": "markdown",
   "metadata": {},
   "source": [
    "#### Balkendiagramme mit `vgplot.bar`"
   ]
  },
  {
   "cell_type": "code",
   "execution_count": null,
   "metadata": {},
   "outputs": [],
   "source": [
    "np.random.seed(1234)\n",
    "df = pd.DataFrame(np.random.rand(10, 2), columns=['a', 'b'])\n",
    "\n",
    "df.vgplot.bar()"
   ]
  },
  {
   "cell_type": "markdown",
   "metadata": {},
   "source": [
    "Wie bei Flächendiagrammen könnt ihr mit `stacked=True` die Balken stapeln:"
   ]
  },
  {
   "cell_type": "code",
   "execution_count": null,
   "metadata": {},
   "outputs": [],
   "source": [
    "df.vgplot.bar(stacked=True)"
   ]
  },
  {
   "cell_type": "markdown",
   "metadata": {},
   "source": [
    "Darüberhinaus können horizontale Balkendiagramme erstellt werden mit `barh`:"
   ]
  },
  {
   "cell_type": "code",
   "execution_count": null,
   "metadata": {},
   "outputs": [],
   "source": [
    "df.vgplot.barh(stacked=True)"
   ]
  },
  {
   "cell_type": "markdown",
   "metadata": {},
   "source": [
    "#### Histogramme mit `vgplot.hist`"
   ]
  },
  {
   "cell_type": "code",
   "execution_count": null,
   "metadata": {},
   "outputs": [],
   "source": [
    "df = pd.DataFrame({'a': np.random.randn(1000) + 1,\n",
    "                   'b': np.random.randn(1000),\n",
    "                   'c': np.random.randn(1000) - 1},\n",
    "                  columns=['a', 'b', 'c'])\n",
    "\n",
    "df.vgplot.hist(bins=50, alpha=0.5)"
   ]
  },
  {
   "cell_type": "markdown",
   "metadata": {},
   "source": [
    "Histogramme können weiter angepasst werden, siehe\n",
    "\n",
    "* [pdvega.FramePlotMethods.hist()](https://altair-viz.github.io/pdvega/API.html#pdvega.FramePlotMethods.hist)\n",
    "* [pdvega.SeriesPlotMethods.hist()](https://altair-viz.github.io/pdvega/API.html#pdvega.SeriesPlotMethods.hist)"
   ]
  },
  {
   "cell_type": "markdown",
   "metadata": {},
   "source": [
    "#### Kerndichteschätzdiagramme mit `vgplot.kde`\n",
    "\n",
    "[Kerndichteschätzdiagramme](https://de.wikipedia.org/wiki/Kerndichtesch%C3%A4tzer) (englisch *kernel density estimation*, KDE) erzeugen ähnlich wie Histogramme glatte Kurven, die die Dichte der Messpunkte angeben. "
   ]
  },
  {
   "cell_type": "code",
   "execution_count": null,
   "metadata": {},
   "outputs": [],
   "source": [
    "df.vgplot.kde()"
   ]
  },
  {
   "cell_type": "markdown",
   "metadata": {},
   "source": [
    "KDE-Diagramme können weiter angepasst werden mit\n",
    "\n",
    "* [pdvega.FramePlotMethods.kde()](https://altair-viz.github.io/pdvega/API.html#pdvega.FramePlotMethods.kde)\n",
    "* [pdvega.SeriesPlotMethods.kde()](https://altair-viz.github.io/pdvega/API.html#pdvega.SeriesPlotMethods.kde)"
   ]
  },
  {
   "cell_type": "markdown",
   "metadata": {},
   "source": [
    "#### Heatmaps mit `vgplot.heatmap`\n",
    "\n",
    "Pandas-Plotting hat eine Funktion zum Erstellen einer hexagonal-gruppierten Heatmap zweidimensionaler Daten. Leider unterstützt derzeit weder Vega noch Vega-Lite diese hexagonalen Heatmaps. Sie unterstützen jedoch kartesische Heatmaps,und diese Funktionalität ist auch enthalten in `pdvega`:"
   ]
  },
  {
   "cell_type": "code",
   "execution_count": null,
   "metadata": {},
   "outputs": [],
   "source": [
    "df.vgplot.heatmap(x='a', y='b', C='c', gridsize=20)"
   ]
  },
  {
   "cell_type": "markdown",
   "metadata": {},
   "source": [
    "Heatmap-Diagramme können weiter angepasst werden, siehe [pdvega.FramePlotMethods.heatmap()](https://altair-viz.github.io/pdvega/API.html#pdvega.FramePlotMethods.heatmap)."
   ]
  },
  {
   "cell_type": "markdown",
   "metadata": {},
   "source": [
    "## Statistische Visualisierung mit `pdvega.plotting`\n",
    "\n",
    "\n",
    "`pdvega`unterstützt auch viele der komplexeren Plot-Routinen, die im [pandas.plotting](https://pandas.pydata.org/pandas-docs/stable/visualization.html#plotting-tools)-Submodul verfügbar sind. Im Folgenden zeigen wir das Beispieleiner Multi-Panel-Streudiagramm-Matrix aus [Fisher’s Iris](https://en.wikipedia.org/wiki/Iris_flower_data_set)-Datensatz:"
   ]
  },
  {
   "cell_type": "code",
   "execution_count": null,
   "metadata": {},
   "outputs": [],
   "source": [
    "iris = data.iris()\n",
    "pdvega.scatter_matrix(iris, 'species', figsize=(7, 7))"
   ]
  },
  {
   "cell_type": "markdown",
   "metadata": {},
   "source": [
    "In diesem Diagramm könnt ihr interaktiv Verschieben und Verkleinern/Vergrößern. Mit gedrückter Umschalttaste könnt ihr auch einzelne Messpunkte auswählen. "
   ]
  },
  {
   "cell_type": "markdown",
   "metadata": {},
   "source": [
    "### Parallele Koordinaten\n",
    "\n",
    "Eine andere Möglichkeit, mehrdimensionale Daten zu visualisieren, besteht darin, jede Dimension unabhängig voneinander mithilfe eines Diagramms mit parallelen Koordinaten zu betrachten. Dies kann mit `pdvega.parallel_coordinates()` realisiert werden, wobei die API `pandas.plotting.parallel_coordinates()` entspricht:"
   ]
  },
  {
   "cell_type": "code",
   "execution_count": null,
   "metadata": {},
   "outputs": [],
   "source": [
    "pdvega.parallel_coordinates(iris, \"species\")"
   ]
  },
  {
   "cell_type": "markdown",
   "metadata": {},
   "source": [
    "Auf einen Blick könnt ihr Beziehungen zwischen Punkten erkennen und insbesondere deutlich machen, dass sich die „setosa“-Art in Breite und Länge der Blütenblätter deutlich von den beiden anderen Arten unterscheidet."
   ]
  },
  {
   "cell_type": "markdown",
   "metadata": {},
   "source": [
    "### Andrews-Kurven\n",
    "\n",
    "Ein ähnlicher Ansatz zur Visualisierung von Datendimensionen ist als *Andrews-Kurve* bekannt: Die Idee besteht darin, aus den Merkmalen jedes Objekts eine Fourier-Reihe zu konstruieren, um die aggregierten Unterschiede zwischen Klassen qualitativ zu visualisieren. Dies kann mit der Funktion `pdvega.andrews_curves()` erfolgen, die der API von `pandas.plotting.andrews_curves()` entspricht:"
   ]
  },
  {
   "cell_type": "code",
   "execution_count": null,
   "metadata": {},
   "outputs": [],
   "source": [
    "pdvega.andrews_curves(iris, \"species\")"
   ]
  },
  {
   "cell_type": "markdown",
   "metadata": {},
   "source": [
    "Dies ergibt einen ähnlichen Eindruck wie in der Darstellung der parallelen Koordinaten, gibt jedoch weniger quantitative Hinweise auf die Merkmale, die zu dieser Unterscheidung führen."
   ]
  },
  {
   "cell_type": "markdown",
   "metadata": {},
   "source": [
    "### Korrelogramm (Lag-Plots)\n",
    "\n",
    "[Korrelogramme](https://de.wikipedia.org/wiki/Korrelogramm) sind implementiert mit `pdvega.plotting.lag_plot()` wobei die API `pandas.plotting.lag_plot()` entspricht. Im Folgenden werden die Aktienkurse von Amazon und Microsoft von 1998 bis 2010 mit einer Verzögerung von 12 Monaten visualisiert:"
   ]
  },
  {
   "cell_type": "code",
   "execution_count": null,
   "metadata": {},
   "outputs": [],
   "source": [
    "pdvega.lag_plot(stocks[['AMZN', 'MSFT']], lag=12)"
   ]
  },
  {
   "cell_type": "markdown",
   "metadata": {},
   "source": [
    "Aus diesem Plot geht sofort hervor, dass Amazon in diesem Zeitraum weitaus volatiler war: Die Werte zeigten zu jedem Zeitpunkt nur eine sehr geringe Korrelation mit dem Wert ein Jahr später. Umgekehrt war der Wert von Microsoft in diesem Jahrzehnt sehr viel stabiler.\n",
    "\n",
    "Wir können diese Interpretation auch im einfachen Zeitreihendiagramm des Aktienkurses jedes Unternehmens sehen:"
   ]
  },
  {
   "cell_type": "code",
   "execution_count": null,
   "metadata": {},
   "outputs": [],
   "source": [
    "stocks[['AMZN', 'MSFT']].vgplot.line()"
   ]
  },
  {
   "cell_type": "markdown",
   "metadata": {},
   "source": [
    "> Siehe auch:\n",
    "> \n",
    "> * [Statistical Visualization with pdvega.plotting](https://altair-viz.github.io/pdvega/plotting.html#statistical-plotting)"
   ]
  }
 ],
 "metadata": {
  "language_info": {
   "name": "python",
   "pygments_lexer": "ipython3"
  }
 },
 "nbformat": 4,
 "nbformat_minor": 4
}
