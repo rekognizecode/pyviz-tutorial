{
 "cells": [
  {
   "cell_type": "markdown",
   "metadata": {},
   "source": [
    "# `xarray-leaflet`\n",
    "\n",
    "`xarray-leaflet` ist eine xarray-Erweiterung für das Plotten von gekachelten Karten. Sowohl [xarray](http://xarray.pydata.org/) als auch [Leaflet](ipyleaflet.ipynb) können mit Datenfragmenten arbeiten, `xarray` durch [Dask Chunks](https://docs.dask.org/en/latest/array-chunks.html) und Leaflet durch *map tiles*. Mit `xarray-leaflet` arbeiten beide zusammen."
   ]
  },
  {
   "cell_type": "markdown",
   "metadata": {},
   "source": [
    "## Installation\n",
    "\n",
    "Ihr könnt `xarray-leaflet` in eurem Jupyter-Kernel installieren mit:\n",
    "\n",
    "``` console\n",
    "$ pipenv install xarray-leaflet\n",
    "Installing xarray-leaflet…\n",
    "…\n",
    "``` \n",
    "\n",
    "Standardmäßig generiert `xarray-leaflet` Kacheln in temporären Verzeichnissen. Bei dynamischen Karten wird bei jeder Interaktion mit der Karte ein neues Verzeichnis erstellt, entweder durch Ziehen oder Zoomen. Dies liegt daran, dass eine direkte Zuordnung zwischen dem Kachelverzeichnis und der URL besteht, unter der die Kacheln bereitgestellt werden. Da bei dynamischen Karten Kacheln nicht vom Browser zwischengespeichert werden sollten, muss sich die URL ständig ändern. Diese temporären Verzeichnisse werden derzeit nicht automatisch bereinigt. Ihr solltet dies daher regelmäßig selbst tun. In ix-Systemen sind sie unter `/tmp/xarray_leaflet_*`."
   ]
  },
  {
   "cell_type": "markdown",
   "metadata": {},
   "source": [
    "## Beispiel\n",
    "\n",
    "Um das Beispiel ausführen zu können, müsst Ihr zusätzlich die folgenden Pakete in Eurem Kernel installieren:\n",
    "\n",
    "* requests\n",
    "* tqdm\n",
    "* matplotlib\n",
    "* scipy"
   ]
  },
  {
   "cell_type": "code",
   "execution_count": 1,
   "metadata": {},
   "outputs": [],
   "source": [
    "import requests\n",
    "import os\n",
    "from tqdm import tqdm\n",
    "import zipfile\n",
    "import xarray as xr\n",
    "import numpy as np\n",
    "import scipy.ndimage\n",
    "import matplotlib.pyplot as plt\n",
    "import xarray_leaflet\n",
    "from ipyleaflet import Map, basemaps"
   ]
  },
  {
   "cell_type": "markdown",
   "metadata": {},
   "source": [
    "Nun laden wir den [HydroSHEDS](https://hydrosheds.org/)-Datensatz herunter:"
   ]
  },
  {
   "cell_type": "code",
   "execution_count": 2,
   "metadata": {},
   "outputs": [],
   "source": [
    "url = 'https://edcintl.cr.usgs.gov/downloads/sciweb1/shared/hydrosheds/sa_30s_zip_grid/sa_acc_30s_grid.zip'\n",
    "filename = os.path.basename(url)\n",
    "name = filename[:filename.find('_grid')]\n",
    "adffile = name + '/' + name + '/w001001.adf'\n",
    "\n",
    "if not os.path.exists(adffile):\n",
    "    r = requests.get(url, stream=True)\n",
    "    with open(filename, 'wb') as f:\n",
    "        total_length = int(r.headers.get('content-length'))\n",
    "        for chunk in tqdm(r.iter_content(chunk_size=1024), total=(total_length/1024) + 1):\n",
    "            if chunk:\n",
    "                f.write(chunk)\n",
    "                f.flush()\n",
    "    zip = zipfile.ZipFile(filename)\n",
    "    zip.extractall('.')"
   ]
  },
  {
   "cell_type": "code",
   "execution_count": 3,
   "metadata": {},
   "outputs": [
    {
     "data": {
      "text/html": [
       "<div><svg style=\"position: absolute; width: 0; height: 0; overflow: hidden\">\n",
       "<defs>\n",
       "<symbol id=\"icon-database\" viewBox=\"0 0 32 32\">\n",
       "<title>Show/Hide data repr</title>\n",
       "<path d=\"M16 0c-8.837 0-16 2.239-16 5v4c0 2.761 7.163 5 16 5s16-2.239 16-5v-4c0-2.761-7.163-5-16-5z\"></path>\n",
       "<path d=\"M16 17c-8.837 0-16-2.239-16-5v6c0 2.761 7.163 5 16 5s16-2.239 16-5v-6c0 2.761-7.163 5-16 5z\"></path>\n",
       "<path d=\"M16 26c-8.837 0-16-2.239-16-5v6c0 2.761 7.163 5 16 5s16-2.239 16-5v-6c0 2.761-7.163 5-16 5z\"></path>\n",
       "</symbol>\n",
       "<symbol id=\"icon-file-text2\" viewBox=\"0 0 32 32\">\n",
       "<title>Show/Hide attributes</title>\n",
       "<path d=\"M28.681 7.159c-0.694-0.947-1.662-2.053-2.724-3.116s-2.169-2.030-3.116-2.724c-1.612-1.182-2.393-1.319-2.841-1.319h-15.5c-1.378 0-2.5 1.121-2.5 2.5v27c0 1.378 1.122 2.5 2.5 2.5h23c1.378 0 2.5-1.122 2.5-2.5v-19.5c0-0.448-0.137-1.23-1.319-2.841zM24.543 5.457c0.959 0.959 1.712 1.825 2.268 2.543h-4.811v-4.811c0.718 0.556 1.584 1.309 2.543 2.268zM28 29.5c0 0.271-0.229 0.5-0.5 0.5h-23c-0.271 0-0.5-0.229-0.5-0.5v-27c0-0.271 0.229-0.5 0.5-0.5 0 0 15.499-0 15.5 0v7c0 0.552 0.448 1 1 1h7v19.5z\"></path>\n",
       "<path d=\"M23 26h-14c-0.552 0-1-0.448-1-1s0.448-1 1-1h14c0.552 0 1 0.448 1 1s-0.448 1-1 1z\"></path>\n",
       "<path d=\"M23 22h-14c-0.552 0-1-0.448-1-1s0.448-1 1-1h14c0.552 0 1 0.448 1 1s-0.448 1-1 1z\"></path>\n",
       "<path d=\"M23 18h-14c-0.552 0-1-0.448-1-1s0.448-1 1-1h14c0.552 0 1 0.448 1 1s-0.448 1-1 1z\"></path>\n",
       "</symbol>\n",
       "</defs>\n",
       "</svg>\n",
       "<style>/* CSS stylesheet for displaying xarray objects in jupyterlab.\n",
       " *\n",
       " */\n",
       "\n",
       ":root {\n",
       "  --xr-font-color0: var(--jp-content-font-color0, rgba(0, 0, 0, 1));\n",
       "  --xr-font-color2: var(--jp-content-font-color2, rgba(0, 0, 0, 0.54));\n",
       "  --xr-font-color3: var(--jp-content-font-color3, rgba(0, 0, 0, 0.38));\n",
       "  --xr-border-color: var(--jp-border-color2, #e0e0e0);\n",
       "  --xr-disabled-color: var(--jp-layout-color3, #bdbdbd);\n",
       "  --xr-background-color: var(--jp-layout-color0, white);\n",
       "  --xr-background-color-row-even: var(--jp-layout-color1, white);\n",
       "  --xr-background-color-row-odd: var(--jp-layout-color2, #eeeeee);\n",
       "}\n",
       "\n",
       ".xr-wrap {\n",
       "  min-width: 300px;\n",
       "  max-width: 700px;\n",
       "}\n",
       "\n",
       ".xr-header {\n",
       "  padding-top: 6px;\n",
       "  padding-bottom: 6px;\n",
       "  margin-bottom: 4px;\n",
       "  border-bottom: solid 1px var(--xr-border-color);\n",
       "}\n",
       "\n",
       ".xr-header > div,\n",
       ".xr-header > ul {\n",
       "  display: inline;\n",
       "  margin-top: 0;\n",
       "  margin-bottom: 0;\n",
       "}\n",
       "\n",
       ".xr-obj-type,\n",
       ".xr-array-name {\n",
       "  margin-left: 2px;\n",
       "  margin-right: 10px;\n",
       "}\n",
       "\n",
       ".xr-obj-type {\n",
       "  color: var(--xr-font-color2);\n",
       "}\n",
       "\n",
       ".xr-sections {\n",
       "  padding-left: 0 !important;\n",
       "  display: grid;\n",
       "  grid-template-columns: 150px auto auto 1fr 20px 20px;\n",
       "}\n",
       "\n",
       ".xr-section-item {\n",
       "  display: contents;\n",
       "}\n",
       "\n",
       ".xr-section-item input {\n",
       "  display: none;\n",
       "}\n",
       "\n",
       ".xr-section-item input + label {\n",
       "  color: var(--xr-disabled-color);\n",
       "}\n",
       "\n",
       ".xr-section-item input:enabled + label {\n",
       "  cursor: pointer;\n",
       "  color: var(--xr-font-color2);\n",
       "}\n",
       "\n",
       ".xr-section-item input:enabled + label:hover {\n",
       "  color: var(--xr-font-color0);\n",
       "}\n",
       "\n",
       ".xr-section-summary {\n",
       "  grid-column: 1;\n",
       "  color: var(--xr-font-color2);\n",
       "  font-weight: 500;\n",
       "}\n",
       "\n",
       ".xr-section-summary > span {\n",
       "  display: inline-block;\n",
       "  padding-left: 0.5em;\n",
       "}\n",
       "\n",
       ".xr-section-summary-in:disabled + label {\n",
       "  color: var(--xr-font-color2);\n",
       "}\n",
       "\n",
       ".xr-section-summary-in + label:before {\n",
       "  display: inline-block;\n",
       "  content: '►';\n",
       "  font-size: 11px;\n",
       "  width: 15px;\n",
       "  text-align: center;\n",
       "}\n",
       "\n",
       ".xr-section-summary-in:disabled + label:before {\n",
       "  color: var(--xr-disabled-color);\n",
       "}\n",
       "\n",
       ".xr-section-summary-in:checked + label:before {\n",
       "  content: '▼';\n",
       "}\n",
       "\n",
       ".xr-section-summary-in:checked + label > span {\n",
       "  display: none;\n",
       "}\n",
       "\n",
       ".xr-section-summary,\n",
       ".xr-section-inline-details {\n",
       "  padding-top: 4px;\n",
       "  padding-bottom: 4px;\n",
       "}\n",
       "\n",
       ".xr-section-inline-details {\n",
       "  grid-column: 2 / -1;\n",
       "}\n",
       "\n",
       ".xr-section-details {\n",
       "  display: none;\n",
       "  grid-column: 1 / -1;\n",
       "  margin-bottom: 5px;\n",
       "}\n",
       "\n",
       ".xr-section-summary-in:checked ~ .xr-section-details {\n",
       "  display: contents;\n",
       "}\n",
       "\n",
       ".xr-array-wrap {\n",
       "  grid-column: 1 / -1;\n",
       "  display: grid;\n",
       "  grid-template-columns: 20px auto;\n",
       "}\n",
       "\n",
       ".xr-array-wrap > label {\n",
       "  grid-column: 1;\n",
       "  vertical-align: top;\n",
       "}\n",
       "\n",
       ".xr-preview {\n",
       "  color: var(--xr-font-color3);\n",
       "}\n",
       "\n",
       ".xr-array-preview,\n",
       ".xr-array-data {\n",
       "  padding: 0 5px !important;\n",
       "  grid-column: 2;\n",
       "}\n",
       "\n",
       ".xr-array-data,\n",
       ".xr-array-in:checked ~ .xr-array-preview {\n",
       "  display: none;\n",
       "}\n",
       "\n",
       ".xr-array-in:checked ~ .xr-array-data,\n",
       ".xr-array-preview {\n",
       "  display: inline-block;\n",
       "}\n",
       "\n",
       ".xr-dim-list {\n",
       "  display: inline-block !important;\n",
       "  list-style: none;\n",
       "  padding: 0 !important;\n",
       "  margin: 0;\n",
       "}\n",
       "\n",
       ".xr-dim-list li {\n",
       "  display: inline-block;\n",
       "  padding: 0;\n",
       "  margin: 0;\n",
       "}\n",
       "\n",
       ".xr-dim-list:before {\n",
       "  content: '(';\n",
       "}\n",
       "\n",
       ".xr-dim-list:after {\n",
       "  content: ')';\n",
       "}\n",
       "\n",
       ".xr-dim-list li:not(:last-child):after {\n",
       "  content: ',';\n",
       "  padding-right: 5px;\n",
       "}\n",
       "\n",
       ".xr-has-index {\n",
       "  font-weight: bold;\n",
       "}\n",
       "\n",
       ".xr-var-list,\n",
       ".xr-var-item {\n",
       "  display: contents;\n",
       "}\n",
       "\n",
       ".xr-var-item > div,\n",
       ".xr-var-item label,\n",
       ".xr-var-item > .xr-var-name span {\n",
       "  background-color: var(--xr-background-color-row-even);\n",
       "  margin-bottom: 0;\n",
       "}\n",
       "\n",
       ".xr-var-item > .xr-var-name:hover span {\n",
       "  padding-right: 5px;\n",
       "}\n",
       "\n",
       ".xr-var-list > li:nth-child(odd) > div,\n",
       ".xr-var-list > li:nth-child(odd) > label,\n",
       ".xr-var-list > li:nth-child(odd) > .xr-var-name span {\n",
       "  background-color: var(--xr-background-color-row-odd);\n",
       "}\n",
       "\n",
       ".xr-var-name {\n",
       "  grid-column: 1;\n",
       "}\n",
       "\n",
       ".xr-var-dims {\n",
       "  grid-column: 2;\n",
       "}\n",
       "\n",
       ".xr-var-dtype {\n",
       "  grid-column: 3;\n",
       "  text-align: right;\n",
       "  color: var(--xr-font-color2);\n",
       "}\n",
       "\n",
       ".xr-var-preview {\n",
       "  grid-column: 4;\n",
       "}\n",
       "\n",
       ".xr-var-name,\n",
       ".xr-var-dims,\n",
       ".xr-var-dtype,\n",
       ".xr-preview,\n",
       ".xr-attrs dt {\n",
       "  white-space: nowrap;\n",
       "  overflow: hidden;\n",
       "  text-overflow: ellipsis;\n",
       "  padding-right: 10px;\n",
       "}\n",
       "\n",
       ".xr-var-name:hover,\n",
       ".xr-var-dims:hover,\n",
       ".xr-var-dtype:hover,\n",
       ".xr-attrs dt:hover {\n",
       "  overflow: visible;\n",
       "  width: auto;\n",
       "  z-index: 1;\n",
       "}\n",
       "\n",
       ".xr-var-attrs,\n",
       ".xr-var-data {\n",
       "  display: none;\n",
       "  background-color: var(--xr-background-color) !important;\n",
       "  padding-bottom: 5px !important;\n",
       "}\n",
       "\n",
       ".xr-var-attrs-in:checked ~ .xr-var-attrs,\n",
       ".xr-var-data-in:checked ~ .xr-var-data {\n",
       "  display: block;\n",
       "}\n",
       "\n",
       ".xr-var-data > table {\n",
       "  float: right;\n",
       "}\n",
       "\n",
       ".xr-var-name span,\n",
       ".xr-var-data,\n",
       ".xr-attrs {\n",
       "  padding-left: 25px !important;\n",
       "}\n",
       "\n",
       ".xr-attrs,\n",
       ".xr-var-attrs,\n",
       ".xr-var-data {\n",
       "  grid-column: 1 / -1;\n",
       "}\n",
       "\n",
       "dl.xr-attrs {\n",
       "  padding: 0;\n",
       "  margin: 0;\n",
       "  display: grid;\n",
       "  grid-template-columns: 125px auto;\n",
       "}\n",
       "\n",
       ".xr-attrs dt, dd {\n",
       "  padding: 0;\n",
       "  margin: 0;\n",
       "  float: left;\n",
       "  padding-right: 10px;\n",
       "  width: auto;\n",
       "}\n",
       "\n",
       ".xr-attrs dt {\n",
       "  font-weight: normal;\n",
       "  grid-column: 1;\n",
       "}\n",
       "\n",
       ".xr-attrs dt:hover span {\n",
       "  display: inline-block;\n",
       "  background: var(--xr-background-color);\n",
       "  padding-right: 10px;\n",
       "}\n",
       "\n",
       ".xr-attrs dd {\n",
       "  grid-column: 2;\n",
       "  white-space: pre-wrap;\n",
       "  word-break: break-all;\n",
       "}\n",
       "\n",
       ".xr-icon-database,\n",
       ".xr-icon-file-text2 {\n",
       "  display: inline-block;\n",
       "  vertical-align: middle;\n",
       "  width: 1em;\n",
       "  height: 1.5em !important;\n",
       "  stroke-width: 0;\n",
       "  stroke: currentColor;\n",
       "  fill: currentColor;\n",
       "}\n",
       "</style><div class='xr-wrap'><div class='xr-header'><div class='xr-obj-type'>xarray.DataArray</div><div class='xr-array-name'></div><ul class='xr-dim-list'><li><span class='xr-has-index'>band</span>: 1</li><li><span class='xr-has-index'>y</span>: 8520</li><li><span class='xr-has-index'>x</span>: 7320</li></ul></div><ul class='xr-sections'><li class='xr-section-item'><div class='xr-array-wrap'><input id='section-ad828ac4-0265-4d4a-aa1e-0869b1c68b53' class='xr-array-in' type='checkbox' ><label for='section-ad828ac4-0265-4d4a-aa1e-0869b1c68b53' title='Show/hide data repr'><svg class='icon xr-icon-database'><use xlink:href='#icon-database'></use></svg></label><div class='xr-array-preview xr-preview'><span>...</span></div><pre class='xr-array-data'>[62366400 values with dtype=int32]</pre></div></li><li class='xr-section-item'><input id='section-893d9cb1-7985-4589-8f47-1a1131e16de0' class='xr-section-summary-in' type='checkbox'  checked><label for='section-893d9cb1-7985-4589-8f47-1a1131e16de0' class='xr-section-summary' >Coordinates: <span>(3)</span></label><div class='xr-section-inline-details'></div><div class='xr-section-details'><ul class='xr-var-list'><li class='xr-var-item'><div class='xr-var-name'><span class='xr-has-index'>band</span></div><div class='xr-var-dims'>(band)</div><div class='xr-var-dtype'>int64</div><div class='xr-var-preview xr-preview'>1</div><input id='attrs-9fc4c368-1f73-46a0-8bf3-acfe1f1dc8b5' class='xr-var-attrs-in' type='checkbox' disabled><label for='attrs-9fc4c368-1f73-46a0-8bf3-acfe1f1dc8b5' title='Show/Hide attributes'><svg class='icon xr-icon-file-text2'><use xlink:href='#icon-file-text2'></use></svg></label><input id='data-e853e9dc-4e9e-4748-9aa0-43c4c4f62ecd' class='xr-var-data-in' type='checkbox'><label for='data-e853e9dc-4e9e-4748-9aa0-43c4c4f62ecd' title='Show/Hide data repr'><svg class='icon xr-icon-database'><use xlink:href='#icon-database'></use></svg></label><div class='xr-var-attrs'><dl class='xr-attrs'></dl></div><pre class='xr-var-data'>array([1])</pre></li><li class='xr-var-item'><div class='xr-var-name'><span class='xr-has-index'>y</span></div><div class='xr-var-dims'>(y)</div><div class='xr-var-dtype'>float64</div><div class='xr-var-preview xr-preview'>15.0 14.99 14.98 ... -55.99 -56.0</div><input id='attrs-248e0c61-d72d-4e05-ab9d-9d0e9b3976fa' class='xr-var-attrs-in' type='checkbox' disabled><label for='attrs-248e0c61-d72d-4e05-ab9d-9d0e9b3976fa' title='Show/Hide attributes'><svg class='icon xr-icon-file-text2'><use xlink:href='#icon-file-text2'></use></svg></label><input id='data-52da7714-aa81-429d-9949-807cf1af1011' class='xr-var-data-in' type='checkbox'><label for='data-52da7714-aa81-429d-9949-807cf1af1011' title='Show/Hide data repr'><svg class='icon xr-icon-database'><use xlink:href='#icon-database'></use></svg></label><div class='xr-var-attrs'><dl class='xr-attrs'></dl></div><pre class='xr-var-data'>array([ 14.995833,  14.9875  ,  14.979167, ..., -55.979167, -55.9875  ,\n",
       "       -55.995833])</pre></li><li class='xr-var-item'><div class='xr-var-name'><span class='xr-has-index'>x</span></div><div class='xr-var-dims'>(x)</div><div class='xr-var-dtype'>float64</div><div class='xr-var-preview xr-preview'>-93.0 -92.99 ... -32.01 -32.0</div><input id='attrs-2b0b3787-cac8-45b1-9dd0-c6eaa79efc94' class='xr-var-attrs-in' type='checkbox' disabled><label for='attrs-2b0b3787-cac8-45b1-9dd0-c6eaa79efc94' title='Show/Hide attributes'><svg class='icon xr-icon-file-text2'><use xlink:href='#icon-file-text2'></use></svg></label><input id='data-ce51c0bb-0a77-43ae-8c90-c3d43b1182e5' class='xr-var-data-in' type='checkbox'><label for='data-ce51c0bb-0a77-43ae-8c90-c3d43b1182e5' title='Show/Hide data repr'><svg class='icon xr-icon-database'><use xlink:href='#icon-database'></use></svg></label><div class='xr-var-attrs'><dl class='xr-attrs'></dl></div><pre class='xr-var-data'>array([-92.995833, -92.9875  , -92.979167, ..., -32.020833, -32.0125  ,\n",
       "       -32.004167])</pre></li></ul></div></li><li class='xr-section-item'><input id='section-067a1567-cc9d-4705-91c3-245255dd1756' class='xr-section-summary-in' type='checkbox'  checked><label for='section-067a1567-cc9d-4705-91c3-245255dd1756' class='xr-section-summary' >Attributes: <span>(7)</span></label><div class='xr-section-inline-details'></div><div class='xr-section-details'><dl class='xr-attrs'><dt><span>transform :</span></dt><dd>(0.0083333333333333, 0.0, -93.0, 0.0, -0.0083333333333333, 14.999999999999716)</dd><dt><span>crs :</span></dt><dd>+init=epsg:4326</dd><dt><span>res :</span></dt><dd>(0.0083333333333333, 0.0083333333333333)</dd><dt><span>is_tiled :</span></dt><dd>0</dd><dt><span>nodatavals :</span></dt><dd>(-2147483647.0,)</dd><dt><span>scales :</span></dt><dd>(1.0,)</dd><dt><span>offsets :</span></dt><dd>(0.0,)</dd></dl></div></li></ul></div></div>"
      ],
      "text/plain": [
       "<xarray.DataArray (band: 1, y: 8520, x: 7320)>\n",
       "[62366400 values with dtype=int32]\n",
       "Coordinates:\n",
       "  * band     (band) int64 1\n",
       "  * y        (y) float64 15.0 14.99 14.98 14.97 ... -55.97 -55.98 -55.99 -56.0\n",
       "  * x        (x) float64 -93.0 -92.99 -92.98 -92.97 ... -32.02 -32.01 -32.0\n",
       "Attributes:\n",
       "    transform:   (0.0083333333333333, 0.0, -93.0, 0.0, -0.0083333333333333, 1...\n",
       "    crs:         +init=epsg:4326\n",
       "    res:         (0.0083333333333333, 0.0083333333333333)\n",
       "    is_tiled:    0\n",
       "    nodatavals:  (-2147483647.0,)\n",
       "    scales:      (1.0,)\n",
       "    offsets:     (0.0,)"
      ]
     },
     "execution_count": 3,
     "metadata": {},
     "output_type": "execute_result"
    }
   ],
   "source": [
    "da = xr.open_rasterio(adffile)\n",
    "da"
   ]
  },
  {
   "cell_type": "markdown",
   "metadata": {},
   "source": [
    "Ihr könnt sehen, dass die Projektion `EPSG: 4326` (auch bekannt als `WGS84`) ist. Dies ist die einzige Projektion, die derzeit von `xarray-leaflet` unterstützt wird. Hier entspricht die Koordinate `x` dem Längengrad und `y` dem Breitengrad. Die `band`-Koordinate ist hier ziemlich nutzlos. Die einzige Vorverarbeitung, die wir durchführen werden, besteht darin, NaN-Werte durch Nullen zu ersetzen."
   ]
  },
  {
   "cell_type": "code",
   "execution_count": 4,
   "metadata": {},
   "outputs": [],
   "source": [
    "nan = da.attrs['nodatavals'][0]\n",
    "da = da.sel(band=1)\n",
    "da = xr.where(da==nan, 0, da)"
   ]
  },
  {
   "cell_type": "markdown",
   "metadata": {},
   "source": [
    "`xarray-leaflet` verfügt über zwei Modi, einen für statische Karten und einen für dynamische Karten. Mit dynamisch ist gemint, dass Ihr abhängig von der aktuellen Kartenansicht nicht dasselbe seht. Wenn Ihr beispielsweise zoomt, möchtet ihr vermutlich Details angezeigt bekommen, die vorher nicht zu sehen waren. Die Karte passt sich also wirklich an. Der Nachteil dynamischer Karten ist, dass Ihr bei der Interaktion mit der Karte mehr Flackern seht, da Kacheln aktualisiert werden müssen, sobald Ihr zieht oder zoomt.\n",
    "\n",
    "Das folgende Beispiel könnt Ihr so konfigurieren, dass es sowohl im statischen als auch im dynamischen Modus funktioniert. Ihr könnt die folgende dynamische Variable von `True` auf `False` ändern, um in den statischen Modus zu wechseln."
   ]
  },
  {
   "cell_type": "code",
   "execution_count": 5,
   "metadata": {},
   "outputs": [],
   "source": [
    "dynamic = True\n",
    "if not dynamic:\n",
    "    global_vmin = np.min(da).values\n",
    "    global_vmax = np.max(da).values"
   ]
  },
  {
   "cell_type": "markdown",
   "metadata": {},
   "source": [
    "Es gibt 3 Stufen in der `array-leaflet`, in denen ihr die Daten transofmieren könnt:\n",
    "\n",
    "1. Der erste Stufe arbeitet am sichtbaren Teil. Wenn Ihr dynamische Transformationen anwenden wollt, könnt ihr diese hier als Python-Funktionen mit den Daten als erstem Argument und optional Parameter aus den vorherigen Transformationen angeben. Da `transform0` die erste Transformation ist, werden `DataArray` keine weiteren Eingabeparameter zugewiesen. Hier geben wir die in den Daten vorhandenen Minimal- und Maximalwerte zurück:"
   ]
  },
  {
   "cell_type": "code",
   "execution_count": 6,
   "metadata": {},
   "outputs": [],
   "source": [
    "def transform0(da):\n",
    "    if dynamic:\n",
    "        vmin = np.min(da).values\n",
    "        vmax = np.max(da).values\n",
    "    else:\n",
    "        vmin = global_vmin\n",
    "        vmax = global_vmax\n",
    "    return da, vmin, vmax"
   ]
  },
  {
   "cell_type": "markdown",
   "metadata": {},
   "source": [
    "2. Die zweite Transformation gilt für die Daten, die in jeder Leaflet-Kachel vor der Neuprojektion enthalten sind. Bei der Neuprojektion müsst Ihr Daten in den Speicher laden. Daher möchtet Ihr die Daten vermutlich verkleinern auf ungefähr die gleiche Anzahl von Pixeln wie in einer Kachel (256 x 256). In dieser Transformation möchtet Ihr auch, dass Ihre Daten zwischen `0` und `1` normalisiert werden, was wir dank der `vmin`- und `vmax`-Werte tun können, die wir aus der vorherigen Transformation erhalten haben."
   ]
  },
  {
   "cell_type": "code",
   "execution_count": 7,
   "metadata": {},
   "outputs": [],
   "source": [
    "def transform1(xr_tile, vmin, vmax):\n",
    "    ny, nx = xr_tile.shape\n",
    "    wx = nx // (256 // 2)\n",
    "    wy = ny // (256 // 2)\n",
    "    if wx > 0 and wy > 0:\n",
    "        xr_tile = xr_tile.coarsen(x=wx, y=wy, boundary=\"trim\").max()\n",
    "    xr_tile = (xr_tile - vmin) / (vmax - vmin)\n",
    "    return xr_tile"
   ]
  },
  {
   "cell_type": "markdown",
   "metadata": {},
   "source": [
    "3. Bei der dritten und letzten Umwandlung werden die Daten in Web Mercator (die in Leaflet standardmäßig verwendete Projektion) transformiert. Dies ist die letzte Möglichkeit, Eure Daten zu transformieren, bevor Ihr sie in einer PNG-Datei speichert. Daher passen wir jetzt noch das Styling an und lassen die Flüsse dicker erscheinen, reduzieren die Amplitude mit einer Quadratwurzel und wählen eine Farbkarte."
   ]
  },
  {
   "cell_type": "code",
   "execution_count": 8,
   "metadata": {},
   "outputs": [],
   "source": [
    "def transform2(np_tile):\n",
    "    radius = 2\n",
    "    circle = np.zeros((2*radius+1, 2*radius+1)).astype('uint8')\n",
    "    y, x = np.ogrid[-radius:radius+1,-radius:radius+1]\n",
    "    index = x**2 + y**2 <= radius**2\n",
    "    circle[index] = 1\n",
    "    np_tile = np.sqrt(np_tile)\n",
    "    np_tile = scipy.ndimage.maximum_filter(np_tile, footprint=circle)\n",
    "    np_tile = plt.cm.inferno(np_tile)\n",
    "    return np_tile"
   ]
  },
  {
   "cell_type": "markdown",
   "metadata": {},
   "source": [
    "Wir sind fast fertig, wir müssen nur eine Karte erstellen, bevor wir sie an unser `DataArray` übergeben:"
   ]
  },
  {
   "cell_type": "code",
   "execution_count": 9,
   "metadata": {},
   "outputs": [
    {
     "data": {
      "application/vnd.jupyter.widget-view+json": {
       "model_id": "10d2f9baab5944f3b9408468854d3a5d",
       "version_major": 2,
       "version_minor": 0
      },
      "text/plain": [
       "Map(center=[-20, -60], controls=(ZoomControl(options=['position', 'zoom_in_text', 'zoom_in_title', 'zoom_out_t…"
      ]
     },
     "metadata": {},
     "output_type": "display_data"
    }
   ],
   "source": [
    "m = Map(center=[-20, -60], zoom=3, basemap=basemaps.CartoDB.DarkMatter)\n",
    "m"
   ]
  },
  {
   "cell_type": "markdown",
   "metadata": {},
   "source": [
    "Um unsere Daten auf der Karte anzuzeigen, rufen wir `.leaflet.plot()` in unserem `DataArray` auf und übergeben als Parameter die Karte, Längen- und Breitengrade, die Transformationsfunktionen und den dynamischen Wert. Wir erhalten eine Schicht zurück, die wir `z` – einen Schieberegler zum Einstellen der Deckkraft."
   ]
  },
  {
   "cell_type": "code",
   "execution_count": 11,
   "metadata": {},
   "outputs": [
    {
     "data": {
      "application/vnd.jupyter.widget-view+json": {
       "model_id": "1da846caf1f14e2ea396693476345883",
       "version_major": 2,
       "version_minor": 0
      },
      "text/plain": [
       "Box(children=(FloatSlider(value=1.0, description='opacity', max=1.0, min=0.1),))"
      ]
     },
     "metadata": {},
     "output_type": "display_data"
    }
   ],
   "source": [
    "l = da.leaflet.plot(m, lat_dim='y', lon_dim='x',\n",
    "                    transform0=transform0,\n",
    "                    transform1=transform1,\n",
    "                    transform2=transform2,\n",
    "                    dynamic=dynamic)\n",
    "l.interact(opacity=(0.1,1.0,0.1))"
   ]
  }
 ],
 "metadata": {
  "kernelspec": {
   "display_name": "Python 3.7.4",
   "language": "python",
   "name": "python-374"
  },
  "language_info": {
   "codemirror_mode": {
    "name": "ipython",
    "version": 3
   },
   "file_extension": ".py",
   "mimetype": "text/x-python",
   "name": "python",
   "nbconvert_exporter": "python",
   "pygments_lexer": "ipython3",
   "version": "3.7.4"
  },
  "latex_envs": {
   "LaTeX_envs_menu_present": true,
   "autoclose": false,
   "autocomplete": true,
   "bibliofile": "biblio.bib",
   "cite_by": "apalike",
   "current_citInitial": 1,
   "eqLabelWithNumbers": true,
   "eqNumInitial": 1,
   "hotkeys": {
    "equation": "Ctrl-E",
    "itemize": "Ctrl-I"
   },
   "labels_anchors": false,
   "latex_user_defs": false,
   "report_style_numbering": false,
   "user_envs_cfg": false
  },
  "widgets": {
   "application/vnd.jupyter.widget-state+json": {
    "state": {
     "00b1df915d5343afaae21f691e265c15": {
      "model_module": "@jupyter-widgets/controls",
      "model_module_version": "1.5.0",
      "model_name": "BoxModel",
      "state": {
       "children": [
        "IPY_MODEL_d193b832c31e4b759daef76efeacbc4e"
       ],
       "layout": "IPY_MODEL_6a5ef78b98cb42569eb67cfe6482a2c8"
      }
     },
     "00fbfd6e6a00471ebb9544c3a884fe4f": {
      "model_module": "jupyter-leaflet",
      "model_module_version": "^0.12.6",
      "model_name": "LeafletLocalTileLayerModel",
      "state": {
       "_model_module_version": "^0.12.6",
       "_view_module_version": "^0.12.6",
       "max_native_zoom": 18,
       "min_native_zoom": 0,
       "no_wrap": false,
       "options": [
        "attribution",
        "detect_retina",
        "max_native_zoom",
        "max_zoom",
        "min_native_zoom",
        "min_zoom",
        "no_wrap",
        "tile_size",
        "tms"
       ],
       "path": "./xarray_leaflet_tiles/tmp3zj1pg5l/{z}/{x}/{y}.png"
      }
     },
     "021c036fc7414401bf843723dcc4428f": {
      "model_module": "jupyter-leaflet",
      "model_module_version": "^0.12.6",
      "model_name": "LeafletMapStyleModel",
      "state": {
       "_model_module_version": "^0.12.6"
      }
     },
     "0280f5b77ab24118aff7ca3ee04d325e": {
      "model_module": "jupyter-leaflet",
      "model_module_version": "^0.12.6",
      "model_name": "LeafletMapStyleModel",
      "state": {
       "_model_module_version": "^0.12.6",
       "cursor": "move"
      }
     },
     "09b268ef31d448fb80c497affad06554": {
      "model_module": "jupyter-leaflet",
      "model_module_version": "^0.12.6",
      "model_name": "LeafletMapStyleModel",
      "state": {
       "_model_module_version": "^0.12.6",
       "cursor": "move"
      }
     },
     "0a78b17534224420adf6b95ee1a2a928": {
      "model_module": "jupyter-leaflet",
      "model_module_version": "^0.12.6",
      "model_name": "LeafletZoomControlModel",
      "state": {
       "_model_module_version": "^0.12.6",
       "_view_module_version": "^0.12.6",
       "options": [
        "position",
        "zoom_in_text",
        "zoom_in_title",
        "zoom_out_text",
        "zoom_out_title"
       ]
      }
     },
     "0ab01a4aa8884315aa36bc9fbfad5b8e": {
      "model_module": "@jupyter-widgets/controls",
      "model_module_version": "1.5.0",
      "model_name": "FloatSliderModel",
      "state": {
       "description": "opacity",
       "layout": "IPY_MODEL_37fec627712445c2b193d025bce2e1b9",
       "max": 1,
       "step": 0.1,
       "style": "IPY_MODEL_6a4954f161164f9f86fe0639fa1ec802",
       "value": 0.9
      }
     },
     "0be040fa6b414b23b0fbfa383f52d6ce": {
      "model_module": "@jupyter-widgets/base",
      "model_module_version": "1.2.0",
      "model_name": "LayoutModel",
      "state": {}
     },
     "0c0bf1c3eb054af3971f26223c12e343": {
      "model_module": "jupyter-leaflet",
      "model_module_version": "^0.12.6",
      "model_name": "LeafletLocalTileLayerModel",
      "state": {
       "_model_module_version": "^0.12.6",
       "_view_module_version": "^0.12.6",
       "max_native_zoom": 18,
       "min_native_zoom": 0,
       "no_wrap": false,
       "options": [
        "attribution",
        "detect_retina",
        "max_native_zoom",
        "max_zoom",
        "min_native_zoom",
        "min_zoom",
        "no_wrap",
        "tile_size",
        "tms"
       ],
       "path": "./xarray_leaflet_tiles/tmpgt47f2mg/{z}/{x}/{y}.png",
       "url": "./xarray_leaflet_tiles/tmpgt47f2mg/{z}/{x}/{y}.png"
      }
     },
     "10d2f9baab5944f3b9408468854d3a5d": {
      "model_module": "jupyter-leaflet",
      "model_module_version": "^0.12.6",
      "model_name": "LeafletMapModel",
      "state": {
       "_model_module_version": "^0.12.6",
       "_view_module_version": "^0.12.6",
       "center": [
        -20,
        -60
       ],
       "controls": [
        "IPY_MODEL_6cbb78aa9a1f4f5c9db9111ea96d3887",
        "IPY_MODEL_64c258d05cc94bf886f8f3fe5a1fbaf7"
       ],
       "default_style": "IPY_MODEL_134715045f2a48edb02697fbccde525b",
       "dragging_style": "IPY_MODEL_7b32bd7e099e4ed588560cad348031a5",
       "east": 26.367187500000004,
       "fullscreen": false,
       "interpolation": "bilinear",
       "layers": [
        "IPY_MODEL_276cc17e213a4738891392b4c3bd4f16",
        "IPY_MODEL_dd0c049f84ba4258a1aec460244a5c6c",
        "IPY_MODEL_28202d314d0244ec86ce633674f4207c"
       ],
       "layout": "IPY_MODEL_739ca27cd53b4ea69139a7b414006448",
       "modisdate": "yesterday",
       "north": 14.604847155053898,
       "options": [
        "bounce_at_zoom_limits",
        "box_zoom",
        "center",
        "close_popup_on_click",
        "double_click_zoom",
        "dragging",
        "fullscreen",
        "inertia",
        "inertia_deceleration",
        "inertia_max_speed",
        "interpolation",
        "keyboard",
        "keyboard_pan_offset",
        "keyboard_zoom_offset",
        "max_zoom",
        "min_zoom",
        "scroll_wheel_zoom",
        "tap",
        "tap_tolerance",
        "touch_zoom",
        "world_copy_jump",
        "zoom",
        "zoom_animation_threshold",
        "zoom_start"
       ],
       "south": -48.45835188280866,
       "style": "IPY_MODEL_59f6a479af2a469989161dd714ca9431",
       "west": -146.25000000000003,
       "zoom": 3
      }
     },
     "134715045f2a48edb02697fbccde525b": {
      "model_module": "jupyter-leaflet",
      "model_module_version": "^0.12.6",
      "model_name": "LeafletMapStyleModel",
      "state": {
       "_model_module_version": "^0.12.6"
      }
     },
     "13fed174730d43759f2dcb0fea8d1d51": {
      "model_module": "jupyter-leaflet",
      "model_module_version": "^0.12.6",
      "model_name": "LeafletAttributionControlModel",
      "state": {
       "_model_module_version": "^0.12.6",
       "_view_module_version": "^0.12.6",
       "options": [
        "position",
        "prefix"
       ],
       "position": "bottomright",
       "prefix": "Leaflet"
      }
     },
     "1471fb86bd6448a6a87c6106da62e83e": {
      "model_module": "@jupyter-widgets/base",
      "model_module_version": "1.2.0",
      "model_name": "LayoutModel",
      "state": {}
     },
     "154f23eb20354be998ccc728ef103379": {
      "model_module": "jupyter-leaflet",
      "model_module_version": "^0.12.6",
      "model_name": "LeafletTileLayerModel",
      "state": {
       "_model_module_version": "^0.12.6",
       "_view_module_version": "^0.12.6",
       "attribution": "&copy; <a href=\"http://www.openstreetmap.org/copyright\">OpenStreetMap</a> &copy; <a href=\"http://cartodb.com/attributions\">CartoDB</a>",
       "base": true,
       "max_native_zoom": 18,
       "max_zoom": 20,
       "min_native_zoom": 0,
       "min_zoom": 1,
       "name": "CartoDB.Positron",
       "no_wrap": false,
       "options": [
        "attribution",
        "detect_retina",
        "max_native_zoom",
        "max_zoom",
        "min_native_zoom",
        "min_zoom",
        "no_wrap",
        "tile_size",
        "tms"
       ],
       "url": "http://c.basemaps.cartocdn.com/light_all/{z}/{x}/{y}.png"
      }
     },
     "1734e31da67f406b9f781c95311dc30f": {
      "model_module": "@jupyter-widgets/base",
      "model_module_version": "1.2.0",
      "model_name": "LayoutModel",
      "state": {}
     },
     "17763a9adcc84e77968a0c7d4bbc07d7": {
      "model_module": "jupyter-leaflet",
      "model_module_version": "^0.12.6",
      "model_name": "LeafletLocalTileLayerModel",
      "state": {
       "_model_module_version": "^0.12.6",
       "_view_module_version": "^0.12.6",
       "max_native_zoom": 18,
       "min_native_zoom": 0,
       "no_wrap": false,
       "options": [
        "attribution",
        "detect_retina",
        "max_native_zoom",
        "max_zoom",
        "min_native_zoom",
        "min_zoom",
        "no_wrap",
        "tile_size",
        "tms"
       ],
       "path": "./xarray_leaflet_tiles/tmpqijqcq_f/{z}/{x}/{y}.png"
      }
     },
     "177af9087b894d0eb0f61e53e13e6789": {
      "model_module": "jupyter-leaflet",
      "model_module_version": "^0.12.6",
      "model_name": "LeafletTileLayerModel",
      "state": {
       "_model_module_version": "^0.12.6",
       "_view_module_version": "^0.12.6",
       "attribution": "&copy; <a href=\"http://www.openstreetmap.org/copyright\">OpenStreetMap</a> &copy; <a href=\"http://cartodb.com/attributions\">CartoDB</a>",
       "base": true,
       "max_native_zoom": 18,
       "max_zoom": 20,
       "min_native_zoom": 0,
       "min_zoom": 1,
       "name": "CartoDB.Positron",
       "no_wrap": false,
       "options": [
        "attribution",
        "detect_retina",
        "max_native_zoom",
        "max_zoom",
        "min_native_zoom",
        "min_zoom",
        "no_wrap",
        "tile_size",
        "tms"
       ],
       "url": "http://c.basemaps.cartocdn.com/light_all/{z}/{x}/{y}.png"
      }
     },
     "182a0e0b9f544787b2eb37df13829b5c": {
      "model_module": "jupyter-leaflet",
      "model_module_version": "^0.12.6",
      "model_name": "LeafletMapStyleModel",
      "state": {
       "_model_module_version": "^0.12.6"
      }
     },
     "184d464cafe14dc4be15eafc5836f630": {
      "model_module": "jupyter-leaflet",
      "model_module_version": "^0.12.6",
      "model_name": "LeafletMapStyleModel",
      "state": {
       "_model_module_version": "^0.12.6",
       "cursor": "move"
      }
     },
     "1926c74d1a2e47199201ae5fa86bee7e": {
      "model_module": "jupyter-leaflet",
      "model_module_version": "^0.12.6",
      "model_name": "LeafletMapStyleModel",
      "state": {
       "_model_module_version": "^0.12.6"
      }
     },
     "19295a705b3540a0bacbdf1e5b4e0a21": {
      "model_module": "jupyter-leaflet",
      "model_module_version": "^0.12.6",
      "model_name": "LeafletAttributionControlModel",
      "state": {
       "_model_module_version": "^0.12.6",
       "_view_module_version": "^0.12.6",
       "options": [
        "position",
        "prefix"
       ],
       "position": "bottomright",
       "prefix": "Leaflet"
      }
     },
     "1b238359e36b4634b4e28f162bedaeec": {
      "model_module": "jupyter-leaflet",
      "model_module_version": "^0.12.6",
      "model_name": "LeafletAttributionControlModel",
      "state": {
       "_model_module_version": "^0.12.6",
       "_view_module_version": "^0.12.6",
       "options": [
        "position",
        "prefix"
       ],
       "position": "bottomright",
       "prefix": "Leaflet"
      }
     },
     "1bd56a85b6ef47cfb5a2998b23db1041": {
      "model_module": "@jupyter-widgets/base",
      "model_module_version": "1.2.0",
      "model_name": "LayoutModel",
      "state": {}
     },
     "1c59a78edfb642d2bc50e1503ded38df": {
      "model_module": "jupyter-leaflet",
      "model_module_version": "^0.12.6",
      "model_name": "LeafletZoomControlModel",
      "state": {
       "_model_module_version": "^0.12.6",
       "_view_module_version": "^0.12.6",
       "options": [
        "position",
        "zoom_in_text",
        "zoom_in_title",
        "zoom_out_text",
        "zoom_out_title"
       ]
      }
     },
     "1da846caf1f14e2ea396693476345883": {
      "model_module": "@jupyter-widgets/controls",
      "model_module_version": "1.5.0",
      "model_name": "BoxModel",
      "state": {
       "children": [
        "IPY_MODEL_5588a3175cde4aa1b05ed3aca59fcfdc"
       ],
       "layout": "IPY_MODEL_8a62049d6b354901a8a59c10c8d40f84"
      }
     },
     "1db3da6440284b7281be2b902c461dd1": {
      "model_module": "jupyter-leaflet",
      "model_module_version": "^0.12.6",
      "model_name": "LeafletZoomControlModel",
      "state": {
       "_model_module_version": "^0.12.6",
       "_view_module_version": "^0.12.6",
       "options": [
        "position",
        "zoom_in_text",
        "zoom_in_title",
        "zoom_out_text",
        "zoom_out_title"
       ]
      }
     },
     "1fed352667454f93b51be7dc4c51ee9d": {
      "model_module": "@jupyter-widgets/base",
      "model_module_version": "1.2.0",
      "model_name": "LayoutModel",
      "state": {}
     },
     "2090c56daf074488b0cdaa1c675f9c50": {
      "model_module": "jupyter-leaflet",
      "model_module_version": "^0.12.6",
      "model_name": "LeafletLocalTileLayerModel",
      "state": {
       "_model_module_version": "^0.12.6",
       "_view_module_version": "^0.12.6",
       "max_native_zoom": 18,
       "min_native_zoom": 0,
       "no_wrap": false,
       "options": [
        "attribution",
        "detect_retina",
        "max_native_zoom",
        "max_zoom",
        "min_native_zoom",
        "min_zoom",
        "no_wrap",
        "tile_size",
        "tms"
       ],
       "path": "./xarray_leaflet_tiles/tmpemsgkg4m/{z}/{x}/{y}.png"
      }
     },
     "20e46d1030c547ada8f44eae38faf749": {
      "model_module": "jupyter-leaflet",
      "model_module_version": "^0.12.6",
      "model_name": "LeafletMapStyleModel",
      "state": {
       "_model_module_version": "^0.12.6",
       "cursor": "move"
      }
     },
     "223e3a901fa5492785754b5444fc618f": {
      "model_module": "jupyter-leaflet",
      "model_module_version": "^0.12.6",
      "model_name": "LeafletMapModel",
      "state": {
       "_model_module_version": "^0.12.6",
       "_view_module_version": "^0.12.6",
       "center": [
        -20,
        -60
       ],
       "controls": [
        "IPY_MODEL_1c59a78edfb642d2bc50e1503ded38df",
        "IPY_MODEL_ff8b2b0f1b7943c98f9dc19d3241dccb"
       ],
       "default_style": "IPY_MODEL_7586e4e48c2e4911a870ad2b07e2d8e3",
       "dragging_style": "IPY_MODEL_20e46d1030c547ada8f44eae38faf749",
       "east": 26.367187500000004,
       "fullscreen": false,
       "interpolation": "bilinear",
       "layers": [
        "IPY_MODEL_fd13e6df6fbc4c93964a8d79374109ca"
       ],
       "layout": "IPY_MODEL_69f5b9d10e5b4bb786a2ae8a7d72fe95",
       "modisdate": "yesterday",
       "north": 14.604847155053898,
       "options": [
        "bounce_at_zoom_limits",
        "box_zoom",
        "center",
        "close_popup_on_click",
        "double_click_zoom",
        "dragging",
        "fullscreen",
        "inertia",
        "inertia_deceleration",
        "inertia_max_speed",
        "interpolation",
        "keyboard",
        "keyboard_pan_offset",
        "keyboard_zoom_offset",
        "max_zoom",
        "min_zoom",
        "scroll_wheel_zoom",
        "tap",
        "tap_tolerance",
        "touch_zoom",
        "world_copy_jump",
        "zoom",
        "zoom_animation_threshold",
        "zoom_start"
       ],
       "south": -48.45835188280866,
       "style": "IPY_MODEL_e02a2a94ada14a62867936f61e7c31e1",
       "west": -146.25000000000003,
       "zoom": 3
      }
     },
     "23581d67ea954e22bacd39d540869087": {
      "model_module": "jupyter-leaflet",
      "model_module_version": "^0.12.6",
      "model_name": "LeafletLocalTileLayerModel",
      "state": {
       "_model_module_version": "^0.12.6",
       "_view_module_version": "^0.12.6",
       "max_native_zoom": 18,
       "min_native_zoom": 0,
       "no_wrap": false,
       "opacity": 0.9,
       "options": [
        "attribution",
        "detect_retina",
        "max_native_zoom",
        "max_zoom",
        "min_native_zoom",
        "min_zoom",
        "no_wrap",
        "tile_size",
        "tms"
       ],
       "path": "/tiles/var/folders/f8/0034db6d78s5r6m34fxhpk7m0000gp/T/xarray_leaflet_vdt67ain/{z}/{x}/{y}.png",
       "url": "/tiles/var/folders/f8/0034db6d78s5r6m34fxhpk7m0000gp/T/xarray_leaflet_vdt67ain/{z}/{x}/{y}.png"
      }
     },
     "23dc4714d3ea4d6f9564796b6b6a87f1": {
      "model_module": "jupyter-leaflet",
      "model_module_version": "^0.12.6",
      "model_name": "LeafletTileLayerModel",
      "state": {
       "_model_module_version": "^0.12.6",
       "_view_module_version": "^0.12.6",
       "attribution": "&copy; <a href=\"http://www.openstreetmap.org/copyright\">OpenStreetMap</a> &copy; <a href=\"http://cartodb.com/attributions\">CartoDB</a>",
       "base": true,
       "max_native_zoom": 18,
       "max_zoom": 20,
       "min_native_zoom": 0,
       "min_zoom": 1,
       "name": "CartoDB.DarkMatter",
       "no_wrap": false,
       "options": [
        "attribution",
        "detect_retina",
        "max_native_zoom",
        "max_zoom",
        "min_native_zoom",
        "min_zoom",
        "no_wrap",
        "tile_size",
        "tms"
       ],
       "url": "http://c.basemaps.cartocdn.com/dark_all/{z}/{x}/{y}.png"
      }
     },
     "2498fc49dca54896a07ed83217f34ee1": {
      "model_module": "@jupyter-widgets/base",
      "model_module_version": "1.2.0",
      "model_name": "LayoutModel",
      "state": {}
     },
     "24c0c3245ab44a76a97fe0c609c3727b": {
      "model_module": "jupyter-leaflet",
      "model_module_version": "^0.12.6",
      "model_name": "LeafletMapStyleModel",
      "state": {
       "_model_module_version": "^0.12.6"
      }
     },
     "26525a4e2d3846aa8c263616ea1d7e49": {
      "model_module": "@jupyter-widgets/base",
      "model_module_version": "1.2.0",
      "model_name": "LayoutModel",
      "state": {}
     },
     "276cc17e213a4738891392b4c3bd4f16": {
      "model_module": "jupyter-leaflet",
      "model_module_version": "^0.12.6",
      "model_name": "LeafletTileLayerModel",
      "state": {
       "_model_module_version": "^0.12.6",
       "_view_module_version": "^0.12.6",
       "attribution": "&copy; <a href=\"http://www.openstreetmap.org/copyright\">OpenStreetMap</a> &copy; <a href=\"http://cartodb.com/attributions\">CartoDB</a>",
       "base": true,
       "max_native_zoom": 18,
       "max_zoom": 20,
       "min_native_zoom": 0,
       "min_zoom": 1,
       "name": "CartoDB.DarkMatter",
       "no_wrap": false,
       "options": [
        "attribution",
        "detect_retina",
        "max_native_zoom",
        "max_zoom",
        "min_native_zoom",
        "min_zoom",
        "no_wrap",
        "tile_size",
        "tms"
       ],
       "url": "http://c.basemaps.cartocdn.com/dark_all/{z}/{x}/{y}.png"
      }
     },
     "27a318c7c8a446eb9b6b7b798e287831": {
      "model_module": "@jupyter-widgets/controls",
      "model_module_version": "1.5.0",
      "model_name": "FloatSliderModel",
      "state": {
       "description": "opacity",
       "layout": "IPY_MODEL_0be040fa6b414b23b0fbfa383f52d6ce",
       "max": 1,
       "step": 0.1,
       "style": "IPY_MODEL_b92dcffa0294435286c7c62a11032cf6",
       "value": 1
      }
     },
     "28202d314d0244ec86ce633674f4207c": {
      "model_module": "jupyter-leaflet",
      "model_module_version": "^0.12.6",
      "model_name": "LeafletLocalTileLayerModel",
      "state": {
       "_model_module_version": "^0.12.6",
       "_view_module_version": "^0.12.6",
       "max_native_zoom": 18,
       "min_native_zoom": 0,
       "no_wrap": false,
       "options": [
        "attribution",
        "detect_retina",
        "max_native_zoom",
        "max_zoom",
        "min_native_zoom",
        "min_zoom",
        "no_wrap",
        "tile_size",
        "tms"
       ],
       "path": "./xarray_leaflet_tiles/tmpu37v10hv/{z}/{x}/{y}.png",
       "url": "./xarray_leaflet_tiles/tmpu37v10hv/{z}/{x}/{y}.png"
      }
     },
     "28909e0b2edd4f1ab7c0aefc211493b5": {
      "model_module": "jupyter-leaflet",
      "model_module_version": "^0.12.6",
      "model_name": "LeafletMapModel",
      "state": {
       "_model_module_version": "^0.12.6",
       "_view_module_version": "^0.12.6",
       "center": [
        -20,
        -60
       ],
       "controls": [
        "IPY_MODEL_ed6fc955b37341ef9efa82806f2b3975",
        "IPY_MODEL_4b7db59edd53494e9e9b05a11f64466b"
       ],
       "default_style": "IPY_MODEL_1926c74d1a2e47199201ae5fa86bee7e",
       "dragging_style": "IPY_MODEL_49f88df6e69040679d67aae0d9e66091",
       "east": 26.367187500000004,
       "fullscreen": false,
       "interpolation": "bilinear",
       "layers": [
        "IPY_MODEL_8fed9900147b4d84b2f944ab19b065f8"
       ],
       "layout": "IPY_MODEL_ff2f5953bbe2406bb74b5b45952e65f0",
       "modisdate": "yesterday",
       "north": 14.604847155053898,
       "options": [
        "bounce_at_zoom_limits",
        "box_zoom",
        "center",
        "close_popup_on_click",
        "double_click_zoom",
        "dragging",
        "fullscreen",
        "inertia",
        "inertia_deceleration",
        "inertia_max_speed",
        "interpolation",
        "keyboard",
        "keyboard_pan_offset",
        "keyboard_zoom_offset",
        "max_zoom",
        "min_zoom",
        "scroll_wheel_zoom",
        "tap",
        "tap_tolerance",
        "touch_zoom",
        "world_copy_jump",
        "zoom",
        "zoom_animation_threshold",
        "zoom_start"
       ],
       "south": -48.45835188280866,
       "style": "IPY_MODEL_e659afc000fc44d598eb1344d70f9162",
       "west": -146.25000000000003,
       "zoom": 3
      }
     },
     "28d084231ccf43d89e29b8fc5ad94f98": {
      "model_module": "jupyter-leaflet",
      "model_module_version": "^0.12.6",
      "model_name": "LeafletTileLayerModel",
      "state": {
       "_model_module_version": "^0.12.6",
       "_view_module_version": "^0.12.6",
       "attribution": "&copy; <a href=\"http://www.openstreetmap.org/copyright\">OpenStreetMap</a> &copy; <a href=\"http://cartodb.com/attributions\">CartoDB</a>",
       "base": true,
       "max_native_zoom": 18,
       "max_zoom": 20,
       "min_native_zoom": 0,
       "min_zoom": 1,
       "name": "CartoDB.Positron",
       "no_wrap": false,
       "options": [
        "attribution",
        "detect_retina",
        "max_native_zoom",
        "max_zoom",
        "min_native_zoom",
        "min_zoom",
        "no_wrap",
        "tile_size",
        "tms"
       ],
       "url": "http://c.basemaps.cartocdn.com/light_all/{z}/{x}/{y}.png"
      }
     },
     "29b508afaa594db3ac855c6db2c35e73": {
      "model_module": "jupyter-leaflet",
      "model_module_version": "^0.12.6",
      "model_name": "LeafletMapModel",
      "state": {
       "_model_module_version": "^0.12.6",
       "_view_module_version": "^0.12.6",
       "center": [
        48.00071985148475,
        7.86174774169922
       ],
       "controls": [
        "IPY_MODEL_d8ccddc591e24ebe935eba351dcf1369",
        "IPY_MODEL_cea646f01c3040ad973abb965cfce58e"
       ],
       "default_style": "IPY_MODEL_c57c7f3582d14eb59fe85df84037396b",
       "dragging_style": "IPY_MODEL_09b268ef31d448fb80c497affad06554",
       "east": 7.946033477783204,
       "fullscreen": false,
       "interpolation": "bilinear",
       "layers": [
        "IPY_MODEL_9d713a4b5a2b462395b15833759ee95c",
        "IPY_MODEL_eebce7cf31774a09b2f775f08fc096d1"
       ],
       "layout": "IPY_MODEL_c21fed95103942d38e2ea86465f60225",
       "modisdate": "yesterday",
       "north": 48.02368719244276,
       "options": [
        "bounce_at_zoom_limits",
        "box_zoom",
        "center",
        "close_popup_on_click",
        "double_click_zoom",
        "dragging",
        "fullscreen",
        "inertia",
        "inertia_deceleration",
        "inertia_max_speed",
        "interpolation",
        "keyboard",
        "keyboard_pan_offset",
        "keyboard_zoom_offset",
        "max_zoom",
        "min_zoom",
        "scroll_wheel_zoom",
        "tap",
        "tap_tolerance",
        "touch_zoom",
        "world_copy_jump",
        "zoom",
        "zoom_animation_threshold",
        "zoom_start"
       ],
       "south": 47.977742280760104,
       "style": "IPY_MODEL_c57c7f3582d14eb59fe85df84037396b",
       "west": 7.777462005615235,
       "zoom": 13
      }
     },
     "2d808df3511c4a398711617f1ab1230a": {
      "model_module": "@jupyter-widgets/base",
      "model_module_version": "1.2.0",
      "model_name": "LayoutModel",
      "state": {}
     },
     "2dfa1387448e4891ac39783bf3c4a460": {
      "model_module": "jupyter-leaflet",
      "model_module_version": "^0.12.6",
      "model_name": "LeafletMapStyleModel",
      "state": {
       "_model_module_version": "^0.12.6",
       "cursor": "move"
      }
     },
     "2f703c5e6ce9437f8f9a2b30a25ebf48": {
      "model_module": "jupyter-leaflet",
      "model_module_version": "^0.12.6",
      "model_name": "LeafletTileLayerModel",
      "state": {
       "_model_module_version": "^0.12.6",
       "_view_module_version": "^0.12.6",
       "attribution": "&copy; <a href=\"http://www.openstreetmap.org/copyright\">OpenStreetMap</a> &copy; <a href=\"http://cartodb.com/attributions\">CartoDB</a>",
       "base": true,
       "max_native_zoom": 18,
       "max_zoom": 20,
       "min_native_zoom": 0,
       "min_zoom": 1,
       "name": "CartoDB.DarkMatter",
       "no_wrap": false,
       "options": [
        "attribution",
        "detect_retina",
        "max_native_zoom",
        "max_zoom",
        "min_native_zoom",
        "min_zoom",
        "no_wrap",
        "tile_size",
        "tms"
       ],
       "url": "http://c.basemaps.cartocdn.com/dark_all/{z}/{x}/{y}.png"
      }
     },
     "312d317e9a534d798857b09c65824238": {
      "model_module": "jupyter-leaflet",
      "model_module_version": "^0.12.6",
      "model_name": "LeafletAttributionControlModel",
      "state": {
       "_model_module_version": "^0.12.6",
       "_view_module_version": "^0.12.6",
       "options": [
        "position",
        "prefix"
       ],
       "position": "bottomright",
       "prefix": "Leaflet"
      }
     },
     "31a8cc2b18ac4da89fe6b178cbd26624": {
      "model_module": "jupyter-leaflet",
      "model_module_version": "^0.12.6",
      "model_name": "LeafletLocalTileLayerModel",
      "state": {
       "_model_module_version": "^0.12.6",
       "_view_module_version": "^0.12.6",
       "max_native_zoom": 18,
       "min_native_zoom": 0,
       "no_wrap": false,
       "options": [
        "attribution",
        "detect_retina",
        "max_native_zoom",
        "max_zoom",
        "min_native_zoom",
        "min_zoom",
        "no_wrap",
        "tile_size",
        "tms"
       ],
       "path": "/tiles/var/folders/f8/0034db6d78s5r6m34fxhpk7m0000gp/T/xarray_leaflet_dx2b83o4/{z}/{x}/{y}.png",
       "url": "/tiles/var/folders/f8/0034db6d78s5r6m34fxhpk7m0000gp/T/xarray_leaflet_dx2b83o4/{z}/{x}/{y}.png"
      }
     },
     "3220ccf74f2d428c9d0178447adcb6ec": {
      "model_module": "@jupyter-widgets/controls",
      "model_module_version": "1.5.0",
      "model_name": "SliderStyleModel",
      "state": {
       "description_width": ""
      }
     },
     "340c77b997424e84a5d046c222b14d5d": {
      "model_module": "jupyter-leaflet",
      "model_module_version": "^0.12.6",
      "model_name": "LeafletZoomControlModel",
      "state": {
       "_model_module_version": "^0.12.6",
       "_view_module_version": "^0.12.6",
       "options": [
        "position",
        "zoom_in_text",
        "zoom_in_title",
        "zoom_out_text",
        "zoom_out_title"
       ]
      }
     },
     "3534ba0a277e47ceaaa19e4f766a3ddd": {
      "model_module": "@jupyter-widgets/controls",
      "model_module_version": "1.5.0",
      "model_name": "SliderStyleModel",
      "state": {
       "description_width": ""
      }
     },
     "37fec627712445c2b193d025bce2e1b9": {
      "model_module": "@jupyter-widgets/base",
      "model_module_version": "1.2.0",
      "model_name": "LayoutModel",
      "state": {}
     },
     "3a4bae64cd484c1780ee93575eb1aadb": {
      "model_module": "@jupyter-widgets/controls",
      "model_module_version": "1.5.0",
      "model_name": "SliderStyleModel",
      "state": {
       "description_width": ""
      }
     },
     "3b2a61da4ec7491ab1238dfb3fee5856": {
      "model_module": "@jupyter-widgets/base",
      "model_module_version": "1.2.0",
      "model_name": "LayoutModel",
      "state": {}
     },
     "3b3952f5cbf64eb8b3fcaf501749bcca": {
      "model_module": "@jupyter-widgets/controls",
      "model_module_version": "1.5.0",
      "model_name": "BoxModel",
      "state": {
       "children": [
        "IPY_MODEL_27a318c7c8a446eb9b6b7b798e287831"
       ],
       "layout": "IPY_MODEL_1734e31da67f406b9f781c95311dc30f"
      }
     },
     "3bf116cbf4194a7287575275c59a9bf7": {
      "model_module": "jupyter-leaflet",
      "model_module_version": "^0.12.6",
      "model_name": "LeafletTileLayerModel",
      "state": {
       "_model_module_version": "^0.12.6",
       "_view_module_version": "^0.12.6",
       "attribution": "&copy; <a href=\"http://www.openstreetmap.org/copyright\">OpenStreetMap</a> &copy; <a href=\"http://cartodb.com/attributions\">CartoDB</a>",
       "base": true,
       "max_native_zoom": 18,
       "max_zoom": 20,
       "min_native_zoom": 0,
       "min_zoom": 1,
       "name": "CartoDB.Positron",
       "no_wrap": false,
       "options": [
        "attribution",
        "detect_retina",
        "max_native_zoom",
        "max_zoom",
        "min_native_zoom",
        "min_zoom",
        "no_wrap",
        "tile_size",
        "tms"
       ],
       "url": "http://c.basemaps.cartocdn.com/light_all/{z}/{x}/{y}.png"
      }
     },
     "3cfa07c5aef54421922527371e511958": {
      "model_module": "@jupyter-widgets/base",
      "model_module_version": "1.2.0",
      "model_name": "LayoutModel",
      "state": {}
     },
     "3d87076f35814525a86f208f269d365e": {
      "model_module": "jupyter-leaflet",
      "model_module_version": "^0.12.6",
      "model_name": "LeafletAttributionControlModel",
      "state": {
       "_model_module_version": "^0.12.6",
       "_view_module_version": "^0.12.6",
       "options": [
        "position",
        "prefix"
       ],
       "position": "bottomright",
       "prefix": "Leaflet"
      }
     },
     "3f7391ebf9234de0936d0bc0cd23a8fc": {
      "model_module": "jupyter-leaflet",
      "model_module_version": "^0.12.6",
      "model_name": "LeafletMapStyleModel",
      "state": {
       "_model_module_version": "^0.12.6"
      }
     },
     "41e56528ca0740ef8e7d3ed79eb67958": {
      "model_module": "@jupyter-widgets/controls",
      "model_module_version": "1.5.0",
      "model_name": "FloatSliderModel",
      "state": {
       "description": "opacity",
       "layout": "IPY_MODEL_1471fb86bd6448a6a87c6106da62e83e",
       "max": 1,
       "step": 0.1,
       "style": "IPY_MODEL_64861f579bf942baa067436644be44ad",
       "value": 0.7
      }
     },
     "42f9fe8760fd48bb935a3142d22470cf": {
      "model_module": "jupyter-leaflet",
      "model_module_version": "^0.12.6",
      "model_name": "LeafletMapStyleModel",
      "state": {
       "_model_module_version": "^0.12.6",
       "cursor": "move"
      }
     },
     "457d8df6dfbd4279a4f700d72709e2d8": {
      "model_module": "jupyter-leaflet",
      "model_module_version": "^0.12.6",
      "model_name": "LeafletMapStyleModel",
      "state": {
       "_model_module_version": "^0.12.6"
      }
     },
     "490dfd671a534acb8f5e4f3767e8c9b6": {
      "model_module": "@jupyter-widgets/base",
      "model_module_version": "1.2.0",
      "model_name": "LayoutModel",
      "state": {}
     },
     "49f88df6e69040679d67aae0d9e66091": {
      "model_module": "jupyter-leaflet",
      "model_module_version": "^0.12.6",
      "model_name": "LeafletMapStyleModel",
      "state": {
       "_model_module_version": "^0.12.6",
       "cursor": "move"
      }
     },
     "4a833780356e4a52b89121ca93dbcff1": {
      "model_module": "jupyter-leaflet",
      "model_module_version": "^0.12.6",
      "model_name": "LeafletLocalTileLayerModel",
      "state": {
       "_model_module_version": "^0.12.6",
       "_view_module_version": "^0.12.6",
       "max_native_zoom": 18,
       "min_native_zoom": 0,
       "no_wrap": false,
       "options": [
        "attribution",
        "detect_retina",
        "max_native_zoom",
        "max_zoom",
        "min_native_zoom",
        "min_zoom",
        "no_wrap",
        "tile_size",
        "tms"
       ],
       "path": "./xarray_leaflet_tiles/tmpefvykrwk/{z}/{x}/{y}.png"
      }
     },
     "4b5d8ded16c149c19bc2b4f688a8756d": {
      "model_module": "jupyter-leaflet",
      "model_module_version": "^0.12.6",
      "model_name": "LeafletMapStyleModel",
      "state": {
       "_model_module_version": "^0.12.6"
      }
     },
     "4b7db59edd53494e9e9b05a11f64466b": {
      "model_module": "jupyter-leaflet",
      "model_module_version": "^0.12.6",
      "model_name": "LeafletAttributionControlModel",
      "state": {
       "_model_module_version": "^0.12.6",
       "_view_module_version": "^0.12.6",
       "options": [
        "position",
        "prefix"
       ],
       "position": "bottomright",
       "prefix": "Leaflet"
      }
     },
     "4e46ee0334594f88bcb5452cd67592ab": {
      "model_module": "jupyter-leaflet",
      "model_module_version": "^0.12.6",
      "model_name": "LeafletAttributionControlModel",
      "state": {
       "_model_module_version": "^0.12.6",
       "_view_module_version": "^0.12.6",
       "options": [
        "position",
        "prefix"
       ],
       "position": "bottomright",
       "prefix": "Leaflet"
      }
     },
     "4e5d6135fc724497b952a3893ec906de": {
      "model_module": "jupyter-leaflet",
      "model_module_version": "^0.12.6",
      "model_name": "LeafletMapStyleModel",
      "state": {
       "_model_module_version": "^0.12.6"
      }
     },
     "4ed74ce8199f4d4aaf97983a3752797e": {
      "model_module": "jupyter-leaflet",
      "model_module_version": "^0.12.6",
      "model_name": "LeafletMapStyleModel",
      "state": {
       "_model_module_version": "^0.12.6",
       "cursor": "move"
      }
     },
     "4fce4fba9c87449eb1dfe7efd27d98c9": {
      "model_module": "jupyter-leaflet",
      "model_module_version": "^0.12.6",
      "model_name": "LeafletAttributionControlModel",
      "state": {
       "_model_module_version": "^0.12.6",
       "_view_module_version": "^0.12.6",
       "options": [
        "position",
        "prefix"
       ],
       "position": "bottomright",
       "prefix": "Leaflet"
      }
     },
     "509c8e3814864cd5a94db307b19d199f": {
      "model_module": "@jupyter-widgets/base",
      "model_module_version": "1.2.0",
      "model_name": "LayoutModel",
      "state": {}
     },
     "52a092cc1ccb44a683561ac7c34cad89": {
      "model_module": "jupyter-leaflet",
      "model_module_version": "^0.12.6",
      "model_name": "LeafletAttributionControlModel",
      "state": {
       "_model_module_version": "^0.12.6",
       "_view_module_version": "^0.12.6",
       "options": [
        "position",
        "prefix"
       ],
       "position": "bottomright",
       "prefix": "Leaflet"
      }
     },
     "53655aa9b6e1473986000c5689cf4ecc": {
      "model_module": "jupyter-leaflet",
      "model_module_version": "^0.12.6",
      "model_name": "LeafletMapStyleModel",
      "state": {
       "_model_module_version": "^0.12.6",
       "cursor": "move"
      }
     },
     "55844bdf113a4e46b2b1c8263996a52f": {
      "model_module": "jupyter-leaflet",
      "model_module_version": "^0.12.6",
      "model_name": "LeafletLocalTileLayerModel",
      "state": {
       "_model_module_version": "^0.12.6",
       "_view_module_version": "^0.12.6",
       "max_native_zoom": 18,
       "min_native_zoom": 0,
       "no_wrap": false,
       "options": [
        "attribution",
        "detect_retina",
        "max_native_zoom",
        "max_zoom",
        "min_native_zoom",
        "min_zoom",
        "no_wrap",
        "tile_size",
        "tms"
       ],
       "path": "/tiles/var/folders/f8/0034db6d78s5r6m34fxhpk7m0000gp/T/xarray_leaflet_40dmjook/{z}/{x}/{y}.png",
       "url": "/tiles/var/folders/f8/0034db6d78s5r6m34fxhpk7m0000gp/T/xarray_leaflet_40dmjook/{z}/{x}/{y}.png"
      }
     },
     "5588a3175cde4aa1b05ed3aca59fcfdc": {
      "model_module": "@jupyter-widgets/controls",
      "model_module_version": "1.5.0",
      "model_name": "FloatSliderModel",
      "state": {
       "description": "opacity",
       "layout": "IPY_MODEL_fba7515856174b15816ad438bf0390a4",
       "max": 1,
       "min": 0.1,
       "step": 0.1,
       "style": "IPY_MODEL_3534ba0a277e47ceaaa19e4f766a3ddd",
       "value": 1
      }
     },
     "55af7fd8d953416192905657840a4232": {
      "model_module": "jupyter-leaflet",
      "model_module_version": "^0.12.6",
      "model_name": "LeafletMapStyleModel",
      "state": {
       "_model_module_version": "^0.12.6",
       "cursor": "move"
      }
     },
     "55b2c93444bf436fafd4ebcccbeeba1f": {
      "model_module": "@jupyter-widgets/controls",
      "model_module_version": "1.5.0",
      "model_name": "FloatSliderModel",
      "state": {
       "description": "opacity",
       "layout": "IPY_MODEL_3cfa07c5aef54421922527371e511958",
       "max": 1,
       "min": 0.1,
       "step": 0.1,
       "style": "IPY_MODEL_801828174ec34c6f9e4b71baffc0b6ff",
       "value": 0.1
      }
     },
     "55c1386d14fc4d73bd891b3f9fd87ebc": {
      "model_module": "@jupyter-widgets/controls",
      "model_module_version": "1.5.0",
      "model_name": "FloatSliderModel",
      "state": {
       "description": "opacity",
       "layout": "IPY_MODEL_1bd56a85b6ef47cfb5a2998b23db1041",
       "max": 1,
       "min": 0.1,
       "step": 0.1,
       "style": "IPY_MODEL_760c2b25be1b4dbc95cbb10c49a548fb",
       "value": 1
      }
     },
     "56f3fc5ff42e4aa4bbd6438362457b12": {
      "model_module": "jupyter-leaflet",
      "model_module_version": "^0.12.6",
      "model_name": "LeafletTileLayerModel",
      "state": {
       "_model_module_version": "^0.12.6",
       "_view_module_version": "^0.12.6",
       "attribution": "&copy; <a href=\"http://www.openstreetmap.org/copyright\">OpenStreetMap</a> &copy; <a href=\"http://cartodb.com/attributions\">CartoDB</a>",
       "base": true,
       "max_native_zoom": 18,
       "max_zoom": 20,
       "min_native_zoom": 0,
       "min_zoom": 1,
       "name": "CartoDB.Positron",
       "no_wrap": false,
       "options": [
        "attribution",
        "detect_retina",
        "max_native_zoom",
        "max_zoom",
        "min_native_zoom",
        "min_zoom",
        "no_wrap",
        "tile_size",
        "tms"
       ],
       "url": "http://c.basemaps.cartocdn.com/light_all/{z}/{x}/{y}.png"
      }
     },
     "57a1ab0aa383459a97e00a309f6154aa": {
      "model_module": "jupyter-leaflet",
      "model_module_version": "^0.12.6",
      "model_name": "LeafletMapModel",
      "state": {
       "_model_module_version": "^0.12.6",
       "_view_module_version": "^0.12.6",
       "center": [
        -20,
        -60
       ],
       "controls": [
        "IPY_MODEL_a5e264b8b71c4ce29eb8603388a718aa",
        "IPY_MODEL_4fce4fba9c87449eb1dfe7efd27d98c9"
       ],
       "default_style": "IPY_MODEL_da17bd752fc64b22b2fa855b4b379354",
       "dragging_style": "IPY_MODEL_a251846c1ebd4024a3c14c270e2c6285",
       "east": 26.367187500000004,
       "fullscreen": false,
       "interpolation": "bilinear",
       "layers": [
        "IPY_MODEL_e1667f124b2c430cb8d2a0f7df05af97"
       ],
       "layout": "IPY_MODEL_a922615c95e34126a4ad70043b92a37e",
       "modisdate": "yesterday",
       "north": 14.604847155053898,
       "options": [
        "bounce_at_zoom_limits",
        "box_zoom",
        "center",
        "close_popup_on_click",
        "double_click_zoom",
        "dragging",
        "fullscreen",
        "inertia",
        "inertia_deceleration",
        "inertia_max_speed",
        "interpolation",
        "keyboard",
        "keyboard_pan_offset",
        "keyboard_zoom_offset",
        "max_zoom",
        "min_zoom",
        "scroll_wheel_zoom",
        "tap",
        "tap_tolerance",
        "touch_zoom",
        "world_copy_jump",
        "zoom",
        "zoom_animation_threshold",
        "zoom_start"
       ],
       "south": -48.45835188280866,
       "style": "IPY_MODEL_655fb736a1ad4388aacef5a48155372c",
       "west": -146.25000000000003,
       "zoom": 3
      }
     },
     "59f6a479af2a469989161dd714ca9431": {
      "model_module": "jupyter-leaflet",
      "model_module_version": "^0.12.6",
      "model_name": "LeafletMapStyleModel",
      "state": {
       "_model_module_version": "^0.12.6"
      }
     },
     "5a5e52f01bc546ea9a9f7cbaabc20849": {
      "model_module": "@jupyter-widgets/base",
      "model_module_version": "1.2.0",
      "model_name": "LayoutModel",
      "state": {}
     },
     "5b65ff33d6fa4ef99410cb68d221e406": {
      "model_module": "jupyter-leaflet",
      "model_module_version": "^0.12.6",
      "model_name": "LeafletMapModel",
      "state": {
       "_model_module_version": "^0.12.6",
       "_view_module_version": "^0.12.6",
       "center": [
        -20,
        -60
       ],
       "controls": [
        "IPY_MODEL_a460bae8393e416dac313324bb572353",
        "IPY_MODEL_fd1bc4b2298c4576800aaa61cf297487"
       ],
       "default_style": "IPY_MODEL_d09d27dea5154eea90d86c9dddabff2a",
       "dragging_style": "IPY_MODEL_afeaa8311fde44d19003db2b1620ffbe",
       "east": 26.367187500000004,
       "fullscreen": false,
       "interpolation": "bilinear",
       "layers": [
        "IPY_MODEL_e38ac3dcdc0b4e789b3df6edf30b9146",
        "IPY_MODEL_fb18cbc556044d7d8e84c77c83d55727"
       ],
       "layout": "IPY_MODEL_fc2e046589f949549b8398d5095d77e6",
       "modisdate": "yesterday",
       "north": 14.604847155053898,
       "options": [
        "bounce_at_zoom_limits",
        "box_zoom",
        "center",
        "close_popup_on_click",
        "double_click_zoom",
        "dragging",
        "fullscreen",
        "inertia",
        "inertia_deceleration",
        "inertia_max_speed",
        "interpolation",
        "keyboard",
        "keyboard_pan_offset",
        "keyboard_zoom_offset",
        "max_zoom",
        "min_zoom",
        "scroll_wheel_zoom",
        "tap",
        "tap_tolerance",
        "touch_zoom",
        "world_copy_jump",
        "zoom",
        "zoom_animation_threshold",
        "zoom_start"
       ],
       "south": -48.45835188280866,
       "style": "IPY_MODEL_457d8df6dfbd4279a4f700d72709e2d8",
       "west": -146.25000000000003,
       "zoom": 3
      }
     },
     "5d550ce93efa484baaa1387c7893b54f": {
      "model_module": "@jupyter-widgets/base",
      "model_module_version": "1.2.0",
      "model_name": "LayoutModel",
      "state": {}
     },
     "5d7d79f38dbe4b509c9b2e719e473ef4": {
      "model_module": "jupyter-leaflet",
      "model_module_version": "^0.12.6",
      "model_name": "LeafletTileLayerModel",
      "state": {
       "_model_module_version": "^0.12.6",
       "_view_module_version": "^0.12.6",
       "attribution": "&copy; <a href=\"http://www.openstreetmap.org/copyright\">OpenStreetMap</a> &copy; <a href=\"http://cartodb.com/attributions\">CartoDB</a>",
       "base": true,
       "max_native_zoom": 18,
       "max_zoom": 20,
       "min_native_zoom": 0,
       "min_zoom": 1,
       "name": "CartoDB.DarkMatter",
       "no_wrap": false,
       "options": [
        "attribution",
        "detect_retina",
        "max_native_zoom",
        "max_zoom",
        "min_native_zoom",
        "min_zoom",
        "no_wrap",
        "tile_size",
        "tms"
       ],
       "url": "http://c.basemaps.cartocdn.com/dark_all/{z}/{x}/{y}.png"
      }
     },
     "5f4cec21740944cf8968e5bd269c107d": {
      "model_module": "jupyter-leaflet",
      "model_module_version": "^0.12.6",
      "model_name": "LeafletLocalTileLayerModel",
      "state": {
       "_model_module_version": "^0.12.6",
       "_view_module_version": "^0.12.6",
       "max_native_zoom": 18,
       "min_native_zoom": 0,
       "no_wrap": false,
       "options": [
        "attribution",
        "detect_retina",
        "max_native_zoom",
        "max_zoom",
        "min_native_zoom",
        "min_zoom",
        "no_wrap",
        "tile_size",
        "tms"
       ],
       "path": "/tiles/var/folders/f8/0034db6d78s5r6m34fxhpk7m0000gp/T/xarray_leaflet_12it4xre/{z}/{x}/{y}.png",
       "url": "/tiles/var/folders/f8/0034db6d78s5r6m34fxhpk7m0000gp/T/xarray_leaflet_12it4xre/{z}/{x}/{y}.png"
      }
     },
     "6294adb97c5f42e98e5825d35e748397": {
      "model_module": "jupyter-leaflet",
      "model_module_version": "^0.12.6",
      "model_name": "LeafletMapModel",
      "state": {
       "_model_module_version": "^0.12.6",
       "_view_module_version": "^0.12.6",
       "center": [
        -20,
        -60
       ],
       "controls": [
        "IPY_MODEL_cde60991aa7941f1b6e6e53e92438efc",
        "IPY_MODEL_13fed174730d43759f2dcb0fea8d1d51"
       ],
       "default_style": "IPY_MODEL_635e1a626fcd4030aff03189c5c9e6b4",
       "dragging_style": "IPY_MODEL_8e0ba9bdd3014a85b14860f0957e8ba3",
       "east": 26.367187500000004,
       "fullscreen": false,
       "interpolation": "bilinear",
       "layers": [
        "IPY_MODEL_2f703c5e6ce9437f8f9a2b30a25ebf48",
        "IPY_MODEL_31a8cc2b18ac4da89fe6b178cbd26624"
       ],
       "layout": "IPY_MODEL_efdf9048f56c41be90140069d613017c",
       "modisdate": "yesterday",
       "north": 14.604847155053898,
       "options": [
        "bounce_at_zoom_limits",
        "box_zoom",
        "center",
        "close_popup_on_click",
        "double_click_zoom",
        "dragging",
        "fullscreen",
        "inertia",
        "inertia_deceleration",
        "inertia_max_speed",
        "interpolation",
        "keyboard",
        "keyboard_pan_offset",
        "keyboard_zoom_offset",
        "max_zoom",
        "min_zoom",
        "scroll_wheel_zoom",
        "tap",
        "tap_tolerance",
        "touch_zoom",
        "world_copy_jump",
        "zoom",
        "zoom_animation_threshold",
        "zoom_start"
       ],
       "south": -48.45835188280866,
       "style": "IPY_MODEL_c397c2f36db54b8d98162e2e26a848d4",
       "west": -146.25000000000003,
       "zoom": 3
      }
     },
     "635e1a626fcd4030aff03189c5c9e6b4": {
      "model_module": "jupyter-leaflet",
      "model_module_version": "^0.12.6",
      "model_name": "LeafletMapStyleModel",
      "state": {
       "_model_module_version": "^0.12.6"
      }
     },
     "64861f579bf942baa067436644be44ad": {
      "model_module": "@jupyter-widgets/controls",
      "model_module_version": "1.5.0",
      "model_name": "SliderStyleModel",
      "state": {
       "description_width": ""
      }
     },
     "64c258d05cc94bf886f8f3fe5a1fbaf7": {
      "model_module": "jupyter-leaflet",
      "model_module_version": "^0.12.6",
      "model_name": "LeafletAttributionControlModel",
      "state": {
       "_model_module_version": "^0.12.6",
       "_view_module_version": "^0.12.6",
       "options": [
        "position",
        "prefix"
       ],
       "position": "bottomright",
       "prefix": "Leaflet"
      }
     },
     "655fb736a1ad4388aacef5a48155372c": {
      "model_module": "jupyter-leaflet",
      "model_module_version": "^0.12.6",
      "model_name": "LeafletMapStyleModel",
      "state": {
       "_model_module_version": "^0.12.6"
      }
     },
     "65befc5f443947a490a66fb2f4091751": {
      "model_module": "@jupyter-widgets/base",
      "model_module_version": "1.2.0",
      "model_name": "LayoutModel",
      "state": {}
     },
     "69f5b9d10e5b4bb786a2ae8a7d72fe95": {
      "model_module": "@jupyter-widgets/base",
      "model_module_version": "1.2.0",
      "model_name": "LayoutModel",
      "state": {}
     },
     "6a4954f161164f9f86fe0639fa1ec802": {
      "model_module": "@jupyter-widgets/controls",
      "model_module_version": "1.5.0",
      "model_name": "SliderStyleModel",
      "state": {
       "description_width": ""
      }
     },
     "6a5ef78b98cb42569eb67cfe6482a2c8": {
      "model_module": "@jupyter-widgets/base",
      "model_module_version": "1.2.0",
      "model_name": "LayoutModel",
      "state": {}
     },
     "6cbb78aa9a1f4f5c9db9111ea96d3887": {
      "model_module": "jupyter-leaflet",
      "model_module_version": "^0.12.6",
      "model_name": "LeafletZoomControlModel",
      "state": {
       "_model_module_version": "^0.12.6",
       "_view_module_version": "^0.12.6",
       "options": [
        "position",
        "zoom_in_text",
        "zoom_in_title",
        "zoom_out_text",
        "zoom_out_title"
       ]
      }
     },
     "6e6316e4e2954184be507d75970ed285": {
      "model_module": "@jupyter-widgets/base",
      "model_module_version": "1.2.0",
      "model_name": "LayoutModel",
      "state": {}
     },
     "6eed799eaccd4e5681c639a0a9c49806": {
      "model_module": "@jupyter-widgets/base",
      "model_module_version": "1.2.0",
      "model_name": "LayoutModel",
      "state": {}
     },
     "6f17cab1e082421b8171c0527087a6a0": {
      "model_module": "jupyter-leaflet",
      "model_module_version": "^0.12.6",
      "model_name": "LeafletMapModel",
      "state": {
       "_model_module_version": "^0.12.6",
       "_view_module_version": "^0.12.6",
       "center": [
        -20,
        -60
       ],
       "controls": [
        "IPY_MODEL_7edb73e753374682830c1ec86305f78e",
        "IPY_MODEL_3d87076f35814525a86f208f269d365e"
       ],
       "default_style": "IPY_MODEL_24c0c3245ab44a76a97fe0c609c3727b",
       "dragging_style": "IPY_MODEL_c192441d14444ce19c37b8ea356f285d",
       "east": 26.367187500000004,
       "fullscreen": false,
       "interpolation": "bilinear",
       "layers": [
        "IPY_MODEL_23dc4714d3ea4d6f9564796b6b6a87f1",
        "IPY_MODEL_0c0bf1c3eb054af3971f26223c12e343"
       ],
       "layout": "IPY_MODEL_1fed352667454f93b51be7dc4c51ee9d",
       "modisdate": "yesterday",
       "north": 14.604847155053898,
       "options": [
        "bounce_at_zoom_limits",
        "box_zoom",
        "center",
        "close_popup_on_click",
        "double_click_zoom",
        "dragging",
        "fullscreen",
        "inertia",
        "inertia_deceleration",
        "inertia_max_speed",
        "interpolation",
        "keyboard",
        "keyboard_pan_offset",
        "keyboard_zoom_offset",
        "max_zoom",
        "min_zoom",
        "scroll_wheel_zoom",
        "tap",
        "tap_tolerance",
        "touch_zoom",
        "world_copy_jump",
        "zoom",
        "zoom_animation_threshold",
        "zoom_start"
       ],
       "south": -48.45835188280866,
       "style": "IPY_MODEL_82254bdb701b466db58558d6dbaccfa6",
       "west": -146.25000000000003,
       "zoom": 3
      }
     },
     "6f39321da30141e7ae20530bf81a6e98": {
      "model_module": "jupyter-leaflet",
      "model_module_version": "^0.12.6",
      "model_name": "LeafletMapModel",
      "state": {
       "_model_module_version": "^0.12.6",
       "_view_module_version": "^0.12.6",
       "center": [
        -20,
        -60
       ],
       "controls": [
        "IPY_MODEL_dd374e1fc64e40ce8941a74d3748bb65",
        "IPY_MODEL_4e46ee0334594f88bcb5452cd67592ab"
       ],
       "default_style": "IPY_MODEL_182a0e0b9f544787b2eb37df13829b5c",
       "dragging_style": "IPY_MODEL_42f9fe8760fd48bb935a3142d22470cf",
       "east": 26.367187500000004,
       "fullscreen": false,
       "interpolation": "bilinear",
       "layers": [
        "IPY_MODEL_a8c2f9a2e6544fbc950a72f4dfb7fab9",
        "IPY_MODEL_55844bdf113a4e46b2b1c8263996a52f",
        "IPY_MODEL_5f4cec21740944cf8968e5bd269c107d"
       ],
       "layout": "IPY_MODEL_6e6316e4e2954184be507d75970ed285",
       "modisdate": "yesterday",
       "north": 14.604847155053898,
       "options": [
        "bounce_at_zoom_limits",
        "box_zoom",
        "center",
        "close_popup_on_click",
        "double_click_zoom",
        "dragging",
        "fullscreen",
        "inertia",
        "inertia_deceleration",
        "inertia_max_speed",
        "interpolation",
        "keyboard",
        "keyboard_pan_offset",
        "keyboard_zoom_offset",
        "max_zoom",
        "min_zoom",
        "scroll_wheel_zoom",
        "tap",
        "tap_tolerance",
        "touch_zoom",
        "world_copy_jump",
        "zoom",
        "zoom_animation_threshold",
        "zoom_start"
       ],
       "south": -48.45835188280866,
       "style": "IPY_MODEL_4b5d8ded16c149c19bc2b4f688a8756d",
       "west": -146.25000000000003,
       "zoom": 3
      }
     },
     "6ff96d67365f43f6826fba022ac633bc": {
      "model_module": "jupyter-leaflet",
      "model_module_version": "^0.12.6",
      "model_name": "LeafletMapModel",
      "state": {
       "_model_module_version": "^0.12.6",
       "_view_module_version": "^0.12.6",
       "center": [
        -20,
        -60
       ],
       "controls": [
        "IPY_MODEL_fb1f71f9d21b4ec786e2af85cc2e5a7b",
        "IPY_MODEL_9781adcc788d4639b0ece232ad3a5f5d"
       ],
       "default_style": "IPY_MODEL_d2fbf07b2ac5429bb9eda86d6b916869",
       "dragging_style": "IPY_MODEL_f25199fdf3f04dd383406d586f634d2d",
       "east": 26.367187500000004,
       "fullscreen": false,
       "interpolation": "bilinear",
       "layers": [
        "IPY_MODEL_ef2730c7f56b416484bdce946f053193",
        "IPY_MODEL_87ce275fc7c94c83b31def8ac4ec21c9"
       ],
       "layout": "IPY_MODEL_26525a4e2d3846aa8c263616ea1d7e49",
       "modisdate": "yesterday",
       "north": 14.604847155053898,
       "options": [
        "bounce_at_zoom_limits",
        "box_zoom",
        "center",
        "close_popup_on_click",
        "double_click_zoom",
        "dragging",
        "fullscreen",
        "inertia",
        "inertia_deceleration",
        "inertia_max_speed",
        "interpolation",
        "keyboard",
        "keyboard_pan_offset",
        "keyboard_zoom_offset",
        "max_zoom",
        "min_zoom",
        "scroll_wheel_zoom",
        "tap",
        "tap_tolerance",
        "touch_zoom",
        "world_copy_jump",
        "zoom",
        "zoom_animation_threshold",
        "zoom_start"
       ],
       "south": -48.45835188280866,
       "style": "IPY_MODEL_4e5d6135fc724497b952a3893ec906de",
       "west": -146.25000000000003,
       "zoom": 3
      }
     },
     "702bb1d2cc4a44f7aec54db28702dbbb": {
      "model_module": "@jupyter-widgets/controls",
      "model_module_version": "1.5.0",
      "model_name": "BoxModel",
      "state": {
       "children": [
        "IPY_MODEL_55c1386d14fc4d73bd891b3f9fd87ebc"
       ],
       "layout": "IPY_MODEL_2d808df3511c4a398711617f1ab1230a"
      }
     },
     "72a8ae2c93fb4621909f62187c9f734b": {
      "model_module": "@jupyter-widgets/controls",
      "model_module_version": "1.5.0",
      "model_name": "BoxModel",
      "state": {
       "children": [
        "IPY_MODEL_41e56528ca0740ef8e7d3ed79eb67958"
       ],
       "layout": "IPY_MODEL_a95f278847b44822a4d98c44e918f616"
      }
     },
     "739ca27cd53b4ea69139a7b414006448": {
      "model_module": "@jupyter-widgets/base",
      "model_module_version": "1.2.0",
      "model_name": "LayoutModel",
      "state": {}
     },
     "7586e4e48c2e4911a870ad2b07e2d8e3": {
      "model_module": "jupyter-leaflet",
      "model_module_version": "^0.12.6",
      "model_name": "LeafletMapStyleModel",
      "state": {
       "_model_module_version": "^0.12.6"
      }
     },
     "75a81e0235a24b12b520e6f2a06234c1": {
      "model_module": "jupyter-leaflet",
      "model_module_version": "^0.12.6",
      "model_name": "LeafletLocalTileLayerModel",
      "state": {
       "_model_module_version": "^0.12.6",
       "_view_module_version": "^0.12.6",
       "max_native_zoom": 18,
       "min_native_zoom": 0,
       "no_wrap": false,
       "options": [
        "attribution",
        "detect_retina",
        "max_native_zoom",
        "max_zoom",
        "min_native_zoom",
        "min_zoom",
        "no_wrap",
        "tile_size",
        "tms"
       ],
       "path": "./xarray_leaflet_tiles/tmph__igc3v/{z}/{x}/{y}.png"
      }
     },
     "760c2b25be1b4dbc95cbb10c49a548fb": {
      "model_module": "@jupyter-widgets/controls",
      "model_module_version": "1.5.0",
      "model_name": "SliderStyleModel",
      "state": {
       "description_width": ""
      }
     },
     "78c8841162de49958c55d3967a342206": {
      "model_module": "@jupyter-widgets/base",
      "model_module_version": "1.2.0",
      "model_name": "LayoutModel",
      "state": {}
     },
     "79f54855fa6b48618701f4e90597ed21": {
      "model_module": "@jupyter-widgets/base",
      "model_module_version": "1.2.0",
      "model_name": "LayoutModel",
      "state": {}
     },
     "7b32bd7e099e4ed588560cad348031a5": {
      "model_module": "jupyter-leaflet",
      "model_module_version": "^0.12.6",
      "model_name": "LeafletMapStyleModel",
      "state": {
       "_model_module_version": "^0.12.6",
       "cursor": "move"
      }
     },
     "7edb73e753374682830c1ec86305f78e": {
      "model_module": "jupyter-leaflet",
      "model_module_version": "^0.12.6",
      "model_name": "LeafletZoomControlModel",
      "state": {
       "_model_module_version": "^0.12.6",
       "_view_module_version": "^0.12.6",
       "options": [
        "position",
        "zoom_in_text",
        "zoom_in_title",
        "zoom_out_text",
        "zoom_out_title"
       ]
      }
     },
     "7f96e314ab194d35bb67e74758759567": {
      "model_module": "jupyter-leaflet",
      "model_module_version": "^0.12.6",
      "model_name": "LeafletZoomControlModel",
      "state": {
       "_model_module_version": "^0.12.6",
       "_view_module_version": "^0.12.6",
       "options": [
        "position",
        "zoom_in_text",
        "zoom_in_title",
        "zoom_out_text",
        "zoom_out_title"
       ]
      }
     },
     "7fc796d939154472b32446971214b8bb": {
      "model_module": "jupyter-leaflet",
      "model_module_version": "^0.12.6",
      "model_name": "LeafletZoomControlModel",
      "state": {
       "_model_module_version": "^0.12.6",
       "_view_module_version": "^0.12.6",
       "options": [
        "position",
        "zoom_in_text",
        "zoom_in_title",
        "zoom_out_text",
        "zoom_out_title"
       ]
      }
     },
     "801828174ec34c6f9e4b71baffc0b6ff": {
      "model_module": "@jupyter-widgets/controls",
      "model_module_version": "1.5.0",
      "model_name": "SliderStyleModel",
      "state": {
       "description_width": ""
      }
     },
     "81e57cb8185b4a378d727d7c95fd5ceb": {
      "model_module": "jupyter-leaflet",
      "model_module_version": "^0.12.6",
      "model_name": "LeafletAttributionControlModel",
      "state": {
       "_model_module_version": "^0.12.6",
       "_view_module_version": "^0.12.6",
       "options": [
        "position",
        "prefix"
       ],
       "position": "bottomright",
       "prefix": "Leaflet"
      }
     },
     "82254bdb701b466db58558d6dbaccfa6": {
      "model_module": "jupyter-leaflet",
      "model_module_version": "^0.12.6",
      "model_name": "LeafletMapStyleModel",
      "state": {
       "_model_module_version": "^0.12.6"
      }
     },
     "82c6f1d43c39442e82e551ffa82c5a64": {
      "model_module": "@jupyter-widgets/controls",
      "model_module_version": "1.5.0",
      "model_name": "BoxModel",
      "state": {
       "children": [
        "IPY_MODEL_ba66a419c3204e16ac2d71e6c1796f97"
       ],
       "layout": "IPY_MODEL_3b2a61da4ec7491ab1238dfb3fee5856"
      }
     },
     "832069ad5f33470c9a5e6ff60657dad1": {
      "model_module": "@jupyter-widgets/controls",
      "model_module_version": "1.5.0",
      "model_name": "SliderStyleModel",
      "state": {
       "description_width": ""
      }
     },
     "838ef4f5fdd04bedae6e22cbdc6d7526": {
      "model_module": "@jupyter-widgets/base",
      "model_module_version": "1.2.0",
      "model_name": "LayoutModel",
      "state": {}
     },
     "87ce275fc7c94c83b31def8ac4ec21c9": {
      "model_module": "jupyter-leaflet",
      "model_module_version": "^0.12.6",
      "model_name": "LeafletLocalTileLayerModel",
      "state": {
       "_model_module_version": "^0.12.6",
       "_view_module_version": "^0.12.6",
       "max_native_zoom": 18,
       "min_native_zoom": 0,
       "no_wrap": false,
       "options": [
        "attribution",
        "detect_retina",
        "max_native_zoom",
        "max_zoom",
        "min_native_zoom",
        "min_zoom",
        "no_wrap",
        "tile_size",
        "tms"
       ],
       "path": "/tiles/var/folders/f8/0034db6d78s5r6m34fxhpk7m0000gp/T/xarray_leaflet_dt4pbvav/{z}/{x}/{y}.png",
       "url": "/tiles/var/folders/f8/0034db6d78s5r6m34fxhpk7m0000gp/T/xarray_leaflet_dt4pbvav/{z}/{x}/{y}.png"
      }
     },
     "8a62049d6b354901a8a59c10c8d40f84": {
      "model_module": "@jupyter-widgets/base",
      "model_module_version": "1.2.0",
      "model_name": "LayoutModel",
      "state": {}
     },
     "8a87923987ca42088a17861404c6ff42": {
      "model_module": "jupyter-leaflet",
      "model_module_version": "^0.12.6",
      "model_name": "LeafletAttributionControlModel",
      "state": {
       "_model_module_version": "^0.12.6",
       "_view_module_version": "^0.12.6",
       "options": [
        "position",
        "prefix"
       ],
       "position": "bottomright",
       "prefix": "Leaflet"
      }
     },
     "8bbc9155335247c889a5720f6402fe96": {
      "model_module": "jupyter-leaflet",
      "model_module_version": "^0.12.6",
      "model_name": "LeafletMapModel",
      "state": {
       "_model_module_version": "^0.12.6",
       "_view_module_version": "^0.12.6",
       "center": [
        -20,
        -60
       ],
       "controls": [
        "IPY_MODEL_ab6c9a56fceb4403987ac0346cbaee56",
        "IPY_MODEL_aace453091dc4b1e8174b75f4dda2837"
       ],
       "default_style": "IPY_MODEL_ba8440309a304f79b2e5cf95b863eaac",
       "dragging_style": "IPY_MODEL_2dfa1387448e4891ac39783bf3c4a460",
       "east": 26.367187500000004,
       "fullscreen": false,
       "interpolation": "bilinear",
       "layers": [
        "IPY_MODEL_a2406d51a3254deda649a8f2ba775dd1"
       ],
       "layout": "IPY_MODEL_b035e652c8244825a0fc43d5014632b3",
       "modisdate": "yesterday",
       "north": 14.604847155053898,
       "options": [
        "bounce_at_zoom_limits",
        "box_zoom",
        "center",
        "close_popup_on_click",
        "double_click_zoom",
        "dragging",
        "fullscreen",
        "inertia",
        "inertia_deceleration",
        "inertia_max_speed",
        "interpolation",
        "keyboard",
        "keyboard_pan_offset",
        "keyboard_zoom_offset",
        "max_zoom",
        "min_zoom",
        "scroll_wheel_zoom",
        "tap",
        "tap_tolerance",
        "touch_zoom",
        "world_copy_jump",
        "zoom",
        "zoom_animation_threshold",
        "zoom_start"
       ],
       "south": -48.45835188280866,
       "style": "IPY_MODEL_021c036fc7414401bf843723dcc4428f",
       "west": -146.25000000000003,
       "zoom": 3
      }
     },
     "8e0ba9bdd3014a85b14860f0957e8ba3": {
      "model_module": "jupyter-leaflet",
      "model_module_version": "^0.12.6",
      "model_name": "LeafletMapStyleModel",
      "state": {
       "_model_module_version": "^0.12.6",
       "cursor": "move"
      }
     },
     "8e0f00c20e764eaaa19b05755266c0f6": {
      "model_module": "jupyter-leaflet",
      "model_module_version": "^0.12.6",
      "model_name": "LeafletMapStyleModel",
      "state": {
       "_model_module_version": "^0.12.6"
      }
     },
     "8fed9900147b4d84b2f944ab19b065f8": {
      "model_module": "jupyter-leaflet",
      "model_module_version": "^0.12.6",
      "model_name": "LeafletTileLayerModel",
      "state": {
       "_model_module_version": "^0.12.6",
       "_view_module_version": "^0.12.6",
       "attribution": "&copy; <a href=\"http://www.openstreetmap.org/copyright\">OpenStreetMap</a> &copy; <a href=\"http://cartodb.com/attributions\">CartoDB</a>",
       "base": true,
       "max_native_zoom": 18,
       "max_zoom": 20,
       "min_native_zoom": 0,
       "min_zoom": 1,
       "name": "CartoDB.Positron",
       "no_wrap": false,
       "options": [
        "attribution",
        "detect_retina",
        "max_native_zoom",
        "max_zoom",
        "min_native_zoom",
        "min_zoom",
        "no_wrap",
        "tile_size",
        "tms"
       ],
       "url": "http://c.basemaps.cartocdn.com/light_all/{z}/{x}/{y}.png"
      }
     },
     "92674fdce790441f98f98ffc02984624": {
      "model_module": "jupyter-leaflet",
      "model_module_version": "^0.12.6",
      "model_name": "LeafletMapStyleModel",
      "state": {
       "_model_module_version": "^0.12.6"
      }
     },
     "9781adcc788d4639b0ece232ad3a5f5d": {
      "model_module": "jupyter-leaflet",
      "model_module_version": "^0.12.6",
      "model_name": "LeafletAttributionControlModel",
      "state": {
       "_model_module_version": "^0.12.6",
       "_view_module_version": "^0.12.6",
       "options": [
        "position",
        "prefix"
       ],
       "position": "bottomright",
       "prefix": "Leaflet"
      }
     },
     "98c5b83929be4db180e2789aab0e8274": {
      "model_module": "@jupyter-widgets/controls",
      "model_module_version": "1.5.0",
      "model_name": "FloatSliderModel",
      "state": {
       "description": "opacity",
       "layout": "IPY_MODEL_78c8841162de49958c55d3967a342206",
       "max": 1,
       "min": 0.1,
       "step": 0.1,
       "style": "IPY_MODEL_d846bb06ca2d42f29e09b2cad8ad145b",
       "value": 1
      }
     },
     "99fa597ee7ce45cfbb79b097c5bb2a2f": {
      "model_module": "jupyter-leaflet",
      "model_module_version": "^0.12.6",
      "model_name": "LeafletAttributionControlModel",
      "state": {
       "_model_module_version": "^0.12.6",
       "_view_module_version": "^0.12.6",
       "options": [
        "position",
        "prefix"
       ],
       "position": "bottomright",
       "prefix": "Leaflet"
      }
     },
     "9d713a4b5a2b462395b15833759ee95c": {
      "model_module": "jupyter-leaflet",
      "model_module_version": "^0.12.6",
      "model_name": "LeafletTileLayerModel",
      "state": {
       "_model_module_version": "^0.12.6",
       "_view_module_version": "^0.12.6",
       "attribution": "&copy; <a href=\"http://www.openstreetmap.org/copyright\">OpenStreetMap</a> &copy; <a href=\"http://cartodb.com/attributions\">CartoDB</a>",
       "base": true,
       "max_native_zoom": 18,
       "max_zoom": 20,
       "min_native_zoom": 0,
       "min_zoom": 1,
       "name": "CartoDB.Positron",
       "no_wrap": false,
       "options": [
        "attribution",
        "detect_retina",
        "max_native_zoom",
        "max_zoom",
        "min_native_zoom",
        "min_zoom",
        "no_wrap",
        "tile_size",
        "tms"
       ],
       "url": "http://c.basemaps.cartocdn.com/light_all/{z}/{x}/{y}.png"
      }
     },
     "a0a286a2a4ab474382b56b7cb9e478bd": {
      "model_module": "jupyter-leaflet",
      "model_module_version": "^0.12.6",
      "model_name": "LeafletMapStyleModel",
      "state": {
       "_model_module_version": "^0.12.6"
      }
     },
     "a10fd294c57c4e649baac6dc2beae3b2": {
      "model_module": "jupyter-leaflet",
      "model_module_version": "^0.12.6",
      "model_name": "LeafletMapModel",
      "state": {
       "_model_module_version": "^0.12.6",
       "_view_module_version": "^0.12.6",
       "center": [
        -20,
        -60
       ],
       "controls": [
        "IPY_MODEL_7fc796d939154472b32446971214b8bb",
        "IPY_MODEL_81e57cb8185b4a378d727d7c95fd5ceb"
       ],
       "default_style": "IPY_MODEL_e3e1439cfea345c19132fb2238728f72",
       "dragging_style": "IPY_MODEL_184d464cafe14dc4be15eafc5836f630",
       "east": 26.367187500000004,
       "fullscreen": false,
       "interpolation": "bilinear",
       "layers": [
        "IPY_MODEL_3bf116cbf4194a7287575275c59a9bf7"
       ],
       "layout": "IPY_MODEL_ef293ede56a34d7c94b31157b9d195d3",
       "modisdate": "yesterday",
       "north": 14.604847155053898,
       "options": [
        "bounce_at_zoom_limits",
        "box_zoom",
        "center",
        "close_popup_on_click",
        "double_click_zoom",
        "dragging",
        "fullscreen",
        "inertia",
        "inertia_deceleration",
        "inertia_max_speed",
        "interpolation",
        "keyboard",
        "keyboard_pan_offset",
        "keyboard_zoom_offset",
        "max_zoom",
        "min_zoom",
        "scroll_wheel_zoom",
        "tap",
        "tap_tolerance",
        "touch_zoom",
        "world_copy_jump",
        "zoom",
        "zoom_animation_threshold",
        "zoom_start"
       ],
       "south": -48.45835188280866,
       "style": "IPY_MODEL_f38ce78a87ff44bf81f369eb51633a57",
       "west": -146.25000000000003,
       "zoom": 3
      }
     },
     "a2321a6c7e514372ac8084c9e182c431": {
      "model_module": "@jupyter-widgets/base",
      "model_module_version": "1.2.0",
      "model_name": "LayoutModel",
      "state": {}
     },
     "a2406d51a3254deda649a8f2ba775dd1": {
      "model_module": "jupyter-leaflet",
      "model_module_version": "^0.12.6",
      "model_name": "LeafletTileLayerModel",
      "state": {
       "_model_module_version": "^0.12.6",
       "_view_module_version": "^0.12.6",
       "attribution": "&copy; <a href=\"http://www.openstreetmap.org/copyright\">OpenStreetMap</a> &copy; <a href=\"http://cartodb.com/attributions\">CartoDB</a>",
       "base": true,
       "max_native_zoom": 18,
       "max_zoom": 20,
       "min_native_zoom": 0,
       "min_zoom": 1,
       "name": "CartoDB.DarkMatter",
       "no_wrap": false,
       "options": [
        "attribution",
        "detect_retina",
        "max_native_zoom",
        "max_zoom",
        "min_native_zoom",
        "min_zoom",
        "no_wrap",
        "tile_size",
        "tms"
       ],
       "url": "http://c.basemaps.cartocdn.com/dark_all/{z}/{x}/{y}.png"
      }
     },
     "a251846c1ebd4024a3c14c270e2c6285": {
      "model_module": "jupyter-leaflet",
      "model_module_version": "^0.12.6",
      "model_name": "LeafletMapStyleModel",
      "state": {
       "_model_module_version": "^0.12.6",
       "cursor": "move"
      }
     },
     "a287f359feea49caa00e76ccf1100d6d": {
      "model_module": "@jupyter-widgets/base",
      "model_module_version": "1.2.0",
      "model_name": "LayoutModel",
      "state": {}
     },
     "a292d7c0fc3c45e5ac745077e3f8ea41": {
      "model_module": "jupyter-leaflet",
      "model_module_version": "^0.12.6",
      "model_name": "LeafletMapStyleModel",
      "state": {
       "_model_module_version": "^0.12.6"
      }
     },
     "a3a95665c27f42c08010cef5bc4f8240": {
      "model_module": "jupyter-leaflet",
      "model_module_version": "^0.12.6",
      "model_name": "LeafletLocalTileLayerModel",
      "state": {
       "_model_module_version": "^0.12.6",
       "_view_module_version": "^0.12.6",
       "max_native_zoom": 18,
       "min_native_zoom": 0,
       "no_wrap": false,
       "options": [
        "attribution",
        "detect_retina",
        "max_native_zoom",
        "max_zoom",
        "min_native_zoom",
        "min_zoom",
        "no_wrap",
        "tile_size",
        "tms"
       ],
       "path": "/tiles/var/folders/f8/0034db6d78s5r6m34fxhpk7m0000gp/T/xarray_leaflet_c9_yi89o/{z}/{x}/{y}.png"
      }
     },
     "a460bae8393e416dac313324bb572353": {
      "model_module": "jupyter-leaflet",
      "model_module_version": "^0.12.6",
      "model_name": "LeafletZoomControlModel",
      "state": {
       "_model_module_version": "^0.12.6",
       "_view_module_version": "^0.12.6",
       "options": [
        "position",
        "zoom_in_text",
        "zoom_in_title",
        "zoom_out_text",
        "zoom_out_title"
       ]
      }
     },
     "a51a9e922b464d1b9b100edc26438883": {
      "model_module": "jupyter-leaflet",
      "model_module_version": "^0.12.6",
      "model_name": "LeafletZoomControlModel",
      "state": {
       "_model_module_version": "^0.12.6",
       "_view_module_version": "^0.12.6",
       "options": [
        "position",
        "zoom_in_text",
        "zoom_in_title",
        "zoom_out_text",
        "zoom_out_title"
       ]
      }
     },
     "a52f462118e744fdafbb1b2d32ba7d23": {
      "model_module": "jupyter-leaflet",
      "model_module_version": "^0.12.6",
      "model_name": "LeafletMapStyleModel",
      "state": {
       "_model_module_version": "^0.12.6"
      }
     },
     "a558b58f0e5949b680ccc7c398e0260a": {
      "model_module": "jupyter-leaflet",
      "model_module_version": "^0.12.6",
      "model_name": "LeafletAttributionControlModel",
      "state": {
       "_model_module_version": "^0.12.6",
       "_view_module_version": "^0.12.6",
       "options": [
        "position",
        "prefix"
       ],
       "position": "bottomright",
       "prefix": "Leaflet"
      }
     },
     "a5e264b8b71c4ce29eb8603388a718aa": {
      "model_module": "jupyter-leaflet",
      "model_module_version": "^0.12.6",
      "model_name": "LeafletZoomControlModel",
      "state": {
       "_model_module_version": "^0.12.6",
       "_view_module_version": "^0.12.6",
       "options": [
        "position",
        "zoom_in_text",
        "zoom_in_title",
        "zoom_out_text",
        "zoom_out_title"
       ]
      }
     },
     "a7eb13d615e64c7e919b9209d5112469": {
      "model_module": "jupyter-leaflet",
      "model_module_version": "^0.12.6",
      "model_name": "LeafletMapStyleModel",
      "state": {
       "_model_module_version": "^0.12.6"
      }
     },
     "a8c2f9a2e6544fbc950a72f4dfb7fab9": {
      "model_module": "jupyter-leaflet",
      "model_module_version": "^0.12.6",
      "model_name": "LeafletTileLayerModel",
      "state": {
       "_model_module_version": "^0.12.6",
       "_view_module_version": "^0.12.6",
       "attribution": "&copy; <a href=\"http://www.openstreetmap.org/copyright\">OpenStreetMap</a> &copy; <a href=\"http://cartodb.com/attributions\">CartoDB</a>",
       "base": true,
       "max_native_zoom": 18,
       "max_zoom": 20,
       "min_native_zoom": 0,
       "min_zoom": 1,
       "name": "CartoDB.Positron",
       "no_wrap": false,
       "options": [
        "attribution",
        "detect_retina",
        "max_native_zoom",
        "max_zoom",
        "min_native_zoom",
        "min_zoom",
        "no_wrap",
        "tile_size",
        "tms"
       ],
       "url": "http://c.basemaps.cartocdn.com/light_all/{z}/{x}/{y}.png"
      }
     },
     "a922615c95e34126a4ad70043b92a37e": {
      "model_module": "@jupyter-widgets/base",
      "model_module_version": "1.2.0",
      "model_name": "LayoutModel",
      "state": {}
     },
     "a95f278847b44822a4d98c44e918f616": {
      "model_module": "@jupyter-widgets/base",
      "model_module_version": "1.2.0",
      "model_name": "LayoutModel",
      "state": {}
     },
     "aace453091dc4b1e8174b75f4dda2837": {
      "model_module": "jupyter-leaflet",
      "model_module_version": "^0.12.6",
      "model_name": "LeafletAttributionControlModel",
      "state": {
       "_model_module_version": "^0.12.6",
       "_view_module_version": "^0.12.6",
       "options": [
        "position",
        "prefix"
       ],
       "position": "bottomright",
       "prefix": "Leaflet"
      }
     },
     "ab4eba89eb4146e192f8335fae592ef7": {
      "model_module": "jupyter-leaflet",
      "model_module_version": "^0.12.6",
      "model_name": "LeafletMapStyleModel",
      "state": {
       "_model_module_version": "^0.12.6"
      }
     },
     "ab6c9a56fceb4403987ac0346cbaee56": {
      "model_module": "jupyter-leaflet",
      "model_module_version": "^0.12.6",
      "model_name": "LeafletZoomControlModel",
      "state": {
       "_model_module_version": "^0.12.6",
       "_view_module_version": "^0.12.6",
       "options": [
        "position",
        "zoom_in_text",
        "zoom_in_title",
        "zoom_out_text",
        "zoom_out_title"
       ]
      }
     },
     "ab7939367b05486fbffdd6e6f2437988": {
      "model_module": "jupyter-leaflet",
      "model_module_version": "^0.12.6",
      "model_name": "LeafletMapStyleModel",
      "state": {
       "_model_module_version": "^0.12.6",
       "cursor": "move"
      }
     },
     "abea57b4e61e4d4788eb314b7e6f1f79": {
      "model_module": "jupyter-leaflet",
      "model_module_version": "^0.12.6",
      "model_name": "LeafletMapStyleModel",
      "state": {
       "_model_module_version": "^0.12.6"
      }
     },
     "afeaa8311fde44d19003db2b1620ffbe": {
      "model_module": "jupyter-leaflet",
      "model_module_version": "^0.12.6",
      "model_name": "LeafletMapStyleModel",
      "state": {
       "_model_module_version": "^0.12.6",
       "cursor": "move"
      }
     },
     "b035e652c8244825a0fc43d5014632b3": {
      "model_module": "@jupyter-widgets/base",
      "model_module_version": "1.2.0",
      "model_name": "LayoutModel",
      "state": {}
     },
     "b03eca4c72fa457e9c155ff6afc3606a": {
      "model_module": "@jupyter-widgets/controls",
      "model_module_version": "1.5.0",
      "model_name": "BoxModel",
      "state": {
       "children": [
        "IPY_MODEL_55b2c93444bf436fafd4ebcccbeeba1f"
       ],
       "layout": "IPY_MODEL_a287f359feea49caa00e76ccf1100d6d"
      }
     },
     "b0f0919c5df64c318fe3e5b6331fa780": {
      "model_module": "jupyter-leaflet",
      "model_module_version": "^0.12.6",
      "model_name": "LeafletLocalTileLayerModel",
      "state": {
       "_model_module_version": "^0.12.6",
       "_view_module_version": "^0.12.6",
       "max_native_zoom": 18,
       "min_native_zoom": 0,
       "no_wrap": false,
       "options": [
        "attribution",
        "detect_retina",
        "max_native_zoom",
        "max_zoom",
        "min_native_zoom",
        "min_zoom",
        "no_wrap",
        "tile_size",
        "tms"
       ],
       "path": "./xarray_leaflet_tiles/tmp66du8l5l/{z}/{x}/{y}.png"
      }
     },
     "b480996de45944b5a5535f5fefda083f": {
      "model_module": "@jupyter-widgets/controls",
      "model_module_version": "1.5.0",
      "model_name": "BoxModel",
      "state": {
       "children": [
        "IPY_MODEL_dc08e5dab071490a859cf32d244f203c"
       ],
       "layout": "IPY_MODEL_f02f143eb8424ed18096b3082e7a1468"
      }
     },
     "b62ba27149954db18f2c811973e39b20": {
      "model_module": "jupyter-leaflet",
      "model_module_version": "^0.12.6",
      "model_name": "LeafletMapModel",
      "state": {
       "_model_module_version": "^0.12.6",
       "_view_module_version": "^0.12.6",
       "center": [
        -20,
        -60
       ],
       "controls": [
        "IPY_MODEL_340c77b997424e84a5d046c222b14d5d",
        "IPY_MODEL_99fa597ee7ce45cfbb79b097c5bb2a2f"
       ],
       "default_style": "IPY_MODEL_92674fdce790441f98f98ffc02984624",
       "dragging_style": "IPY_MODEL_cb20f50ffbeb47d4ad594cd253d8e9b5",
       "east": 26.367187500000004,
       "fullscreen": false,
       "interpolation": "bilinear",
       "layers": [
        "IPY_MODEL_56f3fc5ff42e4aa4bbd6438362457b12"
       ],
       "layout": "IPY_MODEL_a2321a6c7e514372ac8084c9e182c431",
       "modisdate": "yesterday",
       "north": 14.604847155053898,
       "options": [
        "bounce_at_zoom_limits",
        "box_zoom",
        "center",
        "close_popup_on_click",
        "double_click_zoom",
        "dragging",
        "fullscreen",
        "inertia",
        "inertia_deceleration",
        "inertia_max_speed",
        "interpolation",
        "keyboard",
        "keyboard_pan_offset",
        "keyboard_zoom_offset",
        "max_zoom",
        "min_zoom",
        "scroll_wheel_zoom",
        "tap",
        "tap_tolerance",
        "touch_zoom",
        "world_copy_jump",
        "zoom",
        "zoom_animation_threshold",
        "zoom_start"
       ],
       "south": -48.45835188280866,
       "style": "IPY_MODEL_abea57b4e61e4d4788eb314b7e6f1f79",
       "west": -146.25000000000003,
       "zoom": 3
      }
     },
     "b6b0379f71b542d89e94aff0c7dd8945": {
      "model_module": "jupyter-leaflet",
      "model_module_version": "^0.12.6",
      "model_name": "LeafletLocalTileLayerModel",
      "state": {
       "_model_module_version": "^0.12.6",
       "_view_module_version": "^0.12.6",
       "max_native_zoom": 18,
       "min_native_zoom": 0,
       "no_wrap": false,
       "options": [
        "attribution",
        "detect_retina",
        "max_native_zoom",
        "max_zoom",
        "min_native_zoom",
        "min_zoom",
        "no_wrap",
        "tile_size",
        "tms"
       ],
       "path": "./xarray_leaflet_tiles/tmpvy45cwd5/{z}/{x}/{y}.png"
      }
     },
     "b7b0adb6bb7d48eeb801b6f5ac1034ca": {
      "model_module": "jupyter-leaflet",
      "model_module_version": "^0.12.6",
      "model_name": "LeafletMapStyleModel",
      "state": {
       "_model_module_version": "^0.12.6"
      }
     },
     "b92dcffa0294435286c7c62a11032cf6": {
      "model_module": "@jupyter-widgets/controls",
      "model_module_version": "1.5.0",
      "model_name": "SliderStyleModel",
      "state": {
       "description_width": ""
      }
     },
     "ba66a419c3204e16ac2d71e6c1796f97": {
      "model_module": "@jupyter-widgets/controls",
      "model_module_version": "1.5.0",
      "model_name": "FloatSliderModel",
      "state": {
       "description": "opacity",
       "layout": "IPY_MODEL_838ef4f5fdd04bedae6e22cbdc6d7526",
       "max": 1,
       "step": 0.1,
       "style": "IPY_MODEL_832069ad5f33470c9a5e6ff60657dad1",
       "value": 1
      }
     },
     "ba8440309a304f79b2e5cf95b863eaac": {
      "model_module": "jupyter-leaflet",
      "model_module_version": "^0.12.6",
      "model_name": "LeafletMapStyleModel",
      "state": {
       "_model_module_version": "^0.12.6"
      }
     },
     "bdd8ea43bbc14b3ba49cef3e29029fd1": {
      "model_module": "jupyter-leaflet",
      "model_module_version": "^0.12.6",
      "model_name": "LeafletMapStyleModel",
      "state": {
       "_model_module_version": "^0.12.6",
       "cursor": "move"
      }
     },
     "c11e8cc1e25a483d9c7217d671ce2d20": {
      "model_module": "jupyter-leaflet",
      "model_module_version": "^0.12.6",
      "model_name": "LeafletMapStyleModel",
      "state": {
       "_model_module_version": "^0.12.6"
      }
     },
     "c192441d14444ce19c37b8ea356f285d": {
      "model_module": "jupyter-leaflet",
      "model_module_version": "^0.12.6",
      "model_name": "LeafletMapStyleModel",
      "state": {
       "_model_module_version": "^0.12.6",
       "cursor": "move"
      }
     },
     "c21fed95103942d38e2ea86465f60225": {
      "model_module": "@jupyter-widgets/base",
      "model_module_version": "1.2.0",
      "model_name": "LayoutModel",
      "state": {}
     },
     "c397c2f36db54b8d98162e2e26a848d4": {
      "model_module": "jupyter-leaflet",
      "model_module_version": "^0.12.6",
      "model_name": "LeafletMapStyleModel",
      "state": {
       "_model_module_version": "^0.12.6"
      }
     },
     "c3e716944ded4aa58fbf64320ceee03f": {
      "model_module": "jupyter-leaflet",
      "model_module_version": "^0.12.6",
      "model_name": "LeafletLocalTileLayerModel",
      "state": {
       "_model_module_version": "^0.12.6",
       "_view_module_version": "^0.12.6",
       "max_native_zoom": 18,
       "min_native_zoom": 0,
       "no_wrap": false,
       "options": [
        "attribution",
        "detect_retina",
        "max_native_zoom",
        "max_zoom",
        "min_native_zoom",
        "min_zoom",
        "no_wrap",
        "tile_size",
        "tms"
       ],
       "path": "./xarray_leaflet_tiles/tmppv8veedw/{z}/{x}/{y}.png"
      }
     },
     "c508b1c1cda84611a73173bebb8a89b2": {
      "model_module": "@jupyter-widgets/base",
      "model_module_version": "1.2.0",
      "model_name": "LayoutModel",
      "state": {}
     },
     "c57c7f3582d14eb59fe85df84037396b": {
      "model_module": "jupyter-leaflet",
      "model_module_version": "^0.12.6",
      "model_name": "LeafletMapStyleModel",
      "state": {
       "_model_module_version": "^0.12.6"
      }
     },
     "c7de89eff44f47adbf66d231e2ad5f96": {
      "model_module": "@jupyter-widgets/base",
      "model_module_version": "1.2.0",
      "model_name": "LayoutModel",
      "state": {}
     },
     "c85146754f614163a13611f5466ef040": {
      "model_module": "jupyter-leaflet",
      "model_module_version": "^0.12.6",
      "model_name": "LeafletMapStyleModel",
      "state": {
       "_model_module_version": "^0.12.6"
      }
     },
     "cb20f50ffbeb47d4ad594cd253d8e9b5": {
      "model_module": "jupyter-leaflet",
      "model_module_version": "^0.12.6",
      "model_name": "LeafletMapStyleModel",
      "state": {
       "_model_module_version": "^0.12.6",
       "cursor": "move"
      }
     },
     "cde3b111b2a04adba06b7cd19eed8b5a": {
      "model_module": "@jupyter-widgets/controls",
      "model_module_version": "1.5.0",
      "model_name": "BoxModel",
      "state": {
       "children": [
        "IPY_MODEL_0ab01a4aa8884315aa36bc9fbfad5b8e"
       ],
       "layout": "IPY_MODEL_5d550ce93efa484baaa1387c7893b54f"
      }
     },
     "cde60991aa7941f1b6e6e53e92438efc": {
      "model_module": "jupyter-leaflet",
      "model_module_version": "^0.12.6",
      "model_name": "LeafletZoomControlModel",
      "state": {
       "_model_module_version": "^0.12.6",
       "_view_module_version": "^0.12.6",
       "options": [
        "position",
        "zoom_in_text",
        "zoom_in_title",
        "zoom_out_text",
        "zoom_out_title"
       ]
      }
     },
     "cea646f01c3040ad973abb965cfce58e": {
      "model_module": "jupyter-leaflet",
      "model_module_version": "^0.12.6",
      "model_name": "LeafletAttributionControlModel",
      "state": {
       "_model_module_version": "^0.12.6",
       "_view_module_version": "^0.12.6",
       "options": [
        "position",
        "prefix"
       ],
       "position": "bottomright",
       "prefix": "Leaflet"
      }
     },
     "d0868a92e0f946f3ad77b63c20114b3e": {
      "model_module": "jupyter-leaflet",
      "model_module_version": "^0.12.6",
      "model_name": "LeafletLocalTileLayerModel",
      "state": {
       "_model_module_version": "^0.12.6",
       "_view_module_version": "^0.12.6",
       "max_native_zoom": 18,
       "min_native_zoom": 0,
       "no_wrap": false,
       "options": [
        "attribution",
        "detect_retina",
        "max_native_zoom",
        "max_zoom",
        "min_native_zoom",
        "min_zoom",
        "no_wrap",
        "tile_size",
        "tms"
       ],
       "path": "./xarray_leaflet_tiles/tmp7im_45f6/{z}/{x}/{y}.png"
      }
     },
     "d09d27dea5154eea90d86c9dddabff2a": {
      "model_module": "jupyter-leaflet",
      "model_module_version": "^0.12.6",
      "model_name": "LeafletMapStyleModel",
      "state": {
       "_model_module_version": "^0.12.6"
      }
     },
     "d0b40e4d5b32489497ef24baeebfa018": {
      "model_module": "jupyter-leaflet",
      "model_module_version": "^0.12.6",
      "model_name": "LeafletMapModel",
      "state": {
       "_model_module_version": "^0.12.6",
       "_view_module_version": "^0.12.6",
       "center": [
        -20,
        -60
       ],
       "controls": [
        "IPY_MODEL_f0723004ad354cf7a0f4ac90b073c944",
        "IPY_MODEL_19295a705b3540a0bacbdf1e5b4e0a21"
       ],
       "default_style": "IPY_MODEL_d6e4d8d86f7e457d905422c2ad47d4d5",
       "dragging_style": "IPY_MODEL_bdd8ea43bbc14b3ba49cef3e29029fd1",
       "east": 26.367187500000004,
       "fullscreen": false,
       "interpolation": "bilinear",
       "layers": [
        "IPY_MODEL_de4470967e714e8aa1972a1f0fca515d"
       ],
       "layout": "IPY_MODEL_490dfd671a534acb8f5e4f3767e8c9b6",
       "modisdate": "yesterday",
       "north": 14.604847155053898,
       "options": [
        "bounce_at_zoom_limits",
        "box_zoom",
        "center",
        "close_popup_on_click",
        "double_click_zoom",
        "dragging",
        "fullscreen",
        "inertia",
        "inertia_deceleration",
        "inertia_max_speed",
        "interpolation",
        "keyboard",
        "keyboard_pan_offset",
        "keyboard_zoom_offset",
        "max_zoom",
        "min_zoom",
        "scroll_wheel_zoom",
        "tap",
        "tap_tolerance",
        "touch_zoom",
        "world_copy_jump",
        "zoom",
        "zoom_animation_threshold",
        "zoom_start"
       ],
       "south": -48.45835188280866,
       "style": "IPY_MODEL_f5fb1f31e17a4aa1ba4450965f982a0a",
       "west": -146.25000000000003,
       "zoom": 3
      }
     },
     "d0ee75317d8f4fe194ccb2d644a426b0": {
      "model_module": "@jupyter-widgets/controls",
      "model_module_version": "1.5.0",
      "model_name": "BoxModel",
      "state": {
       "children": [
        "IPY_MODEL_98c5b83929be4db180e2789aab0e8274"
       ],
       "layout": "IPY_MODEL_c7de89eff44f47adbf66d231e2ad5f96"
      }
     },
     "d193b832c31e4b759daef76efeacbc4e": {
      "model_module": "@jupyter-widgets/controls",
      "model_module_version": "1.5.0",
      "model_name": "FloatSliderModel",
      "state": {
       "description": "opacity",
       "layout": "IPY_MODEL_65befc5f443947a490a66fb2f4091751",
       "max": 1,
       "step": 0.1,
       "style": "IPY_MODEL_3220ccf74f2d428c9d0178447adcb6ec",
       "value": 1
      }
     },
     "d2fbf07b2ac5429bb9eda86d6b916869": {
      "model_module": "jupyter-leaflet",
      "model_module_version": "^0.12.6",
      "model_name": "LeafletMapStyleModel",
      "state": {
       "_model_module_version": "^0.12.6"
      }
     },
     "d5e8bf560b61425c9e15429e92c53424": {
      "model_module": "jupyter-leaflet",
      "model_module_version": "^0.12.6",
      "model_name": "LeafletTileLayerModel",
      "state": {
       "_model_module_version": "^0.12.6",
       "_view_module_version": "^0.12.6",
       "attribution": "&copy; <a href=\"http://www.openstreetmap.org/copyright\">OpenStreetMap</a> &copy; <a href=\"http://cartodb.com/attributions\">CartoDB</a>",
       "base": true,
       "max_native_zoom": 18,
       "max_zoom": 20,
       "min_native_zoom": 0,
       "min_zoom": 1,
       "name": "CartoDB.DarkMatter",
       "no_wrap": false,
       "options": [
        "attribution",
        "detect_retina",
        "max_native_zoom",
        "max_zoom",
        "min_native_zoom",
        "min_zoom",
        "no_wrap",
        "tile_size",
        "tms"
       ],
       "url": "http://c.basemaps.cartocdn.com/dark_all/{z}/{x}/{y}.png"
      }
     },
     "d637ebd749364a048e5ce92766b7c655": {
      "model_module": "jupyter-leaflet",
      "model_module_version": "^0.12.6",
      "model_name": "LeafletLocalTileLayerModel",
      "state": {
       "_model_module_version": "^0.12.6",
       "_view_module_version": "^0.12.6",
       "max_native_zoom": 18,
       "min_native_zoom": 0,
       "no_wrap": false,
       "options": [
        "attribution",
        "detect_retina",
        "max_native_zoom",
        "max_zoom",
        "min_native_zoom",
        "min_zoom",
        "no_wrap",
        "tile_size",
        "tms"
       ],
       "path": "./xarray_leaflet_tiles/tmp5ltwxbk2/{z}/{x}/{y}.png"
      }
     },
     "d6e4d8d86f7e457d905422c2ad47d4d5": {
      "model_module": "jupyter-leaflet",
      "model_module_version": "^0.12.6",
      "model_name": "LeafletMapStyleModel",
      "state": {
       "_model_module_version": "^0.12.6"
      }
     },
     "d846bb06ca2d42f29e09b2cad8ad145b": {
      "model_module": "@jupyter-widgets/controls",
      "model_module_version": "1.5.0",
      "model_name": "SliderStyleModel",
      "state": {
       "description_width": ""
      }
     },
     "d8ccddc591e24ebe935eba351dcf1369": {
      "model_module": "jupyter-leaflet",
      "model_module_version": "^0.12.6",
      "model_name": "LeafletZoomControlModel",
      "state": {
       "_model_module_version": "^0.12.6",
       "_view_module_version": "^0.12.6",
       "options": [
        "position",
        "zoom_in_text",
        "zoom_in_title",
        "zoom_out_text",
        "zoom_out_title"
       ]
      }
     },
     "d9f53f8af902417ea0d593729600f1fd": {
      "model_module": "jupyter-leaflet",
      "model_module_version": "^0.12.6",
      "model_name": "LeafletMapStyleModel",
      "state": {
       "_model_module_version": "^0.12.6"
      }
     },
     "da17bd752fc64b22b2fa855b4b379354": {
      "model_module": "jupyter-leaflet",
      "model_module_version": "^0.12.6",
      "model_name": "LeafletMapStyleModel",
      "state": {
       "_model_module_version": "^0.12.6"
      }
     },
     "db8b28dd4f184fe5a769c2b3d87a35ba": {
      "model_module": "jupyter-leaflet",
      "model_module_version": "^0.12.6",
      "model_name": "LeafletLocalTileLayerModel",
      "state": {
       "_model_module_version": "^0.12.6",
       "_view_module_version": "^0.12.6",
       "max_native_zoom": 18,
       "min_native_zoom": 0,
       "no_wrap": false,
       "options": [
        "attribution",
        "detect_retina",
        "max_native_zoom",
        "max_zoom",
        "min_native_zoom",
        "min_zoom",
        "no_wrap",
        "tile_size",
        "tms"
       ],
       "path": "./xarray_leaflet_tiles/tmp623onuw8/{z}/{x}/{y}.png"
      }
     },
     "dc08e5dab071490a859cf32d244f203c": {
      "model_module": "@jupyter-widgets/controls",
      "model_module_version": "1.5.0",
      "model_name": "FloatSliderModel",
      "state": {
       "description": "opacity",
       "layout": "IPY_MODEL_79f54855fa6b48618701f4e90597ed21",
       "max": 1,
       "step": 0.1,
       "style": "IPY_MODEL_3a4bae64cd484c1780ee93575eb1aadb",
       "value": 1
      }
     },
     "dcc058bf816940ed918de08fdf06a9f5": {
      "model_module": "jupyter-leaflet",
      "model_module_version": "^0.12.6",
      "model_name": "LeafletMapModel",
      "state": {
       "_model_module_version": "^0.12.6",
       "_view_module_version": "^0.12.6",
       "center": [
        -20,
        -60
       ],
       "controls": [
        "IPY_MODEL_1db3da6440284b7281be2b902c461dd1",
        "IPY_MODEL_8a87923987ca42088a17861404c6ff42"
       ],
       "default_style": "IPY_MODEL_a292d7c0fc3c45e5ac745077e3f8ea41",
       "dragging_style": "IPY_MODEL_4ed74ce8199f4d4aaf97983a3752797e",
       "fullscreen": false,
       "interpolation": "bilinear",
       "layers": [
        "IPY_MODEL_177af9087b894d0eb0f61e53e13e6789"
       ],
       "layout": "IPY_MODEL_5a5e52f01bc546ea9a9f7cbaabc20849",
       "modisdate": "yesterday",
       "options": [
        "bounce_at_zoom_limits",
        "box_zoom",
        "center",
        "close_popup_on_click",
        "double_click_zoom",
        "dragging",
        "fullscreen",
        "inertia",
        "inertia_deceleration",
        "inertia_max_speed",
        "interpolation",
        "keyboard",
        "keyboard_pan_offset",
        "keyboard_zoom_offset",
        "max_zoom",
        "min_zoom",
        "scroll_wheel_zoom",
        "tap",
        "tap_tolerance",
        "touch_zoom",
        "world_copy_jump",
        "zoom",
        "zoom_animation_threshold",
        "zoom_start"
       ],
       "style": "IPY_MODEL_d9f53f8af902417ea0d593729600f1fd",
       "zoom": 3
      }
     },
     "dd0c049f84ba4258a1aec460244a5c6c": {
      "model_module": "jupyter-leaflet",
      "model_module_version": "^0.12.6",
      "model_name": "LeafletLocalTileLayerModel",
      "state": {
       "_model_module_version": "^0.12.6",
       "_view_module_version": "^0.12.6",
       "max_native_zoom": 18,
       "min_native_zoom": 0,
       "no_wrap": false,
       "options": [
        "attribution",
        "detect_retina",
        "max_native_zoom",
        "max_zoom",
        "min_native_zoom",
        "min_zoom",
        "no_wrap",
        "tile_size",
        "tms"
       ],
       "path": "./xarray_leaflet_tiles/tmpmicqrze0/{z}/{x}/{y}.png",
       "url": "./xarray_leaflet_tiles/tmpmicqrze0/{z}/{x}/{y}.png"
      }
     },
     "dd374e1fc64e40ce8941a74d3748bb65": {
      "model_module": "jupyter-leaflet",
      "model_module_version": "^0.12.6",
      "model_name": "LeafletZoomControlModel",
      "state": {
       "_model_module_version": "^0.12.6",
       "_view_module_version": "^0.12.6",
       "options": [
        "position",
        "zoom_in_text",
        "zoom_in_title",
        "zoom_out_text",
        "zoom_out_title"
       ]
      }
     },
     "dd952f6393da44b2a905fe011586b336": {
      "model_module": "jupyter-leaflet",
      "model_module_version": "^0.12.6",
      "model_name": "LeafletMapModel",
      "state": {
       "_model_module_version": "^0.12.6",
       "_view_module_version": "^0.12.6",
       "center": [
        -20,
        -60
       ],
       "controls": [
        "IPY_MODEL_a51a9e922b464d1b9b100edc26438883",
        "IPY_MODEL_52a092cc1ccb44a683561ac7c34cad89"
       ],
       "default_style": "IPY_MODEL_a0a286a2a4ab474382b56b7cb9e478bd",
       "dragging_style": "IPY_MODEL_0280f5b77ab24118aff7ca3ee04d325e",
       "east": 26.367187500000004,
       "fullscreen": false,
       "interpolation": "bilinear",
       "layers": [
        "IPY_MODEL_d5e8bf560b61425c9e15429e92c53424"
       ],
       "layout": "IPY_MODEL_c508b1c1cda84611a73173bebb8a89b2",
       "modisdate": "yesterday",
       "north": 14.604847155053898,
       "options": [
        "bounce_at_zoom_limits",
        "box_zoom",
        "center",
        "close_popup_on_click",
        "double_click_zoom",
        "dragging",
        "fullscreen",
        "inertia",
        "inertia_deceleration",
        "inertia_max_speed",
        "interpolation",
        "keyboard",
        "keyboard_pan_offset",
        "keyboard_zoom_offset",
        "max_zoom",
        "min_zoom",
        "scroll_wheel_zoom",
        "tap",
        "tap_tolerance",
        "touch_zoom",
        "world_copy_jump",
        "zoom",
        "zoom_animation_threshold",
        "zoom_start"
       ],
       "south": -48.45835188280866,
       "style": "IPY_MODEL_a7eb13d615e64c7e919b9209d5112469",
       "west": -146.25000000000003,
       "zoom": 3
      }
     },
     "de4470967e714e8aa1972a1f0fca515d": {
      "model_module": "jupyter-leaflet",
      "model_module_version": "^0.12.6",
      "model_name": "LeafletTileLayerModel",
      "state": {
       "_model_module_version": "^0.12.6",
       "_view_module_version": "^0.12.6",
       "attribution": "&copy; <a href=\"http://www.openstreetmap.org/copyright\">OpenStreetMap</a> &copy; <a href=\"http://cartodb.com/attributions\">CartoDB</a>",
       "base": true,
       "max_native_zoom": 18,
       "max_zoom": 20,
       "min_native_zoom": 0,
       "min_zoom": 1,
       "name": "CartoDB.Positron",
       "no_wrap": false,
       "options": [
        "attribution",
        "detect_retina",
        "max_native_zoom",
        "max_zoom",
        "min_native_zoom",
        "min_zoom",
        "no_wrap",
        "tile_size",
        "tms"
       ],
       "url": "http://c.basemaps.cartocdn.com/light_all/{z}/{x}/{y}.png"
      }
     },
     "e02a2a94ada14a62867936f61e7c31e1": {
      "model_module": "jupyter-leaflet",
      "model_module_version": "^0.12.6",
      "model_name": "LeafletMapStyleModel",
      "state": {
       "_model_module_version": "^0.12.6"
      }
     },
     "e14c694ad3ef4054bf7b642ae877170f": {
      "model_module": "jupyter-leaflet",
      "model_module_version": "^0.12.6",
      "model_name": "LeafletLocalTileLayerModel",
      "state": {
       "_model_module_version": "^0.12.6",
       "_view_module_version": "^0.12.6",
       "max_native_zoom": 18,
       "min_native_zoom": 0,
       "no_wrap": false,
       "options": [
        "attribution",
        "detect_retina",
        "max_native_zoom",
        "max_zoom",
        "min_native_zoom",
        "min_zoom",
        "no_wrap",
        "tile_size",
        "tms"
       ],
       "path": "./xarray_leaflet_tiles/tmpoom_w10q/{z}/{x}/{y}.png"
      }
     },
     "e1667f124b2c430cb8d2a0f7df05af97": {
      "model_module": "jupyter-leaflet",
      "model_module_version": "^0.12.6",
      "model_name": "LeafletTileLayerModel",
      "state": {
       "_model_module_version": "^0.12.6",
       "_view_module_version": "^0.12.6",
       "attribution": "&copy; <a href=\"http://www.openstreetmap.org/copyright\">OpenStreetMap</a> &copy; <a href=\"http://cartodb.com/attributions\">CartoDB</a>",
       "base": true,
       "max_native_zoom": 18,
       "max_zoom": 20,
       "min_native_zoom": 0,
       "min_zoom": 1,
       "name": "CartoDB.DarkMatter",
       "no_wrap": false,
       "options": [
        "attribution",
        "detect_retina",
        "max_native_zoom",
        "max_zoom",
        "min_native_zoom",
        "min_zoom",
        "no_wrap",
        "tile_size",
        "tms"
       ],
       "url": "http://c.basemaps.cartocdn.com/dark_all/{z}/{x}/{y}.png"
      }
     },
     "e32cd36ff73f47119175b4ccdab05c3f": {
      "model_module": "jupyter-leaflet",
      "model_module_version": "^0.12.6",
      "model_name": "LeafletLocalTileLayerModel",
      "state": {
       "_model_module_version": "^0.12.6",
       "_view_module_version": "^0.12.6",
       "max_native_zoom": 18,
       "min_native_zoom": 0,
       "no_wrap": false,
       "options": [
        "attribution",
        "detect_retina",
        "max_native_zoom",
        "max_zoom",
        "min_native_zoom",
        "min_zoom",
        "no_wrap",
        "tile_size",
        "tms"
       ],
       "path": "./xarray_leaflet_tiles/tmp4_kad3w4/{z}/{x}/{y}.png"
      }
     },
     "e38ac3dcdc0b4e789b3df6edf30b9146": {
      "model_module": "jupyter-leaflet",
      "model_module_version": "^0.12.6",
      "model_name": "LeafletTileLayerModel",
      "state": {
       "_model_module_version": "^0.12.6",
       "_view_module_version": "^0.12.6",
       "attribution": "&copy; <a href=\"http://www.openstreetmap.org/copyright\">OpenStreetMap</a> &copy; <a href=\"http://cartodb.com/attributions\">CartoDB</a>",
       "base": true,
       "max_native_zoom": 18,
       "max_zoom": 20,
       "min_native_zoom": 0,
       "min_zoom": 1,
       "name": "CartoDB.DarkMatter",
       "no_wrap": false,
       "options": [
        "attribution",
        "detect_retina",
        "max_native_zoom",
        "max_zoom",
        "min_native_zoom",
        "min_zoom",
        "no_wrap",
        "tile_size",
        "tms"
       ],
       "url": "http://c.basemaps.cartocdn.com/dark_all/{z}/{x}/{y}.png"
      }
     },
     "e3e1439cfea345c19132fb2238728f72": {
      "model_module": "jupyter-leaflet",
      "model_module_version": "^0.12.6",
      "model_name": "LeafletMapStyleModel",
      "state": {
       "_model_module_version": "^0.12.6"
      }
     },
     "e659afc000fc44d598eb1344d70f9162": {
      "model_module": "jupyter-leaflet",
      "model_module_version": "^0.12.6",
      "model_name": "LeafletMapStyleModel",
      "state": {
       "_model_module_version": "^0.12.6"
      }
     },
     "ed6fc955b37341ef9efa82806f2b3975": {
      "model_module": "jupyter-leaflet",
      "model_module_version": "^0.12.6",
      "model_name": "LeafletZoomControlModel",
      "state": {
       "_model_module_version": "^0.12.6",
       "_view_module_version": "^0.12.6",
       "options": [
        "position",
        "zoom_in_text",
        "zoom_in_title",
        "zoom_out_text",
        "zoom_out_title"
       ]
      }
     },
     "eebce7cf31774a09b2f775f08fc096d1": {
      "model_module": "jupyter-leaflet",
      "model_module_version": "^0.12.6",
      "model_name": "LeafletLocalTileLayerModel",
      "state": {
       "_model_module_version": "^0.12.6",
       "_view_module_version": "^0.12.6",
       "max_native_zoom": 18,
       "min_native_zoom": 0,
       "no_wrap": false,
       "opacity": 0.1,
       "options": [
        "attribution",
        "detect_retina",
        "max_native_zoom",
        "max_zoom",
        "min_native_zoom",
        "min_zoom",
        "no_wrap",
        "tile_size",
        "tms"
       ],
       "path": "/tiles/var/folders/f8/0034db6d78s5r6m34fxhpk7m0000gp/T/xarray_leaflet_vnfntrdt/{z}/{x}/{y}.png",
       "url": "/tiles/var/folders/f8/0034db6d78s5r6m34fxhpk7m0000gp/T/xarray_leaflet_vnfntrdt/{z}/{x}/{y}.png"
      }
     },
     "ef2730c7f56b416484bdce946f053193": {
      "model_module": "jupyter-leaflet",
      "model_module_version": "^0.12.6",
      "model_name": "LeafletTileLayerModel",
      "state": {
       "_model_module_version": "^0.12.6",
       "_view_module_version": "^0.12.6",
       "attribution": "&copy; <a href=\"http://www.openstreetmap.org/copyright\">OpenStreetMap</a> &copy; <a href=\"http://cartodb.com/attributions\">CartoDB</a>",
       "base": true,
       "max_native_zoom": 18,
       "max_zoom": 20,
       "min_native_zoom": 0,
       "min_zoom": 1,
       "name": "CartoDB.DarkMatter",
       "no_wrap": false,
       "options": [
        "attribution",
        "detect_retina",
        "max_native_zoom",
        "max_zoom",
        "min_native_zoom",
        "min_zoom",
        "no_wrap",
        "tile_size",
        "tms"
       ],
       "url": "http://c.basemaps.cartocdn.com/dark_all/{z}/{x}/{y}.png"
      }
     },
     "ef293ede56a34d7c94b31157b9d195d3": {
      "model_module": "@jupyter-widgets/base",
      "model_module_version": "1.2.0",
      "model_name": "LayoutModel",
      "state": {}
     },
     "efdf9048f56c41be90140069d613017c": {
      "model_module": "@jupyter-widgets/base",
      "model_module_version": "1.2.0",
      "model_name": "LayoutModel",
      "state": {}
     },
     "f02f143eb8424ed18096b3082e7a1468": {
      "model_module": "@jupyter-widgets/base",
      "model_module_version": "1.2.0",
      "model_name": "LayoutModel",
      "state": {}
     },
     "f063a5cf862a459d9d0499fd6f95962e": {
      "model_module": "jupyter-leaflet",
      "model_module_version": "^0.12.6",
      "model_name": "LeafletMapModel",
      "state": {
       "_model_module_version": "^0.12.6",
       "_view_module_version": "^0.12.6",
       "center": [
        -20,
        -60
       ],
       "controls": [
        "IPY_MODEL_f67d53baac6b4a88840224ba030633fe",
        "IPY_MODEL_1b238359e36b4634b4e28f162bedaeec"
       ],
       "default_style": "IPY_MODEL_3f7391ebf9234de0936d0bc0cd23a8fc",
       "dragging_style": "IPY_MODEL_53655aa9b6e1473986000c5689cf4ecc",
       "east": 26.367187500000004,
       "fullscreen": false,
       "interpolation": "bilinear",
       "layers": [
        "IPY_MODEL_5d7d79f38dbe4b509c9b2e719e473ef4"
       ],
       "layout": "IPY_MODEL_6eed799eaccd4e5681c639a0a9c49806",
       "modisdate": "yesterday",
       "north": 14.604847155053898,
       "options": [
        "bounce_at_zoom_limits",
        "box_zoom",
        "center",
        "close_popup_on_click",
        "double_click_zoom",
        "dragging",
        "fullscreen",
        "inertia",
        "inertia_deceleration",
        "inertia_max_speed",
        "interpolation",
        "keyboard",
        "keyboard_pan_offset",
        "keyboard_zoom_offset",
        "max_zoom",
        "min_zoom",
        "scroll_wheel_zoom",
        "tap",
        "tap_tolerance",
        "touch_zoom",
        "world_copy_jump",
        "zoom",
        "zoom_animation_threshold",
        "zoom_start"
       ],
       "south": -48.45835188280866,
       "style": "IPY_MODEL_c85146754f614163a13611f5466ef040",
       "west": -146.25000000000003,
       "zoom": 3
      }
     },
     "f0723004ad354cf7a0f4ac90b073c944": {
      "model_module": "jupyter-leaflet",
      "model_module_version": "^0.12.6",
      "model_name": "LeafletZoomControlModel",
      "state": {
       "_model_module_version": "^0.12.6",
       "_view_module_version": "^0.12.6",
       "options": [
        "position",
        "zoom_in_text",
        "zoom_in_title",
        "zoom_out_text",
        "zoom_out_title"
       ]
      }
     },
     "f25199fdf3f04dd383406d586f634d2d": {
      "model_module": "jupyter-leaflet",
      "model_module_version": "^0.12.6",
      "model_name": "LeafletMapStyleModel",
      "state": {
       "_model_module_version": "^0.12.6",
       "cursor": "move"
      }
     },
     "f38ce78a87ff44bf81f369eb51633a57": {
      "model_module": "jupyter-leaflet",
      "model_module_version": "^0.12.6",
      "model_name": "LeafletMapStyleModel",
      "state": {
       "_model_module_version": "^0.12.6"
      }
     },
     "f5fb1f31e17a4aa1ba4450965f982a0a": {
      "model_module": "jupyter-leaflet",
      "model_module_version": "^0.12.6",
      "model_name": "LeafletMapStyleModel",
      "state": {
       "_model_module_version": "^0.12.6"
      }
     },
     "f631912be23a436988311b68f7ecaf30": {
      "model_module": "jupyter-leaflet",
      "model_module_version": "^0.12.6",
      "model_name": "LeafletMapModel",
      "state": {
       "_model_module_version": "^0.12.6",
       "_view_module_version": "^0.12.6",
       "center": [
        -20,
        -60
       ],
       "controls": [
        "IPY_MODEL_0a78b17534224420adf6b95ee1a2a928",
        "IPY_MODEL_312d317e9a534d798857b09c65824238"
       ],
       "default_style": "IPY_MODEL_8e0f00c20e764eaaa19b05755266c0f6",
       "dragging_style": "IPY_MODEL_ab7939367b05486fbffdd6e6f2437988",
       "east": 26.367187500000004,
       "fullscreen": false,
       "interpolation": "bilinear",
       "layers": [
        "IPY_MODEL_154f23eb20354be998ccc728ef103379"
       ],
       "layout": "IPY_MODEL_2498fc49dca54896a07ed83217f34ee1",
       "modisdate": "yesterday",
       "north": 14.604847155053898,
       "options": [
        "bounce_at_zoom_limits",
        "box_zoom",
        "center",
        "close_popup_on_click",
        "double_click_zoom",
        "dragging",
        "fullscreen",
        "inertia",
        "inertia_deceleration",
        "inertia_max_speed",
        "interpolation",
        "keyboard",
        "keyboard_pan_offset",
        "keyboard_zoom_offset",
        "max_zoom",
        "min_zoom",
        "scroll_wheel_zoom",
        "tap",
        "tap_tolerance",
        "touch_zoom",
        "world_copy_jump",
        "zoom",
        "zoom_animation_threshold",
        "zoom_start"
       ],
       "south": -48.45835188280866,
       "style": "IPY_MODEL_c11e8cc1e25a483d9c7217d671ce2d20",
       "west": -146.25000000000003,
       "zoom": 3
      }
     },
     "f67d53baac6b4a88840224ba030633fe": {
      "model_module": "jupyter-leaflet",
      "model_module_version": "^0.12.6",
      "model_name": "LeafletZoomControlModel",
      "state": {
       "_model_module_version": "^0.12.6",
       "_view_module_version": "^0.12.6",
       "options": [
        "position",
        "zoom_in_text",
        "zoom_in_title",
        "zoom_out_text",
        "zoom_out_title"
       ]
      }
     },
     "f8681e15e65d4f9dad1a1152068831a8": {
      "model_module": "jupyter-leaflet",
      "model_module_version": "^0.12.6",
      "model_name": "LeafletMapModel",
      "state": {
       "_model_module_version": "^0.12.6",
       "_view_module_version": "^0.12.6",
       "center": [
        -20,
        -60
       ],
       "controls": [
        "IPY_MODEL_7f96e314ab194d35bb67e74758759567",
        "IPY_MODEL_a558b58f0e5949b680ccc7c398e0260a"
       ],
       "default_style": "IPY_MODEL_b7b0adb6bb7d48eeb801b6f5ac1034ca",
       "dragging_style": "IPY_MODEL_55af7fd8d953416192905657840a4232",
       "east": 26.367187500000004,
       "fullscreen": false,
       "interpolation": "bilinear",
       "layers": [
        "IPY_MODEL_28d084231ccf43d89e29b8fc5ad94f98",
        "IPY_MODEL_23581d67ea954e22bacd39d540869087"
       ],
       "layout": "IPY_MODEL_509c8e3814864cd5a94db307b19d199f",
       "modisdate": "yesterday",
       "north": 14.604847155053898,
       "options": [
        "bounce_at_zoom_limits",
        "box_zoom",
        "center",
        "close_popup_on_click",
        "double_click_zoom",
        "dragging",
        "fullscreen",
        "inertia",
        "inertia_deceleration",
        "inertia_max_speed",
        "interpolation",
        "keyboard",
        "keyboard_pan_offset",
        "keyboard_zoom_offset",
        "max_zoom",
        "min_zoom",
        "scroll_wheel_zoom",
        "tap",
        "tap_tolerance",
        "touch_zoom",
        "world_copy_jump",
        "zoom",
        "zoom_animation_threshold",
        "zoom_start"
       ],
       "south": -48.45835188280866,
       "style": "IPY_MODEL_ab4eba89eb4146e192f8335fae592ef7",
       "west": -146.25000000000003,
       "zoom": 3
      }
     },
     "fb18cbc556044d7d8e84c77c83d55727": {
      "model_module": "jupyter-leaflet",
      "model_module_version": "^0.12.6",
      "model_name": "LeafletLocalTileLayerModel",
      "state": {
       "_model_module_version": "^0.12.6",
       "_view_module_version": "^0.12.6",
       "max_native_zoom": 18,
       "min_native_zoom": 0,
       "no_wrap": false,
       "opacity": 0.7,
       "options": [
        "attribution",
        "detect_retina",
        "max_native_zoom",
        "max_zoom",
        "min_native_zoom",
        "min_zoom",
        "no_wrap",
        "tile_size",
        "tms"
       ],
       "path": "/tiles/var/folders/f8/0034db6d78s5r6m34fxhpk7m0000gp/T/xarray_leaflet_1bapv1yq/{z}/{x}/{y}.png",
       "url": "/tiles/var/folders/f8/0034db6d78s5r6m34fxhpk7m0000gp/T/xarray_leaflet_1bapv1yq/{z}/{x}/{y}.png"
      }
     },
     "fb1f71f9d21b4ec786e2af85cc2e5a7b": {
      "model_module": "jupyter-leaflet",
      "model_module_version": "^0.12.6",
      "model_name": "LeafletZoomControlModel",
      "state": {
       "_model_module_version": "^0.12.6",
       "_view_module_version": "^0.12.6",
       "options": [
        "position",
        "zoom_in_text",
        "zoom_in_title",
        "zoom_out_text",
        "zoom_out_title"
       ]
      }
     },
     "fba7515856174b15816ad438bf0390a4": {
      "model_module": "@jupyter-widgets/base",
      "model_module_version": "1.2.0",
      "model_name": "LayoutModel",
      "state": {}
     },
     "fc2e046589f949549b8398d5095d77e6": {
      "model_module": "@jupyter-widgets/base",
      "model_module_version": "1.2.0",
      "model_name": "LayoutModel",
      "state": {}
     },
     "fd13e6df6fbc4c93964a8d79374109ca": {
      "model_module": "jupyter-leaflet",
      "model_module_version": "^0.12.6",
      "model_name": "LeafletTileLayerModel",
      "state": {
       "_model_module_version": "^0.12.6",
       "_view_module_version": "^0.12.6",
       "attribution": "&copy; <a href=\"http://www.openstreetmap.org/copyright\">OpenStreetMap</a> &copy; <a href=\"http://cartodb.com/attributions\">CartoDB</a>",
       "base": true,
       "max_native_zoom": 18,
       "max_zoom": 20,
       "min_native_zoom": 0,
       "min_zoom": 1,
       "name": "CartoDB.DarkMatter",
       "no_wrap": false,
       "options": [
        "attribution",
        "detect_retina",
        "max_native_zoom",
        "max_zoom",
        "min_native_zoom",
        "min_zoom",
        "no_wrap",
        "tile_size",
        "tms"
       ],
       "url": "http://c.basemaps.cartocdn.com/dark_all/{z}/{x}/{y}.png"
      }
     },
     "fd1bc4b2298c4576800aaa61cf297487": {
      "model_module": "jupyter-leaflet",
      "model_module_version": "^0.12.6",
      "model_name": "LeafletAttributionControlModel",
      "state": {
       "_model_module_version": "^0.12.6",
       "_view_module_version": "^0.12.6",
       "options": [
        "position",
        "prefix"
       ],
       "position": "bottomright",
       "prefix": "Leaflet"
      }
     },
     "ff2f5953bbe2406bb74b5b45952e65f0": {
      "model_module": "@jupyter-widgets/base",
      "model_module_version": "1.2.0",
      "model_name": "LayoutModel",
      "state": {}
     },
     "ff8b2b0f1b7943c98f9dc19d3241dccb": {
      "model_module": "jupyter-leaflet",
      "model_module_version": "^0.12.6",
      "model_name": "LeafletAttributionControlModel",
      "state": {
       "_model_module_version": "^0.12.6",
       "_view_module_version": "^0.12.6",
       "options": [
        "position",
        "prefix"
       ],
       "position": "bottomright",
       "prefix": "Leaflet"
      }
     }
    },
    "version_major": 2,
    "version_minor": 0
   }
  }
 },
 "nbformat": 4,
 "nbformat_minor": 4
}
