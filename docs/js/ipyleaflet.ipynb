{
 "cells": [
  {
   "cell_type": "markdown",
   "metadata": {},
   "source": [
    "# ipyleaflet"
   ]
  },
  {
   "cell_type": "code",
   "execution_count": null,
   "metadata": {},
   "outputs": [],
   "source": [
    "from __future__ import print_function\n",
    "from ipyleaflet import *"
   ]
  },
  {
   "cell_type": "code",
   "execution_count": null,
   "metadata": {},
   "outputs": [],
   "source": [
    "m = Map(center=(48, 8), zoom=8, basemap=basemaps.Hydda.Full)\n",
    "m"
   ]
  },
  {
   "cell_type": "code",
   "execution_count": null,
   "metadata": {},
   "outputs": [],
   "source": [
    "strata_all = basemap_to_tiles(basemaps.Strava.All)\n",
    "m.add_layer(strata_all)"
   ]
  },
  {
   "cell_type": "code",
   "execution_count": null,
   "metadata": {},
   "outputs": [],
   "source": [
    "from ipywidgets import Label\n",
    "\n",
    "label = Label()\n",
    "display(label)\n",
    "\n",
    "def handle_interaction(**kwargs):\n",
    "    if kwargs.get('type') == 'mousemove':\n",
    "        label.value = str(kwargs.get('coordinates'))\n",
    "\n",
    "m.on_interaction(handle_interaction)"
   ]
  },
  {
   "cell_type": "code",
   "execution_count": null,
   "metadata": {},
   "outputs": [],
   "source": [
    "strata_water = basemap_to_tiles(basemaps.Strava.Water)\n",
    "m.substitute_layer(strata_all, strata_water)"
   ]
  },
  {
   "cell_type": "code",
   "execution_count": null,
   "metadata": {},
   "outputs": [],
   "source": [
    "import json\n",
    "from geojson import GeoJSON\n",
    "\n",
    "with open('./europe_110.geo.json') as f:\n",
    "    data = json.load(f)\n",
    "for feature in data['features']:\n",
    "    feature['properties']['style'] = {\n",
    "        'color': 'grey',\n",
    "        'weight': 1,\n",
    "        'fillColor': 'grey',\n",
    "        'fillOpacity': 0.5\n",
    "    }\n",
    "geo = GeoJSON(data=data, hover_style={'fillColor': 'red'}, name='Countries')\n",
    "m.add_layer(geo)"
   ]
  },
  {
   "cell_type": "code",
   "execution_count": null,
   "metadata": {},
   "outputs": [],
   "source": [
    "m.add_control(LayersControl())"
   ]
  },
  {
   "cell_type": "code",
   "execution_count": null,
   "metadata": {},
   "outputs": [],
   "source": [
    "import ipywidgets\n",
    " \n",
    "ipywidgets.HBox([m, Map(center=[48.0, 7.9], zoom=10)])"
   ]
  },
  {
   "cell_type": "markdown",
   "metadata": {},
   "source": [
    "## WMS-Layer\n",
    "\n",
    "Mit ipyleaflet lassen sich auch eigene [WMS](https://de.wikipedia.org/wiki/Web_Map_Service)-Layer definiern. Üblicherweise werden Optionen wie `layers`, `format` und `transparent` in der Request-URL übergeben. Wenn ihr  zusätzliche Parameter benötigt, könnt ihr diese jedoch auch in eigenen WMSLayer-Klassen definieren. Im folgenden wird beispielsweise ein Zeitparameter hinzugefügt, indem ein benutzerdefinierter `TimeWMSLayer` definiert wird."
   ]
  },
  {
   "cell_type": "markdown",
   "metadata": {},
   "source": [
    "### Beispiel für einen eigenen WMS-Layer"
   ]
  },
  {
   "cell_type": "code",
   "execution_count": null,
   "metadata": {},
   "outputs": [],
   "source": [
    "from ipyleaflet import Map, WMSLayer, basemaps\n",
    "from traitlets import Unicode\n",
    "\n",
    "class TimeWMSLayer(WMSLayer):\n",
    "    time = Unicode('').tag(sync=True, o=True)\n",
    "\n",
    "time_wms = TimeWMSLayer(\n",
    "    url='https://mesonet.agron.iastate.edu/cgi-bin/wms/nexrad/n0r-t.cgi?',\n",
    "    layers='nexrad-n0r-wmst',\n",
    "    time='2005-08-29T13:00:00Z',\n",
    "    format='image/png',\n",
    "    transparent=True,\n",
    "    attribution='Weather data © 2012 IEM Nexrad'\n",
    ")\n",
    "\n",
    "m = Map(basemap=basemaps.CartoDB.Positron, center=(30.661, -88.645), zoom=5)\n",
    "\n",
    "m.add_layer(time_wms)\n",
    "\n",
    "m"
   ]
  },
  {
   "cell_type": "markdown",
   "metadata": {},
   "source": [
    "Da es sich um ein Widget handelt, könnt ihr den WMS-Parameter `time_wms.time` auch einfachändern:"
   ]
  },
  {
   "cell_type": "code",
   "execution_count": null,
   "metadata": {},
   "outputs": [],
   "source": [
    "time_wms.time = '2005-08-29T19:00'"
   ]
  },
  {
   "cell_type": "markdown",
   "metadata": {},
   "source": [
    "Oder ihr könnt einen Slider mit passenden Zeitintervallen definieren:"
   ]
  },
  {
   "cell_type": "code",
   "execution_count": null,
   "metadata": {},
   "outputs": [],
   "source": [
    "from ipywidgets import SelectionSlider\n",
    "\n",
    "time_options = [\n",
    "    '13:00', '13:30',\n",
    "    '14:00', '14:30',\n",
    "    '15:00', '15:30',\n",
    "    '16:00', '16:30'\n",
    "]\n",
    "\n",
    "slider = SelectionSlider(description='Time:', options=time_options)\n",
    "\n",
    "def update_wms(change):\n",
    "    time_wms.time = '2005-08-29T{}'.format(slider.value)\n",
    "\n",
    "slider.observe(update_wms, 'value')\n",
    "\n",
    "slider"
   ]
  },
  {
   "cell_type": "markdown",
   "metadata": {},
   "source": [
    "### WMS-Layer-Attribute\n",
    "\n",
    "| Attribute | Standardwert | Kommentar |\n",
    "| :-------- | :----------- | :-------- |\n",
    "| `url` | `\"https://{s}.tile.openstreetmap.org/{z}/{x}/{y}.png\"` |  |\n",
    "| `min_zoom` | `0` |  |\n",
    "| `max_zoom` | `18` |  |\n",
    "| `tile_size` | `256` |  |\n",
    "| `attribution` | `\"Map data (c) <a href='https://openstreetmap.org'>OpenStreetMap</a> contributors\"` |  |\n",
    "| `detect_retina` | `False` |  |\n",
    "| `opacity` | `1.0` |  |\n",
    "| `visible` | `True` |  |\n",
    "| `service` | `\"WMS\"` |  |\n",
    "| `request` | `\"GetMap\"` |  |\n",
    "| `layers` | `\"\"` | Kommagetrennte Liste der anzuzeigenden WMS-Ebenen |\n",
    "| `styles` | `\"\"` | Kommagetrennte Liste der WMS-Stile |\n",
    "| `format` | `\"image/jpeg\"` | Für Ebenen mit Transparenz solltet ihr `\"image/png\"` verwenden |\n",
    "| `transparent` | `False` |  |\n",
    "| `version` | `\"1.1.1\"` | Version des zu verwendenden WMS-Dienstes |\n",
    "| `crs` | `\"\"` |  |\n"
   ]
  },
  {
   "cell_type": "markdown",
   "metadata": {},
   "source": [
    "## Siehe auch\n",
    "\n",
    "* [ipyleaflet: Interactive maps in the Jupyter notebook](https://ipyleaflet.readthedocs.io/en/latest/)"
   ]
  }
 ],
 "metadata": {
  "language_info": {
   "name": "python",
   "pygments_lexer": "ipython3"
  }
 },
 "nbformat": 4,
 "nbformat_minor": 2
}
