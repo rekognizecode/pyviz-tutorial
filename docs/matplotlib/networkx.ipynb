{
 "cells": [
  {
   "cell_type": "markdown",
   "metadata": {},
   "source": [
    "# NetworkX"
   ]
  },
  {
   "cell_type": "markdown",
   "metadata": {},
   "source": [
    "## Beispiel\n",
    "\n",
    "Im folgenden Beispiel erstellen wir eine einfache Benutzeroberfläche zum Erkunden von Zufallsgraphen mit [NetworkX](https://networkx.github.io/documentation/)."
   ]
  },
  {
   "cell_type": "code",
   "execution_count": 1,
   "metadata": {},
   "outputs": [],
   "source": [
    "from ipywidgets import interact"
   ]
  },
  {
   "cell_type": "code",
   "execution_count": 2,
   "metadata": {},
   "outputs": [],
   "source": [
    "%matplotlib inline\n",
    "import matplotlib.pyplot as plt"
   ]
  },
  {
   "cell_type": "code",
   "execution_count": 3,
   "metadata": {},
   "outputs": [],
   "source": [
    "import networkx as nx"
   ]
  },
  {
   "cell_type": "code",
   "execution_count": 4,
   "metadata": {},
   "outputs": [],
   "source": [
    "# wrap a few graph generation functions so they have the same signature\n",
    "\n",
    "def random_lobster(n, m, k, p):\n",
    "    return nx.random_lobster(n, p, p / m)\n",
    "\n",
    "def powerlaw_cluster(n, m, k, p):\n",
    "    return nx.powerlaw_cluster_graph(n, m, p)\n",
    "\n",
    "def erdos_renyi(n, m, k, p):\n",
    "    return nx.erdos_renyi_graph(n, p)\n",
    "\n",
    "def newman_watts_strogatz(n, m, k, p):\n",
    "    return nx.newman_watts_strogatz_graph(n, k, p)\n",
    "\n",
    "def plot_random_graph(n, m, k, p, generator):\n",
    "    g = generator(n, m, k, p)\n",
    "    nx.draw(g)\n",
    "    plt.show()"
   ]
  },
  {
   "cell_type": "code",
   "execution_count": 5,
   "metadata": {},
   "outputs": [
    {
     "data": {
      "application/vnd.jupyter.widget-view+json": {
       "model_id": "fa3ccbb2c34c4d6f8103fceede7c3a25",
       "version_major": 2,
       "version_minor": 0
      },
      "text/plain": [
       "interactive(children=(IntSlider(value=16, description='n', max=30, min=2), IntSlider(value=5, description='m',…"
      ]
     },
     "metadata": {},
     "output_type": "display_data"
    }
   ],
   "source": [
    "interact(plot_random_graph, n=(2,30), m=(1,10), k=(1,10), p=(0.0, 1.0, 0.001),\n",
    "         generator={\n",
    "             'lobster': random_lobster,\n",
    "             'power law': powerlaw_cluster,\n",
    "             'Newman-Watts-Strogatz': newman_watts_strogatz,\n",
    "             u'Erdős-Rényi': erdos_renyi,\n",
    "         });"
   ]
  },
  {
   "cell_type": "markdown",
   "metadata": {},
   "source": [
    "## Graphviz\n",
    "\n",
    "Graphviz kann auf zweierlei Arten verwendet werden:\n",
    "\n",
    "* zusammen mit Matplotlib und [pygraphviz](http://pygraphviz.github.io/), siehe [Drawing NetworkX with Matplotlib](https://networkx.github.io/documentation/stable/reference/drawing.html#module-networkx.drawing.nx_pylab)\n",
    "* zusammen mit Graphviz AGraph, siehe [Drawing NetworkX with Graphviz AGraph](https://networkx.github.io/documentation/stable/reference/drawing.html#module-networkx.drawing.nx_agraph)"
   ]
  }
 ],
 "metadata": {
  "kernelspec": {
   "display_name": "Python 3.7.4",
   "language": "python",
   "name": "python-374"
  },
  "language_info": {
   "codemirror_mode": {
    "name": "ipython",
    "version": 3
   },
   "file_extension": ".py",
   "mimetype": "text/x-python",
   "name": "python",
   "nbconvert_exporter": "python",
   "pygments_lexer": "ipython3",
   "version": "3.7.4"
  },
  "latex_envs": {
   "LaTeX_envs_menu_present": true,
   "autoclose": false,
   "autocomplete": true,
   "bibliofile": "biblio.bib",
   "cite_by": "apalike",
   "current_citInitial": 1,
   "eqLabelWithNumbers": true,
   "eqNumInitial": 1,
   "hotkeys": {
    "equation": "Ctrl-E",
    "itemize": "Ctrl-I"
   },
   "labels_anchors": false,
   "latex_user_defs": false,
   "report_style_numbering": false,
   "user_envs_cfg": false
  },
  "widgets": {
   "application/vnd.jupyter.widget-state+json": {
    "state": {
     "003b74936a0944d9b8167455911da2a0": {
      "model_module": "@jupyter-widgets/controls",
      "model_module_version": "1.5.0",
      "model_name": "SliderStyleModel",
      "state": {
       "description_width": ""
      }
     },
     "0920871db9234152867ce8f57742bfc1": {
      "model_module": "@jupyter-widgets/base",
      "model_module_version": "1.2.0",
      "model_name": "LayoutModel",
      "state": {}
     },
     "0961f057b4e94b20853d1f9690d016a4": {
      "model_module": "@jupyter-widgets/controls",
      "model_module_version": "1.5.0",
      "model_name": "IntSliderModel",
      "state": {
       "description": "n",
       "layout": "IPY_MODEL_5f9023d8c935433aa4f7387cdb4f200f",
       "max": 30,
       "min": 2,
       "style": "IPY_MODEL_d19faefb3e9f4fb28d589938ed86afef",
       "value": 16
      }
     },
     "0fde4739410f4aca96d005441fa016a0": {
      "model_module": "@jupyter-widgets/base",
      "model_module_version": "1.2.0",
      "model_name": "LayoutModel",
      "state": {}
     },
     "113eef23e55649cd8be271c5d8203548": {
      "model_module": "@jupyter-widgets/output",
      "model_module_version": "1.0.0",
      "model_name": "OutputModel",
      "state": {
       "layout": "IPY_MODEL_e4705a15fabb412794de37b9e09848cf",
       "outputs": [
        {
         "data": {
          "image/png": "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\n",
          "text/plain": "<Figure size 432x288 with 1 Axes>"
         },
         "metadata": {},
         "output_type": "display_data"
        }
       ]
      }
     },
     "1225e73d7f49415c93a20146b8ad163e": {
      "model_module": "@jupyter-widgets/controls",
      "model_module_version": "1.5.0",
      "model_name": "DropdownModel",
      "state": {
       "_options_labels": [
        "lobster",
        "power law",
        "Newman-Watts-Strogatz",
        "Erdős-Rényi"
       ],
       "description": "generator",
       "index": 0,
       "layout": "IPY_MODEL_c8f1db1eeaf44f219e9ae591349636bc",
       "style": "IPY_MODEL_847a92a838204728a8c375a24bd60c9f"
      }
     },
     "171f5f88cdd34c4ab89a1fed974897d3": {
      "model_module": "@jupyter-widgets/output",
      "model_module_version": "1.0.0",
      "model_name": "OutputModel",
      "state": {
       "layout": "IPY_MODEL_d46f11e05bb74affbf853cba8d4e314e",
       "outputs": [
        {
         "data": {
          "image/png": "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\n",
          "text/plain": "<Figure size 432x288 with 1 Axes>"
         },
         "metadata": {},
         "output_type": "display_data"
        }
       ]
      }
     },
     "1907794a6a39476d97ad5b1100631f09": {
      "model_module": "@jupyter-widgets/base",
      "model_module_version": "1.2.0",
      "model_name": "LayoutModel",
      "state": {}
     },
     "1ce10e45f1d74988b9fc366ad4277c7b": {
      "model_module": "@jupyter-widgets/controls",
      "model_module_version": "1.5.0",
      "model_name": "SliderStyleModel",
      "state": {
       "description_width": ""
      }
     },
     "299879dad0e94189852fdd57c0b8df05": {
      "model_module": "@jupyter-widgets/controls",
      "model_module_version": "1.5.0",
      "model_name": "FloatSliderModel",
      "state": {
       "description": "p",
       "layout": "IPY_MODEL_0fde4739410f4aca96d005441fa016a0",
       "max": 1,
       "step": 0.001,
       "style": "IPY_MODEL_98feeb90e7db4894bce7eb6f8827caee",
       "value": 0.5
      }
     },
     "2f5ba61758c342c0a27cb3109cb468d5": {
      "model_module": "@jupyter-widgets/controls",
      "model_module_version": "1.5.0",
      "model_name": "SliderStyleModel",
      "state": {
       "description_width": ""
      }
     },
     "3616951e888d4b94bfbfad5a6036ddb6": {
      "model_module": "@jupyter-widgets/controls",
      "model_module_version": "1.5.0",
      "model_name": "IntSliderModel",
      "state": {
       "description": "m",
       "layout": "IPY_MODEL_1907794a6a39476d97ad5b1100631f09",
       "max": 10,
       "min": 1,
       "style": "IPY_MODEL_822b8744e2364137b26461450ff4702e",
       "value": 5
      }
     },
     "52d3c2f7498b435b966973628a7bc9f3": {
      "model_module": "@jupyter-widgets/controls",
      "model_module_version": "1.5.0",
      "model_name": "FloatSliderModel",
      "state": {
       "description": "p",
       "layout": "IPY_MODEL_54c2f1c0496f432a8552aaec711350dd",
       "max": 1,
       "step": 0.001,
       "style": "IPY_MODEL_2f5ba61758c342c0a27cb3109cb468d5",
       "value": 0.5
      }
     },
     "54c2f1c0496f432a8552aaec711350dd": {
      "model_module": "@jupyter-widgets/base",
      "model_module_version": "1.2.0",
      "model_name": "LayoutModel",
      "state": {}
     },
     "5f9023d8c935433aa4f7387cdb4f200f": {
      "model_module": "@jupyter-widgets/base",
      "model_module_version": "1.2.0",
      "model_name": "LayoutModel",
      "state": {}
     },
     "6b5cf30641124e9aae353c0a2a63a9e5": {
      "model_module": "@jupyter-widgets/base",
      "model_module_version": "1.2.0",
      "model_name": "LayoutModel",
      "state": {}
     },
     "6d50a1b8648e4e379424524e22b1c252": {
      "model_module": "@jupyter-widgets/base",
      "model_module_version": "1.2.0",
      "model_name": "LayoutModel",
      "state": {}
     },
     "73b0fcdb35fa401882435c6a88336fa7": {
      "model_module": "@jupyter-widgets/controls",
      "model_module_version": "1.5.0",
      "model_name": "SliderStyleModel",
      "state": {
       "description_width": ""
      }
     },
     "777713b4608c4a5ebde5db8ddc0bb703": {
      "model_module": "@jupyter-widgets/controls",
      "model_module_version": "1.5.0",
      "model_name": "VBoxModel",
      "state": {
       "_dom_classes": [
        "widget-interact"
       ],
       "children": [
        "IPY_MODEL_7bf989eda0dc49d69805a2b057b2d7b3",
        "IPY_MODEL_97783f6e076d4f5bbb1f6ad5f347d4df",
        "IPY_MODEL_aa14b0529a0a4643a40e75b0d30fb9ff",
        "IPY_MODEL_299879dad0e94189852fdd57c0b8df05",
        "IPY_MODEL_1225e73d7f49415c93a20146b8ad163e",
        "IPY_MODEL_113eef23e55649cd8be271c5d8203548"
       ],
       "layout": "IPY_MODEL_9fc1567428ae4e99b13c239a8dafa6b8"
      }
     },
     "7bf989eda0dc49d69805a2b057b2d7b3": {
      "model_module": "@jupyter-widgets/controls",
      "model_module_version": "1.5.0",
      "model_name": "IntSliderModel",
      "state": {
       "description": "n",
       "layout": "IPY_MODEL_ffe6c3468e9843d096f298a383be5039",
       "max": 30,
       "min": 2,
       "style": "IPY_MODEL_fb5428d1ffde44cea887dbbe7cdc6e0c",
       "value": 16
      }
     },
     "7e4b9cc4509f4711b5400a2a3cce7f66": {
      "model_module": "@jupyter-widgets/controls",
      "model_module_version": "1.5.0",
      "model_name": "DropdownModel",
      "state": {
       "_options_labels": [
        "lobster",
        "power law",
        "Newman-Watts-Strogatz",
        "Erdős-Rényi"
       ],
       "description": "generator",
       "index": 0,
       "layout": "IPY_MODEL_6d50a1b8648e4e379424524e22b1c252",
       "style": "IPY_MODEL_b31709d15eaa4e38a59d137464cf15c1"
      }
     },
     "822b8744e2364137b26461450ff4702e": {
      "model_module": "@jupyter-widgets/controls",
      "model_module_version": "1.5.0",
      "model_name": "SliderStyleModel",
      "state": {
       "description_width": ""
      }
     },
     "847a92a838204728a8c375a24bd60c9f": {
      "model_module": "@jupyter-widgets/controls",
      "model_module_version": "1.5.0",
      "model_name": "DescriptionStyleModel",
      "state": {
       "description_width": ""
      }
     },
     "97783f6e076d4f5bbb1f6ad5f347d4df": {
      "model_module": "@jupyter-widgets/controls",
      "model_module_version": "1.5.0",
      "model_name": "IntSliderModel",
      "state": {
       "description": "m",
       "layout": "IPY_MODEL_0920871db9234152867ce8f57742bfc1",
       "max": 10,
       "min": 1,
       "style": "IPY_MODEL_003b74936a0944d9b8167455911da2a0",
       "value": 5
      }
     },
     "98feeb90e7db4894bce7eb6f8827caee": {
      "model_module": "@jupyter-widgets/controls",
      "model_module_version": "1.5.0",
      "model_name": "SliderStyleModel",
      "state": {
       "description_width": ""
      }
     },
     "9bf9947e68154575b6e3edb7ccce68c8": {
      "model_module": "@jupyter-widgets/base",
      "model_module_version": "1.2.0",
      "model_name": "LayoutModel",
      "state": {}
     },
     "9fc1567428ae4e99b13c239a8dafa6b8": {
      "model_module": "@jupyter-widgets/base",
      "model_module_version": "1.2.0",
      "model_name": "LayoutModel",
      "state": {}
     },
     "aa14b0529a0a4643a40e75b0d30fb9ff": {
      "model_module": "@jupyter-widgets/controls",
      "model_module_version": "1.5.0",
      "model_name": "IntSliderModel",
      "state": {
       "description": "k",
       "layout": "IPY_MODEL_6b5cf30641124e9aae353c0a2a63a9e5",
       "max": 10,
       "min": 1,
       "style": "IPY_MODEL_1ce10e45f1d74988b9fc366ad4277c7b",
       "value": 5
      }
     },
     "abb8440ea3d943359283e44c39e783e9": {
      "model_module": "@jupyter-widgets/base",
      "model_module_version": "1.2.0",
      "model_name": "LayoutModel",
      "state": {}
     },
     "b31709d15eaa4e38a59d137464cf15c1": {
      "model_module": "@jupyter-widgets/controls",
      "model_module_version": "1.5.0",
      "model_name": "DescriptionStyleModel",
      "state": {
       "description_width": ""
      }
     },
     "bb7c1722e6274237acb531d9ceb1f5a0": {
      "model_module": "@jupyter-widgets/controls",
      "model_module_version": "1.5.0",
      "model_name": "IntSliderModel",
      "state": {
       "description": "k",
       "layout": "IPY_MODEL_9bf9947e68154575b6e3edb7ccce68c8",
       "max": 10,
       "min": 1,
       "style": "IPY_MODEL_73b0fcdb35fa401882435c6a88336fa7",
       "value": 5
      }
     },
     "c8f1db1eeaf44f219e9ae591349636bc": {
      "model_module": "@jupyter-widgets/base",
      "model_module_version": "1.2.0",
      "model_name": "LayoutModel",
      "state": {}
     },
     "d19faefb3e9f4fb28d589938ed86afef": {
      "model_module": "@jupyter-widgets/controls",
      "model_module_version": "1.5.0",
      "model_name": "SliderStyleModel",
      "state": {
       "description_width": ""
      }
     },
     "d46f11e05bb74affbf853cba8d4e314e": {
      "model_module": "@jupyter-widgets/base",
      "model_module_version": "1.2.0",
      "model_name": "LayoutModel",
      "state": {}
     },
     "e4705a15fabb412794de37b9e09848cf": {
      "model_module": "@jupyter-widgets/base",
      "model_module_version": "1.2.0",
      "model_name": "LayoutModel",
      "state": {}
     },
     "fa3ccbb2c34c4d6f8103fceede7c3a25": {
      "model_module": "@jupyter-widgets/controls",
      "model_module_version": "1.5.0",
      "model_name": "VBoxModel",
      "state": {
       "_dom_classes": [
        "widget-interact"
       ],
       "children": [
        "IPY_MODEL_0961f057b4e94b20853d1f9690d016a4",
        "IPY_MODEL_3616951e888d4b94bfbfad5a6036ddb6",
        "IPY_MODEL_bb7c1722e6274237acb531d9ceb1f5a0",
        "IPY_MODEL_52d3c2f7498b435b966973628a7bc9f3",
        "IPY_MODEL_7e4b9cc4509f4711b5400a2a3cce7f66",
        "IPY_MODEL_171f5f88cdd34c4ab89a1fed974897d3"
       ],
       "layout": "IPY_MODEL_abb8440ea3d943359283e44c39e783e9"
      }
     },
     "fb5428d1ffde44cea887dbbe7cdc6e0c": {
      "model_module": "@jupyter-widgets/controls",
      "model_module_version": "1.5.0",
      "model_name": "SliderStyleModel",
      "state": {
       "description_width": ""
      }
     },
     "ffe6c3468e9843d096f298a383be5039": {
      "model_module": "@jupyter-widgets/base",
      "model_module_version": "1.2.0",
      "model_name": "LayoutModel",
      "state": {}
     }
    },
    "version_major": 2,
    "version_minor": 0
   }
  }
 },
 "nbformat": 4,
 "nbformat_minor": 4
}
