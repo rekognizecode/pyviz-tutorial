{
 "cells": [
  {
   "cell_type": "markdown",
   "metadata": {},
   "source": [
    "# Graphviz\n",
    "\n",
    "`Graph`- und `Digraph`-Objekte haben eine `_repr_svg_()`-Methode, sodass sie direkt in einem Jupyter-Notebook gerendert und dargestellt werden können."
   ]
  },
  {
   "cell_type": "markdown",
   "metadata": {},
   "source": [
    "## Installation\n",
    "\n",
    "Mit [Spack](https://jupyter-tutorial.readthedocs.io/de/latest/productive/envs/spack/index.html) könnt ihr Graphviz in eurem Kernel bereitstellen:\n",
    "\n",
    "``` bash\n",
    "$ spack env activate python-374\n",
    "$ spack env status\n",
    "==> In environment python-374\n",
    "$ spack install py-graphviz ^python@3.7.4%gcc@9.1.0\n",
    "…\n",
    "==> Successfully installed py-graphviz\n",
    "…\n",
    "==> Updating view at /srv/jupyter/spack/var/spack/environments/python-374/.spack-env/view\n",
    "$ cd ~/jupyter-tutorial/pipenvs/python-374\n",
    "$ pipenv --rm\n",
    "$ pipenv --python=/srv/jupyter/spack/var/spack/environments/python-374/.spack-env/view/bin/python --site-packages\n",
    "Creating a virtualenv for this project…\n",
    "Pipfile: /srv/jupyter/jupyter-tutorial/pipenvs/python-374/Pipfile\n",
    "Using /srv/jupyter/spack/var/spack/environments/python-374/.spack-env/view/bin/python (3.7.4) to create virtualenv…\n",
    "Making site-packages available…\n",
    "$ pipenv install\n",
    "```\n",
    "\n",
    "Alternativ könnt ihr Graphviz auch direkt in eurem Pipenv-Environment installieren:\n",
    "\n",
    "* für Debian/Ubuntu:\n",
    "\n",
    "    ``` bash\n",
    "$ sudo apt install graphviz\n",
    "    ```\n",
    "\n",
    "* für Mac OS X:\n",
    "\n",
    "    ``` bash\n",
    "$ brew install graphviz\n",
    "    ```\n",
    "\n",
    "Anschließend könnt ihr dann in eurem Kernel das zugehörige Python-Paket installieren:\n",
    "\n",
    "``` bash\n",
    "$ pipenv install graphviz\n",
    "```\n"
   ]
  },
  {
   "cell_type": "markdown",
   "metadata": {},
   "source": [
    "## Einfaches Beispiel"
   ]
  },
  {
   "cell_type": "code",
   "execution_count": null,
   "metadata": {},
   "outputs": [],
   "source": [
    "import graphviz\n",
    "\n",
    "d = graphviz.Digraph()\n",
    "d.edge('hello', 'world')\n",
    "d"
   ]
  },
  {
   "cell_type": "markdown",
   "metadata": {},
   "source": [
    "## Dateien schreiben"
   ]
  },
  {
   "cell_type": "code",
   "execution_count": null,
   "metadata": {},
   "outputs": [],
   "source": [
    "from graphviz import Source\n",
    "\n",
    "src = Source('digraph \"hello world\" { hello -> world }')\n",
    "\n",
    "src.render('hello-world.gv')"
   ]
  },
  {
   "cell_type": "markdown",
   "metadata": {},
   "source": [
    "Alternativ können Dot-Dateien auch mit anderen Programmen, z.B. [networkx](https://jupyter-tutorial.readthedocs.io/de/latest/viz/matplotlib/networkx.html) erstellt werden:"
   ]
  },
  {
   "cell_type": "code",
   "execution_count": null,
   "metadata": {},
   "outputs": [],
   "source": [
    "import networkx as nx\n",
    "from networkx.drawing.nx_pydot import write_dot\n",
    "\n",
    "G = nx.grid_2d_graph(5, 5)  # 5x5 grid\n",
    "write_dot(G, \"grid.gv\")"
   ]
  },
  {
   "cell_type": "markdown",
   "metadata": {},
   "source": [
    "> Siehe auch:\n",
    "> \n",
    "> * [NetworkX: Write Dotfile](https://networkx.github.io/documentation/networkx-2.2/auto_examples/pygraphviz/write_dotfile.html#write-dotfile)"
   ]
  },
  {
   "cell_type": "markdown",
   "metadata": {},
   "source": [
    "## Dot-Dateien konvertieren oder darstellen"
   ]
  },
  {
   "cell_type": "markdown",
   "metadata": {},
   "source": [
    "Eine Dot-Datei kann in ein anderes Format, z.B. PDF, PNG, SVG etc., umgewandelt werden mit `render`:"
   ]
  },
  {
   "cell_type": "code",
   "execution_count": null,
   "metadata": {},
   "outputs": [],
   "source": [
    "from graphviz import render\n",
    "\n",
    "render('dot', 'png', 'hello-world.gv')"
   ]
  },
  {
   "cell_type": "markdown",
   "metadata": {},
   "source": [
    "Alternativ kann die Dot-Datei auch direkt im Notebook angezeigt werden mit `Source.from_file`:"
   ]
  },
  {
   "cell_type": "code",
   "execution_count": null,
   "metadata": {},
   "outputs": [],
   "source": [
    "from graphviz import Source\n",
    "\n",
    "Source.from_file('hello-world.gv')"
   ]
  },
  {
   "cell_type": "markdown",
   "metadata": {},
   "source": [
    "> Siehe auch:\n",
    "> \n",
    "> * [graphviz manual](https://graphviz.readthedocs.io/en/stable/manual.html#jupyter-notebooks)\n",
    "> * [examples/notebook](https://nbviewer.jupyter.org/github/xflr6/graphviz/blob/master/examples/notebook.ipynb)\n",
    "> * [examples/graphviz-engines](https://nbviewer.jupyter.org/github/xflr6/graphviz/blob/master/examples/graphviz-engines.ipynb)\n",
    "> * [examples/graphviz-escapes](https://nbviewer.jupyter.org/github/xflr6/graphviz/blob/master/examples/graphviz-escapes.ipynb)\n"
   ]
  }
 ],
 "metadata": {
  "language_info": {
   "name": "python",
   "pygments_lexer": "ipython3"
  }
 },
 "nbformat": 4,
 "nbformat_minor": 2
}
