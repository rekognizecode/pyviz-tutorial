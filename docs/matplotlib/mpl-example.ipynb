{
 "cells": [
  {
   "cell_type": "markdown",
   "metadata": {},
   "source": [
    "# Matplotlib-Beispiel"
   ]
  },
  {
   "cell_type": "markdown",
   "metadata": {},
   "source": [
    "Matplotlib stellt Daten in `Figures` dar, d.h. in Fenstern, Jupyter-Widgets usw., von denen jedes eine oder mehre  `Axes `enthalten kann. Die einfachste Möglichkeit, eine Figur mit Achsen zu erstellen, ist die Verwendung von `pyplot.subplots` um dann mit `Axes.plot` einige Daten anzugeben:"
   ]
  },
  {
   "cell_type": "code",
   "execution_count": null,
   "metadata": {},
   "outputs": [],
   "source": [
    "import matplotlib.pyplot as plt\n",
    "\n",
    "# Create a figure containing a single axes.\n",
    "fig, ax = plt.subplots()\n",
    "\n",
    "# Plot some data on the axes.\n",
    "ax.plot([1, 2, 3, 4], [1, 4, 2, 3])"
   ]
  }
 ],
 "metadata": {
  "language_info": {
   "name": "python",
   "pygments_lexer": "ipython3"
  }
 },
 "nbformat": 4,
 "nbformat_minor": 4
}
