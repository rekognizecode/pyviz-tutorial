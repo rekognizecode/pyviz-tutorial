{
 "cells": [
  {
   "cell_type": "markdown",
   "metadata": {},
   "source": [
    "# seaborn-Beispiel"
   ]
  },
  {
   "cell_type": "code",
   "execution_count": null,
   "metadata": {},
   "outputs": [],
   "source": [
    "import numpy as np\n",
    "import seaborn as sns\n",
    "import matplotlib.pyplot as plt\n",
    "sns.set(style=\"white\", color_codes=True)\n",
    "\n",
    "# Generate a random bivariate dataset\n",
    "rs = np.random.RandomState(9)\n",
    "mean = [0, 0]\n",
    "cov = [(1, 0), (0, 2)]\n",
    "x, y = rs.multivariate_normal(mean, cov, 100).T\n",
    "\n",
    "# Use JointGrid directly to draw a custom plot\n",
    "grid = sns.JointGrid(x, y, space=0, height=6, ratio=50)\n",
    "grid.plot_joint(plt.scatter, color=\"g\")\n",
    "grid.plot_marginals(sns.rugplot, height=1, color=\"g\")"
   ]
  }
 ],
 "metadata": {
  "language_info": {
   "name": "python",
   "pygments_lexer": "ipython3"
  }
 },
 "nbformat": 4,
 "nbformat_minor": 4
}
